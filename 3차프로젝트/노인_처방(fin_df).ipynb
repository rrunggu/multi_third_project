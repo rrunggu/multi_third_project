{
 "cells": [
  {
   "cell_type": "code",
   "execution_count": 54,
   "metadata": {},
   "outputs": [],
   "source": [
    "# 필요 패키지 import\n",
    "import pandas as pd\n",
    "import matplotlib.pyplot as plt\n",
    "import seaborn as sns\n",
    "%matplotlib inline\n",
    "from IPython.core.interactiveshell import InteractiveShell\n",
    "InteractiveShell.ast_node_interactivity = \"all\""
   ]
  },
  {
   "cell_type": "code",
   "execution_count": 55,
   "metadata": {},
   "outputs": [],
   "source": [
    "# matplotlib 한글처리\n",
    "\n",
    "\n",
    "# matplotlib의 기본 폰트에서 한글 지원되지 않기 때문에\n",
    "# matplotlib의 폰트 변경 필요\n",
    "import platform\n",
    "\n",
    "from matplotlib import font_manager, rc\n",
    "plt.rcParams['axes.unicode_minus'] = False\n",
    "\n",
    "if platform.system() == 'Darwin':  # 맥OS \n",
    "    rc('font', family='AppleGothic')\n",
    "elif platform.system() == 'Windows':  # 윈도우\n",
    "    path = \"c:/Windows/Fonts/malgun.ttf\"\n",
    "    font_name = font_manager.FontProperties(fname=path).get_name()\n",
    "    rc('font', family=font_name)\n",
    "else:\n",
    "    print('Unknown system...  sorry~~~')"
   ]
  },
  {
   "cell_type": "code",
   "execution_count": 56,
   "metadata": {},
   "outputs": [
    {
     "data": {
      "text/html": [
       "<div>\n",
       "<style scoped>\n",
       "    .dataframe tbody tr th:only-of-type {\n",
       "        vertical-align: middle;\n",
       "    }\n",
       "\n",
       "    .dataframe tbody tr th {\n",
       "        vertical-align: top;\n",
       "    }\n",
       "\n",
       "    .dataframe thead th {\n",
       "        text-align: right;\n",
       "    }\n",
       "</style>\n",
       "<table border=\"1\" class=\"dataframe\">\n",
       "  <thead>\n",
       "    <tr style=\"text-align: right;\">\n",
       "      <th></th>\n",
       "      <th>Unnamed: 0</th>\n",
       "      <th>Unnamed: 0.1</th>\n",
       "      <th>Unnamed: 0.1.1</th>\n",
       "      <th>연령대</th>\n",
       "      <th>나이</th>\n",
       "      <th>나이구분</th>\n",
       "      <th>상장구분</th>\n",
       "      <th>신장(cm)</th>\n",
       "      <th>체중(kg)</th>\n",
       "      <th>체지방율(%)</th>\n",
       "      <th>...</th>\n",
       "      <th>운동루틴</th>\n",
       "      <th>측정일자</th>\n",
       "      <th>측정횟수</th>\n",
       "      <th>센터이름</th>\n",
       "      <th>테스트형태</th>\n",
       "      <th>입력자</th>\n",
       "      <th>성별</th>\n",
       "      <th>본운동</th>\n",
       "      <th>준비운동</th>\n",
       "      <th>마무리운동</th>\n",
       "    </tr>\n",
       "  </thead>\n",
       "  <tbody>\n",
       "    <tr>\n",
       "      <th>0</th>\n",
       "      <td>4</td>\n",
       "      <td>4</td>\n",
       "      <td>4</td>\n",
       "      <td>60</td>\n",
       "      <td>69</td>\n",
       "      <td>노인</td>\n",
       "      <td>3등급</td>\n",
       "      <td>143.5</td>\n",
       "      <td>66.5</td>\n",
       "      <td>45.5</td>\n",
       "      <td>...</td>\n",
       "      <td>준비운동:짐볼 들고 양옆으로 돌리기,의자에 앉아 볼 돌리기,의자에 앉아 등 굽혔다 ...</td>\n",
       "      <td>201903</td>\n",
       "      <td>1</td>\n",
       "      <td>부천</td>\n",
       "      <td>일반</td>\n",
       "      <td>관리자</td>\n",
       "      <td>F</td>\n",
       "      <td>['Aa016', 'Ad006', 'Ag018', 'Ag020']</td>\n",
       "      <td>['Ae038', 'Al002', 'Ap001']</td>\n",
       "      <td>['Ap001']</td>\n",
       "    </tr>\n",
       "    <tr>\n",
       "      <th>1</th>\n",
       "      <td>28</td>\n",
       "      <td>28</td>\n",
       "      <td>28</td>\n",
       "      <td>70</td>\n",
       "      <td>74</td>\n",
       "      <td>노인</td>\n",
       "      <td>3등급</td>\n",
       "      <td>161.5</td>\n",
       "      <td>58.9</td>\n",
       "      <td>20.2</td>\n",
       "      <td>...</td>\n",
       "      <td>준비운동:누워서 전신 뻗기,깍지 끼고 상체 숙이기,양팔 벌려 전신 비틀기,고정식 트...</td>\n",
       "      <td>201903</td>\n",
       "      <td>3</td>\n",
       "      <td>동구(광주)</td>\n",
       "      <td>일반</td>\n",
       "      <td>관리자</td>\n",
       "      <td>M</td>\n",
       "      <td>['Aa009', 'Aa021', 'Aa020', 'Ac004', 'Ad008', ...</td>\n",
       "      <td>['Be079', 'Be078', 'Be077', 'Ce192']</td>\n",
       "      <td>['Be079', 'Be078', 'Ba056', 'Ba055', 'Bi025', ...</td>\n",
       "    </tr>\n",
       "    <tr>\n",
       "      <th>2</th>\n",
       "      <td>35</td>\n",
       "      <td>35</td>\n",
       "      <td>35</td>\n",
       "      <td>70</td>\n",
       "      <td>70</td>\n",
       "      <td>노인</td>\n",
       "      <td>3등급</td>\n",
       "      <td>172.0</td>\n",
       "      <td>81.3</td>\n",
       "      <td>26.5</td>\n",
       "      <td>...</td>\n",
       "      <td>본운동:옆구리 스트레칭,엉덩이 스트레칭,넙다리 뒤쪽 스트레칭,넙다리 안쪽 스트레칭</td>\n",
       "      <td>201903</td>\n",
       "      <td>1</td>\n",
       "      <td>의정부</td>\n",
       "      <td>일반</td>\n",
       "      <td>관리자</td>\n",
       "      <td>M</td>\n",
       "      <td>['Bi025', 'Bd024', 'Ba059', 'Ba055']</td>\n",
       "      <td>['N']</td>\n",
       "      <td>['N']</td>\n",
       "    </tr>\n",
       "    <tr>\n",
       "      <th>3</th>\n",
       "      <td>36</td>\n",
       "      <td>36</td>\n",
       "      <td>36</td>\n",
       "      <td>70</td>\n",
       "      <td>76</td>\n",
       "      <td>노인</td>\n",
       "      <td>3등급</td>\n",
       "      <td>165.1</td>\n",
       "      <td>68.7</td>\n",
       "      <td>30.1</td>\n",
       "      <td>...</td>\n",
       "      <td>본운동:엉덩이 스트레칭2,넙다리 안쪽 스트레칭,가슴 스트레칭,몸통 들어올리기,벽에서...</td>\n",
       "      <td>201903</td>\n",
       "      <td>1</td>\n",
       "      <td>의정부</td>\n",
       "      <td>일반</td>\n",
       "      <td>관리자</td>\n",
       "      <td>M</td>\n",
       "      <td>['Bd025', 'Ba055', 'Bi036', 'Ao002', 'Ah004']</td>\n",
       "      <td>['N']</td>\n",
       "      <td>['N']</td>\n",
       "    </tr>\n",
       "    <tr>\n",
       "      <th>4</th>\n",
       "      <td>37</td>\n",
       "      <td>37</td>\n",
       "      <td>37</td>\n",
       "      <td>60</td>\n",
       "      <td>65</td>\n",
       "      <td>노인</td>\n",
       "      <td>2등급</td>\n",
       "      <td>155.0</td>\n",
       "      <td>64.0</td>\n",
       "      <td>35.7</td>\n",
       "      <td>...</td>\n",
       "      <td>준비운동:누워서 전신 뻗기,깍지 끼고 상체 숙이기 / 본운동:몸통 비틀기,어깨 스트레칭</td>\n",
       "      <td>201903</td>\n",
       "      <td>1</td>\n",
       "      <td>부천</td>\n",
       "      <td>일반</td>\n",
       "      <td>관리자</td>\n",
       "      <td>F</td>\n",
       "      <td>['Bi029', 'Bs016']</td>\n",
       "      <td>['Be079', 'Be078']</td>\n",
       "      <td>['N']</td>\n",
       "    </tr>\n",
       "    <tr>\n",
       "      <th>...</th>\n",
       "      <td>...</td>\n",
       "      <td>...</td>\n",
       "      <td>...</td>\n",
       "      <td>...</td>\n",
       "      <td>...</td>\n",
       "      <td>...</td>\n",
       "      <td>...</td>\n",
       "      <td>...</td>\n",
       "      <td>...</td>\n",
       "      <td>...</td>\n",
       "      <td>...</td>\n",
       "      <td>...</td>\n",
       "      <td>...</td>\n",
       "      <td>...</td>\n",
       "      <td>...</td>\n",
       "      <td>...</td>\n",
       "      <td>...</td>\n",
       "      <td>...</td>\n",
       "      <td>...</td>\n",
       "      <td>...</td>\n",
       "      <td>...</td>\n",
       "    </tr>\n",
       "    <tr>\n",
       "      <th>41087</th>\n",
       "      <td>269921</td>\n",
       "      <td>269921</td>\n",
       "      <td>269921</td>\n",
       "      <td>60</td>\n",
       "      <td>65</td>\n",
       "      <td>노인</td>\n",
       "      <td>참가증</td>\n",
       "      <td>151.9</td>\n",
       "      <td>59.0</td>\n",
       "      <td>35.9</td>\n",
       "      <td>...</td>\n",
       "      <td>본운동:걷기,물속에서 걷기,고정식 자전거 타기,고정식 트레드밀에서 걷기,아쿠아로빅</td>\n",
       "      <td>201911</td>\n",
       "      <td>1</td>\n",
       "      <td>화성</td>\n",
       "      <td>출장</td>\n",
       "      <td>관리자</td>\n",
       "      <td>F</td>\n",
       "      <td>['Ce174', 'Ce188', 'Ce191', 'Ce192', 'Ce187']</td>\n",
       "      <td>['N']</td>\n",
       "      <td>['N']</td>\n",
       "    </tr>\n",
       "    <tr>\n",
       "      <th>41088</th>\n",
       "      <td>269924</td>\n",
       "      <td>269924</td>\n",
       "      <td>269924</td>\n",
       "      <td>70</td>\n",
       "      <td>76</td>\n",
       "      <td>노인</td>\n",
       "      <td>참가증</td>\n",
       "      <td>157.7</td>\n",
       "      <td>58.8</td>\n",
       "      <td>34.8</td>\n",
       "      <td>...</td>\n",
       "      <td>본운동:어깨 뒤쪽 스트레칭,아래 팔 스트레칭,양팔 벌려 전신 비틀기,엉덩이 스트레칭...</td>\n",
       "      <td>201911</td>\n",
       "      <td>1</td>\n",
       "      <td>화성</td>\n",
       "      <td>출장</td>\n",
       "      <td>관리자</td>\n",
       "      <td>F</td>\n",
       "      <td>['Bs025', 'Bl019', 'Be077', 'Bd025', 'Ba056', ...</td>\n",
       "      <td>['N']</td>\n",
       "      <td>['N']</td>\n",
       "    </tr>\n",
       "    <tr>\n",
       "      <th>41089</th>\n",
       "      <td>269946</td>\n",
       "      <td>269946</td>\n",
       "      <td>269946</td>\n",
       "      <td>70</td>\n",
       "      <td>72</td>\n",
       "      <td>노인</td>\n",
       "      <td>3등급</td>\n",
       "      <td>170.2</td>\n",
       "      <td>70.5</td>\n",
       "      <td>20.4</td>\n",
       "      <td>...</td>\n",
       "      <td>준비운동:하지 루틴 스트레칭1,상지 루틴 스트레칭 / 본운동:앉아서 덤벨로 손목 굽...</td>\n",
       "      <td>201911</td>\n",
       "      <td>1</td>\n",
       "      <td>세종</td>\n",
       "      <td>일반</td>\n",
       "      <td>관리자</td>\n",
       "      <td>M</td>\n",
       "      <td>['Al006', 'Al005', 'Ah004']</td>\n",
       "      <td>['Bq008', 'Bk011']</td>\n",
       "      <td>['Be085']</td>\n",
       "    </tr>\n",
       "    <tr>\n",
       "      <th>41090</th>\n",
       "      <td>269968</td>\n",
       "      <td>269968</td>\n",
       "      <td>269968</td>\n",
       "      <td>70</td>\n",
       "      <td>73</td>\n",
       "      <td>노인</td>\n",
       "      <td>참가증</td>\n",
       "      <td>154.8</td>\n",
       "      <td>47.8</td>\n",
       "      <td>29.1</td>\n",
       "      <td>...</td>\n",
       "      <td>준비운동:유산소 운동 전 동적 루틴 스트레칭,골반 스트레칭,골반 스트레칭2,몸통 앞...</td>\n",
       "      <td>201911</td>\n",
       "      <td>3</td>\n",
       "      <td>성남</td>\n",
       "      <td>출장</td>\n",
       "      <td>관리자</td>\n",
       "      <td>F</td>\n",
       "      <td>['Ce188', 'Ce180', 'Ce170', 'Ce192', 'Ce191', ...</td>\n",
       "      <td>['Be084', 'Bi038', 'Ba046', 'Be076']</td>\n",
       "      <td>['Bq008', 'Bq007', 'Be085', 'Ba054', 'Ba053', ...</td>\n",
       "    </tr>\n",
       "    <tr>\n",
       "      <th>41091</th>\n",
       "      <td>269985</td>\n",
       "      <td>269985</td>\n",
       "      <td>269985</td>\n",
       "      <td>70</td>\n",
       "      <td>77</td>\n",
       "      <td>노인</td>\n",
       "      <td>3등급</td>\n",
       "      <td>165.3</td>\n",
       "      <td>63.2</td>\n",
       "      <td>27.6</td>\n",
       "      <td>...</td>\n",
       "      <td>준비운동:덤벨 잡고 앉았다 일어서기,덤벨 잡고 뒤꿈치 들기,덤벨 잡고 한발 내밀어 ...</td>\n",
       "      <td>201911</td>\n",
       "      <td>1</td>\n",
       "      <td>오산</td>\n",
       "      <td>일반</td>\n",
       "      <td>인바디</td>\n",
       "      <td>M</td>\n",
       "      <td>['N']</td>\n",
       "      <td>['Aq003', 'Ac004', 'Ad008', 'Ai007', 'Ao002', ...</td>\n",
       "      <td>['N']</td>\n",
       "    </tr>\n",
       "  </tbody>\n",
       "</table>\n",
       "<p>41092 rows × 56 columns</p>\n",
       "</div>"
      ],
      "text/plain": [
       "       Unnamed: 0  Unnamed: 0.1  Unnamed: 0.1.1  연령대  나이 나이구분 상장구분  신장(cm)  \\\n",
       "0               4             4               4   60  69   노인  3등급   143.5   \n",
       "1              28            28              28   70  74   노인  3등급   161.5   \n",
       "2              35            35              35   70  70   노인  3등급   172.0   \n",
       "3              36            36              36   70  76   노인  3등급   165.1   \n",
       "4              37            37              37   60  65   노인  2등급   155.0   \n",
       "...           ...           ...             ...  ...  ..  ...  ...     ...   \n",
       "41087      269921        269921          269921   60  65   노인  참가증   151.9   \n",
       "41088      269924        269924          269924   70  76   노인  참가증   157.7   \n",
       "41089      269946        269946          269946   70  72   노인  3등급   170.2   \n",
       "41090      269968        269968          269968   70  73   노인  참가증   154.8   \n",
       "41091      269985        269985          269985   70  77   노인  3등급   165.3   \n",
       "\n",
       "       체중(kg)  체지방율(%)  ...  \\\n",
       "0        66.5     45.5  ...   \n",
       "1        58.9     20.2  ...   \n",
       "2        81.3     26.5  ...   \n",
       "3        68.7     30.1  ...   \n",
       "4        64.0     35.7  ...   \n",
       "...       ...      ...  ...   \n",
       "41087    59.0     35.9  ...   \n",
       "41088    58.8     34.8  ...   \n",
       "41089    70.5     20.4  ...   \n",
       "41090    47.8     29.1  ...   \n",
       "41091    63.2     27.6  ...   \n",
       "\n",
       "                                                    운동루틴    측정일자  측정횟수  \\\n",
       "0      준비운동:짐볼 들고 양옆으로 돌리기,의자에 앉아 볼 돌리기,의자에 앉아 등 굽혔다 ...  201903     1   \n",
       "1      준비운동:누워서 전신 뻗기,깍지 끼고 상체 숙이기,양팔 벌려 전신 비틀기,고정식 트...  201903     3   \n",
       "2          본운동:옆구리 스트레칭,엉덩이 스트레칭,넙다리 뒤쪽 스트레칭,넙다리 안쪽 스트레칭  201903     1   \n",
       "3      본운동:엉덩이 스트레칭2,넙다리 안쪽 스트레칭,가슴 스트레칭,몸통 들어올리기,벽에서...  201903     1   \n",
       "4       준비운동:누워서 전신 뻗기,깍지 끼고 상체 숙이기 / 본운동:몸통 비틀기,어깨 스트레칭  201903     1   \n",
       "...                                                  ...     ...   ...   \n",
       "41087      본운동:걷기,물속에서 걷기,고정식 자전거 타기,고정식 트레드밀에서 걷기,아쿠아로빅  201911     1   \n",
       "41088  본운동:어깨 뒤쪽 스트레칭,아래 팔 스트레칭,양팔 벌려 전신 비틀기,엉덩이 스트레칭...  201911     1   \n",
       "41089  준비운동:하지 루틴 스트레칭1,상지 루틴 스트레칭 / 본운동:앉아서 덤벨로 손목 굽...  201911     1   \n",
       "41090  준비운동:유산소 운동 전 동적 루틴 스트레칭,골반 스트레칭,골반 스트레칭2,몸통 앞...  201911     3   \n",
       "41091  준비운동:덤벨 잡고 앉았다 일어서기,덤벨 잡고 뒤꿈치 들기,덤벨 잡고 한발 내밀어 ...  201911     1   \n",
       "\n",
       "         센터이름  테스트형태  입력자  성별  \\\n",
       "0          부천     일반  관리자   F   \n",
       "1      동구(광주)     일반  관리자   M   \n",
       "2         의정부     일반  관리자   M   \n",
       "3         의정부     일반  관리자   M   \n",
       "4          부천     일반  관리자   F   \n",
       "...       ...    ...  ...  ..   \n",
       "41087      화성     출장  관리자   F   \n",
       "41088      화성     출장  관리자   F   \n",
       "41089      세종     일반  관리자   M   \n",
       "41090      성남     출장  관리자   F   \n",
       "41091      오산     일반  인바디   M   \n",
       "\n",
       "                                                     본운동  \\\n",
       "0                   ['Aa016', 'Ad006', 'Ag018', 'Ag020']   \n",
       "1      ['Aa009', 'Aa021', 'Aa020', 'Ac004', 'Ad008', ...   \n",
       "2                   ['Bi025', 'Bd024', 'Ba059', 'Ba055']   \n",
       "3          ['Bd025', 'Ba055', 'Bi036', 'Ao002', 'Ah004']   \n",
       "4                                     ['Bi029', 'Bs016']   \n",
       "...                                                  ...   \n",
       "41087      ['Ce174', 'Ce188', 'Ce191', 'Ce192', 'Ce187']   \n",
       "41088  ['Bs025', 'Bl019', 'Be077', 'Bd025', 'Ba056', ...   \n",
       "41089                        ['Al006', 'Al005', 'Ah004']   \n",
       "41090  ['Ce188', 'Ce180', 'Ce170', 'Ce192', 'Ce191', ...   \n",
       "41091                                              ['N']   \n",
       "\n",
       "                                                    준비운동  \\\n",
       "0                            ['Ae038', 'Al002', 'Ap001']   \n",
       "1                   ['Be079', 'Be078', 'Be077', 'Ce192']   \n",
       "2                                                  ['N']   \n",
       "3                                                  ['N']   \n",
       "4                                     ['Be079', 'Be078']   \n",
       "...                                                  ...   \n",
       "41087                                              ['N']   \n",
       "41088                                              ['N']   \n",
       "41089                                 ['Bq008', 'Bk011']   \n",
       "41090               ['Be084', 'Bi038', 'Ba046', 'Be076']   \n",
       "41091  ['Aq003', 'Ac004', 'Ad008', 'Ai007', 'Ao002', ...   \n",
       "\n",
       "                                                   마무리운동  \n",
       "0                                              ['Ap001']  \n",
       "1      ['Be079', 'Be078', 'Ba056', 'Ba055', 'Bi025', ...  \n",
       "2                                                  ['N']  \n",
       "3                                                  ['N']  \n",
       "4                                                  ['N']  \n",
       "...                                                  ...  \n",
       "41087                                              ['N']  \n",
       "41088                                              ['N']  \n",
       "41089                                          ['Be085']  \n",
       "41090  ['Bq008', 'Bq007', 'Be085', 'Ba054', 'Ba053', ...  \n",
       "41091                                              ['N']  \n",
       "\n",
       "[41092 rows x 56 columns]"
      ]
     },
     "execution_count": 56,
     "metadata": {},
     "output_type": "execute_result"
    }
   ],
   "source": [
    "df = pd.read_csv('노인최종_fin.csv')\n",
    "df"
   ]
  },
  {
   "cell_type": "code",
   "execution_count": 57,
   "metadata": {},
   "outputs": [],
   "source": [
    "feature_names = ['본운동','준비운동','마무리운동']\n",
    "exer_df = pd.DataFrame(data=df,columns=feature_names)"
   ]
  },
  {
   "cell_type": "code",
   "execution_count": 58,
   "metadata": {
    "scrolled": true
   },
   "outputs": [
    {
     "data": {
      "text/html": [
       "<div>\n",
       "<style scoped>\n",
       "    .dataframe tbody tr th:only-of-type {\n",
       "        vertical-align: middle;\n",
       "    }\n",
       "\n",
       "    .dataframe tbody tr th {\n",
       "        vertical-align: top;\n",
       "    }\n",
       "\n",
       "    .dataframe thead th {\n",
       "        text-align: right;\n",
       "    }\n",
       "</style>\n",
       "<table border=\"1\" class=\"dataframe\">\n",
       "  <thead>\n",
       "    <tr style=\"text-align: right;\">\n",
       "      <th></th>\n",
       "      <th>본운동</th>\n",
       "      <th>준비운동</th>\n",
       "      <th>마무리운동</th>\n",
       "    </tr>\n",
       "  </thead>\n",
       "  <tbody>\n",
       "    <tr>\n",
       "      <th>0</th>\n",
       "      <td>['Aa016', 'Ad006', 'Ag018', 'Ag020']</td>\n",
       "      <td>['Ae038', 'Al002', 'Ap001']</td>\n",
       "      <td>['Ap001']</td>\n",
       "    </tr>\n",
       "    <tr>\n",
       "      <th>1</th>\n",
       "      <td>['Aa009', 'Aa021', 'Aa020', 'Ac004', 'Ad008', ...</td>\n",
       "      <td>['Be079', 'Be078', 'Be077', 'Ce192']</td>\n",
       "      <td>['Be079', 'Be078', 'Ba056', 'Ba055', 'Bi025', ...</td>\n",
       "    </tr>\n",
       "    <tr>\n",
       "      <th>2</th>\n",
       "      <td>['Bi025', 'Bd024', 'Ba059', 'Ba055']</td>\n",
       "      <td>['N']</td>\n",
       "      <td>['N']</td>\n",
       "    </tr>\n",
       "    <tr>\n",
       "      <th>3</th>\n",
       "      <td>['Bd025', 'Ba055', 'Bi036', 'Ao002', 'Ah004']</td>\n",
       "      <td>['N']</td>\n",
       "      <td>['N']</td>\n",
       "    </tr>\n",
       "    <tr>\n",
       "      <th>4</th>\n",
       "      <td>['Bi029', 'Bs016']</td>\n",
       "      <td>['Be079', 'Be078']</td>\n",
       "      <td>['N']</td>\n",
       "    </tr>\n",
       "  </tbody>\n",
       "</table>\n",
       "</div>"
      ],
      "text/plain": [
       "                                                 본운동  \\\n",
       "0               ['Aa016', 'Ad006', 'Ag018', 'Ag020']   \n",
       "1  ['Aa009', 'Aa021', 'Aa020', 'Ac004', 'Ad008', ...   \n",
       "2               ['Bi025', 'Bd024', 'Ba059', 'Ba055']   \n",
       "3      ['Bd025', 'Ba055', 'Bi036', 'Ao002', 'Ah004']   \n",
       "4                                 ['Bi029', 'Bs016']   \n",
       "\n",
       "                                   준비운동  \\\n",
       "0           ['Ae038', 'Al002', 'Ap001']   \n",
       "1  ['Be079', 'Be078', 'Be077', 'Ce192']   \n",
       "2                                 ['N']   \n",
       "3                                 ['N']   \n",
       "4                    ['Be079', 'Be078']   \n",
       "\n",
       "                                               마무리운동  \n",
       "0                                          ['Ap001']  \n",
       "1  ['Be079', 'Be078', 'Ba056', 'Ba055', 'Bi025', ...  \n",
       "2                                              ['N']  \n",
       "3                                              ['N']  \n",
       "4                                              ['N']  "
      ]
     },
     "execution_count": 58,
     "metadata": {},
     "output_type": "execute_result"
    },
    {
     "data": {
      "text/html": [
       "<div>\n",
       "<style scoped>\n",
       "    .dataframe tbody tr th:only-of-type {\n",
       "        vertical-align: middle;\n",
       "    }\n",
       "\n",
       "    .dataframe tbody tr th {\n",
       "        vertical-align: top;\n",
       "    }\n",
       "\n",
       "    .dataframe thead th {\n",
       "        text-align: right;\n",
       "    }\n",
       "</style>\n",
       "<table border=\"1\" class=\"dataframe\">\n",
       "  <thead>\n",
       "    <tr style=\"text-align: right;\">\n",
       "      <th></th>\n",
       "      <th>본운동</th>\n",
       "      <th>준비운동</th>\n",
       "      <th>마무리운동</th>\n",
       "    </tr>\n",
       "  </thead>\n",
       "  <tbody>\n",
       "    <tr>\n",
       "      <th>41087</th>\n",
       "      <td>['Ce174', 'Ce188', 'Ce191', 'Ce192', 'Ce187']</td>\n",
       "      <td>['N']</td>\n",
       "      <td>['N']</td>\n",
       "    </tr>\n",
       "    <tr>\n",
       "      <th>41088</th>\n",
       "      <td>['Bs025', 'Bl019', 'Be077', 'Bd025', 'Ba056', ...</td>\n",
       "      <td>['N']</td>\n",
       "      <td>['N']</td>\n",
       "    </tr>\n",
       "    <tr>\n",
       "      <th>41089</th>\n",
       "      <td>['Al006', 'Al005', 'Ah004']</td>\n",
       "      <td>['Bq008', 'Bk011']</td>\n",
       "      <td>['Be085']</td>\n",
       "    </tr>\n",
       "    <tr>\n",
       "      <th>41090</th>\n",
       "      <td>['Ce188', 'Ce180', 'Ce170', 'Ce192', 'Ce191', ...</td>\n",
       "      <td>['Be084', 'Bi038', 'Ba046', 'Be076']</td>\n",
       "      <td>['Bq008', 'Bq007', 'Be085', 'Ba054', 'Ba053', ...</td>\n",
       "    </tr>\n",
       "    <tr>\n",
       "      <th>41091</th>\n",
       "      <td>['N']</td>\n",
       "      <td>['Aq003', 'Ac004', 'Ad008', 'Ai007', 'Ao002', ...</td>\n",
       "      <td>['N']</td>\n",
       "    </tr>\n",
       "  </tbody>\n",
       "</table>\n",
       "</div>"
      ],
      "text/plain": [
       "                                                     본운동  \\\n",
       "41087      ['Ce174', 'Ce188', 'Ce191', 'Ce192', 'Ce187']   \n",
       "41088  ['Bs025', 'Bl019', 'Be077', 'Bd025', 'Ba056', ...   \n",
       "41089                        ['Al006', 'Al005', 'Ah004']   \n",
       "41090  ['Ce188', 'Ce180', 'Ce170', 'Ce192', 'Ce191', ...   \n",
       "41091                                              ['N']   \n",
       "\n",
       "                                                    준비운동  \\\n",
       "41087                                              ['N']   \n",
       "41088                                              ['N']   \n",
       "41089                                 ['Bq008', 'Bk011']   \n",
       "41090               ['Be084', 'Bi038', 'Ba046', 'Be076']   \n",
       "41091  ['Aq003', 'Ac004', 'Ad008', 'Ai007', 'Ao002', ...   \n",
       "\n",
       "                                                   마무리운동  \n",
       "41087                                              ['N']  \n",
       "41088                                              ['N']  \n",
       "41089                                          ['Be085']  \n",
       "41090  ['Bq008', 'Bq007', 'Be085', 'Ba054', 'Ba053', ...  \n",
       "41091                                              ['N']  "
      ]
     },
     "execution_count": 58,
     "metadata": {},
     "output_type": "execute_result"
    }
   ],
   "source": [
    "exer_df.head(5)\n",
    "exer_df.tail(5)"
   ]
  },
  {
   "cell_type": "code",
   "execution_count": 59,
   "metadata": {},
   "outputs": [
    {
     "data": {
      "text/plain": [
       "Index(['Unnamed: 0', 'Unnamed: 0.1', 'Unnamed: 0.1.1', '연령대', '나이', '나이구분',\n",
       "       '상장구분', '신장(cm)', '체중(kg)', '체지방율(%)', '허리둘레(cm)', '이완기혈압(최저)',\n",
       "       '수축기혈압(최고)', '악력D(kg)', '악력ND(kg)', '윗몸말아올리기(회)', '반복점프(회)',\n",
       "       '앉아윗몸앞으로굽히기(cm)', '일리노이(초)', '체공시간(초)', '협응력시간(초)', '협응력실수횟수(회)',\n",
       "       '협응력계산결과값(초)', 'BMI(kg/㎡)', '교차윗몸일으키기(회)', '왕복오래달리기(회)',\n",
       "       '10M 4회 왕복달리기(초)', '제자리 멀리뛰기(cm)', '의자에앉았다일어서기(회)', '6분걷기(m)',\n",
       "       '2분제자리걷기(회)', '의자에앉아 3M표적 돌아오기(초)', '8자보행(초)', '상대악력(%)',\n",
       "       '왕복오래달리기(출력)(VO₂max)', '트레드밀_안정시(bpm)', '트레드밀_3분(bpm)', '트레드밀_6분(bpm)',\n",
       "       '트레드밀_9분(bpm)', '트레드밀(출력)(VO₂max)', '스텝검사_회복시 심박수(bpm)',\n",
       "       '스텝검사(출력)(VO₂max)', '허벅지(좌)', '허벅지(우)', '전신반응(초)', '체공시간(초).1', '운동루틴',\n",
       "       '측정일자', '측정횟수', '센터이름', '테스트형태', '입력자', '성별', '본운동', '준비운동', '마무리운동'],\n",
       "      dtype='object')"
      ]
     },
     "execution_count": 59,
     "metadata": {},
     "output_type": "execute_result"
    }
   ],
   "source": [
    "df.columns"
   ]
  },
  {
   "cell_type": "code",
   "execution_count": 60,
   "metadata": {},
   "outputs": [],
   "source": [
    "df.drop(['Unnamed: 0','Unnamed: 0.1','Unnamed: 0.1.1','측정횟수','센터이름','테스트형태','입력자','나이구분','상장구분','연령대',\n",
    "              '허리둘레(cm)','윗몸말아올리기(회)','반복점프(회)','일리노이(초)','체공시간(초)','협응력시간(초)','협응력실수횟수(회)',\n",
    "                       '협응력계산결과값(초)','교차윗몸일으키기(회)','왕복오래달리기(회)','10M 4회 왕복달리기(초)','제자리 멀리뛰기(cm)',\n",
    "                       '왕복오래달리기(출력)(VO₂max)','트레드밀_안정시(bpm)','트레드밀_3분(bpm)','트레드밀_6분(bpm)','트레드밀_9분(bpm)',\n",
    "                       '트레드밀(출력)(VO₂max)','스텝검사_회복시 심박수(bpm)','스텝검사(출력)(VO₂max)','허벅지(좌)','허벅지(우)',\n",
    "                        '전신반응(초)','체공시간(초).1','6분걷기(m)','측정일자','본운동','준비운동','마무리운동','BMI(kg/㎡)',\n",
    "                         '악력D(kg)','악력ND(kg)','운동루틴' ], axis=1,inplace=True)"
   ]
  },
  {
   "cell_type": "code",
   "execution_count": 61,
   "metadata": {},
   "outputs": [
    {
     "data": {
      "text/html": [
       "<div>\n",
       "<style scoped>\n",
       "    .dataframe tbody tr th:only-of-type {\n",
       "        vertical-align: middle;\n",
       "    }\n",
       "\n",
       "    .dataframe tbody tr th {\n",
       "        vertical-align: top;\n",
       "    }\n",
       "\n",
       "    .dataframe thead th {\n",
       "        text-align: right;\n",
       "    }\n",
       "</style>\n",
       "<table border=\"1\" class=\"dataframe\">\n",
       "  <thead>\n",
       "    <tr style=\"text-align: right;\">\n",
       "      <th></th>\n",
       "      <th>나이</th>\n",
       "      <th>신장(cm)</th>\n",
       "      <th>체중(kg)</th>\n",
       "      <th>체지방율(%)</th>\n",
       "      <th>이완기혈압(최저)</th>\n",
       "      <th>수축기혈압(최고)</th>\n",
       "      <th>앉아윗몸앞으로굽히기(cm)</th>\n",
       "      <th>의자에앉았다일어서기(회)</th>\n",
       "      <th>2분제자리걷기(회)</th>\n",
       "      <th>의자에앉아 3M표적 돌아오기(초)</th>\n",
       "      <th>8자보행(초)</th>\n",
       "      <th>상대악력(%)</th>\n",
       "      <th>성별</th>\n",
       "    </tr>\n",
       "  </thead>\n",
       "  <tbody>\n",
       "    <tr>\n",
       "      <th>0</th>\n",
       "      <td>69</td>\n",
       "      <td>143.5</td>\n",
       "      <td>66.5</td>\n",
       "      <td>45.5</td>\n",
       "      <td>67.0</td>\n",
       "      <td>182.0</td>\n",
       "      <td>16.1</td>\n",
       "      <td>26.0</td>\n",
       "      <td>131.0</td>\n",
       "      <td>5.90</td>\n",
       "      <td>23.24</td>\n",
       "      <td>36.3</td>\n",
       "      <td>F</td>\n",
       "    </tr>\n",
       "    <tr>\n",
       "      <th>1</th>\n",
       "      <td>74</td>\n",
       "      <td>161.5</td>\n",
       "      <td>58.9</td>\n",
       "      <td>20.2</td>\n",
       "      <td>89.0</td>\n",
       "      <td>137.0</td>\n",
       "      <td>3.1</td>\n",
       "      <td>25.0</td>\n",
       "      <td>107.0</td>\n",
       "      <td>5.29</td>\n",
       "      <td>22.94</td>\n",
       "      <td>66.0</td>\n",
       "      <td>M</td>\n",
       "    </tr>\n",
       "    <tr>\n",
       "      <th>2</th>\n",
       "      <td>70</td>\n",
       "      <td>172.0</td>\n",
       "      <td>81.3</td>\n",
       "      <td>26.5</td>\n",
       "      <td>70.0</td>\n",
       "      <td>120.0</td>\n",
       "      <td>0.7</td>\n",
       "      <td>32.0</td>\n",
       "      <td>122.0</td>\n",
       "      <td>4.53</td>\n",
       "      <td>19.47</td>\n",
       "      <td>54.9</td>\n",
       "      <td>M</td>\n",
       "    </tr>\n",
       "    <tr>\n",
       "      <th>3</th>\n",
       "      <td>76</td>\n",
       "      <td>165.1</td>\n",
       "      <td>68.7</td>\n",
       "      <td>30.1</td>\n",
       "      <td>78.0</td>\n",
       "      <td>151.0</td>\n",
       "      <td>10.8</td>\n",
       "      <td>22.0</td>\n",
       "      <td>94.0</td>\n",
       "      <td>5.03</td>\n",
       "      <td>22.30</td>\n",
       "      <td>43.9</td>\n",
       "      <td>M</td>\n",
       "    </tr>\n",
       "    <tr>\n",
       "      <th>4</th>\n",
       "      <td>65</td>\n",
       "      <td>155.0</td>\n",
       "      <td>64.0</td>\n",
       "      <td>35.7</td>\n",
       "      <td>87.0</td>\n",
       "      <td>130.0</td>\n",
       "      <td>15.2</td>\n",
       "      <td>23.0</td>\n",
       "      <td>110.0</td>\n",
       "      <td>5.93</td>\n",
       "      <td>21.05</td>\n",
       "      <td>40.4</td>\n",
       "      <td>F</td>\n",
       "    </tr>\n",
       "    <tr>\n",
       "      <th>...</th>\n",
       "      <td>...</td>\n",
       "      <td>...</td>\n",
       "      <td>...</td>\n",
       "      <td>...</td>\n",
       "      <td>...</td>\n",
       "      <td>...</td>\n",
       "      <td>...</td>\n",
       "      <td>...</td>\n",
       "      <td>...</td>\n",
       "      <td>...</td>\n",
       "      <td>...</td>\n",
       "      <td>...</td>\n",
       "      <td>...</td>\n",
       "    </tr>\n",
       "    <tr>\n",
       "      <th>41087</th>\n",
       "      <td>65</td>\n",
       "      <td>151.9</td>\n",
       "      <td>59.0</td>\n",
       "      <td>35.9</td>\n",
       "      <td>72.0</td>\n",
       "      <td>133.0</td>\n",
       "      <td>27.0</td>\n",
       "      <td>20.0</td>\n",
       "      <td>98.0</td>\n",
       "      <td>7.62</td>\n",
       "      <td>0.00</td>\n",
       "      <td>49.4</td>\n",
       "      <td>F</td>\n",
       "    </tr>\n",
       "    <tr>\n",
       "      <th>41088</th>\n",
       "      <td>76</td>\n",
       "      <td>157.7</td>\n",
       "      <td>58.8</td>\n",
       "      <td>34.8</td>\n",
       "      <td>85.0</td>\n",
       "      <td>139.0</td>\n",
       "      <td>0.0</td>\n",
       "      <td>13.0</td>\n",
       "      <td>90.0</td>\n",
       "      <td>10.19</td>\n",
       "      <td>0.00</td>\n",
       "      <td>38.0</td>\n",
       "      <td>F</td>\n",
       "    </tr>\n",
       "    <tr>\n",
       "      <th>41089</th>\n",
       "      <td>72</td>\n",
       "      <td>170.2</td>\n",
       "      <td>70.5</td>\n",
       "      <td>20.4</td>\n",
       "      <td>80.0</td>\n",
       "      <td>127.0</td>\n",
       "      <td>26.3</td>\n",
       "      <td>23.0</td>\n",
       "      <td>123.0</td>\n",
       "      <td>5.07</td>\n",
       "      <td>22.90</td>\n",
       "      <td>45.6</td>\n",
       "      <td>M</td>\n",
       "    </tr>\n",
       "    <tr>\n",
       "      <th>41090</th>\n",
       "      <td>73</td>\n",
       "      <td>154.8</td>\n",
       "      <td>47.8</td>\n",
       "      <td>29.1</td>\n",
       "      <td>89.0</td>\n",
       "      <td>138.0</td>\n",
       "      <td>5.0</td>\n",
       "      <td>5.0</td>\n",
       "      <td>57.0</td>\n",
       "      <td>9.28</td>\n",
       "      <td>32.57</td>\n",
       "      <td>34.1</td>\n",
       "      <td>F</td>\n",
       "    </tr>\n",
       "    <tr>\n",
       "      <th>41091</th>\n",
       "      <td>77</td>\n",
       "      <td>165.3</td>\n",
       "      <td>63.2</td>\n",
       "      <td>27.6</td>\n",
       "      <td>74.0</td>\n",
       "      <td>136.0</td>\n",
       "      <td>-1.8</td>\n",
       "      <td>22.0</td>\n",
       "      <td>126.0</td>\n",
       "      <td>5.56</td>\n",
       "      <td>25.09</td>\n",
       "      <td>48.8</td>\n",
       "      <td>M</td>\n",
       "    </tr>\n",
       "  </tbody>\n",
       "</table>\n",
       "<p>41092 rows × 13 columns</p>\n",
       "</div>"
      ],
      "text/plain": [
       "       나이  신장(cm)  체중(kg)  체지방율(%)  이완기혈압(최저)  수축기혈압(최고)  앉아윗몸앞으로굽히기(cm)  \\\n",
       "0      69   143.5    66.5     45.5       67.0      182.0            16.1   \n",
       "1      74   161.5    58.9     20.2       89.0      137.0             3.1   \n",
       "2      70   172.0    81.3     26.5       70.0      120.0             0.7   \n",
       "3      76   165.1    68.7     30.1       78.0      151.0            10.8   \n",
       "4      65   155.0    64.0     35.7       87.0      130.0            15.2   \n",
       "...    ..     ...     ...      ...        ...        ...             ...   \n",
       "41087  65   151.9    59.0     35.9       72.0      133.0            27.0   \n",
       "41088  76   157.7    58.8     34.8       85.0      139.0             0.0   \n",
       "41089  72   170.2    70.5     20.4       80.0      127.0            26.3   \n",
       "41090  73   154.8    47.8     29.1       89.0      138.0             5.0   \n",
       "41091  77   165.3    63.2     27.6       74.0      136.0            -1.8   \n",
       "\n",
       "       의자에앉았다일어서기(회)  2분제자리걷기(회)  의자에앉아 3M표적 돌아오기(초)  8자보행(초)  상대악력(%) 성별  \n",
       "0               26.0       131.0                5.90    23.24     36.3  F  \n",
       "1               25.0       107.0                5.29    22.94     66.0  M  \n",
       "2               32.0       122.0                4.53    19.47     54.9  M  \n",
       "3               22.0        94.0                5.03    22.30     43.9  M  \n",
       "4               23.0       110.0                5.93    21.05     40.4  F  \n",
       "...              ...         ...                 ...      ...      ... ..  \n",
       "41087           20.0        98.0                7.62     0.00     49.4  F  \n",
       "41088           13.0        90.0               10.19     0.00     38.0  F  \n",
       "41089           23.0       123.0                5.07    22.90     45.6  M  \n",
       "41090            5.0        57.0                9.28    32.57     34.1  F  \n",
       "41091           22.0       126.0                5.56    25.09     48.8  M  \n",
       "\n",
       "[41092 rows x 13 columns]"
      ]
     },
     "execution_count": 61,
     "metadata": {},
     "output_type": "execute_result"
    }
   ],
   "source": [
    "df"
   ]
  },
  {
   "cell_type": "code",
   "execution_count": 62,
   "metadata": {},
   "outputs": [
    {
     "data": {
      "text/plain": [
       "나이                       0\n",
       "신장(cm)                   0\n",
       "체중(kg)                   0\n",
       "체지방율(%)                  1\n",
       "이완기혈압(최저)                0\n",
       "수축기혈압(최고)                0\n",
       "앉아윗몸앞으로굽히기(cm)         128\n",
       "의자에앉았다일어서기(회)          273\n",
       "2분제자리걷기(회)            2452\n",
       "의자에앉아 3M표적 돌아오기(초)     133\n",
       "8자보행(초)                644\n",
       "상대악력(%)                  9\n",
       "성별                       0\n",
       "dtype: int64"
      ]
     },
     "execution_count": 62,
     "metadata": {},
     "output_type": "execute_result"
    }
   ],
   "source": [
    "df.isnull().sum()"
   ]
  },
  {
   "cell_type": "code",
   "execution_count": 63,
   "metadata": {},
   "outputs": [],
   "source": [
    "df = df.dropna(subset=['체지방율(%)','의자에앉았다일어서기(회)','앉아윗몸앞으로굽히기(cm)','2분제자리걷기(회)',\n",
    "                       '의자에앉아 3M표적 돌아오기(초)','8자보행(초)','상대악력(%)'])"
   ]
  },
  {
   "cell_type": "code",
   "execution_count": 64,
   "metadata": {},
   "outputs": [
    {
     "data": {
      "text/plain": [
       "나이                    0\n",
       "신장(cm)                0\n",
       "체중(kg)                0\n",
       "체지방율(%)               0\n",
       "이완기혈압(최저)             0\n",
       "수축기혈압(최고)             0\n",
       "앉아윗몸앞으로굽히기(cm)        0\n",
       "의자에앉았다일어서기(회)         0\n",
       "2분제자리걷기(회)            0\n",
       "의자에앉아 3M표적 돌아오기(초)    0\n",
       "8자보행(초)               0\n",
       "상대악력(%)               0\n",
       "성별                    0\n",
       "dtype: int64"
      ]
     },
     "execution_count": 64,
     "metadata": {},
     "output_type": "execute_result"
    }
   ],
   "source": [
    "df.isnull().sum()"
   ]
  },
  {
   "cell_type": "code",
   "execution_count": 65,
   "metadata": {
    "scrolled": false
   },
   "outputs": [
    {
     "data": {
      "text/plain": [
       "LabelEncoder()"
      ]
     },
     "execution_count": 65,
     "metadata": {},
     "output_type": "execute_result"
    },
    {
     "name": "stderr",
     "output_type": "stream",
     "text": [
      "<ipython-input-65-20da1fce0289>:5: SettingWithCopyWarning: \n",
      "A value is trying to be set on a copy of a slice from a DataFrame.\n",
      "Try using .loc[row_indexer,col_indexer] = value instead\n",
      "\n",
      "See the caveats in the documentation: https://pandas.pydata.org/pandas-docs/stable/user_guide/indexing.html#returning-a-view-versus-a-copy\n",
      "  df['성별'] = le.transform(df['성별'])\n"
     ]
    }
   ],
   "source": [
    "from sklearn.preprocessing import LabelEncoder\n",
    "\n",
    "le = LabelEncoder()\n",
    "le.fit(df.성별.unique())\n",
    "df['성별'] = le.transform(df['성별'])"
   ]
  },
  {
   "cell_type": "code",
   "execution_count": 66,
   "metadata": {},
   "outputs": [
    {
     "data": {
      "text/plain": [
       "<Figure size 864x576 with 0 Axes>"
      ]
     },
     "execution_count": 66,
     "metadata": {},
     "output_type": "execute_result"
    },
    {
     "data": {
      "text/plain": [
       "<AxesSubplot:>"
      ]
     },
     "execution_count": 66,
     "metadata": {},
     "output_type": "execute_result"
    },
    {
     "data": {
      "text/plain": [
       "Text(0.5, 1.0, '나이')"
      ]
     },
     "execution_count": 66,
     "metadata": {},
     "output_type": "execute_result"
    },
    {
     "data": {
      "image/png": "[encoded data removed]",
      "text/plain": [
       "<Figure size 864x576 with 1 Axes>"
      ]
     },
     "metadata": {
      "needs_background": "light"
     },
     "output_type": "display_data"
    },
    {
     "data": {
      "text/plain": [
       "<AxesSubplot:>"
      ]
     },
     "execution_count": 66,
     "metadata": {},
     "output_type": "execute_result"
    },
    {
     "data": {
      "text/plain": [
       "Text(0.5, 1.0, '신장(cm)')"
      ]
     },
     "execution_count": 66,
     "metadata": {},
     "output_type": "execute_result"
    },
    {
     "data": {
      "image/png": "[encoded data removed]",
      "text/plain": [
       "<Figure size 432x288 with 1 Axes>"
      ]
     },
     "metadata": {
      "needs_background": "light"
     },
     "output_type": "display_data"
    },
    {
     "data": {
      "text/plain": [
       "<AxesSubplot:>"
      ]
     },
     "execution_count": 66,
     "metadata": {},
     "output_type": "execute_result"
    },
    {
     "data": {
      "text/plain": [
       "Text(0.5, 1.0, '체중(kg)')"
      ]
     },
     "execution_count": 66,
     "metadata": {},
     "output_type": "execute_result"
    },
    {
     "data": {
      "image/png": "[encoded data removed]",
      "text/plain": [
       "<Figure size 432x288 with 1 Axes>"
      ]
     },
     "metadata": {
      "needs_background": "light"
     },
     "output_type": "display_data"
    },
    {
     "data": {
      "text/plain": [
       "<AxesSubplot:>"
      ]
     },
     "execution_count": 66,
     "metadata": {},
     "output_type": "execute_result"
    },
    {
     "data": {
      "text/plain": [
       "Text(0.5, 1.0, '체지방율(%)')"
      ]
     },
     "execution_count": 66,
     "metadata": {},
     "output_type": "execute_result"
    },
    {
     "data": {
      "image/png": "[encoded data removed]",
      "text/plain": [
       "<Figure size 432x288 with 1 Axes>"
      ]
     },
     "metadata": {
      "needs_background": "light"
     },
     "output_type": "display_data"
    },
    {
     "data": {
      "text/plain": [
       "<AxesSubplot:>"
      ]
     },
     "execution_count": 66,
     "metadata": {},
     "output_type": "execute_result"
    },
    {
     "data": {
      "text/plain": [
       "Text(0.5, 1.0, '이완기혈압(최저)')"
      ]
     },
     "execution_count": 66,
     "metadata": {},
     "output_type": "execute_result"
    },
    {
     "data": {
      "image/png": "[encoded data removed]",
      "text/plain": [
       "<Figure size 432x288 with 1 Axes>"
      ]
     },
     "metadata": {
      "needs_background": "light"
     },
     "output_type": "display_data"
    },
    {
     "data": {
      "text/plain": [
       "<AxesSubplot:>"
      ]
     },
     "execution_count": 66,
     "metadata": {},
     "output_type": "execute_result"
    },
    {
     "data": {
      "text/plain": [
       "Text(0.5, 1.0, '수축기혈압(최고)')"
      ]
     },
     "execution_count": 66,
     "metadata": {},
     "output_type": "execute_result"
    },
    {
     "data": {
      "image/png": "[encoded data removed]",
      "text/plain": [
       "<Figure size 432x288 with 1 Axes>"
      ]
     },
     "metadata": {
      "needs_background": "light"
     },
     "output_type": "display_data"
    },
    {
     "data": {
      "text/plain": [
       "<AxesSubplot:>"
      ]
     },
     "execution_count": 66,
     "metadata": {},
     "output_type": "execute_result"
    },
    {
     "data": {
      "text/plain": [
       "Text(0.5, 1.0, '앉아윗몸앞으로굽히기(cm)')"
      ]
     },
     "execution_count": 66,
     "metadata": {},
     "output_type": "execute_result"
    },
    {
     "data": {
      "image/png": "[encoded data removed]",
      "text/plain": [
       "<Figure size 432x288 with 1 Axes>"
      ]
     },
     "metadata": {
      "needs_background": "light"
     },
     "output_type": "display_data"
    },
    {
     "data": {
      "text/plain": [
       "<AxesSubplot:>"
      ]
     },
     "execution_count": 66,
     "metadata": {},
     "output_type": "execute_result"
    },
    {
     "data": {
      "text/plain": [
       "Text(0.5, 1.0, '의자에앉았다일어서기(회)')"
      ]
     },
     "execution_count": 66,
     "metadata": {},
     "output_type": "execute_result"
    },
    {
     "data": {
      "image/png": "[encoded data removed]",
      "text/plain": [
       "<Figure size 432x288 with 1 Axes>"
      ]
     },
     "metadata": {
      "needs_background": "light"
     },
     "output_type": "display_data"
    },
    {
     "data": {
      "text/plain": [
       "<AxesSubplot:>"
      ]
     },
     "execution_count": 66,
     "metadata": {},
     "output_type": "execute_result"
    },
    {
     "data": {
      "text/plain": [
       "Text(0.5, 1.0, '2분제자리걷기(회)')"
      ]
     },
     "execution_count": 66,
     "metadata": {},
     "output_type": "execute_result"
    },
    {
     "data": {
      "image/png": "[encoded data removed]",
      "text/plain": [
       "<Figure size 432x288 with 1 Axes>"
      ]
     },
     "metadata": {
      "needs_background": "light"
     },
     "output_type": "display_data"
    },
    {
     "data": {
      "text/plain": [
       "<AxesSubplot:>"
      ]
     },
     "execution_count": 66,
     "metadata": {},
     "output_type": "execute_result"
    },
    {
     "data": {
      "text/plain": [
       "Text(0.5, 1.0, '의자에앉아 3M표적 돌아오기(초)')"
      ]
     },
     "execution_count": 66,
     "metadata": {},
     "output_type": "execute_result"
    },
    {
     "data": {
      "image/png": "[encoded data removed]",
      "text/plain": [
       "<Figure size 432x288 with 1 Axes>"
      ]
     },
     "metadata": {
      "needs_background": "light"
     },
     "output_type": "display_data"
    },
    {
     "data": {
      "text/plain": [
       "<AxesSubplot:>"
      ]
     },
     "execution_count": 66,
     "metadata": {},
     "output_type": "execute_result"
    },
    {
     "data": {
      "text/plain": [
       "Text(0.5, 1.0, '8자보행(초)')"
      ]
     },
     "execution_count": 66,
     "metadata": {},
     "output_type": "execute_result"
    },
    {
     "data": {
      "image/png": "[encoded data removed]",
      "text/plain": [
       "<Figure size 432x288 with 1 Axes>"
      ]
     },
     "metadata": {
      "needs_background": "light"
     },
     "output_type": "display_data"
    },
    {
     "data": {
      "text/plain": [
       "<AxesSubplot:>"
      ]
     },
     "execution_count": 66,
     "metadata": {},
     "output_type": "execute_result"
    },
    {
     "data": {
      "text/plain": [
       "Text(0.5, 1.0, '상대악력(%)')"
      ]
     },
     "execution_count": 66,
     "metadata": {},
     "output_type": "execute_result"
    },
    {
     "data": {
      "image/png": "[encoded data removed]",
      "text/plain": [
       "<Figure size 432x288 with 1 Axes>"
      ]
     },
     "metadata": {
      "needs_background": "light"
     },
     "output_type": "display_data"
    },
    {
     "data": {
      "text/plain": [
       "<AxesSubplot:>"
      ]
     },
     "execution_count": 66,
     "metadata": {},
     "output_type": "execute_result"
    },
    {
     "data": {
      "text/plain": [
       "Text(0.5, 1.0, '성별')"
      ]
     },
     "execution_count": 66,
     "metadata": {},
     "output_type": "execute_result"
    },
    {
     "data": {
      "image/png": "[encoded data removed]",
      "text/plain": [
       "<Figure size 432x288 with 1 Axes>"
      ]
     },
     "metadata": {
      "needs_background": "light"
     },
     "output_type": "display_data"
    }
   ],
   "source": [
    "# 박스 플롯\n",
    "plt.figure(figsize = (12,8))\n",
    "for i in range(0,13):\n",
    "    sns.boxplot(data = df[df.columns[i]],color = 'red' )\n",
    "    plt.title(df.columns[i], size=15)\n",
    "    plt.show()"
   ]
  },
  {
   "cell_type": "code",
   "execution_count": 67,
   "metadata": {},
   "outputs": [
    {
     "data": {
      "text/html": [
       "<div>\n",
       "<style scoped>\n",
       "    .dataframe tbody tr th:only-of-type {\n",
       "        vertical-align: middle;\n",
       "    }\n",
       "\n",
       "    .dataframe tbody tr th {\n",
       "        vertical-align: top;\n",
       "    }\n",
       "\n",
       "    .dataframe thead th {\n",
       "        text-align: right;\n",
       "    }\n",
       "</style>\n",
       "<table border=\"1\" class=\"dataframe\">\n",
       "  <thead>\n",
       "    <tr style=\"text-align: right;\">\n",
       "      <th></th>\n",
       "      <th>나이</th>\n",
       "      <th>신장(cm)</th>\n",
       "      <th>체중(kg)</th>\n",
       "      <th>체지방율(%)</th>\n",
       "      <th>이완기혈압(최저)</th>\n",
       "      <th>수축기혈압(최고)</th>\n",
       "      <th>앉아윗몸앞으로굽히기(cm)</th>\n",
       "      <th>의자에앉았다일어서기(회)</th>\n",
       "      <th>2분제자리걷기(회)</th>\n",
       "      <th>의자에앉아 3M표적 돌아오기(초)</th>\n",
       "      <th>8자보행(초)</th>\n",
       "      <th>상대악력(%)</th>\n",
       "      <th>성별</th>\n",
       "    </tr>\n",
       "  </thead>\n",
       "  <tbody>\n",
       "    <tr>\n",
       "      <th>count</th>\n",
       "      <td>38048.000000</td>\n",
       "      <td>38048.000000</td>\n",
       "      <td>38048.000000</td>\n",
       "      <td>38048.000000</td>\n",
       "      <td>38048.000000</td>\n",
       "      <td>38048.000000</td>\n",
       "      <td>38048.000000</td>\n",
       "      <td>38048.000000</td>\n",
       "      <td>38048.000000</td>\n",
       "      <td>38048.000000</td>\n",
       "      <td>38048.000000</td>\n",
       "      <td>38048.000000</td>\n",
       "      <td>38048.000000</td>\n",
       "    </tr>\n",
       "    <tr>\n",
       "      <th>mean</th>\n",
       "      <td>72.866642</td>\n",
       "      <td>157.111733</td>\n",
       "      <td>60.893862</td>\n",
       "      <td>31.994516</td>\n",
       "      <td>75.221786</td>\n",
       "      <td>133.279584</td>\n",
       "      <td>9.788641</td>\n",
       "      <td>19.687027</td>\n",
       "      <td>106.164844</td>\n",
       "      <td>6.405065</td>\n",
       "      <td>26.254996</td>\n",
       "      <td>42.386690</td>\n",
       "      <td>0.363462</td>\n",
       "    </tr>\n",
       "    <tr>\n",
       "      <th>std</th>\n",
       "      <td>5.543339</td>\n",
       "      <td>8.246930</td>\n",
       "      <td>9.371611</td>\n",
       "      <td>20.960620</td>\n",
       "      <td>12.691537</td>\n",
       "      <td>23.818469</td>\n",
       "      <td>9.850554</td>\n",
       "      <td>6.463610</td>\n",
       "      <td>26.185548</td>\n",
       "      <td>1.837610</td>\n",
       "      <td>7.461754</td>\n",
       "      <td>11.222035</td>\n",
       "      <td>0.481003</td>\n",
       "    </tr>\n",
       "    <tr>\n",
       "      <th>min</th>\n",
       "      <td>64.000000</td>\n",
       "      <td>65.000000</td>\n",
       "      <td>16.000000</td>\n",
       "      <td>0.000000</td>\n",
       "      <td>2.000000</td>\n",
       "      <td>10.000000</td>\n",
       "      <td>-30.000000</td>\n",
       "      <td>0.000000</td>\n",
       "      <td>0.000000</td>\n",
       "      <td>0.000000</td>\n",
       "      <td>0.000000</td>\n",
       "      <td>0.000000</td>\n",
       "      <td>0.000000</td>\n",
       "    </tr>\n",
       "    <tr>\n",
       "      <th>25%</th>\n",
       "      <td>68.000000</td>\n",
       "      <td>151.000000</td>\n",
       "      <td>54.300000</td>\n",
       "      <td>26.600000</td>\n",
       "      <td>68.000000</td>\n",
       "      <td>122.000000</td>\n",
       "      <td>4.000000</td>\n",
       "      <td>15.000000</td>\n",
       "      <td>95.000000</td>\n",
       "      <td>5.280000</td>\n",
       "      <td>21.930000</td>\n",
       "      <td>35.000000</td>\n",
       "      <td>0.000000</td>\n",
       "    </tr>\n",
       "    <tr>\n",
       "      <th>50%</th>\n",
       "      <td>72.000000</td>\n",
       "      <td>156.100000</td>\n",
       "      <td>60.100000</td>\n",
       "      <td>32.500000</td>\n",
       "      <td>76.000000</td>\n",
       "      <td>133.000000</td>\n",
       "      <td>10.800000</td>\n",
       "      <td>19.000000</td>\n",
       "      <td>109.000000</td>\n",
       "      <td>6.030000</td>\n",
       "      <td>25.200000</td>\n",
       "      <td>41.800000</td>\n",
       "      <td>0.000000</td>\n",
       "    </tr>\n",
       "    <tr>\n",
       "      <th>75%</th>\n",
       "      <td>77.000000</td>\n",
       "      <td>163.000000</td>\n",
       "      <td>66.900000</td>\n",
       "      <td>37.300000</td>\n",
       "      <td>82.000000</td>\n",
       "      <td>144.000000</td>\n",
       "      <td>17.000000</td>\n",
       "      <td>24.000000</td>\n",
       "      <td>121.000000</td>\n",
       "      <td>7.070000</td>\n",
       "      <td>29.090000</td>\n",
       "      <td>49.300000</td>\n",
       "      <td>1.000000</td>\n",
       "    </tr>\n",
       "    <tr>\n",
       "      <th>max</th>\n",
       "      <td>101.000000</td>\n",
       "      <td>191.400000</td>\n",
       "      <td>107.800000</td>\n",
       "      <td>3830.000000</td>\n",
       "      <td>900.000000</td>\n",
       "      <td>1988.000000</td>\n",
       "      <td>253.000000</td>\n",
       "      <td>101.000000</td>\n",
       "      <td>910.000000</td>\n",
       "      <td>50.800000</td>\n",
       "      <td>157.700000</td>\n",
       "      <td>489.800000</td>\n",
       "      <td>1.000000</td>\n",
       "    </tr>\n",
       "  </tbody>\n",
       "</table>\n",
       "</div>"
      ],
      "text/plain": [
       "                 나이        신장(cm)        체중(kg)       체지방율(%)     이완기혈압(최저)  \\\n",
       "count  38048.000000  38048.000000  38048.000000  38048.000000  38048.000000   \n",
       "mean      72.866642    157.111733     60.893862     31.994516     75.221786   \n",
       "std        5.543339      8.246930      9.371611     20.960620     12.691537   \n",
       "min       64.000000     65.000000     16.000000      0.000000      2.000000   \n",
       "25%       68.000000    151.000000     54.300000     26.600000     68.000000   \n",
       "50%       72.000000    156.100000     60.100000     32.500000     76.000000   \n",
       "75%       77.000000    163.000000     66.900000     37.300000     82.000000   \n",
       "max      101.000000    191.400000    107.800000   3830.000000    900.000000   \n",
       "\n",
       "          수축기혈압(최고)  앉아윗몸앞으로굽히기(cm)  의자에앉았다일어서기(회)    2분제자리걷기(회)  \\\n",
       "count  38048.000000    38048.000000   38048.000000  38048.000000   \n",
       "mean     133.279584        9.788641      19.687027    106.164844   \n",
       "std       23.818469        9.850554       6.463610     26.185548   \n",
       "min       10.000000      -30.000000       0.000000      0.000000   \n",
       "25%      122.000000        4.000000      15.000000     95.000000   \n",
       "50%      133.000000       10.800000      19.000000    109.000000   \n",
       "75%      144.000000       17.000000      24.000000    121.000000   \n",
       "max     1988.000000      253.000000     101.000000    910.000000   \n",
       "\n",
       "       의자에앉아 3M표적 돌아오기(초)       8자보행(초)       상대악력(%)            성별  \n",
       "count        38048.000000  38048.000000  38048.000000  38048.000000  \n",
       "mean             6.405065     26.254996     42.386690      0.363462  \n",
       "std              1.837610      7.461754     11.222035      0.481003  \n",
       "min              0.000000      0.000000      0.000000      0.000000  \n",
       "25%              5.280000     21.930000     35.000000      0.000000  \n",
       "50%              6.030000     25.200000     41.800000      0.000000  \n",
       "75%              7.070000     29.090000     49.300000      1.000000  \n",
       "max             50.800000    157.700000    489.800000      1.000000  "
      ]
     },
     "execution_count": 67,
     "metadata": {},
     "output_type": "execute_result"
    }
   ],
   "source": [
    "df.describe()"
   ]
  },
  {
   "cell_type": "code",
   "execution_count": 68,
   "metadata": {},
   "outputs": [],
   "source": [
    "import numpy as np\n",
    "\n",
    "def IQR_Rule(val_list):# 피처 한개에 대해 작업\n",
    "    # IQR 계산\n",
    "    Q1 = np.quantile(val_list,0.25)\n",
    "    Q3 = np.quantile(val_list,0.75)\n",
    "    \n",
    "    IQR = Q3 - Q1 \n",
    "    \n",
    "    not_outlier_condition = (Q3 + 1.5 * IQR > val_list) & (Q1 - 1.5 * IQR < val_list)\n",
    "    return not_outlier_condition"
   ]
  },
  {
   "cell_type": "code",
   "execution_count": 69,
   "metadata": {},
   "outputs": [
    {
     "data": {
      "text/html": [
       "<div>\n",
       "<style scoped>\n",
       "    .dataframe tbody tr th:only-of-type {\n",
       "        vertical-align: middle;\n",
       "    }\n",
       "\n",
       "    .dataframe tbody tr th {\n",
       "        vertical-align: top;\n",
       "    }\n",
       "\n",
       "    .dataframe thead th {\n",
       "        text-align: right;\n",
       "    }\n",
       "</style>\n",
       "<table border=\"1\" class=\"dataframe\">\n",
       "  <thead>\n",
       "    <tr style=\"text-align: right;\">\n",
       "      <th></th>\n",
       "      <th>나이</th>\n",
       "      <th>신장(cm)</th>\n",
       "      <th>체중(kg)</th>\n",
       "      <th>체지방율(%)</th>\n",
       "      <th>이완기혈압(최저)</th>\n",
       "      <th>수축기혈압(최고)</th>\n",
       "      <th>앉아윗몸앞으로굽히기(cm)</th>\n",
       "      <th>의자에앉았다일어서기(회)</th>\n",
       "      <th>2분제자리걷기(회)</th>\n",
       "      <th>의자에앉아 3M표적 돌아오기(초)</th>\n",
       "      <th>8자보행(초)</th>\n",
       "      <th>상대악력(%)</th>\n",
       "      <th>성별</th>\n",
       "    </tr>\n",
       "  </thead>\n",
       "  <tbody>\n",
       "    <tr>\n",
       "      <th>0</th>\n",
       "      <td>True</td>\n",
       "      <td>True</td>\n",
       "      <td>True</td>\n",
       "      <td>True</td>\n",
       "      <td>True</td>\n",
       "      <td>False</td>\n",
       "      <td>True</td>\n",
       "      <td>True</td>\n",
       "      <td>True</td>\n",
       "      <td>True</td>\n",
       "      <td>True</td>\n",
       "      <td>True</td>\n",
       "      <td>True</td>\n",
       "    </tr>\n",
       "    <tr>\n",
       "      <th>1</th>\n",
       "      <td>True</td>\n",
       "      <td>True</td>\n",
       "      <td>True</td>\n",
       "      <td>True</td>\n",
       "      <td>True</td>\n",
       "      <td>True</td>\n",
       "      <td>True</td>\n",
       "      <td>True</td>\n",
       "      <td>True</td>\n",
       "      <td>True</td>\n",
       "      <td>True</td>\n",
       "      <td>True</td>\n",
       "      <td>True</td>\n",
       "    </tr>\n",
       "    <tr>\n",
       "      <th>2</th>\n",
       "      <td>True</td>\n",
       "      <td>True</td>\n",
       "      <td>True</td>\n",
       "      <td>True</td>\n",
       "      <td>True</td>\n",
       "      <td>True</td>\n",
       "      <td>True</td>\n",
       "      <td>True</td>\n",
       "      <td>True</td>\n",
       "      <td>True</td>\n",
       "      <td>True</td>\n",
       "      <td>True</td>\n",
       "      <td>True</td>\n",
       "    </tr>\n",
       "    <tr>\n",
       "      <th>3</th>\n",
       "      <td>True</td>\n",
       "      <td>True</td>\n",
       "      <td>True</td>\n",
       "      <td>True</td>\n",
       "      <td>True</td>\n",
       "      <td>True</td>\n",
       "      <td>True</td>\n",
       "      <td>True</td>\n",
       "      <td>True</td>\n",
       "      <td>True</td>\n",
       "      <td>True</td>\n",
       "      <td>True</td>\n",
       "      <td>True</td>\n",
       "    </tr>\n",
       "    <tr>\n",
       "      <th>4</th>\n",
       "      <td>True</td>\n",
       "      <td>True</td>\n",
       "      <td>True</td>\n",
       "      <td>True</td>\n",
       "      <td>True</td>\n",
       "      <td>True</td>\n",
       "      <td>True</td>\n",
       "      <td>True</td>\n",
       "      <td>True</td>\n",
       "      <td>True</td>\n",
       "      <td>True</td>\n",
       "      <td>True</td>\n",
       "      <td>True</td>\n",
       "    </tr>\n",
       "    <tr>\n",
       "      <th>...</th>\n",
       "      <td>...</td>\n",
       "      <td>...</td>\n",
       "      <td>...</td>\n",
       "      <td>...</td>\n",
       "      <td>...</td>\n",
       "      <td>...</td>\n",
       "      <td>...</td>\n",
       "      <td>...</td>\n",
       "      <td>...</td>\n",
       "      <td>...</td>\n",
       "      <td>...</td>\n",
       "      <td>...</td>\n",
       "      <td>...</td>\n",
       "    </tr>\n",
       "    <tr>\n",
       "      <th>41087</th>\n",
       "      <td>True</td>\n",
       "      <td>True</td>\n",
       "      <td>True</td>\n",
       "      <td>True</td>\n",
       "      <td>True</td>\n",
       "      <td>True</td>\n",
       "      <td>True</td>\n",
       "      <td>True</td>\n",
       "      <td>True</td>\n",
       "      <td>True</td>\n",
       "      <td>False</td>\n",
       "      <td>True</td>\n",
       "      <td>True</td>\n",
       "    </tr>\n",
       "    <tr>\n",
       "      <th>41088</th>\n",
       "      <td>True</td>\n",
       "      <td>True</td>\n",
       "      <td>True</td>\n",
       "      <td>True</td>\n",
       "      <td>True</td>\n",
       "      <td>True</td>\n",
       "      <td>True</td>\n",
       "      <td>True</td>\n",
       "      <td>True</td>\n",
       "      <td>False</td>\n",
       "      <td>False</td>\n",
       "      <td>True</td>\n",
       "      <td>True</td>\n",
       "    </tr>\n",
       "    <tr>\n",
       "      <th>41089</th>\n",
       "      <td>True</td>\n",
       "      <td>True</td>\n",
       "      <td>True</td>\n",
       "      <td>True</td>\n",
       "      <td>True</td>\n",
       "      <td>True</td>\n",
       "      <td>True</td>\n",
       "      <td>True</td>\n",
       "      <td>True</td>\n",
       "      <td>True</td>\n",
       "      <td>True</td>\n",
       "      <td>True</td>\n",
       "      <td>True</td>\n",
       "    </tr>\n",
       "    <tr>\n",
       "      <th>41090</th>\n",
       "      <td>True</td>\n",
       "      <td>True</td>\n",
       "      <td>True</td>\n",
       "      <td>True</td>\n",
       "      <td>True</td>\n",
       "      <td>True</td>\n",
       "      <td>True</td>\n",
       "      <td>True</td>\n",
       "      <td>True</td>\n",
       "      <td>True</td>\n",
       "      <td>True</td>\n",
       "      <td>True</td>\n",
       "      <td>True</td>\n",
       "    </tr>\n",
       "    <tr>\n",
       "      <th>41091</th>\n",
       "      <td>True</td>\n",
       "      <td>True</td>\n",
       "      <td>True</td>\n",
       "      <td>True</td>\n",
       "      <td>True</td>\n",
       "      <td>True</td>\n",
       "      <td>True</td>\n",
       "      <td>True</td>\n",
       "      <td>True</td>\n",
       "      <td>True</td>\n",
       "      <td>True</td>\n",
       "      <td>True</td>\n",
       "      <td>True</td>\n",
       "    </tr>\n",
       "  </tbody>\n",
       "</table>\n",
       "<p>38048 rows × 13 columns</p>\n",
       "</div>"
      ],
      "text/plain": [
       "         나이  신장(cm)  체중(kg)  체지방율(%)  이완기혈압(최저)  수축기혈압(최고)  앉아윗몸앞으로굽히기(cm)  \\\n",
       "0      True    True    True     True       True      False            True   \n",
       "1      True    True    True     True       True       True            True   \n",
       "2      True    True    True     True       True       True            True   \n",
       "3      True    True    True     True       True       True            True   \n",
       "4      True    True    True     True       True       True            True   \n",
       "...     ...     ...     ...      ...        ...        ...             ...   \n",
       "41087  True    True    True     True       True       True            True   \n",
       "41088  True    True    True     True       True       True            True   \n",
       "41089  True    True    True     True       True       True            True   \n",
       "41090  True    True    True     True       True       True            True   \n",
       "41091  True    True    True     True       True       True            True   \n",
       "\n",
       "       의자에앉았다일어서기(회)  2분제자리걷기(회)  의자에앉아 3M표적 돌아오기(초)  8자보행(초)  상대악력(%)    성별  \n",
       "0               True        True                True     True     True  True  \n",
       "1               True        True                True     True     True  True  \n",
       "2               True        True                True     True     True  True  \n",
       "3               True        True                True     True     True  True  \n",
       "4               True        True                True     True     True  True  \n",
       "...              ...         ...                 ...      ...      ...   ...  \n",
       "41087           True        True                True    False     True  True  \n",
       "41088           True        True               False    False     True  True  \n",
       "41089           True        True                True     True     True  True  \n",
       "41090           True        True                True     True     True  True  \n",
       "41091           True        True                True     True     True  True  \n",
       "\n",
       "[38048 rows x 13 columns]"
      ]
     },
     "execution_count": 69,
     "metadata": {},
     "output_type": "execute_result"
    }
   ],
   "source": [
    "conditions = df.apply(IQR_Rule)\n",
    "conditions"
   ]
  },
  {
   "cell_type": "code",
   "execution_count": 70,
   "metadata": {},
   "outputs": [
    {
     "data": {
      "text/plain": [
       "0        False\n",
       "1         True\n",
       "2         True\n",
       "3         True\n",
       "4         True\n",
       "         ...  \n",
       "41087    False\n",
       "41088    False\n",
       "41089     True\n",
       "41090     True\n",
       "41091     True\n",
       "Length: 38048, dtype: bool"
      ]
     },
     "execution_count": 70,
     "metadata": {},
     "output_type": "execute_result"
    }
   ],
   "source": [
    "conditions.sum(axis=1) == len(df.columns)\n",
    "\n",
    "# 이상치 제거 값 넣기\n",
    "total_cond = conditions.sum(axis=1) == len(df.columns)\n",
    "\n",
    "df1 = df.loc[total_cond]"
   ]
  },
  {
   "cell_type": "code",
   "execution_count": 71,
   "metadata": {},
   "outputs": [
    {
     "data": {
      "text/plain": [
       "<Figure size 864x576 with 0 Axes>"
      ]
     },
     "execution_count": 71,
     "metadata": {},
     "output_type": "execute_result"
    },
    {
     "data": {
      "text/plain": [
       "<AxesSubplot:xlabel='나이', ylabel='Count'>"
      ]
     },
     "execution_count": 71,
     "metadata": {},
     "output_type": "execute_result"
    },
    {
     "data": {
      "text/plain": [
       "Text(0.5, 1.0, '나이')"
      ]
     },
     "execution_count": 71,
     "metadata": {},
     "output_type": "execute_result"
    },
    {
     "data": {
      "image/png": "[encoded data removed]",
      "text/plain": [
       "<Figure size 864x576 with 1 Axes>"
      ]
     },
     "metadata": {
      "needs_background": "light"
     },
     "output_type": "display_data"
    },
    {
     "data": {
      "text/plain": [
       "<AxesSubplot:xlabel='신장(cm)', ylabel='Count'>"
      ]
     },
     "execution_count": 71,
     "metadata": {},
     "output_type": "execute_result"
    },
    {
     "data": {
      "text/plain": [
       "Text(0.5, 1.0, '신장(cm)')"
      ]
     },
     "execution_count": 71,
     "metadata": {},
     "output_type": "execute_result"
    },
    {
     "data": {
      "image/png": "[encoded data removed]",
      "text/plain": [
       "<Figure size 432x288 with 1 Axes>"
      ]
     },
     "metadata": {
      "needs_background": "light"
     },
     "output_type": "display_data"
    },
    {
     "data": {
      "text/plain": [
       "<AxesSubplot:xlabel='체중(kg)', ylabel='Count'>"
      ]
     },
     "execution_count": 71,
     "metadata": {},
     "output_type": "execute_result"
    },
    {
     "data": {
      "text/plain": [
       "Text(0.5, 1.0, '체중(kg)')"
      ]
     },
     "execution_count": 71,
     "metadata": {},
     "output_type": "execute_result"
    },
    {
     "data": {
      "image/png": "[encoded data removed]",
      "text/plain": [
       "<Figure size 432x288 with 1 Axes>"
      ]
     },
     "metadata": {
      "needs_background": "light"
     },
     "output_type": "display_data"
    },
    {
     "data": {
      "text/plain": [
       "<AxesSubplot:xlabel='체지방율(%)', ylabel='Count'>"
      ]
     },
     "execution_count": 71,
     "metadata": {},
     "output_type": "execute_result"
    },
    {
     "data": {
      "text/plain": [
       "Text(0.5, 1.0, '체지방율(%)')"
      ]
     },
     "execution_count": 71,
     "metadata": {},
     "output_type": "execute_result"
    },
    {
     "data": {
      "image/png": "[encoded data removed]",
      "text/plain": [
       "<Figure size 432x288 with 1 Axes>"
      ]
     },
     "metadata": {
      "needs_background": "light"
     },
     "output_type": "display_data"
    },
    {
     "data": {
      "text/plain": [
       "<AxesSubplot:xlabel='이완기혈압(최저)', ylabel='Count'>"
      ]
     },
     "execution_count": 71,
     "metadata": {},
     "output_type": "execute_result"
    },
    {
     "data": {
      "text/plain": [
       "Text(0.5, 1.0, '이완기혈압(최저)')"
      ]
     },
     "execution_count": 71,
     "metadata": {},
     "output_type": "execute_result"
    },
    {
     "data": {
      "image/png": "[encoded data removed]",
      "text/plain": [
       "<Figure size 432x288 with 1 Axes>"
      ]
     },
     "metadata": {
      "needs_background": "light"
     },
     "output_type": "display_data"
    },
    {
     "data": {
      "text/plain": [
       "<AxesSubplot:xlabel='수축기혈압(최고)', ylabel='Count'>"
      ]
     },
     "execution_count": 71,
     "metadata": {},
     "output_type": "execute_result"
    },
    {
     "data": {
      "text/plain": [
       "Text(0.5, 1.0, '수축기혈압(최고)')"
      ]
     },
     "execution_count": 71,
     "metadata": {},
     "output_type": "execute_result"
    },
    {
     "data": {
      "image/png": "[encoded data removed]",
      "text/plain": [
       "<Figure size 432x288 with 1 Axes>"
      ]
     },
     "metadata": {
      "needs_background": "light"
     },
     "output_type": "display_data"
    },
    {
     "data": {
      "text/plain": [
       "<AxesSubplot:xlabel='앉아윗몸앞으로굽히기(cm)', ylabel='Count'>"
      ]
     },
     "execution_count": 71,
     "metadata": {},
     "output_type": "execute_result"
    },
    {
     "data": {
      "text/plain": [
       "Text(0.5, 1.0, '앉아윗몸앞으로굽히기(cm)')"
      ]
     },
     "execution_count": 71,
     "metadata": {},
     "output_type": "execute_result"
    },
    {
     "data": {
      "image/png": "[encoded data removed]",
      "text/plain": [
       "<Figure size 432x288 with 1 Axes>"
      ]
     },
     "metadata": {
      "needs_background": "light"
     },
     "output_type": "display_data"
    },
    {
     "data": {
      "text/plain": [
       "<AxesSubplot:xlabel='의자에앉았다일어서기(회)', ylabel='Count'>"
      ]
     },
     "execution_count": 71,
     "metadata": {},
     "output_type": "execute_result"
    },
    {
     "data": {
      "text/plain": [
       "Text(0.5, 1.0, '의자에앉았다일어서기(회)')"
      ]
     },
     "execution_count": 71,
     "metadata": {},
     "output_type": "execute_result"
    },
    {
     "data": {
      "image/png": "[encoded data removed]",
      "text/plain": [
       "<Figure size 432x288 with 1 Axes>"
      ]
     },
     "metadata": {
      "needs_background": "light"
     },
     "output_type": "display_data"
    },
    {
     "data": {
      "text/plain": [
       "<AxesSubplot:xlabel='2분제자리걷기(회)', ylabel='Count'>"
      ]
     },
     "execution_count": 71,
     "metadata": {},
     "output_type": "execute_result"
    },
    {
     "data": {
      "text/plain": [
       "Text(0.5, 1.0, '2분제자리걷기(회)')"
      ]
     },
     "execution_count": 71,
     "metadata": {},
     "output_type": "execute_result"
    },
    {
     "data": {
      "image/png": "[encoded data removed]",
      "text/plain": [
       "<Figure size 432x288 with 1 Axes>"
      ]
     },
     "metadata": {
      "needs_background": "light"
     },
     "output_type": "display_data"
    },
    {
     "data": {
      "text/plain": [
       "<AxesSubplot:xlabel='의자에앉아 3M표적 돌아오기(초)', ylabel='Count'>"
      ]
     },
     "execution_count": 71,
     "metadata": {},
     "output_type": "execute_result"
    },
    {
     "data": {
      "text/plain": [
       "Text(0.5, 1.0, '의자에앉아 3M표적 돌아오기(초)')"
      ]
     },
     "execution_count": 71,
     "metadata": {},
     "output_type": "execute_result"
    },
    {
     "data": {
      "image/png": "[encoded data removed]",
      "text/plain": [
       "<Figure size 432x288 with 1 Axes>"
      ]
     },
     "metadata": {
      "needs_background": "light"
     },
     "output_type": "display_data"
    },
    {
     "data": {
      "text/plain": [
       "<AxesSubplot:xlabel='8자보행(초)', ylabel='Count'>"
      ]
     },
     "execution_count": 71,
     "metadata": {},
     "output_type": "execute_result"
    },
    {
     "data": {
      "text/plain": [
       "Text(0.5, 1.0, '8자보행(초)')"
      ]
     },
     "execution_count": 71,
     "metadata": {},
     "output_type": "execute_result"
    },
    {
     "data": {
      "image/png": "[encoded data removed]",
      "text/plain": [
       "<Figure size 432x288 with 1 Axes>"
      ]
     },
     "metadata": {
      "needs_background": "light"
     },
     "output_type": "display_data"
    },
    {
     "data": {
      "text/plain": [
       "<AxesSubplot:xlabel='상대악력(%)', ylabel='Count'>"
      ]
     },
     "execution_count": 71,
     "metadata": {},
     "output_type": "execute_result"
    },
    {
     "data": {
      "text/plain": [
       "Text(0.5, 1.0, '상대악력(%)')"
      ]
     },
     "execution_count": 71,
     "metadata": {},
     "output_type": "execute_result"
    },
    {
     "data": {
      "image/png": "[encoded data removed]",
      "text/plain": [
       "<Figure size 432x288 with 1 Axes>"
      ]
     },
     "metadata": {
      "needs_background": "light"
     },
     "output_type": "display_data"
    },
    {
     "data": {
      "text/plain": [
       "<AxesSubplot:xlabel='성별', ylabel='Count'>"
      ]
     },
     "execution_count": 71,
     "metadata": {},
     "output_type": "execute_result"
    },
    {
     "data": {
      "text/plain": [
       "Text(0.5, 1.0, '성별')"
      ]
     },
     "execution_count": 71,
     "metadata": {},
     "output_type": "execute_result"
    },
    {
     "data": {
      "image/png": "[encoded data removed]",
      "text/plain": [
       "<Figure size 432x288 with 1 Axes>"
      ]
     },
     "metadata": {
      "needs_background": "light"
     },
     "output_type": "display_data"
    }
   ],
   "source": [
    "# 히스토 플롯\n",
    "plt.figure(figsize = (12,8))\n",
    "for i in range(0,13):\n",
    "    sns.histplot(data = df1[df1.columns[i]] ,color = 'blue' )\n",
    "    plt.title(df1.columns[i], size=15)\n",
    "    plt.show()"
   ]
  },
  {
   "cell_type": "code",
   "execution_count": 72,
   "metadata": {},
   "outputs": [
    {
     "data": {
      "text/html": [
       "<div>\n",
       "<style scoped>\n",
       "    .dataframe tbody tr th:only-of-type {\n",
       "        vertical-align: middle;\n",
       "    }\n",
       "\n",
       "    .dataframe tbody tr th {\n",
       "        vertical-align: top;\n",
       "    }\n",
       "\n",
       "    .dataframe thead th {\n",
       "        text-align: right;\n",
       "    }\n",
       "</style>\n",
       "<table border=\"1\" class=\"dataframe\">\n",
       "  <thead>\n",
       "    <tr style=\"text-align: right;\">\n",
       "      <th></th>\n",
       "      <th>나이</th>\n",
       "      <th>신장(cm)</th>\n",
       "      <th>체중(kg)</th>\n",
       "      <th>체지방율(%)</th>\n",
       "      <th>이완기혈압(최저)</th>\n",
       "      <th>수축기혈압(최고)</th>\n",
       "      <th>앉아윗몸앞으로굽히기(cm)</th>\n",
       "      <th>의자에앉았다일어서기(회)</th>\n",
       "      <th>2분제자리걷기(회)</th>\n",
       "      <th>의자에앉아 3M표적 돌아오기(초)</th>\n",
       "      <th>8자보행(초)</th>\n",
       "      <th>상대악력(%)</th>\n",
       "      <th>성별</th>\n",
       "    </tr>\n",
       "  </thead>\n",
       "  <tbody>\n",
       "    <tr>\n",
       "      <th>count</th>\n",
       "      <td>32402.000000</td>\n",
       "      <td>32402.000000</td>\n",
       "      <td>32402.000000</td>\n",
       "      <td>32402.000000</td>\n",
       "      <td>32402.000000</td>\n",
       "      <td>32402.000000</td>\n",
       "      <td>32402.000000</td>\n",
       "      <td>32402.000000</td>\n",
       "      <td>32402.000000</td>\n",
       "      <td>32402.000000</td>\n",
       "      <td>32402.000000</td>\n",
       "      <td>32402.000000</td>\n",
       "      <td>32402.000000</td>\n",
       "    </tr>\n",
       "    <tr>\n",
       "      <th>mean</th>\n",
       "      <td>72.289828</td>\n",
       "      <td>157.281708</td>\n",
       "      <td>60.814603</td>\n",
       "      <td>31.754919</td>\n",
       "      <td>75.345886</td>\n",
       "      <td>132.924690</td>\n",
       "      <td>10.583278</td>\n",
       "      <td>20.295722</td>\n",
       "      <td>110.340226</td>\n",
       "      <td>6.084335</td>\n",
       "      <td>25.307958</td>\n",
       "      <td>42.959728</td>\n",
       "      <td>0.359484</td>\n",
       "    </tr>\n",
       "    <tr>\n",
       "      <th>std</th>\n",
       "      <td>5.122442</td>\n",
       "      <td>7.964068</td>\n",
       "      <td>8.826097</td>\n",
       "      <td>7.369625</td>\n",
       "      <td>9.749697</td>\n",
       "      <td>14.780854</td>\n",
       "      <td>9.024949</td>\n",
       "      <td>5.875656</td>\n",
       "      <td>18.553151</td>\n",
       "      <td>1.153473</td>\n",
       "      <td>4.667507</td>\n",
       "      <td>10.075326</td>\n",
       "      <td>0.479857</td>\n",
       "    </tr>\n",
       "    <tr>\n",
       "      <th>min</th>\n",
       "      <td>64.000000</td>\n",
       "      <td>133.200000</td>\n",
       "      <td>35.500000</td>\n",
       "      <td>10.600000</td>\n",
       "      <td>48.000000</td>\n",
       "      <td>90.000000</td>\n",
       "      <td>-15.400000</td>\n",
       "      <td>2.000000</td>\n",
       "      <td>57.000000</td>\n",
       "      <td>2.630000</td>\n",
       "      <td>11.280000</td>\n",
       "      <td>13.700000</td>\n",
       "      <td>0.000000</td>\n",
       "    </tr>\n",
       "    <tr>\n",
       "      <th>25%</th>\n",
       "      <td>68.000000</td>\n",
       "      <td>151.300000</td>\n",
       "      <td>54.400000</td>\n",
       "      <td>26.500000</td>\n",
       "      <td>69.000000</td>\n",
       "      <td>122.000000</td>\n",
       "      <td>4.800000</td>\n",
       "      <td>16.000000</td>\n",
       "      <td>99.000000</td>\n",
       "      <td>5.230000</td>\n",
       "      <td>21.870000</td>\n",
       "      <td>35.900000</td>\n",
       "      <td>0.000000</td>\n",
       "    </tr>\n",
       "    <tr>\n",
       "      <th>50%</th>\n",
       "      <td>72.000000</td>\n",
       "      <td>156.300000</td>\n",
       "      <td>60.200000</td>\n",
       "      <td>32.300000</td>\n",
       "      <td>76.000000</td>\n",
       "      <td>132.000000</td>\n",
       "      <td>11.500000</td>\n",
       "      <td>20.000000</td>\n",
       "      <td>110.000000</td>\n",
       "      <td>5.910000</td>\n",
       "      <td>24.830000</td>\n",
       "      <td>42.400000</td>\n",
       "      <td>0.000000</td>\n",
       "    </tr>\n",
       "    <tr>\n",
       "      <th>75%</th>\n",
       "      <td>76.000000</td>\n",
       "      <td>163.000000</td>\n",
       "      <td>66.800000</td>\n",
       "      <td>37.000000</td>\n",
       "      <td>82.000000</td>\n",
       "      <td>144.000000</td>\n",
       "      <td>17.300000</td>\n",
       "      <td>24.000000</td>\n",
       "      <td>122.000000</td>\n",
       "      <td>6.790000</td>\n",
       "      <td>28.110000</td>\n",
       "      <td>49.700000</td>\n",
       "      <td>1.000000</td>\n",
       "    </tr>\n",
       "    <tr>\n",
       "      <th>max</th>\n",
       "      <td>90.000000</td>\n",
       "      <td>180.900000</td>\n",
       "      <td>85.800000</td>\n",
       "      <td>53.000000</td>\n",
       "      <td>102.000000</td>\n",
       "      <td>176.000000</td>\n",
       "      <td>35.200000</td>\n",
       "      <td>37.000000</td>\n",
       "      <td>159.000000</td>\n",
       "      <td>9.750000</td>\n",
       "      <td>39.810000</td>\n",
       "      <td>70.700000</td>\n",
       "      <td>1.000000</td>\n",
       "    </tr>\n",
       "  </tbody>\n",
       "</table>\n",
       "</div>"
      ],
      "text/plain": [
       "                 나이        신장(cm)        체중(kg)       체지방율(%)     이완기혈압(최저)  \\\n",
       "count  32402.000000  32402.000000  32402.000000  32402.000000  32402.000000   \n",
       "mean      72.289828    157.281708     60.814603     31.754919     75.345886   \n",
       "std        5.122442      7.964068      8.826097      7.369625      9.749697   \n",
       "min       64.000000    133.200000     35.500000     10.600000     48.000000   \n",
       "25%       68.000000    151.300000     54.400000     26.500000     69.000000   \n",
       "50%       72.000000    156.300000     60.200000     32.300000     76.000000   \n",
       "75%       76.000000    163.000000     66.800000     37.000000     82.000000   \n",
       "max       90.000000    180.900000     85.800000     53.000000    102.000000   \n",
       "\n",
       "          수축기혈압(최고)  앉아윗몸앞으로굽히기(cm)  의자에앉았다일어서기(회)    2분제자리걷기(회)  \\\n",
       "count  32402.000000    32402.000000   32402.000000  32402.000000   \n",
       "mean     132.924690       10.583278      20.295722    110.340226   \n",
       "std       14.780854        9.024949       5.875656     18.553151   \n",
       "min       90.000000      -15.400000       2.000000     57.000000   \n",
       "25%      122.000000        4.800000      16.000000     99.000000   \n",
       "50%      132.000000       11.500000      20.000000    110.000000   \n",
       "75%      144.000000       17.300000      24.000000    122.000000   \n",
       "max      176.000000       35.200000      37.000000    159.000000   \n",
       "\n",
       "       의자에앉아 3M표적 돌아오기(초)       8자보행(초)       상대악력(%)            성별  \n",
       "count        32402.000000  32402.000000  32402.000000  32402.000000  \n",
       "mean             6.084335     25.307958     42.959728      0.359484  \n",
       "std              1.153473      4.667507     10.075326      0.479857  \n",
       "min              2.630000     11.280000     13.700000      0.000000  \n",
       "25%              5.230000     21.870000     35.900000      0.000000  \n",
       "50%              5.910000     24.830000     42.400000      0.000000  \n",
       "75%              6.790000     28.110000     49.700000      1.000000  \n",
       "max              9.750000     39.810000     70.700000      1.000000  "
      ]
     },
     "execution_count": 72,
     "metadata": {},
     "output_type": "execute_result"
    }
   ],
   "source": [
    "df1.describe()"
   ]
  },
  {
   "cell_type": "code",
   "execution_count": 73,
   "metadata": {},
   "outputs": [
    {
     "data": {
      "text/plain": [
       "<Figure size 1296x1008 with 0 Axes>"
      ]
     },
     "execution_count": 73,
     "metadata": {},
     "output_type": "execute_result"
    },
    {
     "data": {
      "text/plain": [
       "<AxesSubplot:>"
      ]
     },
     "execution_count": 73,
     "metadata": {},
     "output_type": "execute_result"
    },
    {
     "data": {
      "image/png": "[encoded data removed]",
      "text/plain": [
       "<Figure size 1296x1008 with 2 Axes>"
      ]
     },
     "metadata": {
      "needs_background": "light"
     },
     "output_type": "display_data"
    }
   ],
   "source": [
    "mat = np.zeros_like(df1.corr(method = 'pearson'))\n",
    "\n",
    "# 상관관계 \n",
    "plt.figure(figsize=(18,14))\n",
    "sns.heatmap(df1.corr(method = 'pearson'),\n",
    "            vmin = 0, vmax = +1, \n",
    "            annot = True, \n",
    "            cmap = 'RdYlBu_r', \n",
    "            linewidths=1,\n",
    "            cbar_kws={\"shrink\": 0.4},\n",
    "            mask = mat)"
   ]
  },
  {
   "cell_type": "code",
   "execution_count": 74,
   "metadata": {},
   "outputs": [],
   "source": [
    "from sklearn.cluster import KMeans\n",
    "from sklearn.preprocessing import scale\n",
    "# 실루엣 분석 metric 값을 구하기 위한 API 추가\n",
    "from sklearn.metrics import silhouette_samples, silhouette_score\n",
    "import matplotlib.pyplot as plt\n",
    "import numpy as np\n",
    "import pandas as pd\n"
   ]
  },
  {
   "cell_type": "code",
   "execution_count": 75,
   "metadata": {
    "scrolled": true
   },
   "outputs": [
    {
     "data": {
      "text/plain": [
       "KMeans(n_clusters=2)"
      ]
     },
     "execution_count": 75,
     "metadata": {},
     "output_type": "execute_result"
    },
    {
     "data": {
      "text/plain": [
       "KMeans(n_clusters=3)"
      ]
     },
     "execution_count": 75,
     "metadata": {},
     "output_type": "execute_result"
    },
    {
     "data": {
      "text/plain": [
       "KMeans(n_clusters=4)"
      ]
     },
     "execution_count": 75,
     "metadata": {},
     "output_type": "execute_result"
    },
    {
     "data": {
      "text/plain": [
       "KMeans(n_clusters=5)"
      ]
     },
     "execution_count": 75,
     "metadata": {},
     "output_type": "execute_result"
    },
    {
     "data": {
      "text/plain": [
       "KMeans(n_clusters=6)"
      ]
     },
     "execution_count": 75,
     "metadata": {},
     "output_type": "execute_result"
    },
    {
     "data": {
      "text/plain": [
       "KMeans(n_clusters=7)"
      ]
     },
     "execution_count": 75,
     "metadata": {},
     "output_type": "execute_result"
    },
    {
     "data": {
      "text/plain": [
       "KMeans()"
      ]
     },
     "execution_count": 75,
     "metadata": {},
     "output_type": "execute_result"
    },
    {
     "data": {
      "text/plain": [
       "KMeans(n_clusters=9)"
      ]
     },
     "execution_count": 75,
     "metadata": {},
     "output_type": "execute_result"
    },
    {
     "data": {
      "text/plain": [
       "KMeans(n_clusters=10)"
      ]
     },
     "execution_count": 75,
     "metadata": {},
     "output_type": "execute_result"
    },
    {
     "data": {
      "text/plain": [
       "KMeans(n_clusters=11)"
      ]
     },
     "execution_count": 75,
     "metadata": {},
     "output_type": "execute_result"
    },
    {
     "data": {
      "text/plain": [
       "KMeans(n_clusters=12)"
      ]
     },
     "execution_count": 75,
     "metadata": {},
     "output_type": "execute_result"
    },
    {
     "data": {
      "text/plain": [
       "KMeans(n_clusters=13)"
      ]
     },
     "execution_count": 75,
     "metadata": {},
     "output_type": "execute_result"
    },
    {
     "data": {
      "text/plain": [
       "KMeans(n_clusters=14)"
      ]
     },
     "execution_count": 75,
     "metadata": {},
     "output_type": "execute_result"
    },
    {
     "data": {
      "text/plain": [
       "KMeans(n_clusters=15)"
      ]
     },
     "execution_count": 75,
     "metadata": {},
     "output_type": "execute_result"
    },
    {
     "data": {
      "text/plain": [
       "KMeans(n_clusters=16)"
      ]
     },
     "execution_count": 75,
     "metadata": {},
     "output_type": "execute_result"
    },
    {
     "data": {
      "text/plain": [
       "KMeans(n_clusters=17)"
      ]
     },
     "execution_count": 75,
     "metadata": {},
     "output_type": "execute_result"
    },
    {
     "data": {
      "text/plain": [
       "KMeans(n_clusters=18)"
      ]
     },
     "execution_count": 75,
     "metadata": {},
     "output_type": "execute_result"
    },
    {
     "data": {
      "text/plain": [
       "KMeans(n_clusters=19)"
      ]
     },
     "execution_count": 75,
     "metadata": {},
     "output_type": "execute_result"
    },
    {
     "data": {
      "text/plain": [
       "[<matplotlib.lines.Line2D at 0x21b266d8be0>]"
      ]
     },
     "execution_count": 75,
     "metadata": {},
     "output_type": "execute_result"
    },
    {
     "data": {
      "text/plain": [
       "<matplotlib.collections.PathCollection at 0x21b266d84f0>"
      ]
     },
     "execution_count": 75,
     "metadata": {},
     "output_type": "execute_result"
    },
    {
     "data": {
      "text/plain": [
       "Text(0.5, 1.0, 'Elbow curve')"
      ]
     },
     "execution_count": 75,
     "metadata": {},
     "output_type": "execute_result"
    },
    {
     "data": {
      "image/png": "[encoded data removed]",
      "text/plain": [
       "<Figure size 720x360 with 1 Axes>"
      ]
     },
     "metadata": {
      "needs_background": "light"
     },
     "output_type": "display_data"
    }
   ],
   "source": [
    "distortions = []\n",
    "for k in range(2, 20):\n",
    "    kmeans = KMeans(n_clusters=k)\n",
    "    kmeans.fit(df1)\n",
    "    distortions.append(kmeans.inertia_)\n",
    "fig = plt.figure(figsize=(10, 5))\n",
    "plt.plot(range(2, 20), distortions)\n",
    "plt.scatter(range(2, 20), distortions)\n",
    "plt.grid(True)\n",
    "plt.title('Elbow curve')\n",
    "plt.show()"
   ]
  },
  {
   "cell_type": "code",
   "execution_count": 76,
   "metadata": {},
   "outputs": [
    {
     "data": {
      "text/html": [
       "<div>\n",
       "<style scoped>\n",
       "    .dataframe tbody tr th:only-of-type {\n",
       "        vertical-align: middle;\n",
       "    }\n",
       "\n",
       "    .dataframe tbody tr th {\n",
       "        vertical-align: top;\n",
       "    }\n",
       "\n",
       "    .dataframe thead th {\n",
       "        text-align: right;\n",
       "    }\n",
       "</style>\n",
       "<table border=\"1\" class=\"dataframe\">\n",
       "  <thead>\n",
       "    <tr style=\"text-align: right;\">\n",
       "      <th></th>\n",
       "      <th>나이</th>\n",
       "      <th>신장(cm)</th>\n",
       "      <th>체중(kg)</th>\n",
       "      <th>체지방율(%)</th>\n",
       "      <th>이완기혈압(최저)</th>\n",
       "      <th>수축기혈압(최고)</th>\n",
       "      <th>앉아윗몸앞으로굽히기(cm)</th>\n",
       "      <th>의자에앉았다일어서기(회)</th>\n",
       "      <th>2분제자리걷기(회)</th>\n",
       "      <th>의자에앉아 3M표적 돌아오기(초)</th>\n",
       "      <th>8자보행(초)</th>\n",
       "      <th>상대악력(%)</th>\n",
       "      <th>성별</th>\n",
       "    </tr>\n",
       "  </thead>\n",
       "  <tbody>\n",
       "    <tr>\n",
       "      <th>1</th>\n",
       "      <td>74</td>\n",
       "      <td>161.5</td>\n",
       "      <td>58.9</td>\n",
       "      <td>20.2</td>\n",
       "      <td>89.0</td>\n",
       "      <td>137.0</td>\n",
       "      <td>3.1</td>\n",
       "      <td>25.0</td>\n",
       "      <td>107.0</td>\n",
       "      <td>5.29</td>\n",
       "      <td>22.94</td>\n",
       "      <td>66.0</td>\n",
       "      <td>1</td>\n",
       "    </tr>\n",
       "    <tr>\n",
       "      <th>2</th>\n",
       "      <td>70</td>\n",
       "      <td>172.0</td>\n",
       "      <td>81.3</td>\n",
       "      <td>26.5</td>\n",
       "      <td>70.0</td>\n",
       "      <td>120.0</td>\n",
       "      <td>0.7</td>\n",
       "      <td>32.0</td>\n",
       "      <td>122.0</td>\n",
       "      <td>4.53</td>\n",
       "      <td>19.47</td>\n",
       "      <td>54.9</td>\n",
       "      <td>1</td>\n",
       "    </tr>\n",
       "    <tr>\n",
       "      <th>3</th>\n",
       "      <td>76</td>\n",
       "      <td>165.1</td>\n",
       "      <td>68.7</td>\n",
       "      <td>30.1</td>\n",
       "      <td>78.0</td>\n",
       "      <td>151.0</td>\n",
       "      <td>10.8</td>\n",
       "      <td>22.0</td>\n",
       "      <td>94.0</td>\n",
       "      <td>5.03</td>\n",
       "      <td>22.30</td>\n",
       "      <td>43.9</td>\n",
       "      <td>1</td>\n",
       "    </tr>\n",
       "  </tbody>\n",
       "</table>\n",
       "</div>"
      ],
      "text/plain": [
       "   나이  신장(cm)  체중(kg)  체지방율(%)  이완기혈압(최저)  수축기혈압(최고)  앉아윗몸앞으로굽히기(cm)  \\\n",
       "1  74   161.5    58.9     20.2       89.0      137.0             3.1   \n",
       "2  70   172.0    81.3     26.5       70.0      120.0             0.7   \n",
       "3  76   165.1    68.7     30.1       78.0      151.0            10.8   \n",
       "\n",
       "   의자에앉았다일어서기(회)  2분제자리걷기(회)  의자에앉아 3M표적 돌아오기(초)  8자보행(초)  상대악력(%)  성별  \n",
       "1           25.0       107.0                5.29    22.94     66.0   1  \n",
       "2           32.0       122.0                4.53    19.47     54.9   1  \n",
       "3           22.0        94.0                5.03    22.30     43.9   1  "
      ]
     },
     "execution_count": 76,
     "metadata": {},
     "output_type": "execute_result"
    }
   ],
   "source": [
    "## 데이터 확인위해 DF로 변환_\n",
    "df_1=pd.DataFrame(data=df1,columns=df1.columns)\n",
    "df_1.head(3)"
   ]
  },
  {
   "cell_type": "code",
   "execution_count": 77,
   "metadata": {},
   "outputs": [
    {
     "name": "stdout",
     "output_type": "stream",
     "text": [
      "[1 1 1 ... 3 0 1]\n"
     ]
    },
    {
     "data": {
      "text/html": [
       "<div>\n",
       "<style scoped>\n",
       "    .dataframe tbody tr th:only-of-type {\n",
       "        vertical-align: middle;\n",
       "    }\n",
       "\n",
       "    .dataframe tbody tr th {\n",
       "        vertical-align: top;\n",
       "    }\n",
       "\n",
       "    .dataframe thead th {\n",
       "        text-align: right;\n",
       "    }\n",
       "</style>\n",
       "<table border=\"1\" class=\"dataframe\">\n",
       "  <thead>\n",
       "    <tr style=\"text-align: right;\">\n",
       "      <th></th>\n",
       "      <th>나이</th>\n",
       "      <th>신장(cm)</th>\n",
       "      <th>체중(kg)</th>\n",
       "      <th>체지방율(%)</th>\n",
       "      <th>이완기혈압(최저)</th>\n",
       "      <th>수축기혈압(최고)</th>\n",
       "      <th>앉아윗몸앞으로굽히기(cm)</th>\n",
       "      <th>의자에앉았다일어서기(회)</th>\n",
       "      <th>2분제자리걷기(회)</th>\n",
       "      <th>의자에앉아 3M표적 돌아오기(초)</th>\n",
       "      <th>8자보행(초)</th>\n",
       "      <th>상대악력(%)</th>\n",
       "      <th>성별</th>\n",
       "      <th>cluster</th>\n",
       "    </tr>\n",
       "  </thead>\n",
       "  <tbody>\n",
       "    <tr>\n",
       "      <th>1</th>\n",
       "      <td>74</td>\n",
       "      <td>161.5</td>\n",
       "      <td>58.9</td>\n",
       "      <td>20.2</td>\n",
       "      <td>89.0</td>\n",
       "      <td>137.0</td>\n",
       "      <td>3.1</td>\n",
       "      <td>25.0</td>\n",
       "      <td>107.0</td>\n",
       "      <td>5.29</td>\n",
       "      <td>22.94</td>\n",
       "      <td>66.0</td>\n",
       "      <td>1</td>\n",
       "      <td>1</td>\n",
       "    </tr>\n",
       "    <tr>\n",
       "      <th>2</th>\n",
       "      <td>70</td>\n",
       "      <td>172.0</td>\n",
       "      <td>81.3</td>\n",
       "      <td>26.5</td>\n",
       "      <td>70.0</td>\n",
       "      <td>120.0</td>\n",
       "      <td>0.7</td>\n",
       "      <td>32.0</td>\n",
       "      <td>122.0</td>\n",
       "      <td>4.53</td>\n",
       "      <td>19.47</td>\n",
       "      <td>54.9</td>\n",
       "      <td>1</td>\n",
       "      <td>1</td>\n",
       "    </tr>\n",
       "    <tr>\n",
       "      <th>3</th>\n",
       "      <td>76</td>\n",
       "      <td>165.1</td>\n",
       "      <td>68.7</td>\n",
       "      <td>30.1</td>\n",
       "      <td>78.0</td>\n",
       "      <td>151.0</td>\n",
       "      <td>10.8</td>\n",
       "      <td>22.0</td>\n",
       "      <td>94.0</td>\n",
       "      <td>5.03</td>\n",
       "      <td>22.30</td>\n",
       "      <td>43.9</td>\n",
       "      <td>1</td>\n",
       "      <td>1</td>\n",
       "    </tr>\n",
       "    <tr>\n",
       "      <th>4</th>\n",
       "      <td>65</td>\n",
       "      <td>155.0</td>\n",
       "      <td>64.0</td>\n",
       "      <td>35.7</td>\n",
       "      <td>87.0</td>\n",
       "      <td>130.0</td>\n",
       "      <td>15.2</td>\n",
       "      <td>23.0</td>\n",
       "      <td>110.0</td>\n",
       "      <td>5.93</td>\n",
       "      <td>21.05</td>\n",
       "      <td>40.4</td>\n",
       "      <td>0</td>\n",
       "      <td>4</td>\n",
       "    </tr>\n",
       "    <tr>\n",
       "      <th>5</th>\n",
       "      <td>67</td>\n",
       "      <td>149.9</td>\n",
       "      <td>59.0</td>\n",
       "      <td>34.5</td>\n",
       "      <td>78.0</td>\n",
       "      <td>133.0</td>\n",
       "      <td>17.3</td>\n",
       "      <td>35.0</td>\n",
       "      <td>149.0</td>\n",
       "      <td>4.88</td>\n",
       "      <td>17.66</td>\n",
       "      <td>39.8</td>\n",
       "      <td>0</td>\n",
       "      <td>3</td>\n",
       "    </tr>\n",
       "    <tr>\n",
       "      <th>...</th>\n",
       "      <td>...</td>\n",
       "      <td>...</td>\n",
       "      <td>...</td>\n",
       "      <td>...</td>\n",
       "      <td>...</td>\n",
       "      <td>...</td>\n",
       "      <td>...</td>\n",
       "      <td>...</td>\n",
       "      <td>...</td>\n",
       "      <td>...</td>\n",
       "      <td>...</td>\n",
       "      <td>...</td>\n",
       "      <td>...</td>\n",
       "      <td>...</td>\n",
       "    </tr>\n",
       "    <tr>\n",
       "      <th>41080</th>\n",
       "      <td>84</td>\n",
       "      <td>151.0</td>\n",
       "      <td>62.0</td>\n",
       "      <td>42.7</td>\n",
       "      <td>93.0</td>\n",
       "      <td>153.0</td>\n",
       "      <td>18.6</td>\n",
       "      <td>17.0</td>\n",
       "      <td>103.0</td>\n",
       "      <td>7.52</td>\n",
       "      <td>30.65</td>\n",
       "      <td>28.0</td>\n",
       "      <td>0</td>\n",
       "      <td>4</td>\n",
       "    </tr>\n",
       "    <tr>\n",
       "      <th>41086</th>\n",
       "      <td>66</td>\n",
       "      <td>165.0</td>\n",
       "      <td>72.5</td>\n",
       "      <td>28.4</td>\n",
       "      <td>91.0</td>\n",
       "      <td>153.0</td>\n",
       "      <td>3.7</td>\n",
       "      <td>21.0</td>\n",
       "      <td>102.0</td>\n",
       "      <td>4.03</td>\n",
       "      <td>18.03</td>\n",
       "      <td>61.2</td>\n",
       "      <td>1</td>\n",
       "      <td>1</td>\n",
       "    </tr>\n",
       "    <tr>\n",
       "      <th>41089</th>\n",
       "      <td>72</td>\n",
       "      <td>170.2</td>\n",
       "      <td>70.5</td>\n",
       "      <td>20.4</td>\n",
       "      <td>80.0</td>\n",
       "      <td>127.0</td>\n",
       "      <td>26.3</td>\n",
       "      <td>23.0</td>\n",
       "      <td>123.0</td>\n",
       "      <td>5.07</td>\n",
       "      <td>22.90</td>\n",
       "      <td>45.6</td>\n",
       "      <td>1</td>\n",
       "      <td>3</td>\n",
       "    </tr>\n",
       "    <tr>\n",
       "      <th>41090</th>\n",
       "      <td>73</td>\n",
       "      <td>154.8</td>\n",
       "      <td>47.8</td>\n",
       "      <td>29.1</td>\n",
       "      <td>89.0</td>\n",
       "      <td>138.0</td>\n",
       "      <td>5.0</td>\n",
       "      <td>5.0</td>\n",
       "      <td>57.0</td>\n",
       "      <td>9.28</td>\n",
       "      <td>32.57</td>\n",
       "      <td>34.1</td>\n",
       "      <td>0</td>\n",
       "      <td>0</td>\n",
       "    </tr>\n",
       "    <tr>\n",
       "      <th>41091</th>\n",
       "      <td>77</td>\n",
       "      <td>165.3</td>\n",
       "      <td>63.2</td>\n",
       "      <td>27.6</td>\n",
       "      <td>74.0</td>\n",
       "      <td>136.0</td>\n",
       "      <td>-1.8</td>\n",
       "      <td>22.0</td>\n",
       "      <td>126.0</td>\n",
       "      <td>5.56</td>\n",
       "      <td>25.09</td>\n",
       "      <td>48.8</td>\n",
       "      <td>1</td>\n",
       "      <td>1</td>\n",
       "    </tr>\n",
       "  </tbody>\n",
       "</table>\n",
       "<p>32402 rows × 14 columns</p>\n",
       "</div>"
      ],
      "text/plain": [
       "       나이  신장(cm)  체중(kg)  체지방율(%)  이완기혈압(최저)  수축기혈압(최고)  앉아윗몸앞으로굽히기(cm)  \\\n",
       "1      74   161.5    58.9     20.2       89.0      137.0             3.1   \n",
       "2      70   172.0    81.3     26.5       70.0      120.0             0.7   \n",
       "3      76   165.1    68.7     30.1       78.0      151.0            10.8   \n",
       "4      65   155.0    64.0     35.7       87.0      130.0            15.2   \n",
       "5      67   149.9    59.0     34.5       78.0      133.0            17.3   \n",
       "...    ..     ...     ...      ...        ...        ...             ...   \n",
       "41080  84   151.0    62.0     42.7       93.0      153.0            18.6   \n",
       "41086  66   165.0    72.5     28.4       91.0      153.0             3.7   \n",
       "41089  72   170.2    70.5     20.4       80.0      127.0            26.3   \n",
       "41090  73   154.8    47.8     29.1       89.0      138.0             5.0   \n",
       "41091  77   165.3    63.2     27.6       74.0      136.0            -1.8   \n",
       "\n",
       "       의자에앉았다일어서기(회)  2분제자리걷기(회)  의자에앉아 3M표적 돌아오기(초)  8자보행(초)  상대악력(%)  성별  \\\n",
       "1               25.0       107.0                5.29    22.94     66.0   1   \n",
       "2               32.0       122.0                4.53    19.47     54.9   1   \n",
       "3               22.0        94.0                5.03    22.30     43.9   1   \n",
       "4               23.0       110.0                5.93    21.05     40.4   0   \n",
       "5               35.0       149.0                4.88    17.66     39.8   0   \n",
       "...              ...         ...                 ...      ...      ...  ..   \n",
       "41080           17.0       103.0                7.52    30.65     28.0   0   \n",
       "41086           21.0       102.0                4.03    18.03     61.2   1   \n",
       "41089           23.0       123.0                5.07    22.90     45.6   1   \n",
       "41090            5.0        57.0                9.28    32.57     34.1   0   \n",
       "41091           22.0       126.0                5.56    25.09     48.8   1   \n",
       "\n",
       "       cluster  \n",
       "1            1  \n",
       "2            1  \n",
       "3            1  \n",
       "4            4  \n",
       "5            3  \n",
       "...        ...  \n",
       "41080        4  \n",
       "41086        1  \n",
       "41089        3  \n",
       "41090        0  \n",
       "41091        1  \n",
       "\n",
       "[32402 rows x 14 columns]"
      ]
     },
     "execution_count": 77,
     "metadata": {},
     "output_type": "execute_result"
    }
   ],
   "source": [
    "# KMeans(그룹 수, 초기 중심 설정 방식(디폴트:k-means++ or random), 최대 반복 횟수, 랜덤 스테이트)\n",
    "kmeans = KMeans(n_clusters=5, init='k-means++', max_iter=300, random_state=0).fit(df_1) \n",
    "\n",
    "# labels_속성을 통해 각 데이터 포인트별로 할당된 군집 중심점을 확인\n",
    "print(kmeans.labels_)\n",
    "\n",
    "# 클러스터 라벨링\n",
    "df_1['cluster']= kmeans.labels_\n",
    "df_1"
   ]
  },
  {
   "cell_type": "code",
   "execution_count": 78,
   "metadata": {},
   "outputs": [
    {
     "name": "stdout",
     "output_type": "stream",
     "text": [
      "silhouette_samples( ) return 값의 shape (32402,)\n"
     ]
    }
   ],
   "source": [
    "# data의 모든 개별 데이터에 실루엣 계수값을 구함\n",
    "score_samples = silhouette_samples(df_1,df_1['cluster'])\n",
    "print('silhouette_samples( ) return 값의 shape' , score_samples.shape)"
   ]
  },
  {
   "cell_type": "code",
   "execution_count": 79,
   "metadata": {},
   "outputs": [],
   "source": [
    "# data에 실루엣 계수 컬럼 추가\n",
    "df_1['silhouette_coeff']=score_samples"
   ]
  },
  {
   "cell_type": "code",
   "execution_count": 80,
   "metadata": {},
   "outputs": [
    {
     "name": "stdout",
     "output_type": "stream",
     "text": [
      "운동 데이터셋 Silhouette Analysis Score:0.147\n"
     ]
    }
   ],
   "source": [
    "## 모든 데이터의 평균 실루엣 계수\n",
    "average_score = silhouette_score(df_1, df_1['cluster'])\n",
    "print('운동 데이터셋 Silhouette Analysis Score:{0:.3f}'.format(average_score))"
   ]
  },
  {
   "cell_type": "code",
   "execution_count": 81,
   "metadata": {
    "scrolled": true
   },
   "outputs": [
    {
     "data": {
      "text/plain": [
       "cluster\n",
       "0    0.137475\n",
       "1    0.131218\n",
       "2    0.156761\n",
       "3    0.127522\n",
       "4    0.172823\n",
       "Name: silhouette_coeff, dtype: float64"
      ]
     },
     "execution_count": 81,
     "metadata": {},
     "output_type": "execute_result"
    }
   ],
   "source": [
    "# 군집별 평균 실루엣 계수 값 확인\n",
    "df_1.groupby('cluster')['silhouette_coeff'].mean()"
   ]
  },
  {
   "cell_type": "code",
   "execution_count": 82,
   "metadata": {},
   "outputs": [],
   "source": [
    "df_1.drop(['silhouette_coeff','cluster'],axis=1,inplace=True)"
   ]
  },
  {
   "cell_type": "code",
   "execution_count": 83,
   "metadata": {},
   "outputs": [],
   "source": [
    "kmeans = KMeans(n_clusters=5, random_state=0)\n",
    "labels = kmeans.fit_predict(df_1)\n",
    "df_1['cluster_label']=labels"
   ]
  },
  {
   "cell_type": "code",
   "execution_count": 84,
   "metadata": {},
   "outputs": [
    {
     "name": "stdout",
     "output_type": "stream",
     "text": [
      "실루엣 스코어는 : 0.147\n"
     ]
    }
   ],
   "source": [
    "print('실루엣 스코어는 : {0:.3f}'.format(silhouette_score(df_1,labels)))"
   ]
  },
  {
   "cell_type": "code",
   "execution_count": 85,
   "metadata": {},
   "outputs": [],
   "source": [
    "X_features = df_1[df_1.columns[:]].values\n",
    "# 군집화 수행 : 군집 5개로 구성\n",
    "kmeans = KMeans(n_clusters=5, random_state=0)\n",
    "labels = kmeans.fit_predict(X_features)"
   ]
  },
  {
   "cell_type": "code",
   "execution_count": 86,
   "metadata": {
    "scrolled": true
   },
   "outputs": [
    {
     "name": "stdout",
     "output_type": "stream",
     "text": [
      "실루엣 스코어는 : 0.147\n"
     ]
    }
   ],
   "source": [
    "print('실루엣 스코어는 : {0:.3f}'.format(silhouette_score(X_features,labels)))"
   ]
  },
  {
   "cell_type": "code",
   "execution_count": 87,
   "metadata": {},
   "outputs": [],
   "source": [
    "def visualize_silhouette(cluster_lists, X_features): \n",
    "    \n",
    "    from sklearn.datasets import make_blobs\n",
    "    from sklearn.cluster import KMeans\n",
    "    from sklearn.metrics import silhouette_samples, silhouette_score\n",
    "\n",
    "    import matplotlib.pyplot as plt\n",
    "    import matplotlib.cm as cm\n",
    "    import math\n",
    "    \n",
    "    # 입력값으로 클러스터링 갯수들을 리스트로 받아서, 각 갯수별로 클러스터링을 적용하고 실루엣 개수를 구함\n",
    "    n_cols = len(cluster_lists)\n",
    "    \n",
    "    # plt.subplots()으로 리스트에 기재된 클러스터링 수만큼의 sub figures를 가지는 axs 생성 \n",
    "    fig, axs = plt.subplots(figsize=(4*n_cols, 4), nrows=1, ncols=n_cols)\n",
    "    \n",
    "    # 리스트에 기재된 클러스터링 갯수들을 차례로 iteration 수행하면서 실루엣 개수 시각화\n",
    "    for ind, n_cluster in enumerate(cluster_lists):\n",
    "        \n",
    "        # KMeans 클러스터링 수행하고, 실루엣 스코어와 개별 데이터의 실루엣 값 계산. \n",
    "        clusterer = KMeans(n_clusters = n_cluster, max_iter=500, random_state=0)\n",
    "        cluster_labels = clusterer.fit_predict(X_features)\n",
    "        \n",
    "        sil_avg = silhouette_score(X_features, cluster_labels)\n",
    "        sil_values = silhouette_samples(X_features, cluster_labels)\n",
    "        \n",
    "        y_lower = 10\n",
    "        axs[ind].set_title('Number of Cluster : '+ str(n_cluster)+'\\n' \\\n",
    "                          'Silhouette Score :' + str(round(sil_avg,3)) )\n",
    "        axs[ind].set_xlabel(\"The silhouette coefficient values\")\n",
    "        axs[ind].set_ylabel(\"Cluster label\")\n",
    "        axs[ind].set_xlim([-0.1, 1])\n",
    "        axs[ind].set_ylim([0, len(X_features) + (n_cluster + 1) * 10])\n",
    "        axs[ind].set_yticks([])  # Clear the yaxis labels / ticks\n",
    "        axs[ind].set_xticks([0, 0.2, 0.4, 0.6, 0.8, 1])\n",
    "        \n",
    "        # 클러스터링 갯수별로 fill_betweenx( )형태의 막대 그래프 표현. \n",
    "        for i in range(n_cluster):\n",
    "            ith_cluster_sil_values = sil_values[cluster_labels==i]\n",
    "            ith_cluster_sil_values.sort()\n",
    "            \n",
    "            size_cluster_i = ith_cluster_sil_values.shape[0]\n",
    "            y_upper = y_lower + size_cluster_i\n",
    "            \n",
    "            color = cm.nipy_spectral(float(i) / n_cluster)\n",
    "            axs[ind].fill_betweenx(np.arange(y_lower, y_upper), 0, ith_cluster_sil_values, \\\n",
    "                                facecolor=color, edgecolor=color, alpha=0.7)\n",
    "            axs[ind].text(-0.05, y_lower + 0.5 * size_cluster_i, str(i))\n",
    "            y_lower = y_upper + 10\n",
    "            \n",
    "        axs[ind].axvline(x=sil_avg, color=\"red\", linestyle=\"--\")"
   ]
  },
  {
   "cell_type": "code",
   "execution_count": 88,
   "metadata": {},
   "outputs": [
    {
     "data": {
      "image/png": "[encoded data removed]",
      "text/plain": [
       "<Figure size 2016x288 with 7 Axes>"
      ]
     },
     "metadata": {
      "needs_background": "light"
     },
     "output_type": "display_data"
    }
   ],
   "source": [
    "visualize_silhouette([ 3,4,5,6,7,8,9 ], X_features)"
   ]
  },
  {
   "cell_type": "code",
   "execution_count": 89,
   "metadata": {},
   "outputs": [],
   "source": [
    "to_list = ['본운동', '준비운동', '마무리운동']\n",
    "\n",
    "for j in to_list:\n",
    "    for i in range(len(exer_df)):\n",
    "        if exer_df[j][i] == \"['N']\":\n",
    "            exer_df[j][i] = ''\n",
    "        else:\n",
    "            pass"
   ]
  },
  {
   "cell_type": "code",
   "execution_count": 90,
   "metadata": {},
   "outputs": [],
   "source": [
    "abc = \"[\", \"]\" ,\"'\"\n",
    "df_data = exer_df[['본운동','준비운동','마무리운동']]\n",
    "\n",
    "for i in to_list :\n",
    "    for k in abc :\n",
    "        for j in range(len(df_data)) :\n",
    "            df_data[i][j] = df_data[i][j].replace(k, '')"
   ]
  },
  {
   "cell_type": "code",
   "execution_count": 91,
   "metadata": {},
   "outputs": [],
   "source": [
    "df_data['운동처방'] = df_data['준비운동'] + ',' + df_data['본운동'] + ',' + df_data['마무리운동']\n",
    "df_data.drop(['본운동','마무리운동','준비운동'],axis=1,inplace=True)"
   ]
  },
  {
   "cell_type": "code",
   "execution_count": 92,
   "metadata": {},
   "outputs": [
    {
     "data": {
      "text/html": [
       "<div>\n",
       "<style scoped>\n",
       "    .dataframe tbody tr th:only-of-type {\n",
       "        vertical-align: middle;\n",
       "    }\n",
       "\n",
       "    .dataframe tbody tr th {\n",
       "        vertical-align: top;\n",
       "    }\n",
       "\n",
       "    .dataframe thead th {\n",
       "        text-align: right;\n",
       "    }\n",
       "</style>\n",
       "<table border=\"1\" class=\"dataframe\">\n",
       "  <thead>\n",
       "    <tr style=\"text-align: right;\">\n",
       "      <th></th>\n",
       "      <th>운동처방</th>\n",
       "    </tr>\n",
       "  </thead>\n",
       "  <tbody>\n",
       "    <tr>\n",
       "      <th>0</th>\n",
       "      <td>Ae038, Al002, Ap001,Aa016, Ad006, Ag018, Ag020...</td>\n",
       "    </tr>\n",
       "    <tr>\n",
       "      <th>1</th>\n",
       "      <td>Be079, Be078, Be077, Ce192,Aa009, Aa021, Aa020...</td>\n",
       "    </tr>\n",
       "    <tr>\n",
       "      <th>2</th>\n",
       "      <td>,Bi025, Bd024, Ba059, Ba055,</td>\n",
       "    </tr>\n",
       "    <tr>\n",
       "      <th>3</th>\n",
       "      <td>,Bd025, Ba055, Bi036, Ao002, Ah004,</td>\n",
       "    </tr>\n",
       "    <tr>\n",
       "      <th>4</th>\n",
       "      <td>Be079, Be078,Bi029, Bs016,</td>\n",
       "    </tr>\n",
       "    <tr>\n",
       "      <th>...</th>\n",
       "      <td>...</td>\n",
       "    </tr>\n",
       "    <tr>\n",
       "      <th>41087</th>\n",
       "      <td>,Ce174, Ce188, Ce191, Ce192, Ce187,</td>\n",
       "    </tr>\n",
       "    <tr>\n",
       "      <th>41088</th>\n",
       "      <td>,Bs025, Bl019, Be077, Bd025, Ba056, Bd024,</td>\n",
       "    </tr>\n",
       "    <tr>\n",
       "      <th>41089</th>\n",
       "      <td>Bq008, Bk011,Al006, Al005, Ah004,Be085</td>\n",
       "    </tr>\n",
       "    <tr>\n",
       "      <th>41090</th>\n",
       "      <td>Be084, Bi038, Ba046, Be076,Ce188, Ce180, Ce170...</td>\n",
       "    </tr>\n",
       "    <tr>\n",
       "      <th>41091</th>\n",
       "      <td>Aq003, Ac004, Ad008, Ai007, Ao002, Ce192, Ce19...</td>\n",
       "    </tr>\n",
       "  </tbody>\n",
       "</table>\n",
       "<p>41092 rows × 1 columns</p>\n",
       "</div>"
      ],
      "text/plain": [
       "                                                    운동처방\n",
       "0      Ae038, Al002, Ap001,Aa016, Ad006, Ag018, Ag020...\n",
       "1      Be079, Be078, Be077, Ce192,Aa009, Aa021, Aa020...\n",
       "2                           ,Bi025, Bd024, Ba059, Ba055,\n",
       "3                    ,Bd025, Ba055, Bi036, Ao002, Ah004,\n",
       "4                             Be079, Be078,Bi029, Bs016,\n",
       "...                                                  ...\n",
       "41087                ,Ce174, Ce188, Ce191, Ce192, Ce187,\n",
       "41088         ,Bs025, Bl019, Be077, Bd025, Ba056, Bd024,\n",
       "41089             Bq008, Bk011,Al006, Al005, Ah004,Be085\n",
       "41090  Be084, Bi038, Ba046, Be076,Ce188, Ce180, Ce170...\n",
       "41091  Aq003, Ac004, Ad008, Ai007, Ao002, Ce192, Ce19...\n",
       "\n",
       "[41092 rows x 1 columns]"
      ]
     },
     "execution_count": 92,
     "metadata": {},
     "output_type": "execute_result"
    }
   ],
   "source": [
    "df_data"
   ]
  },
  {
   "cell_type": "code",
   "execution_count": 93,
   "metadata": {},
   "outputs": [
    {
     "name": "stdout",
     "output_type": "stream",
     "text": [
      "                                                    운동처방  \\\n",
      "0      Ae038, Al002, Ap001,Aa016, Ad006, Ag018, Ag020...   \n",
      "1      Be079, Be078, Be077, Ce192,Aa009, Aa021, Aa020...   \n",
      "2                           ,Bi025, Bd024, Ba059, Ba055,   \n",
      "3                    ,Bd025, Ba055, Bi036, Ao002, Ah004,   \n",
      "4                             Be079, Be078,Bi029, Bs016,   \n",
      "...                                                  ...   \n",
      "41087                ,Ce174, Ce188, Ce191, Ce192, Ce187,   \n",
      "41088         ,Bs025, Bl019, Be077, Bd025, Ba056, Bd024,   \n",
      "41089             Bq008, Bk011,Al006, Al005, Ah004,Be085   \n",
      "41090  Be084, Bi038, Ba046, Be076,Ce188, Ce180, Ce170...   \n",
      "41091  Aq003, Ac004, Ad008, Ai007, Ao002, Ce192, Ce19...   \n",
      "\n",
      "                                                   운동처방1  \n",
      "0      [Ae038,  Al002,  Ap001, Aa016,  Ad006,  Ag018,...  \n",
      "1      [Be079,  Be078,  Be077,  Ce192, Aa009,  Aa021,...  \n",
      "2                    [, Bi025,  Bd024,  Ba059,  Ba055, ]  \n",
      "3            [, Bd025,  Ba055,  Bi036,  Ao002,  Ah004, ]  \n",
      "4                       [Be079,  Be078, Bi029,  Bs016, ]  \n",
      "...                                                  ...  \n",
      "41087        [, Ce174,  Ce188,  Ce191,  Ce192,  Ce187, ]  \n",
      "41088  [, Bs025,  Bl019,  Be077,  Bd025,  Ba056,  Bd0...  \n",
      "41089      [Bq008,  Bk011, Al006,  Al005,  Ah004, Be085]  \n",
      "41090  [Be084,  Bi038,  Ba046,  Be076, Ce188,  Ce180,...  \n",
      "41091  [Aq003,  Ac004,  Ad008,  Ai007,  Ao002,  Ce192...  \n",
      "\n",
      "[41092 rows x 2 columns]\n"
     ]
    }
   ],
   "source": [
    "df_data = pd.DataFrame(df_data)\n",
    "\n",
    "\n",
    "temp = []\n",
    "for i in range(len(df_data)):\n",
    "    temp.append(df_data['운동처방'][i].split(','))\n",
    "\n",
    "df_data['운동처방1'] = temp\n",
    "\n",
    "print(df_data)"
   ]
  },
  {
   "cell_type": "code",
   "execution_count": 94,
   "metadata": {
    "scrolled": true
   },
   "outputs": [
    {
     "name": "stdout",
     "output_type": "stream",
     "text": [
      "          42317\n",
      " Bd024    10078\n",
      " Ba055    10042\n",
      "Be085      7983\n",
      " Ce191     7803\n",
      "          ...  \n",
      " Be071        1\n",
      "Dq026         1\n",
      "De130         1\n",
      "Ap010         1\n",
      "Be053         1\n",
      "Name: index, Length: 716, dtype: int64\n"
     ]
    }
   ],
   "source": [
    "result = df_data['운동처방'].str.split(',', expand=True)\n",
    "\n",
    "temp = result.melt(var_name='col', value_name='index')\n",
    "\n",
    "print(temp['index'].value_counts())"
   ]
  },
  {
   "cell_type": "code",
   "execution_count": 95,
   "metadata": {},
   "outputs": [],
   "source": [
    "fin_df = df_1.join(df_data,how='inner')"
   ]
  },
  {
   "cell_type": "code",
   "execution_count": 96,
   "metadata": {},
   "outputs": [
    {
     "data": {
      "text/html": [
       "<div>\n",
       "<style scoped>\n",
       "    .dataframe tbody tr th:only-of-type {\n",
       "        vertical-align: middle;\n",
       "    }\n",
       "\n",
       "    .dataframe tbody tr th {\n",
       "        vertical-align: top;\n",
       "    }\n",
       "\n",
       "    .dataframe thead th {\n",
       "        text-align: right;\n",
       "    }\n",
       "</style>\n",
       "<table border=\"1\" class=\"dataframe\">\n",
       "  <thead>\n",
       "    <tr style=\"text-align: right;\">\n",
       "      <th></th>\n",
       "      <th>나이</th>\n",
       "      <th>신장(cm)</th>\n",
       "      <th>체중(kg)</th>\n",
       "      <th>체지방율(%)</th>\n",
       "      <th>이완기혈압(최저)</th>\n",
       "      <th>수축기혈압(최고)</th>\n",
       "      <th>앉아윗몸앞으로굽히기(cm)</th>\n",
       "      <th>의자에앉았다일어서기(회)</th>\n",
       "      <th>2분제자리걷기(회)</th>\n",
       "      <th>의자에앉아 3M표적 돌아오기(초)</th>\n",
       "      <th>8자보행(초)</th>\n",
       "      <th>상대악력(%)</th>\n",
       "      <th>성별</th>\n",
       "      <th>cluster_label</th>\n",
       "      <th>운동처방</th>\n",
       "      <th>운동처방1</th>\n",
       "    </tr>\n",
       "  </thead>\n",
       "  <tbody>\n",
       "    <tr>\n",
       "      <th>1</th>\n",
       "      <td>74</td>\n",
       "      <td>161.5</td>\n",
       "      <td>58.9</td>\n",
       "      <td>20.2</td>\n",
       "      <td>89.0</td>\n",
       "      <td>137.0</td>\n",
       "      <td>3.1</td>\n",
       "      <td>25.0</td>\n",
       "      <td>107.0</td>\n",
       "      <td>5.29</td>\n",
       "      <td>22.94</td>\n",
       "      <td>66.0</td>\n",
       "      <td>1</td>\n",
       "      <td>1</td>\n",
       "      <td>Be079, Be078, Be077, Ce192,Aa009, Aa021, Aa020...</td>\n",
       "      <td>[Be079,  Be078,  Be077,  Ce192, Aa009,  Aa021,...</td>\n",
       "    </tr>\n",
       "    <tr>\n",
       "      <th>2</th>\n",
       "      <td>70</td>\n",
       "      <td>172.0</td>\n",
       "      <td>81.3</td>\n",
       "      <td>26.5</td>\n",
       "      <td>70.0</td>\n",
       "      <td>120.0</td>\n",
       "      <td>0.7</td>\n",
       "      <td>32.0</td>\n",
       "      <td>122.0</td>\n",
       "      <td>4.53</td>\n",
       "      <td>19.47</td>\n",
       "      <td>54.9</td>\n",
       "      <td>1</td>\n",
       "      <td>1</td>\n",
       "      <td>,Bi025, Bd024, Ba059, Ba055,</td>\n",
       "      <td>[, Bi025,  Bd024,  Ba059,  Ba055, ]</td>\n",
       "    </tr>\n",
       "    <tr>\n",
       "      <th>3</th>\n",
       "      <td>76</td>\n",
       "      <td>165.1</td>\n",
       "      <td>68.7</td>\n",
       "      <td>30.1</td>\n",
       "      <td>78.0</td>\n",
       "      <td>151.0</td>\n",
       "      <td>10.8</td>\n",
       "      <td>22.0</td>\n",
       "      <td>94.0</td>\n",
       "      <td>5.03</td>\n",
       "      <td>22.30</td>\n",
       "      <td>43.9</td>\n",
       "      <td>1</td>\n",
       "      <td>1</td>\n",
       "      <td>,Bd025, Ba055, Bi036, Ao002, Ah004,</td>\n",
       "      <td>[, Bd025,  Ba055,  Bi036,  Ao002,  Ah004, ]</td>\n",
       "    </tr>\n",
       "    <tr>\n",
       "      <th>4</th>\n",
       "      <td>65</td>\n",
       "      <td>155.0</td>\n",
       "      <td>64.0</td>\n",
       "      <td>35.7</td>\n",
       "      <td>87.0</td>\n",
       "      <td>130.0</td>\n",
       "      <td>15.2</td>\n",
       "      <td>23.0</td>\n",
       "      <td>110.0</td>\n",
       "      <td>5.93</td>\n",
       "      <td>21.05</td>\n",
       "      <td>40.4</td>\n",
       "      <td>0</td>\n",
       "      <td>4</td>\n",
       "      <td>Be079, Be078,Bi029, Bs016,</td>\n",
       "      <td>[Be079,  Be078, Bi029,  Bs016, ]</td>\n",
       "    </tr>\n",
       "    <tr>\n",
       "      <th>5</th>\n",
       "      <td>67</td>\n",
       "      <td>149.9</td>\n",
       "      <td>59.0</td>\n",
       "      <td>34.5</td>\n",
       "      <td>78.0</td>\n",
       "      <td>133.0</td>\n",
       "      <td>17.3</td>\n",
       "      <td>35.0</td>\n",
       "      <td>149.0</td>\n",
       "      <td>4.88</td>\n",
       "      <td>17.66</td>\n",
       "      <td>39.8</td>\n",
       "      <td>0</td>\n",
       "      <td>3</td>\n",
       "      <td>Be079, Be078, Br006, Bk010, Bs025, Bd024,Ce188...</td>\n",
       "      <td>[Be079,  Be078,  Br006,  Bk010,  Bs025,  Bd024...</td>\n",
       "    </tr>\n",
       "    <tr>\n",
       "      <th>...</th>\n",
       "      <td>...</td>\n",
       "      <td>...</td>\n",
       "      <td>...</td>\n",
       "      <td>...</td>\n",
       "      <td>...</td>\n",
       "      <td>...</td>\n",
       "      <td>...</td>\n",
       "      <td>...</td>\n",
       "      <td>...</td>\n",
       "      <td>...</td>\n",
       "      <td>...</td>\n",
       "      <td>...</td>\n",
       "      <td>...</td>\n",
       "      <td>...</td>\n",
       "      <td>...</td>\n",
       "      <td>...</td>\n",
       "    </tr>\n",
       "    <tr>\n",
       "      <th>41080</th>\n",
       "      <td>84</td>\n",
       "      <td>151.0</td>\n",
       "      <td>62.0</td>\n",
       "      <td>42.7</td>\n",
       "      <td>93.0</td>\n",
       "      <td>153.0</td>\n",
       "      <td>18.6</td>\n",
       "      <td>17.0</td>\n",
       "      <td>103.0</td>\n",
       "      <td>7.52</td>\n",
       "      <td>30.65</td>\n",
       "      <td>28.0</td>\n",
       "      <td>0</td>\n",
       "      <td>4</td>\n",
       "      <td>,Ce170, Ce192, Ce191, Ce189,</td>\n",
       "      <td>[, Ce170,  Ce192,  Ce191,  Ce189, ]</td>\n",
       "    </tr>\n",
       "    <tr>\n",
       "      <th>41086</th>\n",
       "      <td>66</td>\n",
       "      <td>165.0</td>\n",
       "      <td>72.5</td>\n",
       "      <td>28.4</td>\n",
       "      <td>91.0</td>\n",
       "      <td>153.0</td>\n",
       "      <td>3.7</td>\n",
       "      <td>21.0</td>\n",
       "      <td>102.0</td>\n",
       "      <td>4.03</td>\n",
       "      <td>18.03</td>\n",
       "      <td>61.2</td>\n",
       "      <td>1</td>\n",
       "      <td>1</td>\n",
       "      <td>,Ce206, Ce205, Ce202, Ce170,</td>\n",
       "      <td>[, Ce206,  Ce205,  Ce202,  Ce170, ]</td>\n",
       "    </tr>\n",
       "    <tr>\n",
       "      <th>41089</th>\n",
       "      <td>72</td>\n",
       "      <td>170.2</td>\n",
       "      <td>70.5</td>\n",
       "      <td>20.4</td>\n",
       "      <td>80.0</td>\n",
       "      <td>127.0</td>\n",
       "      <td>26.3</td>\n",
       "      <td>23.0</td>\n",
       "      <td>123.0</td>\n",
       "      <td>5.07</td>\n",
       "      <td>22.90</td>\n",
       "      <td>45.6</td>\n",
       "      <td>1</td>\n",
       "      <td>3</td>\n",
       "      <td>Bq008, Bk011,Al006, Al005, Ah004,Be085</td>\n",
       "      <td>[Bq008,  Bk011, Al006,  Al005,  Ah004, Be085]</td>\n",
       "    </tr>\n",
       "    <tr>\n",
       "      <th>41090</th>\n",
       "      <td>73</td>\n",
       "      <td>154.8</td>\n",
       "      <td>47.8</td>\n",
       "      <td>29.1</td>\n",
       "      <td>89.0</td>\n",
       "      <td>138.0</td>\n",
       "      <td>5.0</td>\n",
       "      <td>5.0</td>\n",
       "      <td>57.0</td>\n",
       "      <td>9.28</td>\n",
       "      <td>32.57</td>\n",
       "      <td>34.1</td>\n",
       "      <td>0</td>\n",
       "      <td>0</td>\n",
       "      <td>Be084, Bi038, Ba046, Be076,Ce188, Ce180, Ce170...</td>\n",
       "      <td>[Be084,  Bi038,  Ba046,  Be076, Ce188,  Ce180,...</td>\n",
       "    </tr>\n",
       "    <tr>\n",
       "      <th>41091</th>\n",
       "      <td>77</td>\n",
       "      <td>165.3</td>\n",
       "      <td>63.2</td>\n",
       "      <td>27.6</td>\n",
       "      <td>74.0</td>\n",
       "      <td>136.0</td>\n",
       "      <td>-1.8</td>\n",
       "      <td>22.0</td>\n",
       "      <td>126.0</td>\n",
       "      <td>5.56</td>\n",
       "      <td>25.09</td>\n",
       "      <td>48.8</td>\n",
       "      <td>1</td>\n",
       "      <td>1</td>\n",
       "      <td>Aq003, Ac004, Ad008, Ai007, Ao002, Ce192, Ce19...</td>\n",
       "      <td>[Aq003,  Ac004,  Ad008,  Ai007,  Ao002,  Ce192...</td>\n",
       "    </tr>\n",
       "  </tbody>\n",
       "</table>\n",
       "<p>32402 rows × 16 columns</p>\n",
       "</div>"
      ],
      "text/plain": [
       "       나이  신장(cm)  체중(kg)  체지방율(%)  이완기혈압(최저)  수축기혈압(최고)  앉아윗몸앞으로굽히기(cm)  \\\n",
       "1      74   161.5    58.9     20.2       89.0      137.0             3.1   \n",
       "2      70   172.0    81.3     26.5       70.0      120.0             0.7   \n",
       "3      76   165.1    68.7     30.1       78.0      151.0            10.8   \n",
       "4      65   155.0    64.0     35.7       87.0      130.0            15.2   \n",
       "5      67   149.9    59.0     34.5       78.0      133.0            17.3   \n",
       "...    ..     ...     ...      ...        ...        ...             ...   \n",
       "41080  84   151.0    62.0     42.7       93.0      153.0            18.6   \n",
       "41086  66   165.0    72.5     28.4       91.0      153.0             3.7   \n",
       "41089  72   170.2    70.5     20.4       80.0      127.0            26.3   \n",
       "41090  73   154.8    47.8     29.1       89.0      138.0             5.0   \n",
       "41091  77   165.3    63.2     27.6       74.0      136.0            -1.8   \n",
       "\n",
       "       의자에앉았다일어서기(회)  2분제자리걷기(회)  의자에앉아 3M표적 돌아오기(초)  8자보행(초)  상대악력(%)  성별  \\\n",
       "1               25.0       107.0                5.29    22.94     66.0   1   \n",
       "2               32.0       122.0                4.53    19.47     54.9   1   \n",
       "3               22.0        94.0                5.03    22.30     43.9   1   \n",
       "4               23.0       110.0                5.93    21.05     40.4   0   \n",
       "5               35.0       149.0                4.88    17.66     39.8   0   \n",
       "...              ...         ...                 ...      ...      ...  ..   \n",
       "41080           17.0       103.0                7.52    30.65     28.0   0   \n",
       "41086           21.0       102.0                4.03    18.03     61.2   1   \n",
       "41089           23.0       123.0                5.07    22.90     45.6   1   \n",
       "41090            5.0        57.0                9.28    32.57     34.1   0   \n",
       "41091           22.0       126.0                5.56    25.09     48.8   1   \n",
       "\n",
       "       cluster_label                                               운동처방  \\\n",
       "1                  1  Be079, Be078, Be077, Ce192,Aa009, Aa021, Aa020...   \n",
       "2                  1                       ,Bi025, Bd024, Ba059, Ba055,   \n",
       "3                  1                ,Bd025, Ba055, Bi036, Ao002, Ah004,   \n",
       "4                  4                         Be079, Be078,Bi029, Bs016,   \n",
       "5                  3  Be079, Be078, Br006, Bk010, Bs025, Bd024,Ce188...   \n",
       "...              ...                                                ...   \n",
       "41080              4                       ,Ce170, Ce192, Ce191, Ce189,   \n",
       "41086              1                       ,Ce206, Ce205, Ce202, Ce170,   \n",
       "41089              3             Bq008, Bk011,Al006, Al005, Ah004,Be085   \n",
       "41090              0  Be084, Bi038, Ba046, Be076,Ce188, Ce180, Ce170...   \n",
       "41091              1  Aq003, Ac004, Ad008, Ai007, Ao002, Ce192, Ce19...   \n",
       "\n",
       "                                                   운동처방1  \n",
       "1      [Be079,  Be078,  Be077,  Ce192, Aa009,  Aa021,...  \n",
       "2                    [, Bi025,  Bd024,  Ba059,  Ba055, ]  \n",
       "3            [, Bd025,  Ba055,  Bi036,  Ao002,  Ah004, ]  \n",
       "4                       [Be079,  Be078, Bi029,  Bs016, ]  \n",
       "5      [Be079,  Be078,  Br006,  Bk010,  Bs025,  Bd024...  \n",
       "...                                                  ...  \n",
       "41080                [, Ce170,  Ce192,  Ce191,  Ce189, ]  \n",
       "41086                [, Ce206,  Ce205,  Ce202,  Ce170, ]  \n",
       "41089      [Bq008,  Bk011, Al006,  Al005,  Ah004, Be085]  \n",
       "41090  [Be084,  Bi038,  Ba046,  Be076, Ce188,  Ce180,...  \n",
       "41091  [Aq003,  Ac004,  Ad008,  Ai007,  Ao002,  Ce192...  \n",
       "\n",
       "[32402 rows x 16 columns]"
      ]
     },
     "execution_count": 96,
     "metadata": {},
     "output_type": "execute_result"
    }
   ],
   "source": [
    "fin_df"
   ]
  },
  {
   "cell_type": "code",
   "execution_count": 97,
   "metadata": {},
   "outputs": [],
   "source": [
    "a = fin_df[fin_df['cluster_label']==0]\n",
    "b = fin_df[fin_df['cluster_label']==1]\n",
    "c = fin_df[fin_df['cluster_label']==2]\n",
    "d = fin_df[fin_df['cluster_label']==3]\n",
    "e = fin_df[fin_df['cluster_label']==4]"
   ]
  },
  {
   "cell_type": "code",
   "execution_count": 98,
   "metadata": {
    "scrolled": true
   },
   "outputs": [
    {
     "data": {
      "text/html": [
       "<div>\n",
       "<style scoped>\n",
       "    .dataframe tbody tr th:only-of-type {\n",
       "        vertical-align: middle;\n",
       "    }\n",
       "\n",
       "    .dataframe tbody tr th {\n",
       "        vertical-align: top;\n",
       "    }\n",
       "\n",
       "    .dataframe thead th {\n",
       "        text-align: right;\n",
       "    }\n",
       "</style>\n",
       "<table border=\"1\" class=\"dataframe\">\n",
       "  <thead>\n",
       "    <tr style=\"text-align: right;\">\n",
       "      <th></th>\n",
       "      <th>나이</th>\n",
       "      <th>신장(cm)</th>\n",
       "      <th>체중(kg)</th>\n",
       "      <th>체지방율(%)</th>\n",
       "      <th>이완기혈압(최저)</th>\n",
       "      <th>수축기혈압(최고)</th>\n",
       "      <th>앉아윗몸앞으로굽히기(cm)</th>\n",
       "      <th>의자에앉았다일어서기(회)</th>\n",
       "      <th>2분제자리걷기(회)</th>\n",
       "      <th>의자에앉아 3M표적 돌아오기(초)</th>\n",
       "      <th>8자보행(초)</th>\n",
       "      <th>상대악력(%)</th>\n",
       "      <th>성별</th>\n",
       "      <th>cluster_label</th>\n",
       "    </tr>\n",
       "  </thead>\n",
       "  <tbody>\n",
       "    <tr>\n",
       "      <th>count</th>\n",
       "      <td>5801.000000</td>\n",
       "      <td>5801.000000</td>\n",
       "      <td>5801.000000</td>\n",
       "      <td>5801.000000</td>\n",
       "      <td>5801.000000</td>\n",
       "      <td>5801.000000</td>\n",
       "      <td>5801.000000</td>\n",
       "      <td>5801.000000</td>\n",
       "      <td>5801.000000</td>\n",
       "      <td>5801.000000</td>\n",
       "      <td>5801.000000</td>\n",
       "      <td>5801.000000</td>\n",
       "      <td>5801.000000</td>\n",
       "      <td>5801.0</td>\n",
       "    </tr>\n",
       "    <tr>\n",
       "      <th>mean</th>\n",
       "      <td>74.581969</td>\n",
       "      <td>154.218014</td>\n",
       "      <td>59.421400</td>\n",
       "      <td>34.267771</td>\n",
       "      <td>74.355353</td>\n",
       "      <td>130.497673</td>\n",
       "      <td>8.316406</td>\n",
       "      <td>15.541803</td>\n",
       "      <td>83.631270</td>\n",
       "      <td>7.031071</td>\n",
       "      <td>29.190324</td>\n",
       "      <td>36.710740</td>\n",
       "      <td>0.206516</td>\n",
       "      <td>0.0</td>\n",
       "    </tr>\n",
       "    <tr>\n",
       "      <th>std</th>\n",
       "      <td>5.524667</td>\n",
       "      <td>7.128576</td>\n",
       "      <td>8.560262</td>\n",
       "      <td>6.948038</td>\n",
       "      <td>9.041699</td>\n",
       "      <td>12.223044</td>\n",
       "      <td>8.521146</td>\n",
       "      <td>4.533555</td>\n",
       "      <td>10.563946</td>\n",
       "      <td>1.144781</td>\n",
       "      <td>4.405747</td>\n",
       "      <td>8.945451</td>\n",
       "      <td>0.404840</td>\n",
       "      <td>0.0</td>\n",
       "    </tr>\n",
       "    <tr>\n",
       "      <th>min</th>\n",
       "      <td>65.000000</td>\n",
       "      <td>133.200000</td>\n",
       "      <td>35.500000</td>\n",
       "      <td>10.700000</td>\n",
       "      <td>48.000000</td>\n",
       "      <td>90.000000</td>\n",
       "      <td>-15.400000</td>\n",
       "      <td>2.000000</td>\n",
       "      <td>57.000000</td>\n",
       "      <td>3.550000</td>\n",
       "      <td>15.510000</td>\n",
       "      <td>13.700000</td>\n",
       "      <td>0.000000</td>\n",
       "      <td>0.0</td>\n",
       "    </tr>\n",
       "    <tr>\n",
       "      <th>25%</th>\n",
       "      <td>70.000000</td>\n",
       "      <td>149.300000</td>\n",
       "      <td>53.600000</td>\n",
       "      <td>30.000000</td>\n",
       "      <td>68.000000</td>\n",
       "      <td>121.000000</td>\n",
       "      <td>3.000000</td>\n",
       "      <td>12.000000</td>\n",
       "      <td>77.000000</td>\n",
       "      <td>6.200000</td>\n",
       "      <td>26.060000</td>\n",
       "      <td>30.600000</td>\n",
       "      <td>0.000000</td>\n",
       "      <td>0.0</td>\n",
       "    </tr>\n",
       "    <tr>\n",
       "      <th>50%</th>\n",
       "      <td>74.000000</td>\n",
       "      <td>153.700000</td>\n",
       "      <td>58.680000</td>\n",
       "      <td>34.700000</td>\n",
       "      <td>75.000000</td>\n",
       "      <td>130.000000</td>\n",
       "      <td>8.900000</td>\n",
       "      <td>15.000000</td>\n",
       "      <td>85.000000</td>\n",
       "      <td>6.980000</td>\n",
       "      <td>28.780000</td>\n",
       "      <td>36.300000</td>\n",
       "      <td>0.000000</td>\n",
       "      <td>0.0</td>\n",
       "    </tr>\n",
       "    <tr>\n",
       "      <th>75%</th>\n",
       "      <td>78.000000</td>\n",
       "      <td>158.600000</td>\n",
       "      <td>65.080000</td>\n",
       "      <td>39.000000</td>\n",
       "      <td>80.000000</td>\n",
       "      <td>138.000000</td>\n",
       "      <td>14.200000</td>\n",
       "      <td>18.000000</td>\n",
       "      <td>92.000000</td>\n",
       "      <td>7.860000</td>\n",
       "      <td>32.120000</td>\n",
       "      <td>42.400000</td>\n",
       "      <td>0.000000</td>\n",
       "      <td>0.0</td>\n",
       "    </tr>\n",
       "    <tr>\n",
       "      <th>max</th>\n",
       "      <td>90.000000</td>\n",
       "      <td>180.100000</td>\n",
       "      <td>85.600000</td>\n",
       "      <td>53.000000</td>\n",
       "      <td>100.000000</td>\n",
       "      <td>171.000000</td>\n",
       "      <td>33.000000</td>\n",
       "      <td>36.000000</td>\n",
       "      <td>105.000000</td>\n",
       "      <td>9.750000</td>\n",
       "      <td>39.810000</td>\n",
       "      <td>70.600000</td>\n",
       "      <td>1.000000</td>\n",
       "      <td>0.0</td>\n",
       "    </tr>\n",
       "  </tbody>\n",
       "</table>\n",
       "</div>"
      ],
      "text/plain": [
       "                나이       신장(cm)       체중(kg)      체지방율(%)    이완기혈압(최저)  \\\n",
       "count  5801.000000  5801.000000  5801.000000  5801.000000  5801.000000   \n",
       "mean     74.581969   154.218014    59.421400    34.267771    74.355353   \n",
       "std       5.524667     7.128576     8.560262     6.948038     9.041699   \n",
       "min      65.000000   133.200000    35.500000    10.700000    48.000000   \n",
       "25%      70.000000   149.300000    53.600000    30.000000    68.000000   \n",
       "50%      74.000000   153.700000    58.680000    34.700000    75.000000   \n",
       "75%      78.000000   158.600000    65.080000    39.000000    80.000000   \n",
       "max      90.000000   180.100000    85.600000    53.000000   100.000000   \n",
       "\n",
       "         수축기혈압(최고)  앉아윗몸앞으로굽히기(cm)  의자에앉았다일어서기(회)   2분제자리걷기(회)  \\\n",
       "count  5801.000000     5801.000000    5801.000000  5801.000000   \n",
       "mean    130.497673        8.316406      15.541803    83.631270   \n",
       "std      12.223044        8.521146       4.533555    10.563946   \n",
       "min      90.000000      -15.400000       2.000000    57.000000   \n",
       "25%     121.000000        3.000000      12.000000    77.000000   \n",
       "50%     130.000000        8.900000      15.000000    85.000000   \n",
       "75%     138.000000       14.200000      18.000000    92.000000   \n",
       "max     171.000000       33.000000      36.000000   105.000000   \n",
       "\n",
       "       의자에앉아 3M표적 돌아오기(초)      8자보행(초)      상대악력(%)           성별  \\\n",
       "count         5801.000000  5801.000000  5801.000000  5801.000000   \n",
       "mean             7.031071    29.190324    36.710740     0.206516   \n",
       "std              1.144781     4.405747     8.945451     0.404840   \n",
       "min              3.550000    15.510000    13.700000     0.000000   \n",
       "25%              6.200000    26.060000    30.600000     0.000000   \n",
       "50%              6.980000    28.780000    36.300000     0.000000   \n",
       "75%              7.860000    32.120000    42.400000     0.000000   \n",
       "max              9.750000    39.810000    70.600000     1.000000   \n",
       "\n",
       "       cluster_label  \n",
       "count         5801.0  \n",
       "mean             0.0  \n",
       "std              0.0  \n",
       "min              0.0  \n",
       "25%              0.0  \n",
       "50%              0.0  \n",
       "75%              0.0  \n",
       "max              0.0  "
      ]
     },
     "execution_count": 98,
     "metadata": {},
     "output_type": "execute_result"
    }
   ],
   "source": [
    "a.describe()"
   ]
  },
  {
   "cell_type": "markdown",
   "metadata": {},
   "source": [
    "##### 성별의 평균을 보아  이 집단은 남성이  80 %포함되어 있다.\n",
    "\n",
    "- 근기능(상지) : 보통\n",
    "- 근기능(하지) : 좋다\n",
    "- 심폐지구력 : 좋다\n",
    "- 유연성 : 좋다\n",
    "\n",
    "**상지 운동 메인 추천 + 나머지 골고루**"
   ]
  },
  {
   "cell_type": "code",
   "execution_count": 99,
   "metadata": {},
   "outputs": [
    {
     "name": "stdout",
     "output_type": "stream",
     "text": [
      "          6093\n",
      "Be085     1422\n",
      " Ce191    1207\n",
      " Bd024    1068\n",
      " Ao002    1046\n",
      " Ba055    1030\n",
      " Bd025     950\n",
      " Ce192     892\n",
      " Ah004     891\n",
      "Be079      808\n",
      " Bk010     743\n",
      " Bp017     727\n",
      " Be078     702\n",
      "Ce174      677\n",
      " Ae037     618\n",
      " Be077     595\n",
      " Be085     572\n",
      " Bq007     556\n",
      " Ce170     552\n",
      " Bk011     547\n",
      " Bi025     536\n",
      " Ba056     533\n",
      " Br006     500\n",
      " Ac004     483\n",
      "Bd024      466\n",
      " Aa027     452\n",
      " Ce190     426\n",
      " Ad010     371\n",
      " Bq008     368\n",
      " De248     362\n",
      "Name: index, dtype: int64\n"
     ]
    }
   ],
   "source": [
    "result = a['운동처방'].str.split(',', expand=True)\n",
    "\n",
    "temp = result.melt(var_name='col', value_name='index')\n",
    "\n",
    "print(temp['index'].value_counts()[:30])"
   ]
  },
  {
   "cell_type": "markdown",
   "metadata": {},
   "source": [
    "#### 0번 군집\n",
    "\n",
    "- Bd024 : 유연성(엉덩이 스트레칭, 둔부/허벅지)\n",
    "- Ba055 : 유연성(넙다리 안쪽 스트레칭, 허벅지)\n",
    "- Ao002 : 근력/근지구력(몸통 들어올리기, 허리/둔부)\n",
    "- Bd025 : 유연성(엉덩이 스트레칭2, 둔부/허벅지)\n",
    "- Bp017 : 유연성(허리 스트레칭, 허리)\n",
    "- Be085 : 유연성(전신 루틴 스트레칭, 전신)\n",
    "- Ah004 : 근력/근지구력(벽에서 팔굽혀펴기, 가슴)\n",
    "- Bk010 : 유연성(등/어깨 뒤쪽 스트레칭, 어깨/팔)\n",
    "- Ce191 : 심폐지구력(고정식 자전거 타기, 전신)\n",
    "\n",
    "**본운동 + 마무리운동**\n",
    "\n",
    "- Bi025 : 유연성(옆구리 스트레칭, 몸통)\n",
    "- Ce174 : 심폐지구력(걷기, 전신)\n",
    "- Be079 : 유연성(누워서 전신 뻗기, 전신)\n",
    "- Bk011 : 유연성(상지 루틴 스트레칭, 어깨/팔)\n",
    "- Ba056 : 유연성(넙다리 안쪽 스트레칭, 허벅지)\n",
    "- Ae037 : 근력/근지구력(엎드려 양팔 및 다리 들어 올리기, 전신)\n",
    "- Bd024 : 유연성(엉덩이 스트레칭, 둔부/허벅지)\n",
    "- Be078 : 유연성(깍지 끼고 상체 숙이기, 전신)\n",
    "- Bs025 : 유연성(어깨 뒤쪽 스트레칭, 어깨)\n",
    "- Ce192 : 심폐지구력(고정식 트레드밀에서 걷기, 전신)\n",
    "- Br006 : 유연성(목 스트레칭, 목)\n"
   ]
  },
  {
   "cell_type": "code",
   "execution_count": 100,
   "metadata": {
    "scrolled": true
   },
   "outputs": [
    {
     "data": {
      "text/html": [
       "<div>\n",
       "<style scoped>\n",
       "    .dataframe tbody tr th:only-of-type {\n",
       "        vertical-align: middle;\n",
       "    }\n",
       "\n",
       "    .dataframe tbody tr th {\n",
       "        vertical-align: top;\n",
       "    }\n",
       "\n",
       "    .dataframe thead th {\n",
       "        text-align: right;\n",
       "    }\n",
       "</style>\n",
       "<table border=\"1\" class=\"dataframe\">\n",
       "  <thead>\n",
       "    <tr style=\"text-align: right;\">\n",
       "      <th></th>\n",
       "      <th>나이</th>\n",
       "      <th>신장(cm)</th>\n",
       "      <th>체중(kg)</th>\n",
       "      <th>체지방율(%)</th>\n",
       "      <th>이완기혈압(최저)</th>\n",
       "      <th>수축기혈압(최고)</th>\n",
       "      <th>앉아윗몸앞으로굽히기(cm)</th>\n",
       "      <th>의자에앉았다일어서기(회)</th>\n",
       "      <th>2분제자리걷기(회)</th>\n",
       "      <th>의자에앉아 3M표적 돌아오기(초)</th>\n",
       "      <th>8자보행(초)</th>\n",
       "      <th>상대악력(%)</th>\n",
       "      <th>성별</th>\n",
       "      <th>cluster_label</th>\n",
       "    </tr>\n",
       "  </thead>\n",
       "  <tbody>\n",
       "    <tr>\n",
       "      <th>count</th>\n",
       "      <td>6420.000000</td>\n",
       "      <td>6420.000000</td>\n",
       "      <td>6420.000000</td>\n",
       "      <td>6420.000000</td>\n",
       "      <td>6420.000000</td>\n",
       "      <td>6420.000000</td>\n",
       "      <td>6420.000000</td>\n",
       "      <td>6420.000000</td>\n",
       "      <td>6420.000000</td>\n",
       "      <td>6420.000000</td>\n",
       "      <td>6420.000000</td>\n",
       "      <td>6420.000000</td>\n",
       "      <td>6420.000000</td>\n",
       "      <td>6420.0</td>\n",
       "    </tr>\n",
       "    <tr>\n",
       "      <th>mean</th>\n",
       "      <td>72.949065</td>\n",
       "      <td>166.409439</td>\n",
       "      <td>67.708263</td>\n",
       "      <td>26.092429</td>\n",
       "      <td>78.382336</td>\n",
       "      <td>140.986760</td>\n",
       "      <td>3.505743</td>\n",
       "      <td>21.290654</td>\n",
       "      <td>110.164174</td>\n",
       "      <td>5.773279</td>\n",
       "      <td>24.271336</td>\n",
       "      <td>51.729315</td>\n",
       "      <td>0.970717</td>\n",
       "      <td>1.0</td>\n",
       "    </tr>\n",
       "    <tr>\n",
       "      <th>std</th>\n",
       "      <td>4.933178</td>\n",
       "      <td>5.075427</td>\n",
       "      <td>7.998075</td>\n",
       "      <td>5.652598</td>\n",
       "      <td>9.175997</td>\n",
       "      <td>11.664027</td>\n",
       "      <td>8.250333</td>\n",
       "      <td>5.206136</td>\n",
       "      <td>10.537457</td>\n",
       "      <td>1.018195</td>\n",
       "      <td>4.184219</td>\n",
       "      <td>7.846778</td>\n",
       "      <td>0.168613</td>\n",
       "      <td>0.0</td>\n",
       "    </tr>\n",
       "    <tr>\n",
       "      <th>min</th>\n",
       "      <td>65.000000</td>\n",
       "      <td>147.400000</td>\n",
       "      <td>36.500000</td>\n",
       "      <td>10.600000</td>\n",
       "      <td>49.000000</td>\n",
       "      <td>109.000000</td>\n",
       "      <td>-15.400000</td>\n",
       "      <td>2.000000</td>\n",
       "      <td>74.000000</td>\n",
       "      <td>3.260000</td>\n",
       "      <td>12.660000</td>\n",
       "      <td>24.100000</td>\n",
       "      <td>0.000000</td>\n",
       "      <td>1.0</td>\n",
       "    </tr>\n",
       "    <tr>\n",
       "      <th>25%</th>\n",
       "      <td>69.000000</td>\n",
       "      <td>163.000000</td>\n",
       "      <td>62.300000</td>\n",
       "      <td>22.300000</td>\n",
       "      <td>72.000000</td>\n",
       "      <td>132.000000</td>\n",
       "      <td>-2.000000</td>\n",
       "      <td>17.000000</td>\n",
       "      <td>102.000000</td>\n",
       "      <td>5.060000</td>\n",
       "      <td>21.240000</td>\n",
       "      <td>46.300000</td>\n",
       "      <td>1.000000</td>\n",
       "      <td>1.0</td>\n",
       "    </tr>\n",
       "    <tr>\n",
       "      <th>50%</th>\n",
       "      <td>73.000000</td>\n",
       "      <td>166.500000</td>\n",
       "      <td>67.800000</td>\n",
       "      <td>26.000000</td>\n",
       "      <td>79.000000</td>\n",
       "      <td>141.000000</td>\n",
       "      <td>3.750000</td>\n",
       "      <td>21.000000</td>\n",
       "      <td>110.000000</td>\n",
       "      <td>5.620000</td>\n",
       "      <td>23.790000</td>\n",
       "      <td>51.600000</td>\n",
       "      <td>1.000000</td>\n",
       "      <td>1.0</td>\n",
       "    </tr>\n",
       "    <tr>\n",
       "      <th>75%</th>\n",
       "      <td>76.000000</td>\n",
       "      <td>170.000000</td>\n",
       "      <td>73.200000</td>\n",
       "      <td>29.900000</td>\n",
       "      <td>85.000000</td>\n",
       "      <td>151.000000</td>\n",
       "      <td>9.100000</td>\n",
       "      <td>25.000000</td>\n",
       "      <td>118.000000</td>\n",
       "      <td>6.330500</td>\n",
       "      <td>26.732500</td>\n",
       "      <td>57.100000</td>\n",
       "      <td>1.000000</td>\n",
       "      <td>1.0</td>\n",
       "    </tr>\n",
       "    <tr>\n",
       "      <th>max</th>\n",
       "      <td>90.000000</td>\n",
       "      <td>180.900000</td>\n",
       "      <td>85.800000</td>\n",
       "      <td>50.600000</td>\n",
       "      <td>102.000000</td>\n",
       "      <td>176.000000</td>\n",
       "      <td>30.000000</td>\n",
       "      <td>37.000000</td>\n",
       "      <td>140.000000</td>\n",
       "      <td>9.720000</td>\n",
       "      <td>39.790000</td>\n",
       "      <td>70.700000</td>\n",
       "      <td>1.000000</td>\n",
       "      <td>1.0</td>\n",
       "    </tr>\n",
       "  </tbody>\n",
       "</table>\n",
       "</div>"
      ],
      "text/plain": [
       "                나이       신장(cm)       체중(kg)      체지방율(%)    이완기혈압(최저)  \\\n",
       "count  6420.000000  6420.000000  6420.000000  6420.000000  6420.000000   \n",
       "mean     72.949065   166.409439    67.708263    26.092429    78.382336   \n",
       "std       4.933178     5.075427     7.998075     5.652598     9.175997   \n",
       "min      65.000000   147.400000    36.500000    10.600000    49.000000   \n",
       "25%      69.000000   163.000000    62.300000    22.300000    72.000000   \n",
       "50%      73.000000   166.500000    67.800000    26.000000    79.000000   \n",
       "75%      76.000000   170.000000    73.200000    29.900000    85.000000   \n",
       "max      90.000000   180.900000    85.800000    50.600000   102.000000   \n",
       "\n",
       "         수축기혈압(최고)  앉아윗몸앞으로굽히기(cm)  의자에앉았다일어서기(회)   2분제자리걷기(회)  \\\n",
       "count  6420.000000     6420.000000    6420.000000  6420.000000   \n",
       "mean    140.986760        3.505743      21.290654   110.164174   \n",
       "std      11.664027        8.250333       5.206136    10.537457   \n",
       "min     109.000000      -15.400000       2.000000    74.000000   \n",
       "25%     132.000000       -2.000000      17.000000   102.000000   \n",
       "50%     141.000000        3.750000      21.000000   110.000000   \n",
       "75%     151.000000        9.100000      25.000000   118.000000   \n",
       "max     176.000000       30.000000      37.000000   140.000000   \n",
       "\n",
       "       의자에앉아 3M표적 돌아오기(초)      8자보행(초)      상대악력(%)           성별  \\\n",
       "count         6420.000000  6420.000000  6420.000000  6420.000000   \n",
       "mean             5.773279    24.271336    51.729315     0.970717   \n",
       "std              1.018195     4.184219     7.846778     0.168613   \n",
       "min              3.260000    12.660000    24.100000     0.000000   \n",
       "25%              5.060000    21.240000    46.300000     1.000000   \n",
       "50%              5.620000    23.790000    51.600000     1.000000   \n",
       "75%              6.330500    26.732500    57.100000     1.000000   \n",
       "max              9.720000    39.790000    70.700000     1.000000   \n",
       "\n",
       "       cluster_label  \n",
       "count         6420.0  \n",
       "mean             1.0  \n",
       "std              0.0  \n",
       "min              1.0  \n",
       "25%              1.0  \n",
       "50%              1.0  \n",
       "75%              1.0  \n",
       "max              1.0  "
      ]
     },
     "execution_count": 100,
     "metadata": {},
     "output_type": "execute_result"
    }
   ],
   "source": [
    "b.describe()"
   ]
  },
  {
   "cell_type": "markdown",
   "metadata": {},
   "source": [
    "##### 성별의 평균을 보아  이 집단은 여성이  매우 많이 포함되어 있다.\n",
    "\n",
    "- 근기능(상지) : 좋다\n",
    "- 근기능(하지) : 좋다\n",
    "- 심폐지구력 : 좋다\n",
    "- 유연성 : 보통\n",
    "\n",
    "**유연성 메인 추천 + 골고루**"
   ]
  },
  {
   "cell_type": "code",
   "execution_count": 101,
   "metadata": {
    "scrolled": false
   },
   "outputs": [
    {
     "name": "stdout",
     "output_type": "stream",
     "text": [
      "          7006\n",
      " Bd024    1546\n",
      " Ba055    1497\n",
      "Be085     1112\n",
      " Bd025    1106\n",
      " Bp017    1105\n",
      " Ce191    1099\n",
      " Ao002    1009\n",
      " Bk010     989\n",
      " Bi025     942\n",
      "Be079      780\n",
      " Bq007     763\n",
      " Bq008     754\n",
      " Ah004     746\n",
      " Br006     709\n",
      " Be078     682\n",
      " Ce192     675\n",
      " Bk011     659\n",
      " Ae037     608\n",
      " Ac004     603\n",
      " Ba056     579\n",
      " Ba059     574\n",
      "Bd024      555\n",
      "Ce174      544\n",
      " Be085     537\n",
      " Ce170     533\n",
      " Bs025     509\n",
      " Aa028     494\n",
      " Bl019     477\n",
      " Be077     435\n",
      "Name: index, dtype: int64\n"
     ]
    }
   ],
   "source": [
    "result = b['운동처방'].str.split(',', expand=True)\n",
    "\n",
    "temp = result.melt(var_name='col', value_name='index')\n",
    "\n",
    "print(temp['index'].value_counts()[:30])"
   ]
  },
  {
   "cell_type": "markdown",
   "metadata": {},
   "source": [
    "#### 1번 군집\n",
    "\n",
    "- Bd024 : 유연성(엉덩이 스트레칭, 둔부/허벅지)\n",
    "- Ba055 : 유연성(넙다리 안쪽 스트레칭, 허벅지)\n",
    "- Be085 : 유연성(전신 루틴 스트레칭, 전신)\n",
    "- Ao002 : 근력/근지구력(몸통 들어올리기, 허리/둔부)\n",
    "- Bk010 : 유연성(등/어깨 뒤쪽 스트레칭, 어깨/팔)\n",
    "- Bp017 : 유연성(허리 스트레칭, 허리)\n",
    "- Ah004 : 근력/근지구력(벽에서 팔굽혀펴기, 가슴)\n",
    "- Ce191 : 심폐지구력(고정식 자전거 타기, 전신)\n",
    "- Be079 : 유연성(누워서 전신 뻗기, 전신)\n",
    "\n",
    "**본운동 + 마무리운동**\n",
    "\n",
    "- Bd025 : 유연성(엉덩이 스트레칭2, 둔부/허벅지)\n",
    "- Be078 : 유연성(깍지 끼고 상체 숙이기, 전신)\n",
    "- Bi025 : 유연성(옆구리 스트레칭, 몸통)\n",
    "- Br006 : 유연성(목 스트레칭, 목)\n",
    "- Ae037 : 근력/근지구력(엎드려 양팔 및 다리 들어 올리기, 전신)\n",
    "- Ce192 : 심폐지구력(고정식 트레드밀에서 걷기, 전신)\n",
    "- Bk011 : 유연성(상지 루틴 스트레칭, 어깨/팔)\n",
    "- Be077 : 유연성(양팔 벌려 전신 비틀기, 전신)\n",
    "- Ba056 : 유연성(넙다리 안쪽 스트레칭, 허벅지)\n",
    "- Ac004 : 근력/근지구력(덤벨 잡고 뒤꿈치 들기, 종아리)\n",
    "- Bs025 : 유연성(어깨 뒤쪽 스트레칭, 어깨)\n",
    "- Bq007 : 유연성(하지 루틴 스트레칭2, 하체)\n"
   ]
  },
  {
   "cell_type": "code",
   "execution_count": 102,
   "metadata": {
    "scrolled": true
   },
   "outputs": [
    {
     "data": {
      "text/html": [
       "<div>\n",
       "<style scoped>\n",
       "    .dataframe tbody tr th:only-of-type {\n",
       "        vertical-align: middle;\n",
       "    }\n",
       "\n",
       "    .dataframe tbody tr th {\n",
       "        vertical-align: top;\n",
       "    }\n",
       "\n",
       "    .dataframe thead th {\n",
       "        text-align: right;\n",
       "    }\n",
       "</style>\n",
       "<table border=\"1\" class=\"dataframe\">\n",
       "  <thead>\n",
       "    <tr style=\"text-align: right;\">\n",
       "      <th></th>\n",
       "      <th>나이</th>\n",
       "      <th>신장(cm)</th>\n",
       "      <th>체중(kg)</th>\n",
       "      <th>체지방율(%)</th>\n",
       "      <th>이완기혈압(최저)</th>\n",
       "      <th>수축기혈압(최고)</th>\n",
       "      <th>앉아윗몸앞으로굽히기(cm)</th>\n",
       "      <th>의자에앉았다일어서기(회)</th>\n",
       "      <th>2분제자리걷기(회)</th>\n",
       "      <th>의자에앉아 3M표적 돌아오기(초)</th>\n",
       "      <th>8자보행(초)</th>\n",
       "      <th>상대악력(%)</th>\n",
       "      <th>성별</th>\n",
       "      <th>cluster_label</th>\n",
       "    </tr>\n",
       "  </thead>\n",
       "  <tbody>\n",
       "    <tr>\n",
       "      <th>count</th>\n",
       "      <td>7758.000000</td>\n",
       "      <td>7758.000000</td>\n",
       "      <td>7758.000000</td>\n",
       "      <td>7758.000000</td>\n",
       "      <td>7758.000000</td>\n",
       "      <td>7758.000000</td>\n",
       "      <td>7758.000000</td>\n",
       "      <td>7758.000000</td>\n",
       "      <td>7758.000000</td>\n",
       "      <td>7758.000000</td>\n",
       "      <td>7758.000000</td>\n",
       "      <td>7758.000000</td>\n",
       "      <td>7758.000000</td>\n",
       "      <td>7758.0</td>\n",
       "    </tr>\n",
       "    <tr>\n",
       "      <th>mean</th>\n",
       "      <td>71.307167</td>\n",
       "      <td>155.575251</td>\n",
       "      <td>58.178515</td>\n",
       "      <td>31.951722</td>\n",
       "      <td>68.639598</td>\n",
       "      <td>116.982728</td>\n",
       "      <td>12.549924</td>\n",
       "      <td>20.102990</td>\n",
       "      <td>112.135086</td>\n",
       "      <td>6.020414</td>\n",
       "      <td>25.155536</td>\n",
       "      <td>41.977752</td>\n",
       "      <td>0.217066</td>\n",
       "      <td>2.0</td>\n",
       "    </tr>\n",
       "    <tr>\n",
       "      <th>std</th>\n",
       "      <td>4.762816</td>\n",
       "      <td>6.715565</td>\n",
       "      <td>7.942330</td>\n",
       "      <td>6.891518</td>\n",
       "      <td>8.284707</td>\n",
       "      <td>8.757145</td>\n",
       "      <td>8.387283</td>\n",
       "      <td>5.045554</td>\n",
       "      <td>10.048050</td>\n",
       "      <td>1.002794</td>\n",
       "      <td>4.039917</td>\n",
       "      <td>8.817056</td>\n",
       "      <td>0.412275</td>\n",
       "      <td>0.0</td>\n",
       "    </tr>\n",
       "    <tr>\n",
       "      <th>min</th>\n",
       "      <td>64.000000</td>\n",
       "      <td>133.400000</td>\n",
       "      <td>35.600000</td>\n",
       "      <td>10.700000</td>\n",
       "      <td>48.000000</td>\n",
       "      <td>90.000000</td>\n",
       "      <td>-15.400000</td>\n",
       "      <td>3.000000</td>\n",
       "      <td>84.000000</td>\n",
       "      <td>2.630000</td>\n",
       "      <td>11.600000</td>\n",
       "      <td>14.400000</td>\n",
       "      <td>0.000000</td>\n",
       "      <td>2.0</td>\n",
       "    </tr>\n",
       "    <tr>\n",
       "      <th>25%</th>\n",
       "      <td>67.000000</td>\n",
       "      <td>150.900000</td>\n",
       "      <td>52.500000</td>\n",
       "      <td>27.500000</td>\n",
       "      <td>62.000000</td>\n",
       "      <td>111.000000</td>\n",
       "      <td>7.500000</td>\n",
       "      <td>16.000000</td>\n",
       "      <td>104.000000</td>\n",
       "      <td>5.300000</td>\n",
       "      <td>22.280000</td>\n",
       "      <td>36.000000</td>\n",
       "      <td>0.000000</td>\n",
       "      <td>2.0</td>\n",
       "    </tr>\n",
       "    <tr>\n",
       "      <th>50%</th>\n",
       "      <td>71.000000</td>\n",
       "      <td>155.000000</td>\n",
       "      <td>57.590000</td>\n",
       "      <td>32.700000</td>\n",
       "      <td>69.000000</td>\n",
       "      <td>119.000000</td>\n",
       "      <td>13.500000</td>\n",
       "      <td>20.000000</td>\n",
       "      <td>112.000000</td>\n",
       "      <td>5.900000</td>\n",
       "      <td>24.800000</td>\n",
       "      <td>41.400000</td>\n",
       "      <td>0.000000</td>\n",
       "      <td>2.0</td>\n",
       "    </tr>\n",
       "    <tr>\n",
       "      <th>75%</th>\n",
       "      <td>75.000000</td>\n",
       "      <td>159.700000</td>\n",
       "      <td>63.100000</td>\n",
       "      <td>36.700000</td>\n",
       "      <td>75.000000</td>\n",
       "      <td>123.000000</td>\n",
       "      <td>18.700000</td>\n",
       "      <td>23.000000</td>\n",
       "      <td>120.000000</td>\n",
       "      <td>6.590000</td>\n",
       "      <td>27.500000</td>\n",
       "      <td>47.400000</td>\n",
       "      <td>0.000000</td>\n",
       "      <td>2.0</td>\n",
       "    </tr>\n",
       "    <tr>\n",
       "      <th>max</th>\n",
       "      <td>90.000000</td>\n",
       "      <td>180.100000</td>\n",
       "      <td>85.700000</td>\n",
       "      <td>52.400000</td>\n",
       "      <td>99.000000</td>\n",
       "      <td>140.000000</td>\n",
       "      <td>35.000000</td>\n",
       "      <td>37.000000</td>\n",
       "      <td>149.000000</td>\n",
       "      <td>9.740000</td>\n",
       "      <td>39.750000</td>\n",
       "      <td>70.700000</td>\n",
       "      <td>1.000000</td>\n",
       "      <td>2.0</td>\n",
       "    </tr>\n",
       "  </tbody>\n",
       "</table>\n",
       "</div>"
      ],
      "text/plain": [
       "                나이       신장(cm)       체중(kg)      체지방율(%)    이완기혈압(최저)  \\\n",
       "count  7758.000000  7758.000000  7758.000000  7758.000000  7758.000000   \n",
       "mean     71.307167   155.575251    58.178515    31.951722    68.639598   \n",
       "std       4.762816     6.715565     7.942330     6.891518     8.284707   \n",
       "min      64.000000   133.400000    35.600000    10.700000    48.000000   \n",
       "25%      67.000000   150.900000    52.500000    27.500000    62.000000   \n",
       "50%      71.000000   155.000000    57.590000    32.700000    69.000000   \n",
       "75%      75.000000   159.700000    63.100000    36.700000    75.000000   \n",
       "max      90.000000   180.100000    85.700000    52.400000    99.000000   \n",
       "\n",
       "         수축기혈압(최고)  앉아윗몸앞으로굽히기(cm)  의자에앉았다일어서기(회)   2분제자리걷기(회)  \\\n",
       "count  7758.000000     7758.000000    7758.000000  7758.000000   \n",
       "mean    116.982728       12.549924      20.102990   112.135086   \n",
       "std       8.757145        8.387283       5.045554    10.048050   \n",
       "min      90.000000      -15.400000       3.000000    84.000000   \n",
       "25%     111.000000        7.500000      16.000000   104.000000   \n",
       "50%     119.000000       13.500000      20.000000   112.000000   \n",
       "75%     123.000000       18.700000      23.000000   120.000000   \n",
       "max     140.000000       35.000000      37.000000   149.000000   \n",
       "\n",
       "       의자에앉아 3M표적 돌아오기(초)      8자보행(초)      상대악력(%)           성별  \\\n",
       "count         7758.000000  7758.000000  7758.000000  7758.000000   \n",
       "mean             6.020414    25.155536    41.977752     0.217066   \n",
       "std              1.002794     4.039917     8.817056     0.412275   \n",
       "min              2.630000    11.600000    14.400000     0.000000   \n",
       "25%              5.300000    22.280000    36.000000     0.000000   \n",
       "50%              5.900000    24.800000    41.400000     0.000000   \n",
       "75%              6.590000    27.500000    47.400000     0.000000   \n",
       "max              9.740000    39.750000    70.700000     1.000000   \n",
       "\n",
       "       cluster_label  \n",
       "count         7758.0  \n",
       "mean             2.0  \n",
       "std              0.0  \n",
       "min              2.0  \n",
       "25%              2.0  \n",
       "50%              2.0  \n",
       "75%              2.0  \n",
       "max              2.0  "
      ]
     },
     "execution_count": 102,
     "metadata": {},
     "output_type": "execute_result"
    }
   ],
   "source": [
    "c.describe()"
   ]
  },
  {
   "cell_type": "markdown",
   "metadata": {},
   "source": [
    "##### 성별의 평균을 보아  이 집단은 남성,여성이  6:4정도 비율로 포함되어 있다.\n",
    "\n",
    "- 근기능(상지) : 좋다\n",
    "- 근기능(하지) : 좋다\n",
    "- 심폐지구력 : 좋다\n",
    "- 유연성 : 좋다\n",
    "\n",
    "**기능적 움직임 유지할 수 있는 운동 추천**"
   ]
  },
  {
   "cell_type": "code",
   "execution_count": 103,
   "metadata": {
    "scrolled": false
   },
   "outputs": [
    {
     "name": "stdout",
     "output_type": "stream",
     "text": [
      "          7765\n",
      " Bd024    1890\n",
      " Ba055    1757\n",
      " Ao002    1488\n",
      " Bd025    1427\n",
      " Bp017    1347\n",
      "Be085     1289\n",
      " Ah004    1196\n",
      " Bk010    1184\n",
      " Ce191    1105\n",
      " Bi025    1040\n",
      "Ce174     1000\n",
      "Be079      968\n",
      " Bk011     853\n",
      " Ba056     826\n",
      " Ae037     825\n",
      "Bd024      809\n",
      " Be078     798\n",
      " Bs025     758\n",
      " Ce192     749\n",
      " Br006     739\n",
      " Bq007     657\n",
      " Bq008     654\n",
      " Be077     646\n",
      " Ac004     643\n",
      " Be085     625\n",
      " Ce170     611\n",
      " Ad010     568\n",
      " Ba059     561\n",
      "Bq008      520\n",
      "Name: index, dtype: int64\n"
     ]
    }
   ],
   "source": [
    "result = c['운동처방'].str.split(',', expand=True)\n",
    "\n",
    "temp = result.melt(var_name='col', value_name='index')\n",
    "\n",
    "print(temp['index'].value_counts()[:30])"
   ]
  },
  {
   "cell_type": "markdown",
   "metadata": {},
   "source": [
    "#### 2번 군집\n",
    "\n",
    "- Bd024 : 유연성(엉덩이 스트레칭, 둔부/허벅지)\n",
    "- Ba055 : 유연성(넙다리 안쪽 스트레칭, 허벅지)\n",
    "- Bp017 : 유연성(허리 스트레칭, 허리)\n",
    "- Bi025 : 유연성(옆구리 스트레칭, 몸통)\n",
    "- Bk010 : 유연성(등/어깨 뒤쪽 스트레칭, 어깨/팔)\n",
    "- Bk011 : 유연성(상지 루틴 스트레칭, 어깨/팔)\n",
    "- Ao002 : 근력/근지구력(몸통 들어올리기, 허리/둔부)\n",
    "- Bd025 : 유연성(엉덩이 스트레칭2, 둔부/허벅지)\n",
    "- Be085 : 유연성(전신 루틴 스트레칭, 전신)\n",
    "\n",
    "**본운동 + 마무리운동**\n",
    "\n",
    "- Ah004 : 근력/근지구력(벽에서 팔굽혀 펴기, 가슴)\n",
    "- Be079 : 유연성(누워서 전신 뻗기, 전신)\n",
    "- Ae037 : 근력/근지구력(엎드려 양팔 및 다리 들어 올리기, 전신)\n",
    "- Ce191 : 심폐지구력(고정식 자전거 타기, 전신)\n",
    "- Ba056 : 유연성(넙다리 안쪽 스트레칭, 허벅지)\n",
    "- Be078 : 유연성(깍지 끼고 상체 숙이기, 전신)\n",
    "- Bq008 : 유연성(하지 루틴 스트레칭1, 하쳬)\n",
    "- Bs025 : 유연성(어깨 뒤쪽 스트레칭, 어깨)\n",
    "\n"
   ]
  },
  {
   "cell_type": "code",
   "execution_count": 104,
   "metadata": {
    "scrolled": true
   },
   "outputs": [
    {
     "data": {
      "text/html": [
       "<div>\n",
       "<style scoped>\n",
       "    .dataframe tbody tr th:only-of-type {\n",
       "        vertical-align: middle;\n",
       "    }\n",
       "\n",
       "    .dataframe tbody tr th {\n",
       "        vertical-align: top;\n",
       "    }\n",
       "\n",
       "    .dataframe thead th {\n",
       "        text-align: right;\n",
       "    }\n",
       "</style>\n",
       "<table border=\"1\" class=\"dataframe\">\n",
       "  <thead>\n",
       "    <tr style=\"text-align: right;\">\n",
       "      <th></th>\n",
       "      <th>나이</th>\n",
       "      <th>신장(cm)</th>\n",
       "      <th>체중(kg)</th>\n",
       "      <th>체지방율(%)</th>\n",
       "      <th>이완기혈압(최저)</th>\n",
       "      <th>수축기혈압(최고)</th>\n",
       "      <th>앉아윗몸앞으로굽히기(cm)</th>\n",
       "      <th>의자에앉았다일어서기(회)</th>\n",
       "      <th>2분제자리걷기(회)</th>\n",
       "      <th>의자에앉아 3M표적 돌아오기(초)</th>\n",
       "      <th>8자보행(초)</th>\n",
       "      <th>상대악력(%)</th>\n",
       "      <th>성별</th>\n",
       "      <th>cluster_label</th>\n",
       "    </tr>\n",
       "  </thead>\n",
       "  <tbody>\n",
       "    <tr>\n",
       "      <th>count</th>\n",
       "      <td>5566.000000</td>\n",
       "      <td>5566.000000</td>\n",
       "      <td>5566.000000</td>\n",
       "      <td>5566.000000</td>\n",
       "      <td>5566.000000</td>\n",
       "      <td>5566.000000</td>\n",
       "      <td>5566.000000</td>\n",
       "      <td>5566.000000</td>\n",
       "      <td>5566.000000</td>\n",
       "      <td>5566.000000</td>\n",
       "      <td>5566.000000</td>\n",
       "      <td>5566.000000</td>\n",
       "      <td>5566.000000</td>\n",
       "      <td>5566.0</td>\n",
       "    </tr>\n",
       "    <tr>\n",
       "      <th>mean</th>\n",
       "      <td>70.627920</td>\n",
       "      <td>157.909091</td>\n",
       "      <td>60.233523</td>\n",
       "      <td>30.012821</td>\n",
       "      <td>76.668883</td>\n",
       "      <td>134.488322</td>\n",
       "      <td>14.071364</td>\n",
       "      <td>25.567194</td>\n",
       "      <td>136.311714</td>\n",
       "      <td>5.288395</td>\n",
       "      <td>21.789393</td>\n",
       "      <td>46.955228</td>\n",
       "      <td>0.381782</td>\n",
       "      <td>3.0</td>\n",
       "    </tr>\n",
       "    <tr>\n",
       "      <th>std</th>\n",
       "      <td>4.457374</td>\n",
       "      <td>7.383974</td>\n",
       "      <td>8.370883</td>\n",
       "      <td>7.015650</td>\n",
       "      <td>8.979609</td>\n",
       "      <td>12.351171</td>\n",
       "      <td>7.997406</td>\n",
       "      <td>5.393090</td>\n",
       "      <td>8.960693</td>\n",
       "      <td>0.818869</td>\n",
       "      <td>3.346400</td>\n",
       "      <td>9.147283</td>\n",
       "      <td>0.485867</td>\n",
       "      <td>0.0</td>\n",
       "    </tr>\n",
       "    <tr>\n",
       "      <th>min</th>\n",
       "      <td>65.000000</td>\n",
       "      <td>136.000000</td>\n",
       "      <td>35.900000</td>\n",
       "      <td>10.600000</td>\n",
       "      <td>48.000000</td>\n",
       "      <td>90.000000</td>\n",
       "      <td>-15.400000</td>\n",
       "      <td>2.000000</td>\n",
       "      <td>114.000000</td>\n",
       "      <td>3.050000</td>\n",
       "      <td>11.280000</td>\n",
       "      <td>17.600000</td>\n",
       "      <td>0.000000</td>\n",
       "      <td>3.0</td>\n",
       "    </tr>\n",
       "    <tr>\n",
       "      <th>25%</th>\n",
       "      <td>67.000000</td>\n",
       "      <td>152.400000</td>\n",
       "      <td>54.200000</td>\n",
       "      <td>25.000000</td>\n",
       "      <td>71.000000</td>\n",
       "      <td>126.000000</td>\n",
       "      <td>9.000000</td>\n",
       "      <td>22.000000</td>\n",
       "      <td>130.000000</td>\n",
       "      <td>4.750000</td>\n",
       "      <td>19.500000</td>\n",
       "      <td>40.300000</td>\n",
       "      <td>0.000000</td>\n",
       "      <td>3.0</td>\n",
       "    </tr>\n",
       "    <tr>\n",
       "      <th>50%</th>\n",
       "      <td>70.000000</td>\n",
       "      <td>157.100000</td>\n",
       "      <td>59.600000</td>\n",
       "      <td>30.400000</td>\n",
       "      <td>77.000000</td>\n",
       "      <td>134.000000</td>\n",
       "      <td>15.000000</td>\n",
       "      <td>26.000000</td>\n",
       "      <td>135.000000</td>\n",
       "      <td>5.180000</td>\n",
       "      <td>21.350000</td>\n",
       "      <td>46.200000</td>\n",
       "      <td>0.000000</td>\n",
       "      <td>3.0</td>\n",
       "    </tr>\n",
       "    <tr>\n",
       "      <th>75%</th>\n",
       "      <td>73.000000</td>\n",
       "      <td>163.100000</td>\n",
       "      <td>65.900000</td>\n",
       "      <td>35.100000</td>\n",
       "      <td>83.000000</td>\n",
       "      <td>143.000000</td>\n",
       "      <td>20.000000</td>\n",
       "      <td>30.000000</td>\n",
       "      <td>142.000000</td>\n",
       "      <td>5.720000</td>\n",
       "      <td>23.557500</td>\n",
       "      <td>53.200000</td>\n",
       "      <td>1.000000</td>\n",
       "      <td>3.0</td>\n",
       "    </tr>\n",
       "    <tr>\n",
       "      <th>max</th>\n",
       "      <td>90.000000</td>\n",
       "      <td>180.700000</td>\n",
       "      <td>85.600000</td>\n",
       "      <td>51.700000</td>\n",
       "      <td>101.000000</td>\n",
       "      <td>176.000000</td>\n",
       "      <td>35.200000</td>\n",
       "      <td>37.000000</td>\n",
       "      <td>159.000000</td>\n",
       "      <td>9.620000</td>\n",
       "      <td>39.320000</td>\n",
       "      <td>70.600000</td>\n",
       "      <td>1.000000</td>\n",
       "      <td>3.0</td>\n",
       "    </tr>\n",
       "  </tbody>\n",
       "</table>\n",
       "</div>"
      ],
      "text/plain": [
       "                나이       신장(cm)       체중(kg)      체지방율(%)    이완기혈압(최저)  \\\n",
       "count  5566.000000  5566.000000  5566.000000  5566.000000  5566.000000   \n",
       "mean     70.627920   157.909091    60.233523    30.012821    76.668883   \n",
       "std       4.457374     7.383974     8.370883     7.015650     8.979609   \n",
       "min      65.000000   136.000000    35.900000    10.600000    48.000000   \n",
       "25%      67.000000   152.400000    54.200000    25.000000    71.000000   \n",
       "50%      70.000000   157.100000    59.600000    30.400000    77.000000   \n",
       "75%      73.000000   163.100000    65.900000    35.100000    83.000000   \n",
       "max      90.000000   180.700000    85.600000    51.700000   101.000000   \n",
       "\n",
       "         수축기혈압(최고)  앉아윗몸앞으로굽히기(cm)  의자에앉았다일어서기(회)   2분제자리걷기(회)  \\\n",
       "count  5566.000000     5566.000000    5566.000000  5566.000000   \n",
       "mean    134.488322       14.071364      25.567194   136.311714   \n",
       "std      12.351171        7.997406       5.393090     8.960693   \n",
       "min      90.000000      -15.400000       2.000000   114.000000   \n",
       "25%     126.000000        9.000000      22.000000   130.000000   \n",
       "50%     134.000000       15.000000      26.000000   135.000000   \n",
       "75%     143.000000       20.000000      30.000000   142.000000   \n",
       "max     176.000000       35.200000      37.000000   159.000000   \n",
       "\n",
       "       의자에앉아 3M표적 돌아오기(초)      8자보행(초)      상대악력(%)           성별  \\\n",
       "count         5566.000000  5566.000000  5566.000000  5566.000000   \n",
       "mean             5.288395    21.789393    46.955228     0.381782   \n",
       "std              0.818869     3.346400     9.147283     0.485867   \n",
       "min              3.050000    11.280000    17.600000     0.000000   \n",
       "25%              4.750000    19.500000    40.300000     0.000000   \n",
       "50%              5.180000    21.350000    46.200000     0.000000   \n",
       "75%              5.720000    23.557500    53.200000     1.000000   \n",
       "max              9.620000    39.320000    70.600000     1.000000   \n",
       "\n",
       "       cluster_label  \n",
       "count         5566.0  \n",
       "mean             3.0  \n",
       "std              0.0  \n",
       "min              3.0  \n",
       "25%              3.0  \n",
       "50%              3.0  \n",
       "75%              3.0  \n",
       "max              3.0  "
      ]
     },
     "execution_count": 104,
     "metadata": {},
     "output_type": "execute_result"
    }
   ],
   "source": [
    "d.describe()"
   ]
  },
  {
   "cell_type": "markdown",
   "metadata": {},
   "source": [
    "##### 성별의 평균을 보아  이 집단은 남성이 매우 많이 포함되어 있다.\n",
    "\n",
    "- 근기능(상지) : 좋다\n",
    "- 근기능(하지) : 좋다\n",
    "- 심폐지구력 : 좋다\n",
    "- 유연성 : 나쁘다\n",
    "\n",
    "**유연성 메인으로 추천 + 골고루**"
   ]
  },
  {
   "cell_type": "code",
   "execution_count": 105,
   "metadata": {
    "scrolled": false
   },
   "outputs": [
    {
     "name": "stdout",
     "output_type": "stream",
     "text": [
      "          5593\n",
      " Bd024    1587\n",
      " Ba055    1512\n",
      " Bp017    1337\n",
      " Bi025    1309\n",
      " Bk010    1066\n",
      " Bk011     904\n",
      " Ao002     865\n",
      " Bd025     858\n",
      "Be085      810\n",
      " Ah004     788\n",
      "Be079      779\n",
      " Ae037     686\n",
      " Ce191     685\n",
      " Ba056     654\n",
      " Be078     650\n",
      "Bq008      587\n",
      " Bs025     574\n",
      " Br006     546\n",
      " Aa028     541\n",
      "Bd024      541\n",
      " Bq008     538\n",
      " Ce192     535\n",
      " Bl019     506\n",
      " Ba059     486\n",
      " Bq007     458\n",
      " Be077     448\n",
      " Bg039     444\n",
      " Ba047     443\n",
      " Ce203     406\n",
      "Name: index, dtype: int64\n"
     ]
    }
   ],
   "source": [
    "result = d['운동처방'].str.split(',', expand=True)\n",
    "\n",
    "temp = result.melt(var_name='col', value_name='index')\n",
    "\n",
    "print(temp['index'].value_counts()[:30])"
   ]
  },
  {
   "cell_type": "markdown",
   "metadata": {},
   "source": [
    "#### 3번 군집\n",
    "\n",
    "- Bd024 : 유연성(엉덩이 스트레칭, 둔부/허벅지)\n",
    "- Ba055 : 유연성(넙다리 안쪽 스트레칭, 허벅지)\n",
    "- Be085 : 유연성(전신 루틴 스트레칭, 전신)\n",
    "- Bd025 : 유연성(엉덩이 스트레칭2, 둔부/허벅지)\n",
    "- Bp017 : 유연성(허리 스트레칭, 허리)\n",
    "- Ce191 : 심폐지구력(고정식 자전거 타기, 전신)\n",
    "- Ao002 : 근력/근지구력(몸통 들어올리기, 허리/둔부)\n",
    "- Bk010 : 유연성(등/어깨 뒤쪽 스트레칭, 어깨/팔)\n",
    "- Bi025 : 유연성(옆구리 스트레칭, 몸통)\n",
    "\n",
    "**본운동 + 마무리운동**\n",
    "\n",
    "- Be079 : 유연성(누워서 전신 뻗기, 전신)\n",
    "- Bq007 : 유연성(하지 루틴 스트레칭2, 하체)\n",
    "- Bq008 : 유연성(하지 루틴 스트레칭1, 하쳬)\n",
    "- Ah004 : 근력/근지구력(벽에서 팔굽혀 펴기, 가슴)\n",
    "- Br006 : 유연성(목 스트레칭, 목)\n",
    "- Be078 : 유연성(깍지 끼고 상체 숙이기, 전신)\n",
    "- Ce192 : 심폐지구력(고정식 트레드밀에서 걷기, 전신)\n",
    "- Bk011 : 유연성(상지 루틴 스트레칭, 어깨/팔)\n"
   ]
  },
  {
   "cell_type": "code",
   "execution_count": 106,
   "metadata": {
    "scrolled": true
   },
   "outputs": [
    {
     "data": {
      "text/html": [
       "<div>\n",
       "<style scoped>\n",
       "    .dataframe tbody tr th:only-of-type {\n",
       "        vertical-align: middle;\n",
       "    }\n",
       "\n",
       "    .dataframe tbody tr th {\n",
       "        vertical-align: top;\n",
       "    }\n",
       "\n",
       "    .dataframe thead th {\n",
       "        text-align: right;\n",
       "    }\n",
       "</style>\n",
       "<table border=\"1\" class=\"dataframe\">\n",
       "  <thead>\n",
       "    <tr style=\"text-align: right;\">\n",
       "      <th></th>\n",
       "      <th>나이</th>\n",
       "      <th>신장(cm)</th>\n",
       "      <th>체중(kg)</th>\n",
       "      <th>체지방율(%)</th>\n",
       "      <th>이완기혈압(최저)</th>\n",
       "      <th>수축기혈압(최고)</th>\n",
       "      <th>앉아윗몸앞으로굽히기(cm)</th>\n",
       "      <th>의자에앉았다일어서기(회)</th>\n",
       "      <th>2분제자리걷기(회)</th>\n",
       "      <th>의자에앉아 3M표적 돌아오기(초)</th>\n",
       "      <th>8자보행(초)</th>\n",
       "      <th>상대악력(%)</th>\n",
       "      <th>성별</th>\n",
       "      <th>cluster_label</th>\n",
       "    </tr>\n",
       "  </thead>\n",
       "  <tbody>\n",
       "    <tr>\n",
       "      <th>count</th>\n",
       "      <td>6857.000000</td>\n",
       "      <td>6857.000000</td>\n",
       "      <td>6857.000000</td>\n",
       "      <td>6857.000000</td>\n",
       "      <td>6857.000000</td>\n",
       "      <td>6857.000000</td>\n",
       "      <td>6857.000000</td>\n",
       "      <td>6857.000000</td>\n",
       "      <td>6857.000000</td>\n",
       "      <td>6857.000000</td>\n",
       "      <td>6857.000000</td>\n",
       "      <td>6857.000000</td>\n",
       "      <td>6857.000000</td>\n",
       "      <td>6857.0</td>\n",
       "    </tr>\n",
       "    <tr>\n",
       "      <th>mean</th>\n",
       "      <td>72.194254</td>\n",
       "      <td>152.748986</td>\n",
       "      <td>58.993068</td>\n",
       "      <td>36.122112</td>\n",
       "      <td>79.854514</td>\n",
       "      <td>144.197142</td>\n",
       "      <td>14.071098</td>\n",
       "      <td>19.325069</td>\n",
       "      <td>109.988333</td>\n",
       "      <td>6.293037</td>\n",
       "      <td>26.022606</td>\n",
       "      <td>37.903413</td>\n",
       "      <td>0.059647</td>\n",
       "      <td>4.0</td>\n",
       "    </tr>\n",
       "    <tr>\n",
       "      <th>std</th>\n",
       "      <td>5.040924</td>\n",
       "      <td>5.218929</td>\n",
       "      <td>7.773087</td>\n",
       "      <td>5.939783</td>\n",
       "      <td>8.719259</td>\n",
       "      <td>9.253656</td>\n",
       "      <td>7.112628</td>\n",
       "      <td>4.938248</td>\n",
       "      <td>9.694661</td>\n",
       "      <td>1.055945</td>\n",
       "      <td>4.271029</td>\n",
       "      <td>7.337953</td>\n",
       "      <td>0.236849</td>\n",
       "      <td>0.0</td>\n",
       "    </tr>\n",
       "    <tr>\n",
       "      <th>min</th>\n",
       "      <td>65.000000</td>\n",
       "      <td>133.200000</td>\n",
       "      <td>36.900000</td>\n",
       "      <td>11.600000</td>\n",
       "      <td>50.000000</td>\n",
       "      <td>119.000000</td>\n",
       "      <td>-15.300000</td>\n",
       "      <td>2.000000</td>\n",
       "      <td>80.000000</td>\n",
       "      <td>3.570000</td>\n",
       "      <td>12.690000</td>\n",
       "      <td>13.800000</td>\n",
       "      <td>0.000000</td>\n",
       "      <td>4.0</td>\n",
       "    </tr>\n",
       "    <tr>\n",
       "      <th>25%</th>\n",
       "      <td>68.000000</td>\n",
       "      <td>149.200000</td>\n",
       "      <td>53.400000</td>\n",
       "      <td>32.500000</td>\n",
       "      <td>74.000000</td>\n",
       "      <td>137.000000</td>\n",
       "      <td>9.700000</td>\n",
       "      <td>16.000000</td>\n",
       "      <td>103.000000</td>\n",
       "      <td>5.530000</td>\n",
       "      <td>23.010000</td>\n",
       "      <td>33.200000</td>\n",
       "      <td>0.000000</td>\n",
       "      <td>4.0</td>\n",
       "    </tr>\n",
       "    <tr>\n",
       "      <th>50%</th>\n",
       "      <td>72.000000</td>\n",
       "      <td>152.800000</td>\n",
       "      <td>58.400000</td>\n",
       "      <td>36.300000</td>\n",
       "      <td>80.000000</td>\n",
       "      <td>144.000000</td>\n",
       "      <td>14.500000</td>\n",
       "      <td>19.000000</td>\n",
       "      <td>110.000000</td>\n",
       "      <td>6.150000</td>\n",
       "      <td>25.500000</td>\n",
       "      <td>37.800000</td>\n",
       "      <td>0.000000</td>\n",
       "      <td>4.0</td>\n",
       "    </tr>\n",
       "    <tr>\n",
       "      <th>75%</th>\n",
       "      <td>76.000000</td>\n",
       "      <td>156.300000</td>\n",
       "      <td>63.900000</td>\n",
       "      <td>40.200000</td>\n",
       "      <td>86.000000</td>\n",
       "      <td>152.000000</td>\n",
       "      <td>19.000000</td>\n",
       "      <td>22.000000</td>\n",
       "      <td>117.000000</td>\n",
       "      <td>6.910000</td>\n",
       "      <td>28.480000</td>\n",
       "      <td>42.600000</td>\n",
       "      <td>0.000000</td>\n",
       "      <td>4.0</td>\n",
       "    </tr>\n",
       "    <tr>\n",
       "      <th>max</th>\n",
       "      <td>90.000000</td>\n",
       "      <td>175.000000</td>\n",
       "      <td>85.600000</td>\n",
       "      <td>52.800000</td>\n",
       "      <td>102.000000</td>\n",
       "      <td>176.000000</td>\n",
       "      <td>35.000000</td>\n",
       "      <td>37.000000</td>\n",
       "      <td>140.000000</td>\n",
       "      <td>9.750000</td>\n",
       "      <td>39.780000</td>\n",
       "      <td>66.200000</td>\n",
       "      <td>1.000000</td>\n",
       "      <td>4.0</td>\n",
       "    </tr>\n",
       "  </tbody>\n",
       "</table>\n",
       "</div>"
      ],
      "text/plain": [
       "                나이       신장(cm)       체중(kg)      체지방율(%)    이완기혈압(최저)  \\\n",
       "count  6857.000000  6857.000000  6857.000000  6857.000000  6857.000000   \n",
       "mean     72.194254   152.748986    58.993068    36.122112    79.854514   \n",
       "std       5.040924     5.218929     7.773087     5.939783     8.719259   \n",
       "min      65.000000   133.200000    36.900000    11.600000    50.000000   \n",
       "25%      68.000000   149.200000    53.400000    32.500000    74.000000   \n",
       "50%      72.000000   152.800000    58.400000    36.300000    80.000000   \n",
       "75%      76.000000   156.300000    63.900000    40.200000    86.000000   \n",
       "max      90.000000   175.000000    85.600000    52.800000   102.000000   \n",
       "\n",
       "         수축기혈압(최고)  앉아윗몸앞으로굽히기(cm)  의자에앉았다일어서기(회)   2분제자리걷기(회)  \\\n",
       "count  6857.000000     6857.000000    6857.000000  6857.000000   \n",
       "mean    144.197142       14.071098      19.325069   109.988333   \n",
       "std       9.253656        7.112628       4.938248     9.694661   \n",
       "min     119.000000      -15.300000       2.000000    80.000000   \n",
       "25%     137.000000        9.700000      16.000000   103.000000   \n",
       "50%     144.000000       14.500000      19.000000   110.000000   \n",
       "75%     152.000000       19.000000      22.000000   117.000000   \n",
       "max     176.000000       35.000000      37.000000   140.000000   \n",
       "\n",
       "       의자에앉아 3M표적 돌아오기(초)      8자보행(초)      상대악력(%)           성별  \\\n",
       "count         6857.000000  6857.000000  6857.000000  6857.000000   \n",
       "mean             6.293037    26.022606    37.903413     0.059647   \n",
       "std              1.055945     4.271029     7.337953     0.236849   \n",
       "min              3.570000    12.690000    13.800000     0.000000   \n",
       "25%              5.530000    23.010000    33.200000     0.000000   \n",
       "50%              6.150000    25.500000    37.800000     0.000000   \n",
       "75%              6.910000    28.480000    42.600000     0.000000   \n",
       "max              9.750000    39.780000    66.200000     1.000000   \n",
       "\n",
       "       cluster_label  \n",
       "count         6857.0  \n",
       "mean             4.0  \n",
       "std              0.0  \n",
       "min              4.0  \n",
       "25%              4.0  \n",
       "50%              4.0  \n",
       "75%              4.0  \n",
       "max              4.0  "
      ]
     },
     "execution_count": 106,
     "metadata": {},
     "output_type": "execute_result"
    }
   ],
   "source": [
    "e.describe()"
   ]
  },
  {
   "cell_type": "markdown",
   "metadata": {},
   "source": [
    "##### 성별의 평균을 보아  이 집단은 여성이  많이 포함되어 있다.\n",
    "\n",
    "- 근기능(상지) : 좋은 편이다\n",
    "- 근기능(하지) : 좋다\n",
    "- 심폐지구력 : 나쁘다\n",
    "- 유연성 : 나쁘다\n",
    "\n",
    "**심폐지구력 + 유연성 메인 추천 + 상지 운동 조금더 추천**"
   ]
  },
  {
   "cell_type": "code",
   "execution_count": 107,
   "metadata": {},
   "outputs": [
    {
     "name": "stdout",
     "output_type": "stream",
     "text": [
      "          7091\n",
      " Bd024    1812\n",
      " Ba055    1699\n",
      "Be085     1403\n",
      " Ao002    1392\n",
      " Bk010    1288\n",
      " Ah004    1262\n",
      " Bp017    1262\n",
      " Ce191    1177\n",
      "Be079     1070\n",
      " Bd025    1069\n",
      " Be078     994\n",
      " Bi025     931\n",
      " Br006     871\n",
      " Ae037     835\n",
      " Ce192     832\n",
      " Bk011     824\n",
      " Be077     771\n",
      " Ba056     771\n",
      " Ac004     725\n",
      " Bs025     724\n",
      " Bq007     699\n",
      " Be085     567\n",
      "Bq008      564\n",
      " Ce170     561\n",
      " Al005     557\n",
      " De248     543\n",
      " Br008     540\n",
      " Ad008     537\n",
      " Bs021     525\n",
      "Name: index, dtype: int64\n"
     ]
    }
   ],
   "source": [
    "result = e['운동처방'].str.split(',', expand=True)\n",
    "\n",
    "temp = result.melt(var_name='col', value_name='index')\n",
    "\n",
    "print(temp['index'].value_counts()[:30])"
   ]
  },
  {
   "cell_type": "markdown",
   "metadata": {},
   "source": [
    "#### 4번 군집\n",
    "\n",
    "- Be085 : 유연성(전신 루틴 스트레칭, 전신)\n",
    "- Ce191 : 심폐지구력(고정식 자전거 타기, 전신)\n",
    "- Bd024 : 유연성(엉덩이 스트레칭, 둔부/허벅지)\n",
    "- Ao002 : 근력/근지구력(몸통 들어올리기, 허리/둔부)\n",
    "- Ba055 : 유연성(넙다리 안쪽 스트레칭, 허벅지)\n",
    "- Bd025 : 유연성(엉덩이 스트레칭2, 둔부/허벅지)\n",
    "- Ce192 : 심폐지구력(고정식 트레드밀에서 걷기, 전신)\n",
    "- Ah004 : 근력/근지구력(벽에서 팔굽혀 펴기, 가슴)\n",
    "- Be079 : 유연성(누워서 전신 뻗기, 전신) \n",
    "\n",
    "**본운동 + 마무리운동**\n",
    "\n",
    "- Bk010 : 유연성(등/어깨 뒤쪽 스트레칭, 어깨/팔)\n",
    "- Bp017 : 유연성(허리 스트레칭, 허리)\n",
    "- Be078 : 유연성(깍지 끼고 상체 숙이기, 전신)\n",
    "- Ce174 : 심폐지구력(걷기, 전신)\n",
    "- Ae037 : 근력/근지구력(엎드려 양팔 및 다리 들어오 올리기, 전신)\n",
    "- Be077 : 유연성(양팔 벌려 전신 비틀기, 전신)\n",
    "- Be085 : 유연성(전신 루틴 스트레칭, 전신)\n"
   ]
  },
  {
   "cell_type": "code",
   "execution_count": null,
   "metadata": {},
   "outputs": [],
   "source": []
  }
 ],
 "metadata": {
  "kernelspec": {
   "display_name": "Python 3",
   "language": "python",
   "name": "python3"
  },
  "language_info": {
   "codemirror_mode": {
    "name": "ipython",
    "version": 3
   },
   "file_extension": ".py",
   "mimetype": "text/x-python",
   "name": "python",
   "nbconvert_exporter": "python",
   "pygments_lexer": "ipython3",
   "version": "3.8.5"
  }
 },
 "nbformat": 4,
 "nbformat_minor": 4
}
