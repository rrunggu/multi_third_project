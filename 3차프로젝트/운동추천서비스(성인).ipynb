{
 "cells": [
  {
   "cell_type": "code",
   "execution_count": 1,
   "metadata": {},
   "outputs": [],
   "source": [
    "# 필요 패키지 import\n",
    "\n",
    "import numpy as np\n",
    "import pandas as pd\n",
    "import matplotlib.pyplot as plt\n",
    "import seaborn as sns\n",
    "%matplotlib inline\n",
    "from IPython.core.interactiveshell import InteractiveShell\n",
    "InteractiveShell.ast_node_interactivity = \"all\"\n"
   ]
  },
  {
   "cell_type": "code",
   "execution_count": 2,
   "metadata": {},
   "outputs": [],
   "source": [
    "# matplotlib 한글처리\n",
    "\n",
    "\n",
    "# matplotlib의 기본 폰트에서 한글 지원되지 않기 때문에\n",
    "# matplotlib의 폰트 변경 필요\n",
    "import platform\n",
    "\n",
    "from matplotlib import font_manager, rc\n",
    "plt.rcParams['axes.unicode_minus'] = False\n",
    "\n",
    "if platform.system() == 'Darwin':  # 맥OS \n",
    "    rc('font', family='AppleGothic')\n",
    "elif platform.system() == 'Windows':  # 윈도우\n",
    "    path = \"c:/Windows/Fonts/malgun.ttf\"\n",
    "    font_name = font_manager.FontProperties(fname=path).get_name()\n",
    "    rc('font', family=font_name)\n",
    "else:\n",
    "    print('Unknown system...  sorry~~~')"
   ]
  },
  {
   "cell_type": "markdown",
   "metadata": {},
   "source": [
    "##### 데이터 불러오기"
   ]
  },
  {
   "cell_type": "code",
   "execution_count": 3,
   "metadata": {},
   "outputs": [],
   "source": [
    "df= pd.read_csv('성인최종_fin.csv')"
   ]
  },
  {
   "cell_type": "code",
   "execution_count": 4,
   "metadata": {
    "scrolled": true
   },
   "outputs": [
    {
     "data": {
      "text/plain": [
       "Index(['Unnamed: 0', 'Unnamed: 0.1', 'Unnamed: 0.1.1', '연령대', '나이', '나이구분',\n",
       "       '상장구분', '신장(cm)', '체중(kg)', '체지방율(%)', '허리둘레(cm)', '이완기혈압(최저)',\n",
       "       '수축기혈압(최고)', '악력D(kg)', '악력ND(kg)', '윗몸말아올리기(회)', '반복점프(회)',\n",
       "       '앉아윗몸앞으로굽히기(cm)', '일리노이(초)', '체공시간(초)', '협응력시간(초)', '협응력실수횟수(회)',\n",
       "       '협응력계산결과값(초)', 'BMI(kg/㎡)', '교차윗몸일으키기(회)', '왕복오래달리기(회)',\n",
       "       '10M 4회 왕복달리기(초)', '제자리 멀리뛰기(cm)', '의자에앉았다일어서기(회)', '6분걷기(m)',\n",
       "       '2분제자리걷기(회)', '의자에앉아 3M표적 돌아오기(초)', '8자보행(초)', '상대악력(%)',\n",
       "       '왕복오래달리기(출력)(VO₂max)', '트레드밀_안정시(bpm)', '트레드밀_3분(bpm)', '트레드밀_6분(bpm)',\n",
       "       '트레드밀_9분(bpm)', '트레드밀(출력)(VO₂max)', '스텝검사_회복시 심박수(bpm)',\n",
       "       '스텝검사(출력)(VO₂max)', '허벅지(좌)', '허벅지(우)', '전신반응(초)', '체공시간(초).1', '운동루틴',\n",
       "       '측정일자', '측정횟수', '센터이름', '테스트형태', '입력자', '성별', '본운동', '준비운동', '마무리운동'],\n",
       "      dtype='object')"
      ]
     },
     "execution_count": 4,
     "metadata": {},
     "output_type": "execute_result"
    }
   ],
   "source": [
    "df.columns"
   ]
  },
  {
   "cell_type": "markdown",
   "metadata": {},
   "source": [
    "**도메인 지식을 활용하여 필요없는 피처 제거**"
   ]
  },
  {
   "cell_type": "code",
   "execution_count": 5,
   "metadata": {},
   "outputs": [],
   "source": [
    "df.drop(['Unnamed: 0','Unnamed: 0.1','Unnamed: 0.1.1','허리둘레(cm)','윗몸말아올리기(회)','반복점프(회)','일리노이(초)','체공시간(초)','협응력시간(초)','협응력실수횟수(회)',\n",
    "                   '협응력계산결과값(초)','의자에앉았다일어서기(회)','6분걷기(m)','2분제자리걷기(회)','의자에앉아 3M표적 돌아오기(초)',\n",
    "                   '8자보행(초)','트레드밀_안정시(bpm)','트레드밀_3분(bpm)','트레드밀_6분(bpm)','트레드밀_9분(bpm)',\n",
    "                   '스텝검사_회복시 심박수(bpm)','스텝검사(출력)(VO₂max)','허벅지(좌)','허벅지(우)','전신반응(초)','체공시간(초).1',\n",
    "                    '트레드밀(출력)(VO₂max)','왕복오래달리기(출력)(VO₂max)','측정일자','상장구분','운동루틴','센터이름','테스트형태',\n",
    "                    '나이구분','연령대','악력D(kg)','악력ND(kg)','BMI(kg/㎡)','입력자','측정횟수'],axis=1,inplace=True)"
   ]
  },
  {
   "cell_type": "code",
   "execution_count": 6,
   "metadata": {
    "scrolled": true
   },
   "outputs": [
    {
     "data": {
      "text/html": [
       "<div>\n",
       "<style scoped>\n",
       "    .dataframe tbody tr th:only-of-type {\n",
       "        vertical-align: middle;\n",
       "    }\n",
       "\n",
       "    .dataframe tbody tr th {\n",
       "        vertical-align: top;\n",
       "    }\n",
       "\n",
       "    .dataframe thead th {\n",
       "        text-align: right;\n",
       "    }\n",
       "</style>\n",
       "<table border=\"1\" class=\"dataframe\">\n",
       "  <thead>\n",
       "    <tr style=\"text-align: right;\">\n",
       "      <th></th>\n",
       "      <th>나이</th>\n",
       "      <th>신장(cm)</th>\n",
       "      <th>체중(kg)</th>\n",
       "      <th>체지방율(%)</th>\n",
       "      <th>이완기혈압(최저)</th>\n",
       "      <th>수축기혈압(최고)</th>\n",
       "      <th>앉아윗몸앞으로굽히기(cm)</th>\n",
       "      <th>교차윗몸일으키기(회)</th>\n",
       "      <th>왕복오래달리기(회)</th>\n",
       "      <th>10M 4회 왕복달리기(초)</th>\n",
       "      <th>제자리 멀리뛰기(cm)</th>\n",
       "      <th>상대악력(%)</th>\n",
       "      <th>성별</th>\n",
       "      <th>본운동</th>\n",
       "      <th>준비운동</th>\n",
       "      <th>마무리운동</th>\n",
       "    </tr>\n",
       "  </thead>\n",
       "  <tbody>\n",
       "    <tr>\n",
       "      <th>0</th>\n",
       "      <td>19</td>\n",
       "      <td>166.4</td>\n",
       "      <td>59.80</td>\n",
       "      <td>33.54784</td>\n",
       "      <td>77.0</td>\n",
       "      <td>114.0</td>\n",
       "      <td>35.2</td>\n",
       "      <td>35.0</td>\n",
       "      <td>21.0</td>\n",
       "      <td>11.89</td>\n",
       "      <td>170.0</td>\n",
       "      <td>42.6</td>\n",
       "      <td>F</td>\n",
       "      <td>['Ah003', 'Ak003', 'Ao000', 'Ae028', 'Ag013', ...</td>\n",
       "      <td>['N']</td>\n",
       "      <td>['N']</td>\n",
       "    </tr>\n",
       "    <tr>\n",
       "      <th>1</th>\n",
       "      <td>55</td>\n",
       "      <td>159.8</td>\n",
       "      <td>60.00</td>\n",
       "      <td>34.00000</td>\n",
       "      <td>93.0</td>\n",
       "      <td>149.0</td>\n",
       "      <td>13.2</td>\n",
       "      <td>15.0</td>\n",
       "      <td>10.0</td>\n",
       "      <td>17.79</td>\n",
       "      <td>113.0</td>\n",
       "      <td>39.4</td>\n",
       "      <td>F</td>\n",
       "      <td>['Ce206', 'Ce205', 'Ce202', 'Ce200', 'Ce204']</td>\n",
       "      <td>['N']</td>\n",
       "      <td>['N']</td>\n",
       "    </tr>\n",
       "    <tr>\n",
       "      <th>2</th>\n",
       "      <td>52</td>\n",
       "      <td>163.3</td>\n",
       "      <td>62.06</td>\n",
       "      <td>28.60000</td>\n",
       "      <td>78.0</td>\n",
       "      <td>134.0</td>\n",
       "      <td>21.7</td>\n",
       "      <td>22.0</td>\n",
       "      <td>14.0</td>\n",
       "      <td>15.23</td>\n",
       "      <td>130.0</td>\n",
       "      <td>40.9</td>\n",
       "      <td>F</td>\n",
       "      <td>['Ce204', 'Ce203', 'Ce201', 'Ce170']</td>\n",
       "      <td>['Bq008', 'Bk011', 'Be084']</td>\n",
       "      <td>['Bd024', 'Ba059', 'Ba056', 'Ba055', 'Bq007', ...</td>\n",
       "    </tr>\n",
       "    <tr>\n",
       "      <th>3</th>\n",
       "      <td>33</td>\n",
       "      <td>163.2</td>\n",
       "      <td>74.20</td>\n",
       "      <td>27.50000</td>\n",
       "      <td>72.0</td>\n",
       "      <td>114.0</td>\n",
       "      <td>NaN</td>\n",
       "      <td>32.0</td>\n",
       "      <td>NaN</td>\n",
       "      <td>NaN</td>\n",
       "      <td>200.0</td>\n",
       "      <td>59.4</td>\n",
       "      <td>M</td>\n",
       "      <td>['Ag029', 'Ae012', 'Aa028', 'De115', 'Ad010', ...</td>\n",
       "      <td>['Ce174']</td>\n",
       "      <td>['N']</td>\n",
       "    </tr>\n",
       "    <tr>\n",
       "      <th>4</th>\n",
       "      <td>56</td>\n",
       "      <td>157.0</td>\n",
       "      <td>54.30</td>\n",
       "      <td>35.10000</td>\n",
       "      <td>93.0</td>\n",
       "      <td>155.0</td>\n",
       "      <td>23.5</td>\n",
       "      <td>12.0</td>\n",
       "      <td>NaN</td>\n",
       "      <td>NaN</td>\n",
       "      <td>98.0</td>\n",
       "      <td>40.6</td>\n",
       "      <td>F</td>\n",
       "      <td>['Ag029', 'Ae012', 'Aa028', 'De115', 'Ad010', ...</td>\n",
       "      <td>['Ce174']</td>\n",
       "      <td>['N']</td>\n",
       "    </tr>\n",
       "    <tr>\n",
       "      <th>...</th>\n",
       "      <td>...</td>\n",
       "      <td>...</td>\n",
       "      <td>...</td>\n",
       "      <td>...</td>\n",
       "      <td>...</td>\n",
       "      <td>...</td>\n",
       "      <td>...</td>\n",
       "      <td>...</td>\n",
       "      <td>...</td>\n",
       "      <td>...</td>\n",
       "      <td>...</td>\n",
       "      <td>...</td>\n",
       "      <td>...</td>\n",
       "      <td>...</td>\n",
       "      <td>...</td>\n",
       "      <td>...</td>\n",
       "    </tr>\n",
       "    <tr>\n",
       "      <th>105583</th>\n",
       "      <td>27</td>\n",
       "      <td>191.2</td>\n",
       "      <td>92.40</td>\n",
       "      <td>22.40000</td>\n",
       "      <td>75.0</td>\n",
       "      <td>148.0</td>\n",
       "      <td>15.1</td>\n",
       "      <td>52.0</td>\n",
       "      <td>NaN</td>\n",
       "      <td>10.02</td>\n",
       "      <td>240.0</td>\n",
       "      <td>67.0</td>\n",
       "      <td>M</td>\n",
       "      <td>['Ce202', 'Ce201', 'Ce200']</td>\n",
       "      <td>['Ce195', 'Ce194', 'Ce193', 'Be084']</td>\n",
       "      <td>['Bq008', 'Bk011', 'Be085']</td>\n",
       "    </tr>\n",
       "    <tr>\n",
       "      <th>105584</th>\n",
       "      <td>64</td>\n",
       "      <td>158.9</td>\n",
       "      <td>53.30</td>\n",
       "      <td>26.80000</td>\n",
       "      <td>60.0</td>\n",
       "      <td>105.0</td>\n",
       "      <td>4.9</td>\n",
       "      <td>8.0</td>\n",
       "      <td>NaN</td>\n",
       "      <td>12.99</td>\n",
       "      <td>146.0</td>\n",
       "      <td>47.0</td>\n",
       "      <td>F</td>\n",
       "      <td>['Ak005', 'Aa028', 'Aa027', 'Ag029', 'Ag026', ...</td>\n",
       "      <td>['Bq008', 'Bk011', 'Be085', 'Be084', 'Be083']</td>\n",
       "      <td>['N']</td>\n",
       "    </tr>\n",
       "    <tr>\n",
       "      <th>105585</th>\n",
       "      <td>50</td>\n",
       "      <td>165.6</td>\n",
       "      <td>80.90</td>\n",
       "      <td>33.90000</td>\n",
       "      <td>75.0</td>\n",
       "      <td>118.0</td>\n",
       "      <td>19.4</td>\n",
       "      <td>16.0</td>\n",
       "      <td>12.0</td>\n",
       "      <td>15.86</td>\n",
       "      <td>116.0</td>\n",
       "      <td>34.2</td>\n",
       "      <td>F</td>\n",
       "      <td>['Aa033', 'Aa009', 'Aa031', 'Ac008', 'Ac007', ...</td>\n",
       "      <td>['Bp017', 'Bd024', 'Ba059']</td>\n",
       "      <td>['N']</td>\n",
       "    </tr>\n",
       "    <tr>\n",
       "      <th>105586</th>\n",
       "      <td>26</td>\n",
       "      <td>163.6</td>\n",
       "      <td>54.20</td>\n",
       "      <td>28.90000</td>\n",
       "      <td>87.0</td>\n",
       "      <td>135.0</td>\n",
       "      <td>-3.6</td>\n",
       "      <td>13.0</td>\n",
       "      <td>NaN</td>\n",
       "      <td>12.78</td>\n",
       "      <td>142.0</td>\n",
       "      <td>41.3</td>\n",
       "      <td>F</td>\n",
       "      <td>['Ag029', 'Ag026', 'Ag025', 'Ap007', 'Ap005', ...</td>\n",
       "      <td>['N']</td>\n",
       "      <td>['Br006', 'Bk010', 'Bs027', 'Bl019', 'Bd024', ...</td>\n",
       "    </tr>\n",
       "    <tr>\n",
       "      <th>105587</th>\n",
       "      <td>38</td>\n",
       "      <td>164.0</td>\n",
       "      <td>57.80</td>\n",
       "      <td>27.60000</td>\n",
       "      <td>74.0</td>\n",
       "      <td>138.0</td>\n",
       "      <td>18.4</td>\n",
       "      <td>29.0</td>\n",
       "      <td>31.0</td>\n",
       "      <td>12.11</td>\n",
       "      <td>193.0</td>\n",
       "      <td>62.9</td>\n",
       "      <td>F</td>\n",
       "      <td>['Br006', 'Bk010', 'Bs027', 'Bd024', 'Bp017', ...</td>\n",
       "      <td>['Aa028', 'Ag029', 'Ag026', 'Ag022']</td>\n",
       "      <td>['N']</td>\n",
       "    </tr>\n",
       "  </tbody>\n",
       "</table>\n",
       "<p>105588 rows × 16 columns</p>\n",
       "</div>"
      ],
      "text/plain": [
       "        나이  신장(cm)  체중(kg)   체지방율(%)  이완기혈압(최저)  수축기혈압(최고)  앉아윗몸앞으로굽히기(cm)  \\\n",
       "0       19   166.4   59.80  33.54784       77.0      114.0            35.2   \n",
       "1       55   159.8   60.00  34.00000       93.0      149.0            13.2   \n",
       "2       52   163.3   62.06  28.60000       78.0      134.0            21.7   \n",
       "3       33   163.2   74.20  27.50000       72.0      114.0             NaN   \n",
       "4       56   157.0   54.30  35.10000       93.0      155.0            23.5   \n",
       "...     ..     ...     ...       ...        ...        ...             ...   \n",
       "105583  27   191.2   92.40  22.40000       75.0      148.0            15.1   \n",
       "105584  64   158.9   53.30  26.80000       60.0      105.0             4.9   \n",
       "105585  50   165.6   80.90  33.90000       75.0      118.0            19.4   \n",
       "105586  26   163.6   54.20  28.90000       87.0      135.0            -3.6   \n",
       "105587  38   164.0   57.80  27.60000       74.0      138.0            18.4   \n",
       "\n",
       "        교차윗몸일으키기(회)  왕복오래달리기(회)  10M 4회 왕복달리기(초)  제자리 멀리뛰기(cm)  상대악력(%) 성별  \\\n",
       "0              35.0        21.0            11.89         170.0     42.6  F   \n",
       "1              15.0        10.0            17.79         113.0     39.4  F   \n",
       "2              22.0        14.0            15.23         130.0     40.9  F   \n",
       "3              32.0         NaN              NaN         200.0     59.4  M   \n",
       "4              12.0         NaN              NaN          98.0     40.6  F   \n",
       "...             ...         ...              ...           ...      ... ..   \n",
       "105583         52.0         NaN            10.02         240.0     67.0  M   \n",
       "105584          8.0         NaN            12.99         146.0     47.0  F   \n",
       "105585         16.0        12.0            15.86         116.0     34.2  F   \n",
       "105586         13.0         NaN            12.78         142.0     41.3  F   \n",
       "105587         29.0        31.0            12.11         193.0     62.9  F   \n",
       "\n",
       "                                                      본운동  \\\n",
       "0       ['Ah003', 'Ak003', 'Ao000', 'Ae028', 'Ag013', ...   \n",
       "1           ['Ce206', 'Ce205', 'Ce202', 'Ce200', 'Ce204']   \n",
       "2                    ['Ce204', 'Ce203', 'Ce201', 'Ce170']   \n",
       "3       ['Ag029', 'Ae012', 'Aa028', 'De115', 'Ad010', ...   \n",
       "4       ['Ag029', 'Ae012', 'Aa028', 'De115', 'Ad010', ...   \n",
       "...                                                   ...   \n",
       "105583                        ['Ce202', 'Ce201', 'Ce200']   \n",
       "105584  ['Ak005', 'Aa028', 'Aa027', 'Ag029', 'Ag026', ...   \n",
       "105585  ['Aa033', 'Aa009', 'Aa031', 'Ac008', 'Ac007', ...   \n",
       "105586  ['Ag029', 'Ag026', 'Ag025', 'Ap007', 'Ap005', ...   \n",
       "105587  ['Br006', 'Bk010', 'Bs027', 'Bd024', 'Bp017', ...   \n",
       "\n",
       "                                                 준비운동  \\\n",
       "0                                               ['N']   \n",
       "1                                               ['N']   \n",
       "2                         ['Bq008', 'Bk011', 'Be084']   \n",
       "3                                           ['Ce174']   \n",
       "4                                           ['Ce174']   \n",
       "...                                               ...   \n",
       "105583           ['Ce195', 'Ce194', 'Ce193', 'Be084']   \n",
       "105584  ['Bq008', 'Bk011', 'Be085', 'Be084', 'Be083']   \n",
       "105585                    ['Bp017', 'Bd024', 'Ba059']   \n",
       "105586                                          ['N']   \n",
       "105587           ['Aa028', 'Ag029', 'Ag026', 'Ag022']   \n",
       "\n",
       "                                                    마무리운동  \n",
       "0                                                   ['N']  \n",
       "1                                                   ['N']  \n",
       "2       ['Bd024', 'Ba059', 'Ba056', 'Ba055', 'Bq007', ...  \n",
       "3                                                   ['N']  \n",
       "4                                                   ['N']  \n",
       "...                                                   ...  \n",
       "105583                        ['Bq008', 'Bk011', 'Be085']  \n",
       "105584                                              ['N']  \n",
       "105585                                              ['N']  \n",
       "105586  ['Br006', 'Bk010', 'Bs027', 'Bl019', 'Bd024', ...  \n",
       "105587                                              ['N']  \n",
       "\n",
       "[105588 rows x 16 columns]"
      ]
     },
     "execution_count": 6,
     "metadata": {},
     "output_type": "execute_result"
    }
   ],
   "source": [
    "df"
   ]
  },
  {
   "cell_type": "markdown",
   "metadata": {},
   "source": [
    "##### 군집화 후 특성을 확인하기 위해 데이터 프레임으로 따로 저장"
   ]
  },
  {
   "cell_type": "code",
   "execution_count": 7,
   "metadata": {},
   "outputs": [],
   "source": [
    "feature_names = ['본운동','준비운동','마무리운동']\n",
    "exer_df = pd.DataFrame(data=df,columns=feature_names)"
   ]
  },
  {
   "cell_type": "code",
   "execution_count": 8,
   "metadata": {},
   "outputs": [
    {
     "data": {
      "text/html": [
       "<div>\n",
       "<style scoped>\n",
       "    .dataframe tbody tr th:only-of-type {\n",
       "        vertical-align: middle;\n",
       "    }\n",
       "\n",
       "    .dataframe tbody tr th {\n",
       "        vertical-align: top;\n",
       "    }\n",
       "\n",
       "    .dataframe thead th {\n",
       "        text-align: right;\n",
       "    }\n",
       "</style>\n",
       "<table border=\"1\" class=\"dataframe\">\n",
       "  <thead>\n",
       "    <tr style=\"text-align: right;\">\n",
       "      <th></th>\n",
       "      <th>본운동</th>\n",
       "      <th>준비운동</th>\n",
       "      <th>마무리운동</th>\n",
       "    </tr>\n",
       "  </thead>\n",
       "  <tbody>\n",
       "    <tr>\n",
       "      <th>0</th>\n",
       "      <td>['Ah003', 'Ak003', 'Ao000', 'Ae028', 'Ag013', ...</td>\n",
       "      <td>['N']</td>\n",
       "      <td>['N']</td>\n",
       "    </tr>\n",
       "    <tr>\n",
       "      <th>1</th>\n",
       "      <td>['Ce206', 'Ce205', 'Ce202', 'Ce200', 'Ce204']</td>\n",
       "      <td>['N']</td>\n",
       "      <td>['N']</td>\n",
       "    </tr>\n",
       "    <tr>\n",
       "      <th>2</th>\n",
       "      <td>['Ce204', 'Ce203', 'Ce201', 'Ce170']</td>\n",
       "      <td>['Bq008', 'Bk011', 'Be084']</td>\n",
       "      <td>['Bd024', 'Ba059', 'Ba056', 'Ba055', 'Bq007', ...</td>\n",
       "    </tr>\n",
       "    <tr>\n",
       "      <th>3</th>\n",
       "      <td>['Ag029', 'Ae012', 'Aa028', 'De115', 'Ad010', ...</td>\n",
       "      <td>['Ce174']</td>\n",
       "      <td>['N']</td>\n",
       "    </tr>\n",
       "    <tr>\n",
       "      <th>4</th>\n",
       "      <td>['Ag029', 'Ae012', 'Aa028', 'De115', 'Ad010', ...</td>\n",
       "      <td>['Ce174']</td>\n",
       "      <td>['N']</td>\n",
       "    </tr>\n",
       "    <tr>\n",
       "      <th>...</th>\n",
       "      <td>...</td>\n",
       "      <td>...</td>\n",
       "      <td>...</td>\n",
       "    </tr>\n",
       "    <tr>\n",
       "      <th>105583</th>\n",
       "      <td>['Ce202', 'Ce201', 'Ce200']</td>\n",
       "      <td>['Ce195', 'Ce194', 'Ce193', 'Be084']</td>\n",
       "      <td>['Bq008', 'Bk011', 'Be085']</td>\n",
       "    </tr>\n",
       "    <tr>\n",
       "      <th>105584</th>\n",
       "      <td>['Ak005', 'Aa028', 'Aa027', 'Ag029', 'Ag026', ...</td>\n",
       "      <td>['Bq008', 'Bk011', 'Be085', 'Be084', 'Be083']</td>\n",
       "      <td>['N']</td>\n",
       "    </tr>\n",
       "    <tr>\n",
       "      <th>105585</th>\n",
       "      <td>['Aa033', 'Aa009', 'Aa031', 'Ac008', 'Ac007', ...</td>\n",
       "      <td>['Bp017', 'Bd024', 'Ba059']</td>\n",
       "      <td>['N']</td>\n",
       "    </tr>\n",
       "    <tr>\n",
       "      <th>105586</th>\n",
       "      <td>['Ag029', 'Ag026', 'Ag025', 'Ap007', 'Ap005', ...</td>\n",
       "      <td>['N']</td>\n",
       "      <td>['Br006', 'Bk010', 'Bs027', 'Bl019', 'Bd024', ...</td>\n",
       "    </tr>\n",
       "    <tr>\n",
       "      <th>105587</th>\n",
       "      <td>['Br006', 'Bk010', 'Bs027', 'Bd024', 'Bp017', ...</td>\n",
       "      <td>['Aa028', 'Ag029', 'Ag026', 'Ag022']</td>\n",
       "      <td>['N']</td>\n",
       "    </tr>\n",
       "  </tbody>\n",
       "</table>\n",
       "<p>105588 rows × 3 columns</p>\n",
       "</div>"
      ],
      "text/plain": [
       "                                                      본운동  \\\n",
       "0       ['Ah003', 'Ak003', 'Ao000', 'Ae028', 'Ag013', ...   \n",
       "1           ['Ce206', 'Ce205', 'Ce202', 'Ce200', 'Ce204']   \n",
       "2                    ['Ce204', 'Ce203', 'Ce201', 'Ce170']   \n",
       "3       ['Ag029', 'Ae012', 'Aa028', 'De115', 'Ad010', ...   \n",
       "4       ['Ag029', 'Ae012', 'Aa028', 'De115', 'Ad010', ...   \n",
       "...                                                   ...   \n",
       "105583                        ['Ce202', 'Ce201', 'Ce200']   \n",
       "105584  ['Ak005', 'Aa028', 'Aa027', 'Ag029', 'Ag026', ...   \n",
       "105585  ['Aa033', 'Aa009', 'Aa031', 'Ac008', 'Ac007', ...   \n",
       "105586  ['Ag029', 'Ag026', 'Ag025', 'Ap007', 'Ap005', ...   \n",
       "105587  ['Br006', 'Bk010', 'Bs027', 'Bd024', 'Bp017', ...   \n",
       "\n",
       "                                                 준비운동  \\\n",
       "0                                               ['N']   \n",
       "1                                               ['N']   \n",
       "2                         ['Bq008', 'Bk011', 'Be084']   \n",
       "3                                           ['Ce174']   \n",
       "4                                           ['Ce174']   \n",
       "...                                               ...   \n",
       "105583           ['Ce195', 'Ce194', 'Ce193', 'Be084']   \n",
       "105584  ['Bq008', 'Bk011', 'Be085', 'Be084', 'Be083']   \n",
       "105585                    ['Bp017', 'Bd024', 'Ba059']   \n",
       "105586                                          ['N']   \n",
       "105587           ['Aa028', 'Ag029', 'Ag026', 'Ag022']   \n",
       "\n",
       "                                                    마무리운동  \n",
       "0                                                   ['N']  \n",
       "1                                                   ['N']  \n",
       "2       ['Bd024', 'Ba059', 'Ba056', 'Ba055', 'Bq007', ...  \n",
       "3                                                   ['N']  \n",
       "4                                                   ['N']  \n",
       "...                                                   ...  \n",
       "105583                        ['Bq008', 'Bk011', 'Be085']  \n",
       "105584                                              ['N']  \n",
       "105585                                              ['N']  \n",
       "105586  ['Br006', 'Bk010', 'Bs027', 'Bl019', 'Bd024', ...  \n",
       "105587                                              ['N']  \n",
       "\n",
       "[105588 rows x 3 columns]"
      ]
     },
     "execution_count": 8,
     "metadata": {},
     "output_type": "execute_result"
    }
   ],
   "source": [
    "exer_df"
   ]
  },
  {
   "cell_type": "code",
   "execution_count": 9,
   "metadata": {},
   "outputs": [],
   "source": [
    "df.drop(['본운동','준비운동','마무리운동'],axis=1,inplace=True)"
   ]
  },
  {
   "cell_type": "markdown",
   "metadata": {},
   "source": [
    "##### Null 값 확인"
   ]
  },
  {
   "cell_type": "code",
   "execution_count": 10,
   "metadata": {
    "scrolled": false
   },
   "outputs": [
    {
     "data": {
      "text/plain": [
       "나이                     0\n",
       "신장(cm)                 0\n",
       "체중(kg)                 0\n",
       "체지방율(%)                3\n",
       "이완기혈압(최저)             12\n",
       "수축기혈압(최고)             10\n",
       "앉아윗몸앞으로굽히기(cm)       221\n",
       "교차윗몸일으키기(회)         1454\n",
       "왕복오래달리기(회)         27131\n",
       "10M 4회 왕복달리기(초)     5452\n",
       "제자리 멀리뛰기(cm)        1660\n",
       "상대악력(%)               48\n",
       "성별                     0\n",
       "dtype: int64"
      ]
     },
     "execution_count": 10,
     "metadata": {},
     "output_type": "execute_result"
    }
   ],
   "source": [
    "df.isnull().sum()"
   ]
  },
  {
   "cell_type": "markdown",
   "metadata": {},
   "source": [
    "##### NA 값 제거"
   ]
  },
  {
   "cell_type": "code",
   "execution_count": 11,
   "metadata": {},
   "outputs": [],
   "source": [
    "df = df.dropna(subset=['체지방율(%)','이완기혈압(최저)','수축기혈압(최고)','왕복오래달리기(회)',\n",
    "                       '앉아윗몸앞으로굽히기(cm)','교차윗몸일으키기(회)','10M 4회 왕복달리기(초)','제자리 멀리뛰기(cm)','상대악력(%)'])"
   ]
  },
  {
   "cell_type": "code",
   "execution_count": 12,
   "metadata": {
    "scrolled": true
   },
   "outputs": [
    {
     "data": {
      "text/plain": [
       "나이                 0\n",
       "신장(cm)             0\n",
       "체중(kg)             0\n",
       "체지방율(%)            0\n",
       "이완기혈압(최저)          0\n",
       "수축기혈압(최고)          0\n",
       "앉아윗몸앞으로굽히기(cm)     0\n",
       "교차윗몸일으키기(회)        0\n",
       "왕복오래달리기(회)         0\n",
       "10M 4회 왕복달리기(초)    0\n",
       "제자리 멀리뛰기(cm)       0\n",
       "상대악력(%)            0\n",
       "성별                 0\n",
       "dtype: int64"
      ]
     },
     "execution_count": 12,
     "metadata": {},
     "output_type": "execute_result"
    }
   ],
   "source": [
    "df.isnull().sum()"
   ]
  },
  {
   "cell_type": "markdown",
   "metadata": {},
   "source": [
    "##### 성별을 [0, 1] 로 인코딩하여 구분 "
   ]
  },
  {
   "cell_type": "code",
   "execution_count": 13,
   "metadata": {},
   "outputs": [
    {
     "data": {
      "text/plain": [
       "LabelEncoder()"
      ]
     },
     "execution_count": 13,
     "metadata": {},
     "output_type": "execute_result"
    },
    {
     "name": "stderr",
     "output_type": "stream",
     "text": [
      "<ipython-input-13-20da1fce0289>:5: SettingWithCopyWarning: \n",
      "A value is trying to be set on a copy of a slice from a DataFrame.\n",
      "Try using .loc[row_indexer,col_indexer] = value instead\n",
      "\n",
      "See the caveats in the documentation: https://pandas.pydata.org/pandas-docs/stable/user_guide/indexing.html#returning-a-view-versus-a-copy\n",
      "  df['성별'] = le.transform(df['성별'])\n"
     ]
    }
   ],
   "source": [
    "from sklearn.preprocessing import LabelEncoder\n",
    "\n",
    "le = LabelEncoder()\n",
    "le.fit(df.성별.unique())\n",
    "df['성별'] = le.transform(df['성별'])"
   ]
  },
  {
   "cell_type": "code",
   "execution_count": 14,
   "metadata": {
    "scrolled": true
   },
   "outputs": [
    {
     "data": {
      "text/html": [
       "<div>\n",
       "<style scoped>\n",
       "    .dataframe tbody tr th:only-of-type {\n",
       "        vertical-align: middle;\n",
       "    }\n",
       "\n",
       "    .dataframe tbody tr th {\n",
       "        vertical-align: top;\n",
       "    }\n",
       "\n",
       "    .dataframe thead th {\n",
       "        text-align: right;\n",
       "    }\n",
       "</style>\n",
       "<table border=\"1\" class=\"dataframe\">\n",
       "  <thead>\n",
       "    <tr style=\"text-align: right;\">\n",
       "      <th></th>\n",
       "      <th>나이</th>\n",
       "      <th>신장(cm)</th>\n",
       "      <th>체중(kg)</th>\n",
       "      <th>체지방율(%)</th>\n",
       "      <th>이완기혈압(최저)</th>\n",
       "      <th>수축기혈압(최고)</th>\n",
       "      <th>앉아윗몸앞으로굽히기(cm)</th>\n",
       "      <th>교차윗몸일으키기(회)</th>\n",
       "      <th>왕복오래달리기(회)</th>\n",
       "      <th>10M 4회 왕복달리기(초)</th>\n",
       "      <th>제자리 멀리뛰기(cm)</th>\n",
       "      <th>상대악력(%)</th>\n",
       "      <th>성별</th>\n",
       "    </tr>\n",
       "  </thead>\n",
       "  <tbody>\n",
       "    <tr>\n",
       "      <th>0</th>\n",
       "      <td>19</td>\n",
       "      <td>166.4</td>\n",
       "      <td>59.80</td>\n",
       "      <td>33.54784</td>\n",
       "      <td>77.0</td>\n",
       "      <td>114.0</td>\n",
       "      <td>35.2</td>\n",
       "      <td>35.0</td>\n",
       "      <td>21.0</td>\n",
       "      <td>11.89</td>\n",
       "      <td>170.0</td>\n",
       "      <td>42.6</td>\n",
       "      <td>0</td>\n",
       "    </tr>\n",
       "    <tr>\n",
       "      <th>1</th>\n",
       "      <td>55</td>\n",
       "      <td>159.8</td>\n",
       "      <td>60.00</td>\n",
       "      <td>34.00000</td>\n",
       "      <td>93.0</td>\n",
       "      <td>149.0</td>\n",
       "      <td>13.2</td>\n",
       "      <td>15.0</td>\n",
       "      <td>10.0</td>\n",
       "      <td>17.79</td>\n",
       "      <td>113.0</td>\n",
       "      <td>39.4</td>\n",
       "      <td>0</td>\n",
       "    </tr>\n",
       "    <tr>\n",
       "      <th>2</th>\n",
       "      <td>52</td>\n",
       "      <td>163.3</td>\n",
       "      <td>62.06</td>\n",
       "      <td>28.60000</td>\n",
       "      <td>78.0</td>\n",
       "      <td>134.0</td>\n",
       "      <td>21.7</td>\n",
       "      <td>22.0</td>\n",
       "      <td>14.0</td>\n",
       "      <td>15.23</td>\n",
       "      <td>130.0</td>\n",
       "      <td>40.9</td>\n",
       "      <td>0</td>\n",
       "    </tr>\n",
       "    <tr>\n",
       "      <th>5</th>\n",
       "      <td>63</td>\n",
       "      <td>172.3</td>\n",
       "      <td>77.80</td>\n",
       "      <td>26.20000</td>\n",
       "      <td>73.0</td>\n",
       "      <td>126.0</td>\n",
       "      <td>13.2</td>\n",
       "      <td>27.0</td>\n",
       "      <td>18.0</td>\n",
       "      <td>13.82</td>\n",
       "      <td>160.0</td>\n",
       "      <td>45.7</td>\n",
       "      <td>1</td>\n",
       "    </tr>\n",
       "    <tr>\n",
       "      <th>6</th>\n",
       "      <td>62</td>\n",
       "      <td>160.1</td>\n",
       "      <td>62.40</td>\n",
       "      <td>26.50000</td>\n",
       "      <td>70.0</td>\n",
       "      <td>128.0</td>\n",
       "      <td>17.0</td>\n",
       "      <td>32.0</td>\n",
       "      <td>16.0</td>\n",
       "      <td>12.42</td>\n",
       "      <td>196.0</td>\n",
       "      <td>65.5</td>\n",
       "      <td>1</td>\n",
       "    </tr>\n",
       "  </tbody>\n",
       "</table>\n",
       "</div>"
      ],
      "text/plain": [
       "   나이  신장(cm)  체중(kg)   체지방율(%)  이완기혈압(최저)  수축기혈압(최고)  앉아윗몸앞으로굽히기(cm)  \\\n",
       "0  19   166.4   59.80  33.54784       77.0      114.0            35.2   \n",
       "1  55   159.8   60.00  34.00000       93.0      149.0            13.2   \n",
       "2  52   163.3   62.06  28.60000       78.0      134.0            21.7   \n",
       "5  63   172.3   77.80  26.20000       73.0      126.0            13.2   \n",
       "6  62   160.1   62.40  26.50000       70.0      128.0            17.0   \n",
       "\n",
       "   교차윗몸일으키기(회)  왕복오래달리기(회)  10M 4회 왕복달리기(초)  제자리 멀리뛰기(cm)  상대악력(%)  성별  \n",
       "0         35.0        21.0            11.89         170.0     42.6   0  \n",
       "1         15.0        10.0            17.79         113.0     39.4   0  \n",
       "2         22.0        14.0            15.23         130.0     40.9   0  \n",
       "5         27.0        18.0            13.82         160.0     45.7   1  \n",
       "6         32.0        16.0            12.42         196.0     65.5   1  "
      ]
     },
     "execution_count": 14,
     "metadata": {},
     "output_type": "execute_result"
    }
   ],
   "source": [
    "df.head()"
   ]
  },
  {
   "cell_type": "markdown",
   "metadata": {},
   "source": [
    "##### 각 컬럼의 이상치 값 확인하기 위해 Boxplot"
   ]
  },
  {
   "cell_type": "code",
   "execution_count": 15,
   "metadata": {},
   "outputs": [
    {
     "data": {
      "text/plain": [
       "<Figure size 864x576 with 0 Axes>"
      ]
     },
     "execution_count": 15,
     "metadata": {},
     "output_type": "execute_result"
    },
    {
     "data": {
      "text/plain": [
       "<AxesSubplot:>"
      ]
     },
     "execution_count": 15,
     "metadata": {},
     "output_type": "execute_result"
    },
    {
     "data": {
      "text/plain": [
       "Text(0.5, 1.0, '나이')"
      ]
     },
     "execution_count": 15,
     "metadata": {},
     "output_type": "execute_result"
    },
    {
     "data": {
      "image/png": "[encoded data removed]",
      "text/plain": [
       "<Figure size 864x576 with 1 Axes>"
      ]
     },
     "metadata": {
      "needs_background": "light"
     },
     "output_type": "display_data"
    },
    {
     "data": {
      "text/plain": [
       "<AxesSubplot:>"
      ]
     },
     "execution_count": 15,
     "metadata": {},
     "output_type": "execute_result"
    },
    {
     "data": {
      "text/plain": [
       "Text(0.5, 1.0, '신장(cm)')"
      ]
     },
     "execution_count": 15,
     "metadata": {},
     "output_type": "execute_result"
    },
    {
     "data": {
      "image/png": "[encoded data removed]",
      "text/plain": [
       "<Figure size 432x288 with 1 Axes>"
      ]
     },
     "metadata": {
      "needs_background": "light"
     },
     "output_type": "display_data"
    },
    {
     "data": {
      "text/plain": [
       "<AxesSubplot:>"
      ]
     },
     "execution_count": 15,
     "metadata": {},
     "output_type": "execute_result"
    },
    {
     "data": {
      "text/plain": [
       "Text(0.5, 1.0, '체중(kg)')"
      ]
     },
     "execution_count": 15,
     "metadata": {},
     "output_type": "execute_result"
    },
    {
     "data": {
      "image/png": "[encoded data removed]",
      "text/plain": [
       "<Figure size 432x288 with 1 Axes>"
      ]
     },
     "metadata": {
      "needs_background": "light"
     },
     "output_type": "display_data"
    },
    {
     "data": {
      "text/plain": [
       "<AxesSubplot:>"
      ]
     },
     "execution_count": 15,
     "metadata": {},
     "output_type": "execute_result"
    },
    {
     "data": {
      "text/plain": [
       "Text(0.5, 1.0, '체지방율(%)')"
      ]
     },
     "execution_count": 15,
     "metadata": {},
     "output_type": "execute_result"
    },
    {
     "data": {
      "image/png": "[encoded data removed]",
      "text/plain": [
       "<Figure size 432x288 with 1 Axes>"
      ]
     },
     "metadata": {
      "needs_background": "light"
     },
     "output_type": "display_data"
    },
    {
     "data": {
      "text/plain": [
       "<AxesSubplot:>"
      ]
     },
     "execution_count": 15,
     "metadata": {},
     "output_type": "execute_result"
    },
    {
     "data": {
      "text/plain": [
       "Text(0.5, 1.0, '이완기혈압(최저)')"
      ]
     },
     "execution_count": 15,
     "metadata": {},
     "output_type": "execute_result"
    },
    {
     "data": {
      "image/png": "[encoded data removed]",
      "text/plain": [
       "<Figure size 432x288 with 1 Axes>"
      ]
     },
     "metadata": {
      "needs_background": "light"
     },
     "output_type": "display_data"
    },
    {
     "data": {
      "text/plain": [
       "<AxesSubplot:>"
      ]
     },
     "execution_count": 15,
     "metadata": {},
     "output_type": "execute_result"
    },
    {
     "data": {
      "text/plain": [
       "Text(0.5, 1.0, '수축기혈압(최고)')"
      ]
     },
     "execution_count": 15,
     "metadata": {},
     "output_type": "execute_result"
    },
    {
     "data": {
      "image/png": "[encoded data removed]",
      "text/plain": [
       "<Figure size 432x288 with 1 Axes>"
      ]
     },
     "metadata": {
      "needs_background": "light"
     },
     "output_type": "display_data"
    },
    {
     "data": {
      "text/plain": [
       "<AxesSubplot:>"
      ]
     },
     "execution_count": 15,
     "metadata": {},
     "output_type": "execute_result"
    },
    {
     "data": {
      "text/plain": [
       "Text(0.5, 1.0, '앉아윗몸앞으로굽히기(cm)')"
      ]
     },
     "execution_count": 15,
     "metadata": {},
     "output_type": "execute_result"
    },
    {
     "data": {
      "image/png": "[encoded data removed]",
      "text/plain": [
       "<Figure size 432x288 with 1 Axes>"
      ]
     },
     "metadata": {
      "needs_background": "light"
     },
     "output_type": "display_data"
    },
    {
     "data": {
      "text/plain": [
       "<AxesSubplot:>"
      ]
     },
     "execution_count": 15,
     "metadata": {},
     "output_type": "execute_result"
    },
    {
     "data": {
      "text/plain": [
       "Text(0.5, 1.0, '교차윗몸일으키기(회)')"
      ]
     },
     "execution_count": 15,
     "metadata": {},
     "output_type": "execute_result"
    },
    {
     "data": {
      "image/png": "[encoded data removed]",
      "text/plain": [
       "<Figure size 432x288 with 1 Axes>"
      ]
     },
     "metadata": {
      "needs_background": "light"
     },
     "output_type": "display_data"
    },
    {
     "data": {
      "text/plain": [
       "<AxesSubplot:>"
      ]
     },
     "execution_count": 15,
     "metadata": {},
     "output_type": "execute_result"
    },
    {
     "data": {
      "text/plain": [
       "Text(0.5, 1.0, '왕복오래달리기(회)')"
      ]
     },
     "execution_count": 15,
     "metadata": {},
     "output_type": "execute_result"
    },
    {
     "data": {
      "image/png": "[encoded data removed]",
      "text/plain": [
       "<Figure size 432x288 with 1 Axes>"
      ]
     },
     "metadata": {
      "needs_background": "light"
     },
     "output_type": "display_data"
    },
    {
     "data": {
      "text/plain": [
       "<AxesSubplot:>"
      ]
     },
     "execution_count": 15,
     "metadata": {},
     "output_type": "execute_result"
    },
    {
     "data": {
      "text/plain": [
       "Text(0.5, 1.0, '10M 4회 왕복달리기(초)')"
      ]
     },
     "execution_count": 15,
     "metadata": {},
     "output_type": "execute_result"
    },
    {
     "data": {
      "image/png": "[encoded data removed]",
      "text/plain": [
       "<Figure size 432x288 with 1 Axes>"
      ]
     },
     "metadata": {
      "needs_background": "light"
     },
     "output_type": "display_data"
    },
    {
     "data": {
      "text/plain": [
       "<AxesSubplot:>"
      ]
     },
     "execution_count": 15,
     "metadata": {},
     "output_type": "execute_result"
    },
    {
     "data": {
      "text/plain": [
       "Text(0.5, 1.0, '제자리 멀리뛰기(cm)')"
      ]
     },
     "execution_count": 15,
     "metadata": {},
     "output_type": "execute_result"
    },
    {
     "data": {
      "image/png": "[encoded data removed]",
      "text/plain": [
       "<Figure size 432x288 with 1 Axes>"
      ]
     },
     "metadata": {
      "needs_background": "light"
     },
     "output_type": "display_data"
    },
    {
     "data": {
      "text/plain": [
       "<AxesSubplot:>"
      ]
     },
     "execution_count": 15,
     "metadata": {},
     "output_type": "execute_result"
    },
    {
     "data": {
      "text/plain": [
       "Text(0.5, 1.0, '상대악력(%)')"
      ]
     },
     "execution_count": 15,
     "metadata": {},
     "output_type": "execute_result"
    },
    {
     "data": {
      "image/png": "[encoded data removed]",
      "text/plain": [
       "<Figure size 432x288 with 1 Axes>"
      ]
     },
     "metadata": {
      "needs_background": "light"
     },
     "output_type": "display_data"
    }
   ],
   "source": [
    "# 박스 플롯\n",
    "plt.figure(figsize = (12,8))\n",
    "for i in range(0,12):\n",
    "    sns.boxplot(data = df[df.columns[i]],color = 'red' )\n",
    "    plt.title(df.columns[i], size=15)\n",
    "    plt.show()"
   ]
  },
  {
   "cell_type": "code",
   "execution_count": 16,
   "metadata": {
    "scrolled": true
   },
   "outputs": [
    {
     "data": {
      "text/html": [
       "<div>\n",
       "<style scoped>\n",
       "    .dataframe tbody tr th:only-of-type {\n",
       "        vertical-align: middle;\n",
       "    }\n",
       "\n",
       "    .dataframe tbody tr th {\n",
       "        vertical-align: top;\n",
       "    }\n",
       "\n",
       "    .dataframe thead th {\n",
       "        text-align: right;\n",
       "    }\n",
       "</style>\n",
       "<table border=\"1\" class=\"dataframe\">\n",
       "  <thead>\n",
       "    <tr style=\"text-align: right;\">\n",
       "      <th></th>\n",
       "      <th>나이</th>\n",
       "      <th>신장(cm)</th>\n",
       "      <th>체중(kg)</th>\n",
       "      <th>체지방율(%)</th>\n",
       "      <th>이완기혈압(최저)</th>\n",
       "      <th>수축기혈압(최고)</th>\n",
       "      <th>앉아윗몸앞으로굽히기(cm)</th>\n",
       "      <th>교차윗몸일으키기(회)</th>\n",
       "      <th>왕복오래달리기(회)</th>\n",
       "      <th>10M 4회 왕복달리기(초)</th>\n",
       "      <th>제자리 멀리뛰기(cm)</th>\n",
       "      <th>상대악력(%)</th>\n",
       "      <th>성별</th>\n",
       "    </tr>\n",
       "  </thead>\n",
       "  <tbody>\n",
       "    <tr>\n",
       "      <th>count</th>\n",
       "      <td>77730.000000</td>\n",
       "      <td>77730.000000</td>\n",
       "      <td>77730.000000</td>\n",
       "      <td>77730.000000</td>\n",
       "      <td>77730.000000</td>\n",
       "      <td>77730.000000</td>\n",
       "      <td>77730.000000</td>\n",
       "      <td>77730.000000</td>\n",
       "      <td>77730.000000</td>\n",
       "      <td>77730.000000</td>\n",
       "      <td>77730.000000</td>\n",
       "      <td>77730.000000</td>\n",
       "      <td>77730.000000</td>\n",
       "    </tr>\n",
       "    <tr>\n",
       "      <th>mean</th>\n",
       "      <td>34.618243</td>\n",
       "      <td>167.080305</td>\n",
       "      <td>65.933987</td>\n",
       "      <td>25.554479</td>\n",
       "      <td>77.026525</td>\n",
       "      <td>125.483378</td>\n",
       "      <td>12.420253</td>\n",
       "      <td>33.848249</td>\n",
       "      <td>30.296009</td>\n",
       "      <td>12.618279</td>\n",
       "      <td>172.637998</td>\n",
       "      <td>53.100683</td>\n",
       "      <td>0.512685</td>\n",
       "    </tr>\n",
       "    <tr>\n",
       "      <th>std</th>\n",
       "      <td>15.085226</td>\n",
       "      <td>8.964393</td>\n",
       "      <td>12.747167</td>\n",
       "      <td>8.323080</td>\n",
       "      <td>12.642672</td>\n",
       "      <td>23.592848</td>\n",
       "      <td>9.575798</td>\n",
       "      <td>16.138366</td>\n",
       "      <td>19.454985</td>\n",
       "      <td>5.173523</td>\n",
       "      <td>44.708314</td>\n",
       "      <td>13.138056</td>\n",
       "      <td>0.499842</td>\n",
       "    </tr>\n",
       "    <tr>\n",
       "      <th>min</th>\n",
       "      <td>18.000000</td>\n",
       "      <td>61.400000</td>\n",
       "      <td>17.900000</td>\n",
       "      <td>1.600000</td>\n",
       "      <td>0.000000</td>\n",
       "      <td>0.000000</td>\n",
       "      <td>-114.000000</td>\n",
       "      <td>0.000000</td>\n",
       "      <td>-6.700000</td>\n",
       "      <td>0.000000</td>\n",
       "      <td>0.000000</td>\n",
       "      <td>0.000000</td>\n",
       "      <td>0.000000</td>\n",
       "    </tr>\n",
       "    <tr>\n",
       "      <th>25%</th>\n",
       "      <td>22.000000</td>\n",
       "      <td>160.200000</td>\n",
       "      <td>56.000000</td>\n",
       "      <td>19.500000</td>\n",
       "      <td>70.000000</td>\n",
       "      <td>116.000000</td>\n",
       "      <td>6.800000</td>\n",
       "      <td>22.000000</td>\n",
       "      <td>15.000000</td>\n",
       "      <td>10.820000</td>\n",
       "      <td>140.000000</td>\n",
       "      <td>44.300000</td>\n",
       "      <td>0.000000</td>\n",
       "    </tr>\n",
       "    <tr>\n",
       "      <th>50%</th>\n",
       "      <td>27.000000</td>\n",
       "      <td>167.200000</td>\n",
       "      <td>64.700000</td>\n",
       "      <td>25.400000</td>\n",
       "      <td>77.000000</td>\n",
       "      <td>124.000000</td>\n",
       "      <td>13.500000</td>\n",
       "      <td>34.000000</td>\n",
       "      <td>25.000000</td>\n",
       "      <td>12.280000</td>\n",
       "      <td>172.000000</td>\n",
       "      <td>52.500000</td>\n",
       "      <td>1.000000</td>\n",
       "    </tr>\n",
       "    <tr>\n",
       "      <th>75%</th>\n",
       "      <td>49.000000</td>\n",
       "      <td>174.000000</td>\n",
       "      <td>74.100000</td>\n",
       "      <td>31.500000</td>\n",
       "      <td>83.000000</td>\n",
       "      <td>134.000000</td>\n",
       "      <td>19.200000</td>\n",
       "      <td>46.000000</td>\n",
       "      <td>42.000000</td>\n",
       "      <td>13.930000</td>\n",
       "      <td>209.000000</td>\n",
       "      <td>61.500000</td>\n",
       "      <td>1.000000</td>\n",
       "    </tr>\n",
       "    <tr>\n",
       "      <th>max</th>\n",
       "      <td>64.000000</td>\n",
       "      <td>199.100000</td>\n",
       "      <td>168.900000</td>\n",
       "      <td>358.000000</td>\n",
       "      <td>961.000000</td>\n",
       "      <td>5109.000000</td>\n",
       "      <td>209.000000</td>\n",
       "      <td>448.000000</td>\n",
       "      <td>132.000000</td>\n",
       "      <td>1260.000000</td>\n",
       "      <td>1091.000000</td>\n",
       "      <td>630.900000</td>\n",
       "      <td>1.000000</td>\n",
       "    </tr>\n",
       "  </tbody>\n",
       "</table>\n",
       "</div>"
      ],
      "text/plain": [
       "                 나이        신장(cm)        체중(kg)       체지방율(%)     이완기혈압(최저)  \\\n",
       "count  77730.000000  77730.000000  77730.000000  77730.000000  77730.000000   \n",
       "mean      34.618243    167.080305     65.933987     25.554479     77.026525   \n",
       "std       15.085226      8.964393     12.747167      8.323080     12.642672   \n",
       "min       18.000000     61.400000     17.900000      1.600000      0.000000   \n",
       "25%       22.000000    160.200000     56.000000     19.500000     70.000000   \n",
       "50%       27.000000    167.200000     64.700000     25.400000     77.000000   \n",
       "75%       49.000000    174.000000     74.100000     31.500000     83.000000   \n",
       "max       64.000000    199.100000    168.900000    358.000000    961.000000   \n",
       "\n",
       "          수축기혈압(최고)  앉아윗몸앞으로굽히기(cm)   교차윗몸일으키기(회)    왕복오래달리기(회)  \\\n",
       "count  77730.000000    77730.000000  77730.000000  77730.000000   \n",
       "mean     125.483378       12.420253     33.848249     30.296009   \n",
       "std       23.592848        9.575798     16.138366     19.454985   \n",
       "min        0.000000     -114.000000      0.000000     -6.700000   \n",
       "25%      116.000000        6.800000     22.000000     15.000000   \n",
       "50%      124.000000       13.500000     34.000000     25.000000   \n",
       "75%      134.000000       19.200000     46.000000     42.000000   \n",
       "max     5109.000000      209.000000    448.000000    132.000000   \n",
       "\n",
       "       10M 4회 왕복달리기(초)  제자리 멀리뛰기(cm)       상대악력(%)            성별  \n",
       "count     77730.000000  77730.000000  77730.000000  77730.000000  \n",
       "mean         12.618279    172.637998     53.100683      0.512685  \n",
       "std           5.173523     44.708314     13.138056      0.499842  \n",
       "min           0.000000      0.000000      0.000000      0.000000  \n",
       "25%          10.820000    140.000000     44.300000      0.000000  \n",
       "50%          12.280000    172.000000     52.500000      1.000000  \n",
       "75%          13.930000    209.000000     61.500000      1.000000  \n",
       "max        1260.000000   1091.000000    630.900000      1.000000  "
      ]
     },
     "execution_count": 16,
     "metadata": {},
     "output_type": "execute_result"
    }
   ],
   "source": [
    "df.describe()"
   ]
  },
  {
   "cell_type": "markdown",
   "metadata": {},
   "source": [
    "##### IQR Rule 을 활용하여 이상치 제거"
   ]
  },
  {
   "cell_type": "code",
   "execution_count": 17,
   "metadata": {},
   "outputs": [],
   "source": [
    "import numpy as np\n",
    "\n",
    "def IQR_Rule(val_list):# 피처 한개에 대해 작업\n",
    "    # IQR 계산\n",
    "    Q1 = np.quantile(val_list,0.25)\n",
    "    Q3 = np.quantile(val_list,0.75)\n",
    "    \n",
    "    IQR = Q3 - Q1 \n",
    "    \n",
    "    not_outlier_condition = (Q3 + 1.5 * IQR > val_list) & (Q1 - 1.5 * IQR < val_list)\n",
    "    return not_outlier_condition"
   ]
  },
  {
   "cell_type": "code",
   "execution_count": 18,
   "metadata": {},
   "outputs": [
    {
     "data": {
      "text/html": [
       "<div>\n",
       "<style scoped>\n",
       "    .dataframe tbody tr th:only-of-type {\n",
       "        vertical-align: middle;\n",
       "    }\n",
       "\n",
       "    .dataframe tbody tr th {\n",
       "        vertical-align: top;\n",
       "    }\n",
       "\n",
       "    .dataframe thead th {\n",
       "        text-align: right;\n",
       "    }\n",
       "</style>\n",
       "<table border=\"1\" class=\"dataframe\">\n",
       "  <thead>\n",
       "    <tr style=\"text-align: right;\">\n",
       "      <th></th>\n",
       "      <th>나이</th>\n",
       "      <th>신장(cm)</th>\n",
       "      <th>체중(kg)</th>\n",
       "      <th>체지방율(%)</th>\n",
       "      <th>이완기혈압(최저)</th>\n",
       "      <th>수축기혈압(최고)</th>\n",
       "      <th>앉아윗몸앞으로굽히기(cm)</th>\n",
       "      <th>교차윗몸일으키기(회)</th>\n",
       "      <th>왕복오래달리기(회)</th>\n",
       "      <th>10M 4회 왕복달리기(초)</th>\n",
       "      <th>제자리 멀리뛰기(cm)</th>\n",
       "      <th>상대악력(%)</th>\n",
       "      <th>성별</th>\n",
       "    </tr>\n",
       "  </thead>\n",
       "  <tbody>\n",
       "    <tr>\n",
       "      <th>0</th>\n",
       "      <td>True</td>\n",
       "      <td>True</td>\n",
       "      <td>True</td>\n",
       "      <td>True</td>\n",
       "      <td>True</td>\n",
       "      <td>True</td>\n",
       "      <td>True</td>\n",
       "      <td>True</td>\n",
       "      <td>True</td>\n",
       "      <td>True</td>\n",
       "      <td>True</td>\n",
       "      <td>True</td>\n",
       "      <td>True</td>\n",
       "    </tr>\n",
       "    <tr>\n",
       "      <th>1</th>\n",
       "      <td>True</td>\n",
       "      <td>True</td>\n",
       "      <td>True</td>\n",
       "      <td>True</td>\n",
       "      <td>True</td>\n",
       "      <td>True</td>\n",
       "      <td>True</td>\n",
       "      <td>True</td>\n",
       "      <td>True</td>\n",
       "      <td>True</td>\n",
       "      <td>True</td>\n",
       "      <td>True</td>\n",
       "      <td>True</td>\n",
       "    </tr>\n",
       "    <tr>\n",
       "      <th>2</th>\n",
       "      <td>True</td>\n",
       "      <td>True</td>\n",
       "      <td>True</td>\n",
       "      <td>True</td>\n",
       "      <td>True</td>\n",
       "      <td>True</td>\n",
       "      <td>True</td>\n",
       "      <td>True</td>\n",
       "      <td>True</td>\n",
       "      <td>True</td>\n",
       "      <td>True</td>\n",
       "      <td>True</td>\n",
       "      <td>True</td>\n",
       "    </tr>\n",
       "    <tr>\n",
       "      <th>5</th>\n",
       "      <td>True</td>\n",
       "      <td>True</td>\n",
       "      <td>True</td>\n",
       "      <td>True</td>\n",
       "      <td>True</td>\n",
       "      <td>True</td>\n",
       "      <td>True</td>\n",
       "      <td>True</td>\n",
       "      <td>True</td>\n",
       "      <td>True</td>\n",
       "      <td>True</td>\n",
       "      <td>True</td>\n",
       "      <td>True</td>\n",
       "    </tr>\n",
       "    <tr>\n",
       "      <th>6</th>\n",
       "      <td>True</td>\n",
       "      <td>True</td>\n",
       "      <td>True</td>\n",
       "      <td>True</td>\n",
       "      <td>True</td>\n",
       "      <td>True</td>\n",
       "      <td>True</td>\n",
       "      <td>True</td>\n",
       "      <td>True</td>\n",
       "      <td>True</td>\n",
       "      <td>True</td>\n",
       "      <td>True</td>\n",
       "      <td>True</td>\n",
       "    </tr>\n",
       "    <tr>\n",
       "      <th>...</th>\n",
       "      <td>...</td>\n",
       "      <td>...</td>\n",
       "      <td>...</td>\n",
       "      <td>...</td>\n",
       "      <td>...</td>\n",
       "      <td>...</td>\n",
       "      <td>...</td>\n",
       "      <td>...</td>\n",
       "      <td>...</td>\n",
       "      <td>...</td>\n",
       "      <td>...</td>\n",
       "      <td>...</td>\n",
       "      <td>...</td>\n",
       "    </tr>\n",
       "    <tr>\n",
       "      <th>105580</th>\n",
       "      <td>True</td>\n",
       "      <td>True</td>\n",
       "      <td>True</td>\n",
       "      <td>True</td>\n",
       "      <td>True</td>\n",
       "      <td>True</td>\n",
       "      <td>True</td>\n",
       "      <td>True</td>\n",
       "      <td>True</td>\n",
       "      <td>True</td>\n",
       "      <td>True</td>\n",
       "      <td>True</td>\n",
       "      <td>True</td>\n",
       "    </tr>\n",
       "    <tr>\n",
       "      <th>105581</th>\n",
       "      <td>True</td>\n",
       "      <td>True</td>\n",
       "      <td>True</td>\n",
       "      <td>True</td>\n",
       "      <td>True</td>\n",
       "      <td>True</td>\n",
       "      <td>True</td>\n",
       "      <td>True</td>\n",
       "      <td>True</td>\n",
       "      <td>True</td>\n",
       "      <td>True</td>\n",
       "      <td>True</td>\n",
       "      <td>True</td>\n",
       "    </tr>\n",
       "    <tr>\n",
       "      <th>105582</th>\n",
       "      <td>True</td>\n",
       "      <td>True</td>\n",
       "      <td>True</td>\n",
       "      <td>True</td>\n",
       "      <td>True</td>\n",
       "      <td>True</td>\n",
       "      <td>True</td>\n",
       "      <td>True</td>\n",
       "      <td>True</td>\n",
       "      <td>True</td>\n",
       "      <td>True</td>\n",
       "      <td>True</td>\n",
       "      <td>True</td>\n",
       "    </tr>\n",
       "    <tr>\n",
       "      <th>105585</th>\n",
       "      <td>True</td>\n",
       "      <td>True</td>\n",
       "      <td>True</td>\n",
       "      <td>True</td>\n",
       "      <td>True</td>\n",
       "      <td>True</td>\n",
       "      <td>True</td>\n",
       "      <td>True</td>\n",
       "      <td>True</td>\n",
       "      <td>True</td>\n",
       "      <td>True</td>\n",
       "      <td>True</td>\n",
       "      <td>True</td>\n",
       "    </tr>\n",
       "    <tr>\n",
       "      <th>105587</th>\n",
       "      <td>True</td>\n",
       "      <td>True</td>\n",
       "      <td>True</td>\n",
       "      <td>True</td>\n",
       "      <td>True</td>\n",
       "      <td>True</td>\n",
       "      <td>True</td>\n",
       "      <td>True</td>\n",
       "      <td>True</td>\n",
       "      <td>True</td>\n",
       "      <td>True</td>\n",
       "      <td>True</td>\n",
       "      <td>True</td>\n",
       "    </tr>\n",
       "  </tbody>\n",
       "</table>\n",
       "<p>77730 rows × 13 columns</p>\n",
       "</div>"
      ],
      "text/plain": [
       "          나이  신장(cm)  체중(kg)  체지방율(%)  이완기혈압(최저)  수축기혈압(최고)  앉아윗몸앞으로굽히기(cm)  \\\n",
       "0       True    True    True     True       True       True            True   \n",
       "1       True    True    True     True       True       True            True   \n",
       "2       True    True    True     True       True       True            True   \n",
       "5       True    True    True     True       True       True            True   \n",
       "6       True    True    True     True       True       True            True   \n",
       "...      ...     ...     ...      ...        ...        ...             ...   \n",
       "105580  True    True    True     True       True       True            True   \n",
       "105581  True    True    True     True       True       True            True   \n",
       "105582  True    True    True     True       True       True            True   \n",
       "105585  True    True    True     True       True       True            True   \n",
       "105587  True    True    True     True       True       True            True   \n",
       "\n",
       "        교차윗몸일으키기(회)  왕복오래달리기(회)  10M 4회 왕복달리기(초)  제자리 멀리뛰기(cm)  상대악력(%)    성별  \n",
       "0              True        True             True          True     True  True  \n",
       "1              True        True             True          True     True  True  \n",
       "2              True        True             True          True     True  True  \n",
       "5              True        True             True          True     True  True  \n",
       "6              True        True             True          True     True  True  \n",
       "...             ...         ...              ...           ...      ...   ...  \n",
       "105580         True        True             True          True     True  True  \n",
       "105581         True        True             True          True     True  True  \n",
       "105582         True        True             True          True     True  True  \n",
       "105585         True        True             True          True     True  True  \n",
       "105587         True        True             True          True     True  True  \n",
       "\n",
       "[77730 rows x 13 columns]"
      ]
     },
     "execution_count": 18,
     "metadata": {},
     "output_type": "execute_result"
    }
   ],
   "source": [
    "conditions = df.apply(IQR_Rule)\n",
    "conditions"
   ]
  },
  {
   "cell_type": "code",
   "execution_count": 19,
   "metadata": {},
   "outputs": [
    {
     "data": {
      "text/plain": [
       "0         True\n",
       "1         True\n",
       "2         True\n",
       "5         True\n",
       "6         True\n",
       "          ... \n",
       "105580    True\n",
       "105581    True\n",
       "105582    True\n",
       "105585    True\n",
       "105587    True\n",
       "Length: 77730, dtype: bool"
      ]
     },
     "execution_count": 19,
     "metadata": {},
     "output_type": "execute_result"
    }
   ],
   "source": [
    "conditions.sum(axis=1) == len(df.columns)\n",
    "# 이상치 제거 값 저장\n",
    "total_cond = conditions.sum(axis=1) == len(df.columns)\n",
    "\n",
    "df1 = df.loc[total_cond]"
   ]
  },
  {
   "cell_type": "code",
   "execution_count": 20,
   "metadata": {},
   "outputs": [
    {
     "data": {
      "text/plain": [
       "<Figure size 864x576 with 0 Axes>"
      ]
     },
     "execution_count": 20,
     "metadata": {},
     "output_type": "execute_result"
    },
    {
     "data": {
      "text/plain": [
       "<AxesSubplot:xlabel='나이', ylabel='Count'>"
      ]
     },
     "execution_count": 20,
     "metadata": {},
     "output_type": "execute_result"
    },
    {
     "data": {
      "text/plain": [
       "Text(0.5, 1.0, '나이')"
      ]
     },
     "execution_count": 20,
     "metadata": {},
     "output_type": "execute_result"
    },
    {
     "data": {
      "image/png": "[encoded data removed]",
      "text/plain": [
       "<Figure size 864x576 with 1 Axes>"
      ]
     },
     "metadata": {
      "needs_background": "light"
     },
     "output_type": "display_data"
    },
    {
     "data": {
      "text/plain": [
       "<AxesSubplot:xlabel='신장(cm)', ylabel='Count'>"
      ]
     },
     "execution_count": 20,
     "metadata": {},
     "output_type": "execute_result"
    },
    {
     "data": {
      "text/plain": [
       "Text(0.5, 1.0, '신장(cm)')"
      ]
     },
     "execution_count": 20,
     "metadata": {},
     "output_type": "execute_result"
    },
    {
     "data": {
      "image/png": "[encoded data removed]",
      "text/plain": [
       "<Figure size 432x288 with 1 Axes>"
      ]
     },
     "metadata": {
      "needs_background": "light"
     },
     "output_type": "display_data"
    },
    {
     "data": {
      "text/plain": [
       "<AxesSubplot:xlabel='체중(kg)', ylabel='Count'>"
      ]
     },
     "execution_count": 20,
     "metadata": {},
     "output_type": "execute_result"
    },
    {
     "data": {
      "text/plain": [
       "Text(0.5, 1.0, '체중(kg)')"
      ]
     },
     "execution_count": 20,
     "metadata": {},
     "output_type": "execute_result"
    },
    {
     "data": {
      "image/png": "[encoded data removed]",
      "text/plain": [
       "<Figure size 432x288 with 1 Axes>"
      ]
     },
     "metadata": {
      "needs_background": "light"
     },
     "output_type": "display_data"
    },
    {
     "data": {
      "text/plain": [
       "<AxesSubplot:xlabel='체지방율(%)', ylabel='Count'>"
      ]
     },
     "execution_count": 20,
     "metadata": {},
     "output_type": "execute_result"
    },
    {
     "data": {
      "text/plain": [
       "Text(0.5, 1.0, '체지방율(%)')"
      ]
     },
     "execution_count": 20,
     "metadata": {},
     "output_type": "execute_result"
    },
    {
     "data": {
      "image/png": "[encoded data removed]",
      "text/plain": [
       "<Figure size 432x288 with 1 Axes>"
      ]
     },
     "metadata": {
      "needs_background": "light"
     },
     "output_type": "display_data"
    },
    {
     "data": {
      "text/plain": [
       "<AxesSubplot:xlabel='이완기혈압(최저)', ylabel='Count'>"
      ]
     },
     "execution_count": 20,
     "metadata": {},
     "output_type": "execute_result"
    },
    {
     "data": {
      "text/plain": [
       "Text(0.5, 1.0, '이완기혈압(최저)')"
      ]
     },
     "execution_count": 20,
     "metadata": {},
     "output_type": "execute_result"
    },
    {
     "data": {
      "image/png": "[encoded data removed]",
      "text/plain": [
       "<Figure size 432x288 with 1 Axes>"
      ]
     },
     "metadata": {
      "needs_background": "light"
     },
     "output_type": "display_data"
    },
    {
     "data": {
      "text/plain": [
       "<AxesSubplot:xlabel='수축기혈압(최고)', ylabel='Count'>"
      ]
     },
     "execution_count": 20,
     "metadata": {},
     "output_type": "execute_result"
    },
    {
     "data": {
      "text/plain": [
       "Text(0.5, 1.0, '수축기혈압(최고)')"
      ]
     },
     "execution_count": 20,
     "metadata": {},
     "output_type": "execute_result"
    },
    {
     "data": {
      "image/png": "[encoded data removed]",
      "text/plain": [
       "<Figure size 432x288 with 1 Axes>"
      ]
     },
     "metadata": {
      "needs_background": "light"
     },
     "output_type": "display_data"
    },
    {
     "data": {
      "text/plain": [
       "<AxesSubplot:xlabel='앉아윗몸앞으로굽히기(cm)', ylabel='Count'>"
      ]
     },
     "execution_count": 20,
     "metadata": {},
     "output_type": "execute_result"
    },
    {
     "data": {
      "text/plain": [
       "Text(0.5, 1.0, '앉아윗몸앞으로굽히기(cm)')"
      ]
     },
     "execution_count": 20,
     "metadata": {},
     "output_type": "execute_result"
    },
    {
     "data": {
      "image/png": "[encoded data removed]",
      "text/plain": [
       "<Figure size 432x288 with 1 Axes>"
      ]
     },
     "metadata": {
      "needs_background": "light"
     },
     "output_type": "display_data"
    },
    {
     "data": {
      "text/plain": [
       "<AxesSubplot:xlabel='교차윗몸일으키기(회)', ylabel='Count'>"
      ]
     },
     "execution_count": 20,
     "metadata": {},
     "output_type": "execute_result"
    },
    {
     "data": {
      "text/plain": [
       "Text(0.5, 1.0, '교차윗몸일으키기(회)')"
      ]
     },
     "execution_count": 20,
     "metadata": {},
     "output_type": "execute_result"
    },
    {
     "data": {
      "image/png": "[encoded data removed]",
      "text/plain": [
       "<Figure size 432x288 with 1 Axes>"
      ]
     },
     "metadata": {
      "needs_background": "light"
     },
     "output_type": "display_data"
    },
    {
     "data": {
      "text/plain": [
       "<AxesSubplot:xlabel='왕복오래달리기(회)', ylabel='Count'>"
      ]
     },
     "execution_count": 20,
     "metadata": {},
     "output_type": "execute_result"
    },
    {
     "data": {
      "text/plain": [
       "Text(0.5, 1.0, '왕복오래달리기(회)')"
      ]
     },
     "execution_count": 20,
     "metadata": {},
     "output_type": "execute_result"
    },
    {
     "data": {
      "image/png": "[encoded data removed]",
      "text/plain": [
       "<Figure size 432x288 with 1 Axes>"
      ]
     },
     "metadata": {
      "needs_background": "light"
     },
     "output_type": "display_data"
    },
    {
     "data": {
      "text/plain": [
       "<AxesSubplot:xlabel='10M 4회 왕복달리기(초)', ylabel='Count'>"
      ]
     },
     "execution_count": 20,
     "metadata": {},
     "output_type": "execute_result"
    },
    {
     "data": {
      "text/plain": [
       "Text(0.5, 1.0, '10M 4회 왕복달리기(초)')"
      ]
     },
     "execution_count": 20,
     "metadata": {},
     "output_type": "execute_result"
    },
    {
     "data": {
      "image/png": "[encoded data removed]",
      "text/plain": [
       "<Figure size 432x288 with 1 Axes>"
      ]
     },
     "metadata": {
      "needs_background": "light"
     },
     "output_type": "display_data"
    },
    {
     "data": {
      "text/plain": [
       "<AxesSubplot:xlabel='제자리 멀리뛰기(cm)', ylabel='Count'>"
      ]
     },
     "execution_count": 20,
     "metadata": {},
     "output_type": "execute_result"
    },
    {
     "data": {
      "text/plain": [
       "Text(0.5, 1.0, '제자리 멀리뛰기(cm)')"
      ]
     },
     "execution_count": 20,
     "metadata": {},
     "output_type": "execute_result"
    },
    {
     "data": {
      "image/png": "[encoded data removed]",
      "text/plain": [
       "<Figure size 432x288 with 1 Axes>"
      ]
     },
     "metadata": {
      "needs_background": "light"
     },
     "output_type": "display_data"
    },
    {
     "data": {
      "text/plain": [
       "<AxesSubplot:xlabel='상대악력(%)', ylabel='Count'>"
      ]
     },
     "execution_count": 20,
     "metadata": {},
     "output_type": "execute_result"
    },
    {
     "data": {
      "text/plain": [
       "Text(0.5, 1.0, '상대악력(%)')"
      ]
     },
     "execution_count": 20,
     "metadata": {},
     "output_type": "execute_result"
    },
    {
     "data": {
      "image/png": "[encoded data removed]",
      "text/plain": [
       "<Figure size 432x288 with 1 Axes>"
      ]
     },
     "metadata": {
      "needs_background": "light"
     },
     "output_type": "display_data"
    }
   ],
   "source": [
    "# 이상치 제거 후 히스토 플롯\n",
    "plt.figure(figsize = (12,8))\n",
    "for i in range(0,12):\n",
    "    sns.histplot(data = df1[df1.columns[i]] ,color = 'blue' )\n",
    "    plt.title(df1.columns[i], size=15)\n",
    "    plt.show()"
   ]
  },
  {
   "cell_type": "code",
   "execution_count": 21,
   "metadata": {},
   "outputs": [
    {
     "data": {
      "text/html": [
       "<div>\n",
       "<style scoped>\n",
       "    .dataframe tbody tr th:only-of-type {\n",
       "        vertical-align: middle;\n",
       "    }\n",
       "\n",
       "    .dataframe tbody tr th {\n",
       "        vertical-align: top;\n",
       "    }\n",
       "\n",
       "    .dataframe thead th {\n",
       "        text-align: right;\n",
       "    }\n",
       "</style>\n",
       "<table border=\"1\" class=\"dataframe\">\n",
       "  <thead>\n",
       "    <tr style=\"text-align: right;\">\n",
       "      <th></th>\n",
       "      <th>나이</th>\n",
       "      <th>신장(cm)</th>\n",
       "      <th>체중(kg)</th>\n",
       "      <th>체지방율(%)</th>\n",
       "      <th>이완기혈압(최저)</th>\n",
       "      <th>수축기혈압(최고)</th>\n",
       "      <th>앉아윗몸앞으로굽히기(cm)</th>\n",
       "      <th>교차윗몸일으키기(회)</th>\n",
       "      <th>왕복오래달리기(회)</th>\n",
       "      <th>10M 4회 왕복달리기(초)</th>\n",
       "      <th>제자리 멀리뛰기(cm)</th>\n",
       "      <th>상대악력(%)</th>\n",
       "      <th>성별</th>\n",
       "    </tr>\n",
       "  </thead>\n",
       "  <tbody>\n",
       "    <tr>\n",
       "      <th>count</th>\n",
       "      <td>71963.000000</td>\n",
       "      <td>71963.000000</td>\n",
       "      <td>71963.000000</td>\n",
       "      <td>71963.000000</td>\n",
       "      <td>71963.000000</td>\n",
       "      <td>71963.000000</td>\n",
       "      <td>71963.000000</td>\n",
       "      <td>71963.000000</td>\n",
       "      <td>71963.000000</td>\n",
       "      <td>71963.000000</td>\n",
       "      <td>71963.000000</td>\n",
       "      <td>71963.000000</td>\n",
       "      <td>71963.000000</td>\n",
       "    </tr>\n",
       "    <tr>\n",
       "      <th>mean</th>\n",
       "      <td>34.596001</td>\n",
       "      <td>166.956977</td>\n",
       "      <td>65.377138</td>\n",
       "      <td>25.467367</td>\n",
       "      <td>77.016586</td>\n",
       "      <td>125.383674</td>\n",
       "      <td>12.980309</td>\n",
       "      <td>34.036470</td>\n",
       "      <td>29.949940</td>\n",
       "      <td>12.498616</td>\n",
       "      <td>173.754049</td>\n",
       "      <td>53.212049</td>\n",
       "      <td>0.501522</td>\n",
       "    </tr>\n",
       "    <tr>\n",
       "      <th>std</th>\n",
       "      <td>14.989858</td>\n",
       "      <td>8.793646</td>\n",
       "      <td>12.007567</td>\n",
       "      <td>7.943251</td>\n",
       "      <td>9.589346</td>\n",
       "      <td>13.515543</td>\n",
       "      <td>8.775129</td>\n",
       "      <td>15.606776</td>\n",
       "      <td>17.849963</td>\n",
       "      <td>2.020427</td>\n",
       "      <td>41.796926</td>\n",
       "      <td>11.733371</td>\n",
       "      <td>0.500001</td>\n",
       "    </tr>\n",
       "    <tr>\n",
       "      <th>min</th>\n",
       "      <td>18.000000</td>\n",
       "      <td>139.500000</td>\n",
       "      <td>30.800000</td>\n",
       "      <td>1.600000</td>\n",
       "      <td>51.000000</td>\n",
       "      <td>90.000000</td>\n",
       "      <td>-11.700000</td>\n",
       "      <td>0.000000</td>\n",
       "      <td>-6.700000</td>\n",
       "      <td>6.900000</td>\n",
       "      <td>41.000000</td>\n",
       "      <td>18.500000</td>\n",
       "      <td>0.000000</td>\n",
       "    </tr>\n",
       "    <tr>\n",
       "      <th>25%</th>\n",
       "      <td>22.000000</td>\n",
       "      <td>160.200000</td>\n",
       "      <td>55.800000</td>\n",
       "      <td>19.600000</td>\n",
       "      <td>70.000000</td>\n",
       "      <td>116.000000</td>\n",
       "      <td>7.300000</td>\n",
       "      <td>23.000000</td>\n",
       "      <td>16.000000</td>\n",
       "      <td>10.860000</td>\n",
       "      <td>141.000000</td>\n",
       "      <td>44.700000</td>\n",
       "      <td>0.000000</td>\n",
       "    </tr>\n",
       "    <tr>\n",
       "      <th>50%</th>\n",
       "      <td>27.000000</td>\n",
       "      <td>167.000000</td>\n",
       "      <td>64.300000</td>\n",
       "      <td>25.300000</td>\n",
       "      <td>77.000000</td>\n",
       "      <td>124.000000</td>\n",
       "      <td>13.800000</td>\n",
       "      <td>35.000000</td>\n",
       "      <td>25.000000</td>\n",
       "      <td>12.280000</td>\n",
       "      <td>172.000000</td>\n",
       "      <td>52.700000</td>\n",
       "      <td>1.000000</td>\n",
       "    </tr>\n",
       "    <tr>\n",
       "      <th>75%</th>\n",
       "      <td>48.000000</td>\n",
       "      <td>173.700000</td>\n",
       "      <td>73.700000</td>\n",
       "      <td>31.300000</td>\n",
       "      <td>83.000000</td>\n",
       "      <td>134.000000</td>\n",
       "      <td>19.400000</td>\n",
       "      <td>46.000000</td>\n",
       "      <td>42.000000</td>\n",
       "      <td>13.850000</td>\n",
       "      <td>208.000000</td>\n",
       "      <td>61.400000</td>\n",
       "      <td>1.000000</td>\n",
       "    </tr>\n",
       "    <tr>\n",
       "      <th>max</th>\n",
       "      <td>64.000000</td>\n",
       "      <td>194.500000</td>\n",
       "      <td>101.200000</td>\n",
       "      <td>49.400000</td>\n",
       "      <td>102.000000</td>\n",
       "      <td>160.000000</td>\n",
       "      <td>37.000000</td>\n",
       "      <td>81.000000</td>\n",
       "      <td>82.000000</td>\n",
       "      <td>18.590000</td>\n",
       "      <td>310.000000</td>\n",
       "      <td>87.300000</td>\n",
       "      <td>1.000000</td>\n",
       "    </tr>\n",
       "  </tbody>\n",
       "</table>\n",
       "</div>"
      ],
      "text/plain": [
       "                 나이        신장(cm)        체중(kg)       체지방율(%)     이완기혈압(최저)  \\\n",
       "count  71963.000000  71963.000000  71963.000000  71963.000000  71963.000000   \n",
       "mean      34.596001    166.956977     65.377138     25.467367     77.016586   \n",
       "std       14.989858      8.793646     12.007567      7.943251      9.589346   \n",
       "min       18.000000    139.500000     30.800000      1.600000     51.000000   \n",
       "25%       22.000000    160.200000     55.800000     19.600000     70.000000   \n",
       "50%       27.000000    167.000000     64.300000     25.300000     77.000000   \n",
       "75%       48.000000    173.700000     73.700000     31.300000     83.000000   \n",
       "max       64.000000    194.500000    101.200000     49.400000    102.000000   \n",
       "\n",
       "          수축기혈압(최고)  앉아윗몸앞으로굽히기(cm)   교차윗몸일으키기(회)    왕복오래달리기(회)  \\\n",
       "count  71963.000000    71963.000000  71963.000000  71963.000000   \n",
       "mean     125.383674       12.980309     34.036470     29.949940   \n",
       "std       13.515543        8.775129     15.606776     17.849963   \n",
       "min       90.000000      -11.700000      0.000000     -6.700000   \n",
       "25%      116.000000        7.300000     23.000000     16.000000   \n",
       "50%      124.000000       13.800000     35.000000     25.000000   \n",
       "75%      134.000000       19.400000     46.000000     42.000000   \n",
       "max      160.000000       37.000000     81.000000     82.000000   \n",
       "\n",
       "       10M 4회 왕복달리기(초)  제자리 멀리뛰기(cm)       상대악력(%)            성별  \n",
       "count     71963.000000  71963.000000  71963.000000  71963.000000  \n",
       "mean         12.498616    173.754049     53.212049      0.501522  \n",
       "std           2.020427     41.796926     11.733371      0.500001  \n",
       "min           6.900000     41.000000     18.500000      0.000000  \n",
       "25%          10.860000    141.000000     44.700000      0.000000  \n",
       "50%          12.280000    172.000000     52.700000      1.000000  \n",
       "75%          13.850000    208.000000     61.400000      1.000000  \n",
       "max          18.590000    310.000000     87.300000      1.000000  "
      ]
     },
     "execution_count": 21,
     "metadata": {},
     "output_type": "execute_result"
    }
   ],
   "source": [
    "df1.describe()"
   ]
  },
  {
   "cell_type": "code",
   "execution_count": 22,
   "metadata": {},
   "outputs": [
    {
     "name": "stderr",
     "output_type": "stream",
     "text": [
      "<ipython-input-22-2b7abda28d49>:1: SettingWithCopyWarning: \n",
      "A value is trying to be set on a copy of a slice from a DataFrame.\n",
      "Try using .loc[row_indexer,col_indexer] = value instead\n",
      "\n",
      "See the caveats in the documentation: https://pandas.pydata.org/pandas-docs/stable/user_guide/indexing.html#returning-a-view-versus-a-copy\n",
      "  df1['왕복오래달리기(회)'] = df1['왕복오래달리기(회)'].abs()\n"
     ]
    }
   ],
   "source": [
    "df1['왕복오래달리기(회)'] = df1['왕복오래달리기(회)'].abs()"
   ]
  },
  {
   "cell_type": "code",
   "execution_count": 23,
   "metadata": {},
   "outputs": [
    {
     "data": {
      "text/plain": [
       "<Figure size 1296x1008 with 0 Axes>"
      ]
     },
     "execution_count": 23,
     "metadata": {},
     "output_type": "execute_result"
    },
    {
     "data": {
      "text/plain": [
       "<AxesSubplot:>"
      ]
     },
     "execution_count": 23,
     "metadata": {},
     "output_type": "execute_result"
    },
    {
     "data": {
      "image/png": "[encoded data removed]",
      "text/plain": [
       "<Figure size 1296x1008 with 2 Axes>"
      ]
     },
     "metadata": {
      "needs_background": "light"
     },
     "output_type": "display_data"
    }
   ],
   "source": [
    "mat = np.zeros_like(df1.corr(method = 'pearson'))\n",
    "\n",
    "# 상관관계 \n",
    "plt.figure(figsize=(18,14))\n",
    "sns.heatmap(df1.corr(method = 'pearson'),\n",
    "            vmin = 0, vmax = +1, \n",
    "            annot = True, \n",
    "            cmap = 'RdYlBu_r', \n",
    "            linewidths=1,\n",
    "            cbar_kws={\"shrink\": 0.4},\n",
    "            mask = mat)"
   ]
  },
  {
   "cell_type": "code",
   "execution_count": 24,
   "metadata": {},
   "outputs": [],
   "source": [
    "from sklearn.cluster import KMeans\n",
    "from sklearn.preprocessing import scale\n",
    "# 실루엣 분석 metric 값을 구하기 위한 API 추가\n",
    "from sklearn.metrics import silhouette_samples, silhouette_score"
   ]
  },
  {
   "cell_type": "markdown",
   "metadata": {},
   "source": [
    "##### 성별을 구분하여 작업"
   ]
  },
  {
   "cell_type": "code",
   "execution_count": 25,
   "metadata": {
    "scrolled": true
   },
   "outputs": [
    {
     "data": {
      "text/html": [
       "<div>\n",
       "<style scoped>\n",
       "    .dataframe tbody tr th:only-of-type {\n",
       "        vertical-align: middle;\n",
       "    }\n",
       "\n",
       "    .dataframe tbody tr th {\n",
       "        vertical-align: top;\n",
       "    }\n",
       "\n",
       "    .dataframe thead th {\n",
       "        text-align: right;\n",
       "    }\n",
       "</style>\n",
       "<table border=\"1\" class=\"dataframe\">\n",
       "  <thead>\n",
       "    <tr style=\"text-align: right;\">\n",
       "      <th></th>\n",
       "      <th>나이</th>\n",
       "      <th>신장(cm)</th>\n",
       "      <th>체중(kg)</th>\n",
       "      <th>체지방율(%)</th>\n",
       "      <th>이완기혈압(최저)</th>\n",
       "      <th>수축기혈압(최고)</th>\n",
       "      <th>앉아윗몸앞으로굽히기(cm)</th>\n",
       "      <th>교차윗몸일으키기(회)</th>\n",
       "      <th>왕복오래달리기(회)</th>\n",
       "      <th>10M 4회 왕복달리기(초)</th>\n",
       "      <th>제자리 멀리뛰기(cm)</th>\n",
       "      <th>상대악력(%)</th>\n",
       "      <th>성별</th>\n",
       "    </tr>\n",
       "  </thead>\n",
       "  <tbody>\n",
       "    <tr>\n",
       "      <th>0</th>\n",
       "      <td>19</td>\n",
       "      <td>166.4</td>\n",
       "      <td>59.80</td>\n",
       "      <td>33.54784</td>\n",
       "      <td>77.0</td>\n",
       "      <td>114.0</td>\n",
       "      <td>35.2</td>\n",
       "      <td>35.0</td>\n",
       "      <td>21.0</td>\n",
       "      <td>11.89</td>\n",
       "      <td>170.0</td>\n",
       "      <td>42.6</td>\n",
       "      <td>0</td>\n",
       "    </tr>\n",
       "    <tr>\n",
       "      <th>1</th>\n",
       "      <td>55</td>\n",
       "      <td>159.8</td>\n",
       "      <td>60.00</td>\n",
       "      <td>34.00000</td>\n",
       "      <td>93.0</td>\n",
       "      <td>149.0</td>\n",
       "      <td>13.2</td>\n",
       "      <td>15.0</td>\n",
       "      <td>10.0</td>\n",
       "      <td>17.79</td>\n",
       "      <td>113.0</td>\n",
       "      <td>39.4</td>\n",
       "      <td>0</td>\n",
       "    </tr>\n",
       "    <tr>\n",
       "      <th>2</th>\n",
       "      <td>52</td>\n",
       "      <td>163.3</td>\n",
       "      <td>62.06</td>\n",
       "      <td>28.60000</td>\n",
       "      <td>78.0</td>\n",
       "      <td>134.0</td>\n",
       "      <td>21.7</td>\n",
       "      <td>22.0</td>\n",
       "      <td>14.0</td>\n",
       "      <td>15.23</td>\n",
       "      <td>130.0</td>\n",
       "      <td>40.9</td>\n",
       "      <td>0</td>\n",
       "    </tr>\n",
       "    <tr>\n",
       "      <th>5</th>\n",
       "      <td>63</td>\n",
       "      <td>172.3</td>\n",
       "      <td>77.80</td>\n",
       "      <td>26.20000</td>\n",
       "      <td>73.0</td>\n",
       "      <td>126.0</td>\n",
       "      <td>13.2</td>\n",
       "      <td>27.0</td>\n",
       "      <td>18.0</td>\n",
       "      <td>13.82</td>\n",
       "      <td>160.0</td>\n",
       "      <td>45.7</td>\n",
       "      <td>1</td>\n",
       "    </tr>\n",
       "    <tr>\n",
       "      <th>6</th>\n",
       "      <td>62</td>\n",
       "      <td>160.1</td>\n",
       "      <td>62.40</td>\n",
       "      <td>26.50000</td>\n",
       "      <td>70.0</td>\n",
       "      <td>128.0</td>\n",
       "      <td>17.0</td>\n",
       "      <td>32.0</td>\n",
       "      <td>16.0</td>\n",
       "      <td>12.42</td>\n",
       "      <td>196.0</td>\n",
       "      <td>65.5</td>\n",
       "      <td>1</td>\n",
       "    </tr>\n",
       "  </tbody>\n",
       "</table>\n",
       "</div>"
      ],
      "text/plain": [
       "   나이  신장(cm)  체중(kg)   체지방율(%)  이완기혈압(최저)  수축기혈압(최고)  앉아윗몸앞으로굽히기(cm)  \\\n",
       "0  19   166.4   59.80  33.54784       77.0      114.0            35.2   \n",
       "1  55   159.8   60.00  34.00000       93.0      149.0            13.2   \n",
       "2  52   163.3   62.06  28.60000       78.0      134.0            21.7   \n",
       "5  63   172.3   77.80  26.20000       73.0      126.0            13.2   \n",
       "6  62   160.1   62.40  26.50000       70.0      128.0            17.0   \n",
       "\n",
       "   교차윗몸일으키기(회)  왕복오래달리기(회)  10M 4회 왕복달리기(초)  제자리 멀리뛰기(cm)  상대악력(%)  성별  \n",
       "0         35.0        21.0            11.89         170.0     42.6   0  \n",
       "1         15.0        10.0            17.79         113.0     39.4   0  \n",
       "2         22.0        14.0            15.23         130.0     40.9   0  \n",
       "5         27.0        18.0            13.82         160.0     45.7   1  \n",
       "6         32.0        16.0            12.42         196.0     65.5   1  "
      ]
     },
     "execution_count": 25,
     "metadata": {},
     "output_type": "execute_result"
    }
   ],
   "source": [
    "## 군집화를 위해 DF로 변환_\n",
    "df_1=pd.DataFrame(data=df1,columns=df1.columns)\n",
    "df_1.head(5)"
   ]
  },
  {
   "cell_type": "code",
   "execution_count": 26,
   "metadata": {},
   "outputs": [],
   "source": [
    "df_1_f = df_1[df_1['성별']==0]\n",
    "df_1_m = df_1[df_1['성별']==1]"
   ]
  },
  {
   "cell_type": "code",
   "execution_count": 27,
   "metadata": {
    "scrolled": true
   },
   "outputs": [
    {
     "name": "stderr",
     "output_type": "stream",
     "text": [
      "C:\\Users\\82104\\Anaconda3\\lib\\site-packages\\pandas\\core\\frame.py:4163: SettingWithCopyWarning: \n",
      "A value is trying to be set on a copy of a slice from a DataFrame\n",
      "\n",
      "See the caveats in the documentation: https://pandas.pydata.org/pandas-docs/stable/user_guide/indexing.html#returning-a-view-versus-a-copy\n",
      "  return super().drop(\n"
     ]
    }
   ],
   "source": [
    "df_1_f.drop(['성별'],axis=1, inplace=True)\n",
    "df_1_m.drop(['성별'],axis=1, inplace = True)"
   ]
  },
  {
   "cell_type": "markdown",
   "metadata": {},
   "source": [
    "##### k 값을 찾기 위해 elbow curve 활용"
   ]
  },
  {
   "cell_type": "code",
   "execution_count": 28,
   "metadata": {},
   "outputs": [
    {
     "data": {
      "text/plain": [
       "KMeans(n_clusters=2)"
      ]
     },
     "execution_count": 28,
     "metadata": {},
     "output_type": "execute_result"
    },
    {
     "data": {
      "text/plain": [
       "KMeans(n_clusters=3)"
      ]
     },
     "execution_count": 28,
     "metadata": {},
     "output_type": "execute_result"
    },
    {
     "data": {
      "text/plain": [
       "KMeans(n_clusters=4)"
      ]
     },
     "execution_count": 28,
     "metadata": {},
     "output_type": "execute_result"
    },
    {
     "data": {
      "text/plain": [
       "KMeans(n_clusters=5)"
      ]
     },
     "execution_count": 28,
     "metadata": {},
     "output_type": "execute_result"
    },
    {
     "data": {
      "text/plain": [
       "KMeans(n_clusters=6)"
      ]
     },
     "execution_count": 28,
     "metadata": {},
     "output_type": "execute_result"
    },
    {
     "data": {
      "text/plain": [
       "KMeans(n_clusters=7)"
      ]
     },
     "execution_count": 28,
     "metadata": {},
     "output_type": "execute_result"
    },
    {
     "data": {
      "text/plain": [
       "KMeans()"
      ]
     },
     "execution_count": 28,
     "metadata": {},
     "output_type": "execute_result"
    },
    {
     "data": {
      "text/plain": [
       "KMeans(n_clusters=9)"
      ]
     },
     "execution_count": 28,
     "metadata": {},
     "output_type": "execute_result"
    },
    {
     "data": {
      "text/plain": [
       "KMeans(n_clusters=10)"
      ]
     },
     "execution_count": 28,
     "metadata": {},
     "output_type": "execute_result"
    },
    {
     "data": {
      "text/plain": [
       "KMeans(n_clusters=11)"
      ]
     },
     "execution_count": 28,
     "metadata": {},
     "output_type": "execute_result"
    },
    {
     "data": {
      "text/plain": [
       "KMeans(n_clusters=12)"
      ]
     },
     "execution_count": 28,
     "metadata": {},
     "output_type": "execute_result"
    },
    {
     "data": {
      "text/plain": [
       "KMeans(n_clusters=13)"
      ]
     },
     "execution_count": 28,
     "metadata": {},
     "output_type": "execute_result"
    },
    {
     "data": {
      "text/plain": [
       "KMeans(n_clusters=14)"
      ]
     },
     "execution_count": 28,
     "metadata": {},
     "output_type": "execute_result"
    },
    {
     "data": {
      "text/plain": [
       "KMeans(n_clusters=15)"
      ]
     },
     "execution_count": 28,
     "metadata": {},
     "output_type": "execute_result"
    },
    {
     "data": {
      "text/plain": [
       "KMeans(n_clusters=16)"
      ]
     },
     "execution_count": 28,
     "metadata": {},
     "output_type": "execute_result"
    },
    {
     "data": {
      "text/plain": [
       "KMeans(n_clusters=17)"
      ]
     },
     "execution_count": 28,
     "metadata": {},
     "output_type": "execute_result"
    },
    {
     "data": {
      "text/plain": [
       "KMeans(n_clusters=18)"
      ]
     },
     "execution_count": 28,
     "metadata": {},
     "output_type": "execute_result"
    },
    {
     "data": {
      "text/plain": [
       "KMeans(n_clusters=19)"
      ]
     },
     "execution_count": 28,
     "metadata": {},
     "output_type": "execute_result"
    },
    {
     "data": {
      "text/plain": [
       "[<matplotlib.lines.Line2D at 0x1e47b024400>]"
      ]
     },
     "execution_count": 28,
     "metadata": {},
     "output_type": "execute_result"
    },
    {
     "data": {
      "text/plain": [
       "<matplotlib.collections.PathCollection at 0x1e47ad1f310>"
      ]
     },
     "execution_count": 28,
     "metadata": {},
     "output_type": "execute_result"
    },
    {
     "data": {
      "text/plain": [
       "Text(0.5, 1.0, 'Elbow curve')"
      ]
     },
     "execution_count": 28,
     "metadata": {},
     "output_type": "execute_result"
    },
    {
     "data": {
      "image/png": "[encoded data removed]",
      "text/plain": [
       "<Figure size 720x360 with 1 Axes>"
      ]
     },
     "metadata": {
      "needs_background": "light"
     },
     "output_type": "display_data"
    }
   ],
   "source": [
    "distortions = []\n",
    "for k in range(2, 20):\n",
    "    kmeans = KMeans(n_clusters=k)\n",
    "    kmeans.fit(df_1_f)\n",
    "    distortions.append(kmeans.inertia_)\n",
    "fig = plt.figure(figsize=(10, 5))\n",
    "plt.plot(range(2, 20), distortions)\n",
    "plt.scatter(range(2, 20), distortions)\n",
    "plt.grid(True)\n",
    "plt.title('Elbow curve')\n",
    "plt.show()"
   ]
  },
  {
   "cell_type": "code",
   "execution_count": 29,
   "metadata": {
    "scrolled": true
   },
   "outputs": [
    {
     "data": {
      "text/plain": [
       "KMeans(n_clusters=2)"
      ]
     },
     "execution_count": 29,
     "metadata": {},
     "output_type": "execute_result"
    },
    {
     "data": {
      "text/plain": [
       "KMeans(n_clusters=3)"
      ]
     },
     "execution_count": 29,
     "metadata": {},
     "output_type": "execute_result"
    },
    {
     "data": {
      "text/plain": [
       "KMeans(n_clusters=4)"
      ]
     },
     "execution_count": 29,
     "metadata": {},
     "output_type": "execute_result"
    },
    {
     "data": {
      "text/plain": [
       "KMeans(n_clusters=5)"
      ]
     },
     "execution_count": 29,
     "metadata": {},
     "output_type": "execute_result"
    },
    {
     "data": {
      "text/plain": [
       "KMeans(n_clusters=6)"
      ]
     },
     "execution_count": 29,
     "metadata": {},
     "output_type": "execute_result"
    },
    {
     "data": {
      "text/plain": [
       "KMeans(n_clusters=7)"
      ]
     },
     "execution_count": 29,
     "metadata": {},
     "output_type": "execute_result"
    },
    {
     "data": {
      "text/plain": [
       "KMeans()"
      ]
     },
     "execution_count": 29,
     "metadata": {},
     "output_type": "execute_result"
    },
    {
     "data": {
      "text/plain": [
       "KMeans(n_clusters=9)"
      ]
     },
     "execution_count": 29,
     "metadata": {},
     "output_type": "execute_result"
    },
    {
     "data": {
      "text/plain": [
       "KMeans(n_clusters=10)"
      ]
     },
     "execution_count": 29,
     "metadata": {},
     "output_type": "execute_result"
    },
    {
     "data": {
      "text/plain": [
       "KMeans(n_clusters=11)"
      ]
     },
     "execution_count": 29,
     "metadata": {},
     "output_type": "execute_result"
    },
    {
     "data": {
      "text/plain": [
       "KMeans(n_clusters=12)"
      ]
     },
     "execution_count": 29,
     "metadata": {},
     "output_type": "execute_result"
    },
    {
     "data": {
      "text/plain": [
       "KMeans(n_clusters=13)"
      ]
     },
     "execution_count": 29,
     "metadata": {},
     "output_type": "execute_result"
    },
    {
     "data": {
      "text/plain": [
       "KMeans(n_clusters=14)"
      ]
     },
     "execution_count": 29,
     "metadata": {},
     "output_type": "execute_result"
    },
    {
     "data": {
      "text/plain": [
       "KMeans(n_clusters=15)"
      ]
     },
     "execution_count": 29,
     "metadata": {},
     "output_type": "execute_result"
    },
    {
     "data": {
      "text/plain": [
       "KMeans(n_clusters=16)"
      ]
     },
     "execution_count": 29,
     "metadata": {},
     "output_type": "execute_result"
    },
    {
     "data": {
      "text/plain": [
       "KMeans(n_clusters=17)"
      ]
     },
     "execution_count": 29,
     "metadata": {},
     "output_type": "execute_result"
    },
    {
     "data": {
      "text/plain": [
       "KMeans(n_clusters=18)"
      ]
     },
     "execution_count": 29,
     "metadata": {},
     "output_type": "execute_result"
    },
    {
     "data": {
      "text/plain": [
       "KMeans(n_clusters=19)"
      ]
     },
     "execution_count": 29,
     "metadata": {},
     "output_type": "execute_result"
    },
    {
     "data": {
      "text/plain": [
       "[<matplotlib.lines.Line2D at 0x1e47afdf280>]"
      ]
     },
     "execution_count": 29,
     "metadata": {},
     "output_type": "execute_result"
    },
    {
     "data": {
      "text/plain": [
       "<matplotlib.collections.PathCollection at 0x1e47afdf5e0>"
      ]
     },
     "execution_count": 29,
     "metadata": {},
     "output_type": "execute_result"
    },
    {
     "data": {
      "text/plain": [
       "Text(0.5, 1.0, 'Elbow curve')"
      ]
     },
     "execution_count": 29,
     "metadata": {},
     "output_type": "execute_result"
    },
    {
     "data": {
      "image/png": "[encoded data removed]",
      "text/plain": [
       "<Figure size 720x360 with 1 Axes>"
      ]
     },
     "metadata": {
      "needs_background": "light"
     },
     "output_type": "display_data"
    }
   ],
   "source": [
    "distortions = []\n",
    "for k in range(2, 20):\n",
    "    kmeans = KMeans(n_clusters=k)\n",
    "    kmeans.fit(df_1_m)\n",
    "    distortions.append(kmeans.inertia_)\n",
    "fig = plt.figure(figsize=(10, 5))\n",
    "plt.plot(range(2, 20), distortions)\n",
    "plt.scatter(range(2, 20), distortions)\n",
    "plt.grid(True)\n",
    "plt.title('Elbow curve')\n",
    "plt.show()"
   ]
  },
  {
   "cell_type": "markdown",
   "metadata": {},
   "source": [
    "#### 도메인 지식과 elbow curve 를 활용하여 k-means 사용"
   ]
  },
  {
   "cell_type": "code",
   "execution_count": 30,
   "metadata": {
    "scrolled": true
   },
   "outputs": [
    {
     "name": "stdout",
     "output_type": "stream",
     "text": [
      "[0 2 1 ... 0 2 0]\n"
     ]
    },
    {
     "name": "stderr",
     "output_type": "stream",
     "text": [
      "<ipython-input-30-521b320e5e81>:8: SettingWithCopyWarning: \n",
      "A value is trying to be set on a copy of a slice from a DataFrame.\n",
      "Try using .loc[row_indexer,col_indexer] = value instead\n",
      "\n",
      "See the caveats in the documentation: https://pandas.pydata.org/pandas-docs/stable/user_guide/indexing.html#returning-a-view-versus-a-copy\n",
      "  df_1_f['cluster']=kmeans_adult_female.labels_\n"
     ]
    },
    {
     "data": {
      "text/html": [
       "<div>\n",
       "<style scoped>\n",
       "    .dataframe tbody tr th:only-of-type {\n",
       "        vertical-align: middle;\n",
       "    }\n",
       "\n",
       "    .dataframe tbody tr th {\n",
       "        vertical-align: top;\n",
       "    }\n",
       "\n",
       "    .dataframe thead th {\n",
       "        text-align: right;\n",
       "    }\n",
       "</style>\n",
       "<table border=\"1\" class=\"dataframe\">\n",
       "  <thead>\n",
       "    <tr style=\"text-align: right;\">\n",
       "      <th></th>\n",
       "      <th>나이</th>\n",
       "      <th>신장(cm)</th>\n",
       "      <th>체중(kg)</th>\n",
       "      <th>체지방율(%)</th>\n",
       "      <th>이완기혈압(최저)</th>\n",
       "      <th>수축기혈압(최고)</th>\n",
       "      <th>앉아윗몸앞으로굽히기(cm)</th>\n",
       "      <th>교차윗몸일으키기(회)</th>\n",
       "      <th>왕복오래달리기(회)</th>\n",
       "      <th>10M 4회 왕복달리기(초)</th>\n",
       "      <th>제자리 멀리뛰기(cm)</th>\n",
       "      <th>상대악력(%)</th>\n",
       "      <th>cluster</th>\n",
       "    </tr>\n",
       "  </thead>\n",
       "  <tbody>\n",
       "    <tr>\n",
       "      <th>0</th>\n",
       "      <td>19</td>\n",
       "      <td>166.4</td>\n",
       "      <td>59.80</td>\n",
       "      <td>33.54784</td>\n",
       "      <td>77.0</td>\n",
       "      <td>114.0</td>\n",
       "      <td>35.2</td>\n",
       "      <td>35.0</td>\n",
       "      <td>21.0</td>\n",
       "      <td>11.89</td>\n",
       "      <td>170.0</td>\n",
       "      <td>42.6</td>\n",
       "      <td>0</td>\n",
       "    </tr>\n",
       "    <tr>\n",
       "      <th>1</th>\n",
       "      <td>55</td>\n",
       "      <td>159.8</td>\n",
       "      <td>60.00</td>\n",
       "      <td>34.00000</td>\n",
       "      <td>93.0</td>\n",
       "      <td>149.0</td>\n",
       "      <td>13.2</td>\n",
       "      <td>15.0</td>\n",
       "      <td>10.0</td>\n",
       "      <td>17.79</td>\n",
       "      <td>113.0</td>\n",
       "      <td>39.4</td>\n",
       "      <td>2</td>\n",
       "    </tr>\n",
       "    <tr>\n",
       "      <th>2</th>\n",
       "      <td>52</td>\n",
       "      <td>163.3</td>\n",
       "      <td>62.06</td>\n",
       "      <td>28.60000</td>\n",
       "      <td>78.0</td>\n",
       "      <td>134.0</td>\n",
       "      <td>21.7</td>\n",
       "      <td>22.0</td>\n",
       "      <td>14.0</td>\n",
       "      <td>15.23</td>\n",
       "      <td>130.0</td>\n",
       "      <td>40.9</td>\n",
       "      <td>1</td>\n",
       "    </tr>\n",
       "    <tr>\n",
       "      <th>9</th>\n",
       "      <td>64</td>\n",
       "      <td>156.0</td>\n",
       "      <td>62.60</td>\n",
       "      <td>25.10000</td>\n",
       "      <td>78.0</td>\n",
       "      <td>129.0</td>\n",
       "      <td>13.1</td>\n",
       "      <td>10.0</td>\n",
       "      <td>10.0</td>\n",
       "      <td>16.53</td>\n",
       "      <td>125.0</td>\n",
       "      <td>44.4</td>\n",
       "      <td>2</td>\n",
       "    </tr>\n",
       "    <tr>\n",
       "      <th>23</th>\n",
       "      <td>52</td>\n",
       "      <td>152.4</td>\n",
       "      <td>60.10</td>\n",
       "      <td>38.30000</td>\n",
       "      <td>77.0</td>\n",
       "      <td>117.0</td>\n",
       "      <td>26.4</td>\n",
       "      <td>14.0</td>\n",
       "      <td>8.0</td>\n",
       "      <td>15.68</td>\n",
       "      <td>105.0</td>\n",
       "      <td>41.9</td>\n",
       "      <td>2</td>\n",
       "    </tr>\n",
       "    <tr>\n",
       "      <th>...</th>\n",
       "      <td>...</td>\n",
       "      <td>...</td>\n",
       "      <td>...</td>\n",
       "      <td>...</td>\n",
       "      <td>...</td>\n",
       "      <td>...</td>\n",
       "      <td>...</td>\n",
       "      <td>...</td>\n",
       "      <td>...</td>\n",
       "      <td>...</td>\n",
       "      <td>...</td>\n",
       "      <td>...</td>\n",
       "      <td>...</td>\n",
       "    </tr>\n",
       "    <tr>\n",
       "      <th>105573</th>\n",
       "      <td>19</td>\n",
       "      <td>154.5</td>\n",
       "      <td>44.40</td>\n",
       "      <td>23.40000</td>\n",
       "      <td>57.0</td>\n",
       "      <td>108.0</td>\n",
       "      <td>13.2</td>\n",
       "      <td>23.0</td>\n",
       "      <td>21.0</td>\n",
       "      <td>12.53</td>\n",
       "      <td>153.0</td>\n",
       "      <td>55.1</td>\n",
       "      <td>3</td>\n",
       "    </tr>\n",
       "    <tr>\n",
       "      <th>105580</th>\n",
       "      <td>21</td>\n",
       "      <td>157.1</td>\n",
       "      <td>52.60</td>\n",
       "      <td>31.60000</td>\n",
       "      <td>84.0</td>\n",
       "      <td>121.0</td>\n",
       "      <td>19.8</td>\n",
       "      <td>12.0</td>\n",
       "      <td>14.0</td>\n",
       "      <td>12.46</td>\n",
       "      <td>163.0</td>\n",
       "      <td>50.0</td>\n",
       "      <td>3</td>\n",
       "    </tr>\n",
       "    <tr>\n",
       "      <th>105582</th>\n",
       "      <td>25</td>\n",
       "      <td>172.1</td>\n",
       "      <td>55.80</td>\n",
       "      <td>14.20000</td>\n",
       "      <td>75.0</td>\n",
       "      <td>121.0</td>\n",
       "      <td>20.2</td>\n",
       "      <td>36.0</td>\n",
       "      <td>28.0</td>\n",
       "      <td>14.25</td>\n",
       "      <td>152.0</td>\n",
       "      <td>42.6</td>\n",
       "      <td>0</td>\n",
       "    </tr>\n",
       "    <tr>\n",
       "      <th>105585</th>\n",
       "      <td>50</td>\n",
       "      <td>165.6</td>\n",
       "      <td>80.90</td>\n",
       "      <td>33.90000</td>\n",
       "      <td>75.0</td>\n",
       "      <td>118.0</td>\n",
       "      <td>19.4</td>\n",
       "      <td>16.0</td>\n",
       "      <td>12.0</td>\n",
       "      <td>15.86</td>\n",
       "      <td>116.0</td>\n",
       "      <td>34.2</td>\n",
       "      <td>2</td>\n",
       "    </tr>\n",
       "    <tr>\n",
       "      <th>105587</th>\n",
       "      <td>38</td>\n",
       "      <td>164.0</td>\n",
       "      <td>57.80</td>\n",
       "      <td>27.60000</td>\n",
       "      <td>74.0</td>\n",
       "      <td>138.0</td>\n",
       "      <td>18.4</td>\n",
       "      <td>29.0</td>\n",
       "      <td>31.0</td>\n",
       "      <td>12.11</td>\n",
       "      <td>193.0</td>\n",
       "      <td>62.9</td>\n",
       "      <td>0</td>\n",
       "    </tr>\n",
       "  </tbody>\n",
       "</table>\n",
       "<p>35872 rows × 13 columns</p>\n",
       "</div>"
      ],
      "text/plain": [
       "        나이  신장(cm)  체중(kg)   체지방율(%)  이완기혈압(최저)  수축기혈압(최고)  앉아윗몸앞으로굽히기(cm)  \\\n",
       "0       19   166.4   59.80  33.54784       77.0      114.0            35.2   \n",
       "1       55   159.8   60.00  34.00000       93.0      149.0            13.2   \n",
       "2       52   163.3   62.06  28.60000       78.0      134.0            21.7   \n",
       "9       64   156.0   62.60  25.10000       78.0      129.0            13.1   \n",
       "23      52   152.4   60.10  38.30000       77.0      117.0            26.4   \n",
       "...     ..     ...     ...       ...        ...        ...             ...   \n",
       "105573  19   154.5   44.40  23.40000       57.0      108.0            13.2   \n",
       "105580  21   157.1   52.60  31.60000       84.0      121.0            19.8   \n",
       "105582  25   172.1   55.80  14.20000       75.0      121.0            20.2   \n",
       "105585  50   165.6   80.90  33.90000       75.0      118.0            19.4   \n",
       "105587  38   164.0   57.80  27.60000       74.0      138.0            18.4   \n",
       "\n",
       "        교차윗몸일으키기(회)  왕복오래달리기(회)  10M 4회 왕복달리기(초)  제자리 멀리뛰기(cm)  상대악력(%)  \\\n",
       "0              35.0        21.0            11.89         170.0     42.6   \n",
       "1              15.0        10.0            17.79         113.0     39.4   \n",
       "2              22.0        14.0            15.23         130.0     40.9   \n",
       "9              10.0        10.0            16.53         125.0     44.4   \n",
       "23             14.0         8.0            15.68         105.0     41.9   \n",
       "...             ...         ...              ...           ...      ...   \n",
       "105573         23.0        21.0            12.53         153.0     55.1   \n",
       "105580         12.0        14.0            12.46         163.0     50.0   \n",
       "105582         36.0        28.0            14.25         152.0     42.6   \n",
       "105585         16.0        12.0            15.86         116.0     34.2   \n",
       "105587         29.0        31.0            12.11         193.0     62.9   \n",
       "\n",
       "        cluster  \n",
       "0             0  \n",
       "1             2  \n",
       "2             1  \n",
       "9             2  \n",
       "23            2  \n",
       "...         ...  \n",
       "105573        3  \n",
       "105580        3  \n",
       "105582        0  \n",
       "105585        2  \n",
       "105587        0  \n",
       "\n",
       "[35872 rows x 13 columns]"
      ]
     },
     "execution_count": 30,
     "metadata": {},
     "output_type": "execute_result"
    }
   ],
   "source": [
    "# KMeans(그룹 수, 초기 중심 설정 방식(디폴트:k-means++ or random), 최대 반복 횟수, 랜덤 스테이트)\n",
    "kmeans_adult_female = KMeans(n_clusters=4, init='k-means++', max_iter=300, random_state=0).fit(df_1_f) \n",
    "\n",
    "# labels_속성을 통해 각 데이터 포인트별로 할당된 군집 중심점을 확인\n",
    "print(kmeans_adult_female.labels_)\n",
    "\n",
    "# 클러스터 라벨 값 입력\n",
    "df_1_f['cluster']=kmeans_adult_female.labels_\n",
    "df_1_f"
   ]
  },
  {
   "cell_type": "code",
   "execution_count": 80,
   "metadata": {
    "scrolled": false
   },
   "outputs": [
    {
     "name": "stdout",
     "output_type": "stream",
     "text": [
      "[1 1 1 ... 1 0 0]\n"
     ]
    },
    {
     "name": "stderr",
     "output_type": "stream",
     "text": [
      "<ipython-input-80-257e68925fe5>:8: SettingWithCopyWarning: \n",
      "A value is trying to be set on a copy of a slice from a DataFrame.\n",
      "Try using .loc[row_indexer,col_indexer] = value instead\n",
      "\n",
      "See the caveats in the documentation: https://pandas.pydata.org/pandas-docs/stable/user_guide/indexing.html#returning-a-view-versus-a-copy\n",
      "  df_1_m['cluster']=kmeans_adult_male.labels_\n"
     ]
    },
    {
     "data": {
      "text/html": [
       "<div>\n",
       "<style scoped>\n",
       "    .dataframe tbody tr th:only-of-type {\n",
       "        vertical-align: middle;\n",
       "    }\n",
       "\n",
       "    .dataframe tbody tr th {\n",
       "        vertical-align: top;\n",
       "    }\n",
       "\n",
       "    .dataframe thead th {\n",
       "        text-align: right;\n",
       "    }\n",
       "</style>\n",
       "<table border=\"1\" class=\"dataframe\">\n",
       "  <thead>\n",
       "    <tr style=\"text-align: right;\">\n",
       "      <th></th>\n",
       "      <th>나이</th>\n",
       "      <th>신장(cm)</th>\n",
       "      <th>체중(kg)</th>\n",
       "      <th>체지방율(%)</th>\n",
       "      <th>이완기혈압(최저)</th>\n",
       "      <th>수축기혈압(최고)</th>\n",
       "      <th>앉아윗몸앞으로굽히기(cm)</th>\n",
       "      <th>교차윗몸일으키기(회)</th>\n",
       "      <th>왕복오래달리기(회)</th>\n",
       "      <th>10M 4회 왕복달리기(초)</th>\n",
       "      <th>제자리 멀리뛰기(cm)</th>\n",
       "      <th>상대악력(%)</th>\n",
       "      <th>cluster</th>\n",
       "    </tr>\n",
       "  </thead>\n",
       "  <tbody>\n",
       "    <tr>\n",
       "      <th>5</th>\n",
       "      <td>63</td>\n",
       "      <td>172.3</td>\n",
       "      <td>77.8</td>\n",
       "      <td>26.2</td>\n",
       "      <td>73.0</td>\n",
       "      <td>126.0</td>\n",
       "      <td>13.2</td>\n",
       "      <td>27.0</td>\n",
       "      <td>18.0</td>\n",
       "      <td>13.82</td>\n",
       "      <td>160.0</td>\n",
       "      <td>45.7</td>\n",
       "      <td>1</td>\n",
       "    </tr>\n",
       "    <tr>\n",
       "      <th>6</th>\n",
       "      <td>62</td>\n",
       "      <td>160.1</td>\n",
       "      <td>62.4</td>\n",
       "      <td>26.5</td>\n",
       "      <td>70.0</td>\n",
       "      <td>128.0</td>\n",
       "      <td>17.0</td>\n",
       "      <td>32.0</td>\n",
       "      <td>16.0</td>\n",
       "      <td>12.42</td>\n",
       "      <td>196.0</td>\n",
       "      <td>65.5</td>\n",
       "      <td>1</td>\n",
       "    </tr>\n",
       "    <tr>\n",
       "      <th>18</th>\n",
       "      <td>60</td>\n",
       "      <td>171.0</td>\n",
       "      <td>72.1</td>\n",
       "      <td>30.8</td>\n",
       "      <td>80.0</td>\n",
       "      <td>120.0</td>\n",
       "      <td>5.0</td>\n",
       "      <td>16.0</td>\n",
       "      <td>10.0</td>\n",
       "      <td>16.25</td>\n",
       "      <td>108.0</td>\n",
       "      <td>51.4</td>\n",
       "      <td>1</td>\n",
       "    </tr>\n",
       "    <tr>\n",
       "      <th>28</th>\n",
       "      <td>20</td>\n",
       "      <td>178.4</td>\n",
       "      <td>58.2</td>\n",
       "      <td>12.1</td>\n",
       "      <td>85.0</td>\n",
       "      <td>158.0</td>\n",
       "      <td>-2.0</td>\n",
       "      <td>47.0</td>\n",
       "      <td>46.0</td>\n",
       "      <td>10.70</td>\n",
       "      <td>207.0</td>\n",
       "      <td>74.3</td>\n",
       "      <td>0</td>\n",
       "    </tr>\n",
       "    <tr>\n",
       "      <th>29</th>\n",
       "      <td>25</td>\n",
       "      <td>179.3</td>\n",
       "      <td>64.2</td>\n",
       "      <td>11.7</td>\n",
       "      <td>74.0</td>\n",
       "      <td>120.0</td>\n",
       "      <td>0.1</td>\n",
       "      <td>34.0</td>\n",
       "      <td>71.0</td>\n",
       "      <td>10.60</td>\n",
       "      <td>217.0</td>\n",
       "      <td>74.7</td>\n",
       "      <td>2</td>\n",
       "    </tr>\n",
       "    <tr>\n",
       "      <th>...</th>\n",
       "      <td>...</td>\n",
       "      <td>...</td>\n",
       "      <td>...</td>\n",
       "      <td>...</td>\n",
       "      <td>...</td>\n",
       "      <td>...</td>\n",
       "      <td>...</td>\n",
       "      <td>...</td>\n",
       "      <td>...</td>\n",
       "      <td>...</td>\n",
       "      <td>...</td>\n",
       "      <td>...</td>\n",
       "      <td>...</td>\n",
       "    </tr>\n",
       "    <tr>\n",
       "      <th>105574</th>\n",
       "      <td>24</td>\n",
       "      <td>186.6</td>\n",
       "      <td>70.5</td>\n",
       "      <td>12.5</td>\n",
       "      <td>76.0</td>\n",
       "      <td>129.0</td>\n",
       "      <td>12.3</td>\n",
       "      <td>54.0</td>\n",
       "      <td>80.0</td>\n",
       "      <td>9.71</td>\n",
       "      <td>260.0</td>\n",
       "      <td>76.1</td>\n",
       "      <td>2</td>\n",
       "    </tr>\n",
       "    <tr>\n",
       "      <th>105576</th>\n",
       "      <td>19</td>\n",
       "      <td>179.1</td>\n",
       "      <td>82.6</td>\n",
       "      <td>10.8</td>\n",
       "      <td>67.0</td>\n",
       "      <td>146.0</td>\n",
       "      <td>10.6</td>\n",
       "      <td>59.0</td>\n",
       "      <td>62.0</td>\n",
       "      <td>10.14</td>\n",
       "      <td>237.0</td>\n",
       "      <td>63.1</td>\n",
       "      <td>2</td>\n",
       "    </tr>\n",
       "    <tr>\n",
       "      <th>105577</th>\n",
       "      <td>55</td>\n",
       "      <td>178.7</td>\n",
       "      <td>72.9</td>\n",
       "      <td>14.9</td>\n",
       "      <td>78.0</td>\n",
       "      <td>126.0</td>\n",
       "      <td>15.8</td>\n",
       "      <td>35.0</td>\n",
       "      <td>52.0</td>\n",
       "      <td>12.24</td>\n",
       "      <td>174.0</td>\n",
       "      <td>55.6</td>\n",
       "      <td>1</td>\n",
       "    </tr>\n",
       "    <tr>\n",
       "      <th>105578</th>\n",
       "      <td>63</td>\n",
       "      <td>160.2</td>\n",
       "      <td>57.4</td>\n",
       "      <td>17.4</td>\n",
       "      <td>87.0</td>\n",
       "      <td>150.0</td>\n",
       "      <td>16.1</td>\n",
       "      <td>53.0</td>\n",
       "      <td>63.0</td>\n",
       "      <td>11.72</td>\n",
       "      <td>182.0</td>\n",
       "      <td>59.2</td>\n",
       "      <td>0</td>\n",
       "    </tr>\n",
       "    <tr>\n",
       "      <th>105581</th>\n",
       "      <td>23</td>\n",
       "      <td>175.4</td>\n",
       "      <td>79.1</td>\n",
       "      <td>29.5</td>\n",
       "      <td>77.0</td>\n",
       "      <td>146.0</td>\n",
       "      <td>2.2</td>\n",
       "      <td>26.0</td>\n",
       "      <td>41.0</td>\n",
       "      <td>10.48</td>\n",
       "      <td>213.0</td>\n",
       "      <td>42.6</td>\n",
       "      <td>0</td>\n",
       "    </tr>\n",
       "  </tbody>\n",
       "</table>\n",
       "<p>36091 rows × 13 columns</p>\n",
       "</div>"
      ],
      "text/plain": [
       "        나이  신장(cm)  체중(kg)  체지방율(%)  이완기혈압(최저)  수축기혈압(최고)  앉아윗몸앞으로굽히기(cm)  \\\n",
       "5       63   172.3    77.8     26.2       73.0      126.0            13.2   \n",
       "6       62   160.1    62.4     26.5       70.0      128.0            17.0   \n",
       "18      60   171.0    72.1     30.8       80.0      120.0             5.0   \n",
       "28      20   178.4    58.2     12.1       85.0      158.0            -2.0   \n",
       "29      25   179.3    64.2     11.7       74.0      120.0             0.1   \n",
       "...     ..     ...     ...      ...        ...        ...             ...   \n",
       "105574  24   186.6    70.5     12.5       76.0      129.0            12.3   \n",
       "105576  19   179.1    82.6     10.8       67.0      146.0            10.6   \n",
       "105577  55   178.7    72.9     14.9       78.0      126.0            15.8   \n",
       "105578  63   160.2    57.4     17.4       87.0      150.0            16.1   \n",
       "105581  23   175.4    79.1     29.5       77.0      146.0             2.2   \n",
       "\n",
       "        교차윗몸일으키기(회)  왕복오래달리기(회)  10M 4회 왕복달리기(초)  제자리 멀리뛰기(cm)  상대악력(%)  \\\n",
       "5              27.0        18.0            13.82         160.0     45.7   \n",
       "6              32.0        16.0            12.42         196.0     65.5   \n",
       "18             16.0        10.0            16.25         108.0     51.4   \n",
       "28             47.0        46.0            10.70         207.0     74.3   \n",
       "29             34.0        71.0            10.60         217.0     74.7   \n",
       "...             ...         ...              ...           ...      ...   \n",
       "105574         54.0        80.0             9.71         260.0     76.1   \n",
       "105576         59.0        62.0            10.14         237.0     63.1   \n",
       "105577         35.0        52.0            12.24         174.0     55.6   \n",
       "105578         53.0        63.0            11.72         182.0     59.2   \n",
       "105581         26.0        41.0            10.48         213.0     42.6   \n",
       "\n",
       "        cluster  \n",
       "5             1  \n",
       "6             1  \n",
       "18            1  \n",
       "28            0  \n",
       "29            2  \n",
       "...         ...  \n",
       "105574        2  \n",
       "105576        2  \n",
       "105577        1  \n",
       "105578        0  \n",
       "105581        0  \n",
       "\n",
       "[36091 rows x 13 columns]"
      ]
     },
     "execution_count": 80,
     "metadata": {},
     "output_type": "execute_result"
    }
   ],
   "source": [
    "# KMeans(그룹 수, 초기 중심 설정 방식(디폴트:k-means++ or random), 최대 반복 횟수, 랜덤 스테이트)\n",
    "kmeans_adult_male = KMeans(n_clusters=6, init='k-means++', max_iter=300, random_state=0).fit(df_1_m) \n",
    "\n",
    "# labels_속성을 통해 각 데이터 포인트별로 할당된 군집 중심점을 확인\n",
    "print(kmeans_adult_male.labels_)\n",
    "\n",
    "# 클러스터 라벨 값 입력\n",
    "df_1_m['cluster']=kmeans_adult_male.labels_\n",
    "df_1_m"
   ]
  },
  {
   "cell_type": "markdown",
   "metadata": {},
   "source": [
    "#### 실루엣 계수를 확인하기 위한 작업"
   ]
  },
  {
   "cell_type": "code",
   "execution_count": 39,
   "metadata": {},
   "outputs": [],
   "source": [
    "X_features = df_1_f[df_1_f.columns[:]].values\n",
    "# 군집화 수행 : 군집 5개로 구성\n",
    "kmeans = KMeans(n_clusters=4, random_state=0)\n",
    "labels = kmeans.fit_predict(X_features)"
   ]
  },
  {
   "cell_type": "code",
   "execution_count": 40,
   "metadata": {},
   "outputs": [],
   "source": [
    "y_features = df_1_m[df_1_m.columns[:]].values\n",
    "# 군집화 수행 : 군집 5개로 구성\n",
    "kmeans = KMeans(n_clusters=6, random_state=0)\n",
    "labels = kmeans.fit_predict(X_features)"
   ]
  },
  {
   "cell_type": "code",
   "execution_count": 41,
   "metadata": {},
   "outputs": [],
   "source": [
    "# print('실루엣 스코어는 : {0:.3f}'.format(silhouette_score(X_features,labels)))"
   ]
  },
  {
   "cell_type": "code",
   "execution_count": 42,
   "metadata": {},
   "outputs": [],
   "source": [
    "def visualize_silhouette(cluster_lists, X_features): \n",
    "    \n",
    "    from sklearn.datasets import make_blobs\n",
    "    from sklearn.cluster import KMeans\n",
    "    from sklearn.metrics import silhouette_samples, silhouette_score\n",
    "\n",
    "    import matplotlib.pyplot as plt\n",
    "    import matplotlib.cm as cm\n",
    "    import math\n",
    "    \n",
    "    # 입력값으로 클러스터링 갯수들을 리스트로 받아서, 각 갯수별로 클러스터링을 적용하고 실루엣 개수를 구함\n",
    "    n_cols = len(cluster_lists)\n",
    "    \n",
    "    # plt.subplots()으로 리스트에 기재된 클러스터링 수만큼의 sub figures를 가지는 axs 생성 \n",
    "    fig, axs = plt.subplots(figsize=(4*n_cols, 4), nrows=1, ncols=n_cols)\n",
    "    \n",
    "    # 리스트에 기재된 클러스터링 갯수들을 차례로 iteration 수행하면서 실루엣 개수 시각화\n",
    "    for ind, n_cluster in enumerate(cluster_lists):\n",
    "        \n",
    "        # KMeans 클러스터링 수행하고, 실루엣 스코어와 개별 데이터의 실루엣 값 계산. \n",
    "        clusterer = KMeans(n_clusters = n_cluster, max_iter=500, random_state=0)\n",
    "        cluster_labels = clusterer.fit_predict(X_features)\n",
    "        \n",
    "        sil_avg = silhouette_score(X_features, cluster_labels)\n",
    "        sil_values = silhouette_samples(X_features, cluster_labels)\n",
    "        \n",
    "        y_lower = 10\n",
    "        axs[ind].set_title('Number of Cluster : '+ str(n_cluster)+'\\n' \\\n",
    "                          'Silhouette Score :' + str(round(sil_avg,3)) )\n",
    "        axs[ind].set_xlabel(\"The silhouette coefficient values\")\n",
    "        axs[ind].set_ylabel(\"Cluster label\")\n",
    "        axs[ind].set_xlim([-0.1, 1])\n",
    "        axs[ind].set_ylim([0, len(X_features) + (n_cluster + 1) * 10])\n",
    "        axs[ind].set_yticks([])  # Clear the yaxis labels / ticks\n",
    "        axs[ind].set_xticks([0, 0.2, 0.4, 0.6, 0.8, 1])\n",
    "        \n",
    "        # 클러스터링 갯수별로 fill_betweenx( )형태의 막대 그래프 표현. \n",
    "        for i in range(n_cluster):\n",
    "            ith_cluster_sil_values = sil_values[cluster_labels==i]\n",
    "            ith_cluster_sil_values.sort()\n",
    "            \n",
    "            size_cluster_i = ith_cluster_sil_values.shape[0]\n",
    "            y_upper = y_lower + size_cluster_i\n",
    "            \n",
    "            color = cm.nipy_spectral(float(i) / n_cluster)\n",
    "            axs[ind].fill_betweenx(np.arange(y_lower, y_upper), 0, ith_cluster_sil_values, \\\n",
    "                                facecolor=color, edgecolor=color, alpha=0.7)\n",
    "            axs[ind].text(-0.05, y_lower + 0.5 * size_cluster_i, str(i))\n",
    "            y_lower = y_upper + 10\n",
    "            \n",
    "        axs[ind].axvline(x=sil_avg, color=\"red\", linestyle=\"--\")"
   ]
  },
  {
   "cell_type": "code",
   "execution_count": 43,
   "metadata": {},
   "outputs": [],
   "source": [
    "def visualize_silhouette(cluster_lists, y_features): \n",
    "    \n",
    "    from sklearn.datasets import make_blobs\n",
    "    from sklearn.cluster import KMeans\n",
    "    from sklearn.metrics import silhouette_samples, silhouette_score\n",
    "\n",
    "    import matplotlib.pyplot as plt\n",
    "    import matplotlib.cm as cm\n",
    "    import math\n",
    "    \n",
    "    # 입력값으로 클러스터링 갯수들을 리스트로 받아서, 각 갯수별로 클러스터링을 적용하고 실루엣 개수를 구함\n",
    "    n_cols = len(cluster_lists)\n",
    "    \n",
    "    # plt.subplots()으로 리스트에 기재된 클러스터링 수만큼의 sub figures를 가지는 axs 생성 \n",
    "    fig, axs = plt.subplots(figsize=(4*n_cols, 4), nrows=1, ncols=n_cols)\n",
    "    \n",
    "    # 리스트에 기재된 클러스터링 갯수들을 차례로 iteration 수행하면서 실루엣 개수 시각화\n",
    "    for ind, n_cluster in enumerate(cluster_lists):\n",
    "        \n",
    "        # KMeans 클러스터링 수행하고, 실루엣 스코어와 개별 데이터의 실루엣 값 계산. \n",
    "        clusterer = KMeans(n_clusters = n_cluster, max_iter=500, random_state=0)\n",
    "        cluster_labels = clusterer.fit_predict(y_features)\n",
    "        \n",
    "        sil_avg = silhouette_score(y_features, cluster_labels)\n",
    "        sil_values = silhouette_samples(y_features, cluster_labels)\n",
    "        \n",
    "        y_lower = 10\n",
    "        axs[ind].set_title('Number of Cluster : '+ str(n_cluster)+'\\n' \\\n",
    "                          'Silhouette Score :' + str(round(sil_avg,3)) )\n",
    "        axs[ind].set_xlabel(\"The silhouette coefficient values\")\n",
    "        axs[ind].set_ylabel(\"Cluster label\")\n",
    "        axs[ind].set_xlim([-0.1, 1])\n",
    "        axs[ind].set_ylim([0, len(X_features) + (n_cluster + 1) * 10])\n",
    "        axs[ind].set_yticks([])  # Clear the yaxis labels / ticks\n",
    "        axs[ind].set_xticks([0, 0.2, 0.4, 0.6, 0.8, 1])\n",
    "        \n",
    "        # 클러스터링 갯수별로 fill_betweenx( )형태의 막대 그래프 표현. \n",
    "        for i in range(n_cluster):\n",
    "            ith_cluster_sil_values = sil_values[cluster_labels==i]\n",
    "            ith_cluster_sil_values.sort()\n",
    "            \n",
    "            size_cluster_i = ith_cluster_sil_values.shape[0]\n",
    "            y_upper = y_lower + size_cluster_i\n",
    "            \n",
    "            color = cm.nipy_spectral(float(i) / n_cluster)\n",
    "            axs[ind].fill_betweenx(np.arange(y_lower, y_upper), 0, ith_cluster_sil_values, \\\n",
    "                                facecolor=color, edgecolor=color, alpha=0.7)\n",
    "            axs[ind].text(-0.05, y_lower + 0.5 * size_cluster_i, str(i))\n",
    "            y_lower = y_upper + 10\n",
    "            \n",
    "        axs[ind].axvline(x=sil_avg, color=\"red\", linestyle=\"--\")"
   ]
  },
  {
   "cell_type": "code",
   "execution_count": 44,
   "metadata": {
    "scrolled": true
   },
   "outputs": [
    {
     "data": {
      "image/png": "[encoded data removed]",
      "text/plain": [
       "<Figure size 2016x288 with 7 Axes>"
      ]
     },
     "metadata": {
      "needs_background": "light"
     },
     "output_type": "display_data"
    }
   ],
   "source": [
    "visualize_silhouette([ 3,4,5,6,7,8,9 ], X_features)"
   ]
  },
  {
   "cell_type": "code",
   "execution_count": 45,
   "metadata": {
    "scrolled": true
   },
   "outputs": [
    {
     "data": {
      "image/png": "[encoded data removed]",
      "text/plain": [
       "<Figure size 2016x288 with 7 Axes>"
      ]
     },
     "metadata": {
      "needs_background": "light"
     },
     "output_type": "display_data"
    }
   ],
   "source": [
    "visualize_silhouette([ 3,4,5,6,7,8,9 ], y_features)"
   ]
  },
  {
   "cell_type": "markdown",
   "metadata": {},
   "source": [
    "#### 처방 컬럼을 1개의 값으로 만들기 위한 작업"
   ]
  },
  {
   "cell_type": "code",
   "execution_count": 46,
   "metadata": {},
   "outputs": [],
   "source": [
    "to_list = ['본운동', '준비운동', '마무리운동']\n",
    "\n",
    "for j in to_list:\n",
    "    for i in range(len(exer_df)):\n",
    "        if exer_df[j][i] == \"['N']\":\n",
    "            exer_df[j][i] = ''\n",
    "        else:\n",
    "            pass"
   ]
  },
  {
   "cell_type": "code",
   "execution_count": 47,
   "metadata": {},
   "outputs": [],
   "source": [
    "abc = \"[\", \"]\" , \"'\"\n",
    "df_data = exer_df[['본운동','준비운동','마무리운동']]\n",
    "\n",
    "for i in to_list :\n",
    "    for k in abc :\n",
    "        for j in range(len(df_data)) :\n",
    "            df_data[i][j] = df_data[i][j].replace(k, '')"
   ]
  },
  {
   "cell_type": "code",
   "execution_count": 48,
   "metadata": {},
   "outputs": [],
   "source": [
    "df_data['운동처방'] = df_data['준비운동'] + \",\" + df_data['본운동'] + \",\" + df_data['마무리운동']\n",
    "df_data.drop(['본운동','마무리운동','준비운동'],axis=1,inplace=True)"
   ]
  },
  {
   "cell_type": "code",
   "execution_count": 49,
   "metadata": {},
   "outputs": [
    {
     "data": {
      "text/html": [
       "<div>\n",
       "<style scoped>\n",
       "    .dataframe tbody tr th:only-of-type {\n",
       "        vertical-align: middle;\n",
       "    }\n",
       "\n",
       "    .dataframe tbody tr th {\n",
       "        vertical-align: top;\n",
       "    }\n",
       "\n",
       "    .dataframe thead th {\n",
       "        text-align: right;\n",
       "    }\n",
       "</style>\n",
       "<table border=\"1\" class=\"dataframe\">\n",
       "  <thead>\n",
       "    <tr style=\"text-align: right;\">\n",
       "      <th></th>\n",
       "      <th>운동처방</th>\n",
       "    </tr>\n",
       "  </thead>\n",
       "  <tbody>\n",
       "    <tr>\n",
       "      <th>0</th>\n",
       "      <td>,Ah003, Ak003, Ao000, Ae028, Ag013, Aa028, Ce1...</td>\n",
       "    </tr>\n",
       "    <tr>\n",
       "      <th>1</th>\n",
       "      <td>,Ce206, Ce205, Ce202, Ce200, Ce204,</td>\n",
       "    </tr>\n",
       "    <tr>\n",
       "      <th>2</th>\n",
       "      <td>Bq008, Bk011, Be084,Ce204, Ce203, Ce201, Ce170...</td>\n",
       "    </tr>\n",
       "    <tr>\n",
       "      <th>3</th>\n",
       "      <td>Ce174,Ag029, Ae012, Aa028, De115, Ad010, Ag026,</td>\n",
       "    </tr>\n",
       "    <tr>\n",
       "      <th>4</th>\n",
       "      <td>Ce174,Ag029, Ae012, Aa028, De115, Ad010, Ag026,</td>\n",
       "    </tr>\n",
       "    <tr>\n",
       "      <th>...</th>\n",
       "      <td>...</td>\n",
       "    </tr>\n",
       "    <tr>\n",
       "      <th>105583</th>\n",
       "      <td>Ce195, Ce194, Ce193, Be084,Ce202, Ce201, Ce200...</td>\n",
       "    </tr>\n",
       "    <tr>\n",
       "      <th>105584</th>\n",
       "      <td>Bq008, Bk011, Be085, Be084, Be083,Ak005, Aa028...</td>\n",
       "    </tr>\n",
       "    <tr>\n",
       "      <th>105585</th>\n",
       "      <td>Bp017, Bd024, Ba059,Aa033, Aa009, Aa031, Ac008...</td>\n",
       "    </tr>\n",
       "    <tr>\n",
       "      <th>105586</th>\n",
       "      <td>,Ag029, Ag026, Ag025, Ap007, Ap005, As005, Al0...</td>\n",
       "    </tr>\n",
       "    <tr>\n",
       "      <th>105587</th>\n",
       "      <td>Aa028, Ag029, Ag026, Ag022,Br006, Bk010, Bs027...</td>\n",
       "    </tr>\n",
       "  </tbody>\n",
       "</table>\n",
       "<p>105588 rows × 1 columns</p>\n",
       "</div>"
      ],
      "text/plain": [
       "                                                     운동처방\n",
       "0       ,Ah003, Ak003, Ao000, Ae028, Ag013, Aa028, Ce1...\n",
       "1                     ,Ce206, Ce205, Ce202, Ce200, Ce204,\n",
       "2       Bq008, Bk011, Be084,Ce204, Ce203, Ce201, Ce170...\n",
       "3         Ce174,Ag029, Ae012, Aa028, De115, Ad010, Ag026,\n",
       "4         Ce174,Ag029, Ae012, Aa028, De115, Ad010, Ag026,\n",
       "...                                                   ...\n",
       "105583  Ce195, Ce194, Ce193, Be084,Ce202, Ce201, Ce200...\n",
       "105584  Bq008, Bk011, Be085, Be084, Be083,Ak005, Aa028...\n",
       "105585  Bp017, Bd024, Ba059,Aa033, Aa009, Aa031, Ac008...\n",
       "105586  ,Ag029, Ag026, Ag025, Ap007, Ap005, As005, Al0...\n",
       "105587  Aa028, Ag029, Ag026, Ag022,Br006, Bk010, Bs027...\n",
       "\n",
       "[105588 rows x 1 columns]"
      ]
     },
     "execution_count": 49,
     "metadata": {},
     "output_type": "execute_result"
    }
   ],
   "source": [
    "df_data"
   ]
  },
  {
   "cell_type": "code",
   "execution_count": 50,
   "metadata": {},
   "outputs": [
    {
     "name": "stdout",
     "output_type": "stream",
     "text": [
      "                                                     운동처방  \\\n",
      "0       ,Ah003, Ak003, Ao000, Ae028, Ag013, Aa028, Ce1...   \n",
      "1                     ,Ce206, Ce205, Ce202, Ce200, Ce204,   \n",
      "2       Bq008, Bk011, Be084,Ce204, Ce203, Ce201, Ce170...   \n",
      "3         Ce174,Ag029, Ae012, Aa028, De115, Ad010, Ag026,   \n",
      "4         Ce174,Ag029, Ae012, Aa028, De115, Ad010, Ag026,   \n",
      "...                                                   ...   \n",
      "105583  Ce195, Ce194, Ce193, Be084,Ce202, Ce201, Ce200...   \n",
      "105584  Bq008, Bk011, Be085, Be084, Be083,Ak005, Aa028...   \n",
      "105585  Bp017, Bd024, Ba059,Aa033, Aa009, Aa031, Ac008...   \n",
      "105586  ,Ag029, Ag026, Ag025, Ap007, Ap005, As005, Al0...   \n",
      "105587  Aa028, Ag029, Ag026, Ag022,Br006, Bk010, Bs027...   \n",
      "\n",
      "                                                    운동처방1  \n",
      "0       [, Ah003,  Ak003,  Ao000,  Ae028,  Ag013,  Aa0...  \n",
      "1             [, Ce206,  Ce205,  Ce202,  Ce200,  Ce204, ]  \n",
      "2       [Bq008,  Bk011,  Be084, Ce204,  Ce203,  Ce201,...  \n",
      "3       [Ce174, Ag029,  Ae012,  Aa028,  De115,  Ad010,...  \n",
      "4       [Ce174, Ag029,  Ae012,  Aa028,  De115,  Ad010,...  \n",
      "...                                                   ...  \n",
      "105583  [Ce195,  Ce194,  Ce193,  Be084, Ce202,  Ce201,...  \n",
      "105584  [Bq008,  Bk011,  Be085,  Be084,  Be083, Ak005,...  \n",
      "105585  [Bp017,  Bd024,  Ba059, Aa033,  Aa009,  Aa031,...  \n",
      "105586  [, Ag029,  Ag026,  Ag025,  Ap007,  Ap005,  As0...  \n",
      "105587  [Aa028,  Ag029,  Ag026,  Ag022, Br006,  Bk010,...  \n",
      "\n",
      "[105588 rows x 2 columns]\n"
     ]
    }
   ],
   "source": [
    "df_data = pd.DataFrame(df_data)\n",
    "\n",
    "\n",
    "temp = []\n",
    "for i in range(len(df_data)):\n",
    "    temp.append(df_data['운동처방'][i].split(','))\n",
    "\n",
    "df_data['운동처방1'] = temp\n",
    "\n",
    "print(df_data)"
   ]
  },
  {
   "cell_type": "code",
   "execution_count": 51,
   "metadata": {
    "scrolled": false
   },
   "outputs": [
    {
     "name": "stdout",
     "output_type": "stream",
     "text": [
      "          101186\n",
      " Bk011     27543\n",
      " Ag026     25466\n",
      "Be085      25392\n",
      " Bq007     22082\n",
      "           ...  \n",
      "Bc009          1\n",
      " Be070         1\n",
      "Al014          1\n",
      "Af002          1\n",
      " De143         1\n",
      "Name: index, Length: 757, dtype: int64\n"
     ]
    }
   ],
   "source": [
    "result = df_data['운동처방'].str.split(',', expand=True)\n",
    "\n",
    "temp = result.melt(var_name='col', value_name='index')\n",
    "\n",
    "print(temp['index'].value_counts())"
   ]
  },
  {
   "cell_type": "markdown",
   "metadata": {},
   "source": [
    "##### 군집화 된 결과와 처방 컬럼을 합침"
   ]
  },
  {
   "cell_type": "code",
   "execution_count": 81,
   "metadata": {},
   "outputs": [],
   "source": [
    "fin_df_f = df_1_f.join(df_data,how='inner')\n",
    "fin_df_m = df_1_m.join(df_data,how='inner')"
   ]
  },
  {
   "cell_type": "code",
   "execution_count": 53,
   "metadata": {
    "scrolled": false
   },
   "outputs": [
    {
     "data": {
      "text/html": [
       "<div>\n",
       "<style scoped>\n",
       "    .dataframe tbody tr th:only-of-type {\n",
       "        vertical-align: middle;\n",
       "    }\n",
       "\n",
       "    .dataframe tbody tr th {\n",
       "        vertical-align: top;\n",
       "    }\n",
       "\n",
       "    .dataframe thead th {\n",
       "        text-align: right;\n",
       "    }\n",
       "</style>\n",
       "<table border=\"1\" class=\"dataframe\">\n",
       "  <thead>\n",
       "    <tr style=\"text-align: right;\">\n",
       "      <th></th>\n",
       "      <th>나이</th>\n",
       "      <th>신장(cm)</th>\n",
       "      <th>체중(kg)</th>\n",
       "      <th>체지방율(%)</th>\n",
       "      <th>이완기혈압(최저)</th>\n",
       "      <th>수축기혈압(최고)</th>\n",
       "      <th>앉아윗몸앞으로굽히기(cm)</th>\n",
       "      <th>교차윗몸일으키기(회)</th>\n",
       "      <th>왕복오래달리기(회)</th>\n",
       "      <th>10M 4회 왕복달리기(초)</th>\n",
       "      <th>제자리 멀리뛰기(cm)</th>\n",
       "      <th>상대악력(%)</th>\n",
       "      <th>cluster</th>\n",
       "      <th>운동처방</th>\n",
       "      <th>운동처방1</th>\n",
       "    </tr>\n",
       "  </thead>\n",
       "  <tbody>\n",
       "    <tr>\n",
       "      <th>0</th>\n",
       "      <td>19</td>\n",
       "      <td>166.4</td>\n",
       "      <td>59.80</td>\n",
       "      <td>33.54784</td>\n",
       "      <td>77.0</td>\n",
       "      <td>114.0</td>\n",
       "      <td>35.2</td>\n",
       "      <td>35.0</td>\n",
       "      <td>21.0</td>\n",
       "      <td>11.89</td>\n",
       "      <td>170.0</td>\n",
       "      <td>42.6</td>\n",
       "      <td>0</td>\n",
       "      <td>,Ah003, Ak003, Ao000, Ae028, Ag013, Aa028, Ce1...</td>\n",
       "      <td>[, Ah003,  Ak003,  Ao000,  Ae028,  Ag013,  Aa0...</td>\n",
       "    </tr>\n",
       "    <tr>\n",
       "      <th>1</th>\n",
       "      <td>55</td>\n",
       "      <td>159.8</td>\n",
       "      <td>60.00</td>\n",
       "      <td>34.00000</td>\n",
       "      <td>93.0</td>\n",
       "      <td>149.0</td>\n",
       "      <td>13.2</td>\n",
       "      <td>15.0</td>\n",
       "      <td>10.0</td>\n",
       "      <td>17.79</td>\n",
       "      <td>113.0</td>\n",
       "      <td>39.4</td>\n",
       "      <td>2</td>\n",
       "      <td>,Ce206, Ce205, Ce202, Ce200, Ce204,</td>\n",
       "      <td>[, Ce206,  Ce205,  Ce202,  Ce200,  Ce204, ]</td>\n",
       "    </tr>\n",
       "    <tr>\n",
       "      <th>2</th>\n",
       "      <td>52</td>\n",
       "      <td>163.3</td>\n",
       "      <td>62.06</td>\n",
       "      <td>28.60000</td>\n",
       "      <td>78.0</td>\n",
       "      <td>134.0</td>\n",
       "      <td>21.7</td>\n",
       "      <td>22.0</td>\n",
       "      <td>14.0</td>\n",
       "      <td>15.23</td>\n",
       "      <td>130.0</td>\n",
       "      <td>40.9</td>\n",
       "      <td>1</td>\n",
       "      <td>Bq008, Bk011, Be084,Ce204, Ce203, Ce201, Ce170...</td>\n",
       "      <td>[Bq008,  Bk011,  Be084, Ce204,  Ce203,  Ce201,...</td>\n",
       "    </tr>\n",
       "    <tr>\n",
       "      <th>9</th>\n",
       "      <td>64</td>\n",
       "      <td>156.0</td>\n",
       "      <td>62.60</td>\n",
       "      <td>25.10000</td>\n",
       "      <td>78.0</td>\n",
       "      <td>129.0</td>\n",
       "      <td>13.1</td>\n",
       "      <td>10.0</td>\n",
       "      <td>10.0</td>\n",
       "      <td>16.53</td>\n",
       "      <td>125.0</td>\n",
       "      <td>44.4</td>\n",
       "      <td>2</td>\n",
       "      <td>,Be073, Be072, Ae035,</td>\n",
       "      <td>[, Be073,  Be072,  Ae035, ]</td>\n",
       "    </tr>\n",
       "    <tr>\n",
       "      <th>23</th>\n",
       "      <td>52</td>\n",
       "      <td>152.4</td>\n",
       "      <td>60.10</td>\n",
       "      <td>38.30000</td>\n",
       "      <td>77.0</td>\n",
       "      <td>117.0</td>\n",
       "      <td>26.4</td>\n",
       "      <td>14.0</td>\n",
       "      <td>8.0</td>\n",
       "      <td>15.68</td>\n",
       "      <td>105.0</td>\n",
       "      <td>41.9</td>\n",
       "      <td>2</td>\n",
       "      <td>,Ce206, Ce200, Ce170,</td>\n",
       "      <td>[, Ce206,  Ce200,  Ce170, ]</td>\n",
       "    </tr>\n",
       "  </tbody>\n",
       "</table>\n",
       "</div>"
      ],
      "text/plain": [
       "    나이  신장(cm)  체중(kg)   체지방율(%)  이완기혈압(최저)  수축기혈압(최고)  앉아윗몸앞으로굽히기(cm)  \\\n",
       "0   19   166.4   59.80  33.54784       77.0      114.0            35.2   \n",
       "1   55   159.8   60.00  34.00000       93.0      149.0            13.2   \n",
       "2   52   163.3   62.06  28.60000       78.0      134.0            21.7   \n",
       "9   64   156.0   62.60  25.10000       78.0      129.0            13.1   \n",
       "23  52   152.4   60.10  38.30000       77.0      117.0            26.4   \n",
       "\n",
       "    교차윗몸일으키기(회)  왕복오래달리기(회)  10M 4회 왕복달리기(초)  제자리 멀리뛰기(cm)  상대악력(%)  cluster  \\\n",
       "0          35.0        21.0            11.89         170.0     42.6        0   \n",
       "1          15.0        10.0            17.79         113.0     39.4        2   \n",
       "2          22.0        14.0            15.23         130.0     40.9        1   \n",
       "9          10.0        10.0            16.53         125.0     44.4        2   \n",
       "23         14.0         8.0            15.68         105.0     41.9        2   \n",
       "\n",
       "                                                 운동처방  \\\n",
       "0   ,Ah003, Ak003, Ao000, Ae028, Ag013, Aa028, Ce1...   \n",
       "1                 ,Ce206, Ce205, Ce202, Ce200, Ce204,   \n",
       "2   Bq008, Bk011, Be084,Ce204, Ce203, Ce201, Ce170...   \n",
       "9                               ,Be073, Be072, Ae035,   \n",
       "23                              ,Ce206, Ce200, Ce170,   \n",
       "\n",
       "                                                운동처방1  \n",
       "0   [, Ah003,  Ak003,  Ao000,  Ae028,  Ag013,  Aa0...  \n",
       "1         [, Ce206,  Ce205,  Ce202,  Ce200,  Ce204, ]  \n",
       "2   [Bq008,  Bk011,  Be084, Ce204,  Ce203,  Ce201,...  \n",
       "9                         [, Be073,  Be072,  Ae035, ]  \n",
       "23                        [, Ce206,  Ce200,  Ce170, ]  "
      ]
     },
     "execution_count": 53,
     "metadata": {},
     "output_type": "execute_result"
    },
    {
     "data": {
      "text/html": [
       "<div>\n",
       "<style scoped>\n",
       "    .dataframe tbody tr th:only-of-type {\n",
       "        vertical-align: middle;\n",
       "    }\n",
       "\n",
       "    .dataframe tbody tr th {\n",
       "        vertical-align: top;\n",
       "    }\n",
       "\n",
       "    .dataframe thead th {\n",
       "        text-align: right;\n",
       "    }\n",
       "</style>\n",
       "<table border=\"1\" class=\"dataframe\">\n",
       "  <thead>\n",
       "    <tr style=\"text-align: right;\">\n",
       "      <th></th>\n",
       "      <th>나이</th>\n",
       "      <th>신장(cm)</th>\n",
       "      <th>체중(kg)</th>\n",
       "      <th>체지방율(%)</th>\n",
       "      <th>이완기혈압(최저)</th>\n",
       "      <th>수축기혈압(최고)</th>\n",
       "      <th>앉아윗몸앞으로굽히기(cm)</th>\n",
       "      <th>교차윗몸일으키기(회)</th>\n",
       "      <th>왕복오래달리기(회)</th>\n",
       "      <th>10M 4회 왕복달리기(초)</th>\n",
       "      <th>제자리 멀리뛰기(cm)</th>\n",
       "      <th>상대악력(%)</th>\n",
       "      <th>cluster</th>\n",
       "      <th>운동처방</th>\n",
       "      <th>운동처방1</th>\n",
       "    </tr>\n",
       "  </thead>\n",
       "  <tbody>\n",
       "    <tr>\n",
       "      <th>5</th>\n",
       "      <td>63</td>\n",
       "      <td>172.3</td>\n",
       "      <td>77.8</td>\n",
       "      <td>26.2</td>\n",
       "      <td>73.0</td>\n",
       "      <td>126.0</td>\n",
       "      <td>13.2</td>\n",
       "      <td>27.0</td>\n",
       "      <td>18.0</td>\n",
       "      <td>13.82</td>\n",
       "      <td>160.0</td>\n",
       "      <td>45.7</td>\n",
       "      <td>3</td>\n",
       "      <td>Bq008, Bk011,Al017, As009, Aa028, Ad010, Ce202...</td>\n",
       "      <td>[Bq008,  Bk011, Al017,  As009,  Aa028,  Ad010,...</td>\n",
       "    </tr>\n",
       "    <tr>\n",
       "      <th>6</th>\n",
       "      <td>62</td>\n",
       "      <td>160.1</td>\n",
       "      <td>62.4</td>\n",
       "      <td>26.5</td>\n",
       "      <td>70.0</td>\n",
       "      <td>128.0</td>\n",
       "      <td>17.0</td>\n",
       "      <td>32.0</td>\n",
       "      <td>16.0</td>\n",
       "      <td>12.42</td>\n",
       "      <td>196.0</td>\n",
       "      <td>65.5</td>\n",
       "      <td>2</td>\n",
       "      <td>Bq008, Bk011,Al017, As009, Aa028, Ad010, Ce202...</td>\n",
       "      <td>[Bq008,  Bk011, Al017,  As009,  Aa028,  Ad010,...</td>\n",
       "    </tr>\n",
       "    <tr>\n",
       "      <th>18</th>\n",
       "      <td>60</td>\n",
       "      <td>171.0</td>\n",
       "      <td>72.1</td>\n",
       "      <td>30.8</td>\n",
       "      <td>80.0</td>\n",
       "      <td>120.0</td>\n",
       "      <td>5.0</td>\n",
       "      <td>16.0</td>\n",
       "      <td>10.0</td>\n",
       "      <td>16.25</td>\n",
       "      <td>108.0</td>\n",
       "      <td>51.4</td>\n",
       "      <td>3</td>\n",
       "      <td>Ag026, Ap005, Bq008, Bq007, Bk011, Br006,Ae012...</td>\n",
       "      <td>[Ag026,  Ap005,  Bq008,  Bq007,  Bk011,  Br006...</td>\n",
       "    </tr>\n",
       "    <tr>\n",
       "      <th>28</th>\n",
       "      <td>20</td>\n",
       "      <td>178.4</td>\n",
       "      <td>58.2</td>\n",
       "      <td>12.1</td>\n",
       "      <td>85.0</td>\n",
       "      <td>158.0</td>\n",
       "      <td>-2.0</td>\n",
       "      <td>47.0</td>\n",
       "      <td>46.0</td>\n",
       "      <td>10.70</td>\n",
       "      <td>207.0</td>\n",
       "      <td>74.3</td>\n",
       "      <td>4</td>\n",
       "      <td>Be084, Bq008, Bk011,Aa028, Ag029, Ag026, Ai012...</td>\n",
       "      <td>[Be084,  Bq008,  Bk011, Aa028,  Ag029,  Ag026,...</td>\n",
       "    </tr>\n",
       "    <tr>\n",
       "      <th>29</th>\n",
       "      <td>25</td>\n",
       "      <td>179.3</td>\n",
       "      <td>64.2</td>\n",
       "      <td>11.7</td>\n",
       "      <td>74.0</td>\n",
       "      <td>120.0</td>\n",
       "      <td>0.1</td>\n",
       "      <td>34.0</td>\n",
       "      <td>71.0</td>\n",
       "      <td>10.60</td>\n",
       "      <td>217.0</td>\n",
       "      <td>74.7</td>\n",
       "      <td>0</td>\n",
       "      <td>Be084, Bq008, Bk011,Aa028, Ag029, Ag026, Ai012...</td>\n",
       "      <td>[Be084,  Bq008,  Bk011, Aa028,  Ag029,  Ag026,...</td>\n",
       "    </tr>\n",
       "  </tbody>\n",
       "</table>\n",
       "</div>"
      ],
      "text/plain": [
       "    나이  신장(cm)  체중(kg)  체지방율(%)  이완기혈압(최저)  수축기혈압(최고)  앉아윗몸앞으로굽히기(cm)  \\\n",
       "5   63   172.3    77.8     26.2       73.0      126.0            13.2   \n",
       "6   62   160.1    62.4     26.5       70.0      128.0            17.0   \n",
       "18  60   171.0    72.1     30.8       80.0      120.0             5.0   \n",
       "28  20   178.4    58.2     12.1       85.0      158.0            -2.0   \n",
       "29  25   179.3    64.2     11.7       74.0      120.0             0.1   \n",
       "\n",
       "    교차윗몸일으키기(회)  왕복오래달리기(회)  10M 4회 왕복달리기(초)  제자리 멀리뛰기(cm)  상대악력(%)  cluster  \\\n",
       "5          27.0        18.0            13.82         160.0     45.7        3   \n",
       "6          32.0        16.0            12.42         196.0     65.5        2   \n",
       "18         16.0        10.0            16.25         108.0     51.4        3   \n",
       "28         47.0        46.0            10.70         207.0     74.3        4   \n",
       "29         34.0        71.0            10.60         217.0     74.7        0   \n",
       "\n",
       "                                                 운동처방  \\\n",
       "5   Bq008, Bk011,Al017, As009, Aa028, Ad010, Ce202...   \n",
       "6   Bq008, Bk011,Al017, As009, Aa028, Ad010, Ce202...   \n",
       "18  Ag026, Ap005, Bq008, Bq007, Bk011, Br006,Ae012...   \n",
       "28  Be084, Bq008, Bk011,Aa028, Ag029, Ag026, Ai012...   \n",
       "29  Be084, Bq008, Bk011,Aa028, Ag029, Ag026, Ai012...   \n",
       "\n",
       "                                                운동처방1  \n",
       "5   [Bq008,  Bk011, Al017,  As009,  Aa028,  Ad010,...  \n",
       "6   [Bq008,  Bk011, Al017,  As009,  Aa028,  Ad010,...  \n",
       "18  [Ag026,  Ap005,  Bq008,  Bq007,  Bk011,  Br006...  \n",
       "28  [Be084,  Bq008,  Bk011, Aa028,  Ag029,  Ag026,...  \n",
       "29  [Be084,  Bq008,  Bk011, Aa028,  Ag029,  Ag026,...  "
      ]
     },
     "execution_count": 53,
     "metadata": {},
     "output_type": "execute_result"
    }
   ],
   "source": [
    "fin_df_f.head(5)\n",
    "fin_df_m.head(5)"
   ]
  },
  {
   "cell_type": "markdown",
   "metadata": {},
   "source": [
    "##### 군집 6개로 분류(남자)"
   ]
  },
  {
   "cell_type": "code",
   "execution_count": 82,
   "metadata": {},
   "outputs": [],
   "source": [
    "a1 = fin_df_m[fin_df_m['cluster']==0]\n",
    "a2 = fin_df_m[fin_df_m['cluster']==1]\n",
    "a3 = fin_df_m[fin_df_m['cluster']==2]\n",
    "a4 = fin_df_m[fin_df_m['cluster']==3]\n",
    "a5 = fin_df_m[fin_df_m['cluster']==4]\n",
    "a6 = fin_df_m[fin_df_m['cluster']==5]"
   ]
  },
  {
   "cell_type": "code",
   "execution_count": 55,
   "metadata": {
    "scrolled": true
   },
   "outputs": [
    {
     "data": {
      "text/html": [
       "<div>\n",
       "<style scoped>\n",
       "    .dataframe tbody tr th:only-of-type {\n",
       "        vertical-align: middle;\n",
       "    }\n",
       "\n",
       "    .dataframe tbody tr th {\n",
       "        vertical-align: top;\n",
       "    }\n",
       "\n",
       "    .dataframe thead th {\n",
       "        text-align: right;\n",
       "    }\n",
       "</style>\n",
       "<table border=\"1\" class=\"dataframe\">\n",
       "  <thead>\n",
       "    <tr style=\"text-align: right;\">\n",
       "      <th></th>\n",
       "      <th>나이</th>\n",
       "      <th>신장(cm)</th>\n",
       "      <th>체중(kg)</th>\n",
       "      <th>체지방율(%)</th>\n",
       "      <th>이완기혈압(최저)</th>\n",
       "      <th>수축기혈압(최고)</th>\n",
       "      <th>앉아윗몸앞으로굽히기(cm)</th>\n",
       "      <th>교차윗몸일으키기(회)</th>\n",
       "      <th>왕복오래달리기(회)</th>\n",
       "      <th>10M 4회 왕복달리기(초)</th>\n",
       "      <th>제자리 멀리뛰기(cm)</th>\n",
       "      <th>상대악력(%)</th>\n",
       "      <th>cluster</th>\n",
       "    </tr>\n",
       "  </thead>\n",
       "  <tbody>\n",
       "    <tr>\n",
       "      <th>count</th>\n",
       "      <td>7174.000000</td>\n",
       "      <td>7174.000000</td>\n",
       "      <td>7174.000000</td>\n",
       "      <td>7174.000000</td>\n",
       "      <td>7174.000000</td>\n",
       "      <td>7174.000000</td>\n",
       "      <td>7174.000000</td>\n",
       "      <td>7174.000000</td>\n",
       "      <td>7174.000000</td>\n",
       "      <td>7174.000000</td>\n",
       "      <td>7174.000000</td>\n",
       "      <td>7174.000000</td>\n",
       "      <td>7174.0</td>\n",
       "    </tr>\n",
       "    <tr>\n",
       "      <th>mean</th>\n",
       "      <td>24.463897</td>\n",
       "      <td>173.275997</td>\n",
       "      <td>69.791006</td>\n",
       "      <td>17.755729</td>\n",
       "      <td>74.230137</td>\n",
       "      <td>122.897129</td>\n",
       "      <td>10.639707</td>\n",
       "      <td>49.414413</td>\n",
       "      <td>57.097156</td>\n",
       "      <td>10.691178</td>\n",
       "      <td>209.225815</td>\n",
       "      <td>63.403931</td>\n",
       "      <td>0.0</td>\n",
       "    </tr>\n",
       "    <tr>\n",
       "      <th>std</th>\n",
       "      <td>6.834995</td>\n",
       "      <td>5.346395</td>\n",
       "      <td>8.484361</td>\n",
       "      <td>4.766497</td>\n",
       "      <td>8.586892</td>\n",
       "      <td>10.755927</td>\n",
       "      <td>8.025500</td>\n",
       "      <td>8.757757</td>\n",
       "      <td>10.620714</td>\n",
       "      <td>0.918740</td>\n",
       "      <td>11.055783</td>\n",
       "      <td>8.697716</td>\n",
       "      <td>0.0</td>\n",
       "    </tr>\n",
       "    <tr>\n",
       "      <th>min</th>\n",
       "      <td>19.000000</td>\n",
       "      <td>150.600000</td>\n",
       "      <td>42.600000</td>\n",
       "      <td>2.000000</td>\n",
       "      <td>51.000000</td>\n",
       "      <td>90.000000</td>\n",
       "      <td>-11.600000</td>\n",
       "      <td>0.000000</td>\n",
       "      <td>21.000000</td>\n",
       "      <td>6.900000</td>\n",
       "      <td>165.000000</td>\n",
       "      <td>26.100000</td>\n",
       "      <td>0.0</td>\n",
       "    </tr>\n",
       "    <tr>\n",
       "      <th>25%</th>\n",
       "      <td>20.000000</td>\n",
       "      <td>169.600000</td>\n",
       "      <td>63.985000</td>\n",
       "      <td>14.400000</td>\n",
       "      <td>68.000000</td>\n",
       "      <td>116.000000</td>\n",
       "      <td>5.500000</td>\n",
       "      <td>44.000000</td>\n",
       "      <td>50.000000</td>\n",
       "      <td>10.090000</td>\n",
       "      <td>201.000000</td>\n",
       "      <td>57.600000</td>\n",
       "      <td>0.0</td>\n",
       "    </tr>\n",
       "    <tr>\n",
       "      <th>50%</th>\n",
       "      <td>22.000000</td>\n",
       "      <td>173.200000</td>\n",
       "      <td>69.300000</td>\n",
       "      <td>17.600000</td>\n",
       "      <td>74.000000</td>\n",
       "      <td>122.000000</td>\n",
       "      <td>11.200000</td>\n",
       "      <td>50.000000</td>\n",
       "      <td>56.000000</td>\n",
       "      <td>10.540000</td>\n",
       "      <td>211.000000</td>\n",
       "      <td>63.200000</td>\n",
       "      <td>0.0</td>\n",
       "    </tr>\n",
       "    <tr>\n",
       "      <th>75%</th>\n",
       "      <td>26.000000</td>\n",
       "      <td>176.800000</td>\n",
       "      <td>75.100000</td>\n",
       "      <td>20.900000</td>\n",
       "      <td>80.000000</td>\n",
       "      <td>129.000000</td>\n",
       "      <td>16.475000</td>\n",
       "      <td>55.000000</td>\n",
       "      <td>63.000000</td>\n",
       "      <td>11.090000</td>\n",
       "      <td>218.000000</td>\n",
       "      <td>69.200000</td>\n",
       "      <td>0.0</td>\n",
       "    </tr>\n",
       "    <tr>\n",
       "      <th>max</th>\n",
       "      <td>64.000000</td>\n",
       "      <td>192.500000</td>\n",
       "      <td>101.000000</td>\n",
       "      <td>41.100000</td>\n",
       "      <td>101.000000</td>\n",
       "      <td>160.000000</td>\n",
       "      <td>37.000000</td>\n",
       "      <td>78.000000</td>\n",
       "      <td>82.000000</td>\n",
       "      <td>18.240000</td>\n",
       "      <td>234.000000</td>\n",
       "      <td>87.200000</td>\n",
       "      <td>0.0</td>\n",
       "    </tr>\n",
       "  </tbody>\n",
       "</table>\n",
       "</div>"
      ],
      "text/plain": [
       "                나이       신장(cm)       체중(kg)      체지방율(%)    이완기혈압(최저)  \\\n",
       "count  7174.000000  7174.000000  7174.000000  7174.000000  7174.000000   \n",
       "mean     24.463897   173.275997    69.791006    17.755729    74.230137   \n",
       "std       6.834995     5.346395     8.484361     4.766497     8.586892   \n",
       "min      19.000000   150.600000    42.600000     2.000000    51.000000   \n",
       "25%      20.000000   169.600000    63.985000    14.400000    68.000000   \n",
       "50%      22.000000   173.200000    69.300000    17.600000    74.000000   \n",
       "75%      26.000000   176.800000    75.100000    20.900000    80.000000   \n",
       "max      64.000000   192.500000   101.000000    41.100000   101.000000   \n",
       "\n",
       "         수축기혈압(최고)  앉아윗몸앞으로굽히기(cm)  교차윗몸일으키기(회)   왕복오래달리기(회)  10M 4회 왕복달리기(초)  \\\n",
       "count  7174.000000     7174.000000  7174.000000  7174.000000      7174.000000   \n",
       "mean    122.897129       10.639707    49.414413    57.097156        10.691178   \n",
       "std      10.755927        8.025500     8.757757    10.620714         0.918740   \n",
       "min      90.000000      -11.600000     0.000000    21.000000         6.900000   \n",
       "25%     116.000000        5.500000    44.000000    50.000000        10.090000   \n",
       "50%     122.000000       11.200000    50.000000    56.000000        10.540000   \n",
       "75%     129.000000       16.475000    55.000000    63.000000        11.090000   \n",
       "max     160.000000       37.000000    78.000000    82.000000        18.240000   \n",
       "\n",
       "       제자리 멀리뛰기(cm)      상대악력(%)  cluster  \n",
       "count   7174.000000  7174.000000   7174.0  \n",
       "mean     209.225815    63.403931      0.0  \n",
       "std       11.055783     8.697716      0.0  \n",
       "min      165.000000    26.100000      0.0  \n",
       "25%      201.000000    57.600000      0.0  \n",
       "50%      211.000000    63.200000      0.0  \n",
       "75%      218.000000    69.200000      0.0  \n",
       "max      234.000000    87.200000      0.0  "
      ]
     },
     "execution_count": 55,
     "metadata": {},
     "output_type": "execute_result"
    },
    {
     "data": {
      "text/html": [
       "<div>\n",
       "<style scoped>\n",
       "    .dataframe tbody tr th:only-of-type {\n",
       "        vertical-align: middle;\n",
       "    }\n",
       "\n",
       "    .dataframe tbody tr th {\n",
       "        vertical-align: top;\n",
       "    }\n",
       "\n",
       "    .dataframe thead th {\n",
       "        text-align: right;\n",
       "    }\n",
       "</style>\n",
       "<table border=\"1\" class=\"dataframe\">\n",
       "  <thead>\n",
       "    <tr style=\"text-align: right;\">\n",
       "      <th></th>\n",
       "      <th>나이</th>\n",
       "      <th>신장(cm)</th>\n",
       "      <th>체중(kg)</th>\n",
       "      <th>체지방율(%)</th>\n",
       "      <th>이완기혈압(최저)</th>\n",
       "      <th>수축기혈압(최고)</th>\n",
       "      <th>앉아윗몸앞으로굽히기(cm)</th>\n",
       "      <th>교차윗몸일으키기(회)</th>\n",
       "      <th>왕복오래달리기(회)</th>\n",
       "      <th>10M 4회 왕복달리기(초)</th>\n",
       "      <th>제자리 멀리뛰기(cm)</th>\n",
       "      <th>상대악력(%)</th>\n",
       "      <th>cluster</th>\n",
       "    </tr>\n",
       "  </thead>\n",
       "  <tbody>\n",
       "    <tr>\n",
       "      <th>count</th>\n",
       "      <td>6105.000000</td>\n",
       "      <td>6105.000000</td>\n",
       "      <td>6105.000000</td>\n",
       "      <td>6105.000000</td>\n",
       "      <td>6105.000000</td>\n",
       "      <td>6105.000000</td>\n",
       "      <td>6105.000000</td>\n",
       "      <td>6105.000000</td>\n",
       "      <td>6105.000000</td>\n",
       "      <td>6105.000000</td>\n",
       "      <td>6105.000000</td>\n",
       "      <td>6105.000000</td>\n",
       "      <td>6105.0</td>\n",
       "    </tr>\n",
       "    <tr>\n",
       "      <th>mean</th>\n",
       "      <td>24.938903</td>\n",
       "      <td>173.687043</td>\n",
       "      <td>75.382483</td>\n",
       "      <td>23.601867</td>\n",
       "      <td>77.190254</td>\n",
       "      <td>126.520885</td>\n",
       "      <td>5.685704</td>\n",
       "      <td>39.667617</td>\n",
       "      <td>34.855097</td>\n",
       "      <td>11.628416</td>\n",
       "      <td>182.014251</td>\n",
       "      <td>55.298034</td>\n",
       "      <td>1.0</td>\n",
       "    </tr>\n",
       "    <tr>\n",
       "      <th>std</th>\n",
       "      <td>6.347777</td>\n",
       "      <td>5.641777</td>\n",
       "      <td>10.978223</td>\n",
       "      <td>6.049237</td>\n",
       "      <td>9.190287</td>\n",
       "      <td>11.998591</td>\n",
       "      <td>8.322950</td>\n",
       "      <td>9.651041</td>\n",
       "      <td>12.203600</td>\n",
       "      <td>1.147052</td>\n",
       "      <td>12.478302</td>\n",
       "      <td>8.887355</td>\n",
       "      <td>0.0</td>\n",
       "    </tr>\n",
       "    <tr>\n",
       "      <th>min</th>\n",
       "      <td>19.000000</td>\n",
       "      <td>147.100000</td>\n",
       "      <td>38.200000</td>\n",
       "      <td>3.800000</td>\n",
       "      <td>51.000000</td>\n",
       "      <td>91.000000</td>\n",
       "      <td>-11.700000</td>\n",
       "      <td>0.000000</td>\n",
       "      <td>0.000000</td>\n",
       "      <td>8.070000</td>\n",
       "      <td>130.000000</td>\n",
       "      <td>19.100000</td>\n",
       "      <td>1.0</td>\n",
       "    </tr>\n",
       "    <tr>\n",
       "      <th>25%</th>\n",
       "      <td>20.000000</td>\n",
       "      <td>170.000000</td>\n",
       "      <td>67.500000</td>\n",
       "      <td>19.400000</td>\n",
       "      <td>71.000000</td>\n",
       "      <td>119.000000</td>\n",
       "      <td>0.000000</td>\n",
       "      <td>33.000000</td>\n",
       "      <td>26.000000</td>\n",
       "      <td>10.870000</td>\n",
       "      <td>174.000000</td>\n",
       "      <td>49.200000</td>\n",
       "      <td>1.0</td>\n",
       "    </tr>\n",
       "    <tr>\n",
       "      <th>50%</th>\n",
       "      <td>23.000000</td>\n",
       "      <td>173.700000</td>\n",
       "      <td>75.100000</td>\n",
       "      <td>23.600000</td>\n",
       "      <td>78.000000</td>\n",
       "      <td>126.000000</td>\n",
       "      <td>5.600000</td>\n",
       "      <td>40.000000</td>\n",
       "      <td>34.000000</td>\n",
       "      <td>11.410000</td>\n",
       "      <td>184.000000</td>\n",
       "      <td>54.900000</td>\n",
       "      <td>1.0</td>\n",
       "    </tr>\n",
       "    <tr>\n",
       "      <th>75%</th>\n",
       "      <td>27.000000</td>\n",
       "      <td>177.400000</td>\n",
       "      <td>83.000000</td>\n",
       "      <td>27.800000</td>\n",
       "      <td>83.000000</td>\n",
       "      <td>134.000000</td>\n",
       "      <td>11.400000</td>\n",
       "      <td>46.000000</td>\n",
       "      <td>42.000000</td>\n",
       "      <td>12.130000</td>\n",
       "      <td>192.000000</td>\n",
       "      <td>60.900000</td>\n",
       "      <td>1.0</td>\n",
       "    </tr>\n",
       "    <tr>\n",
       "      <th>max</th>\n",
       "      <td>57.000000</td>\n",
       "      <td>193.100000</td>\n",
       "      <td>101.200000</td>\n",
       "      <td>45.100000</td>\n",
       "      <td>102.000000</td>\n",
       "      <td>160.000000</td>\n",
       "      <td>34.300000</td>\n",
       "      <td>73.000000</td>\n",
       "      <td>81.000000</td>\n",
       "      <td>18.560000</td>\n",
       "      <td>207.000000</td>\n",
       "      <td>87.300000</td>\n",
       "      <td>1.0</td>\n",
       "    </tr>\n",
       "  </tbody>\n",
       "</table>\n",
       "</div>"
      ],
      "text/plain": [
       "                나이       신장(cm)       체중(kg)      체지방율(%)    이완기혈압(최저)  \\\n",
       "count  6105.000000  6105.000000  6105.000000  6105.000000  6105.000000   \n",
       "mean     24.938903   173.687043    75.382483    23.601867    77.190254   \n",
       "std       6.347777     5.641777    10.978223     6.049237     9.190287   \n",
       "min      19.000000   147.100000    38.200000     3.800000    51.000000   \n",
       "25%      20.000000   170.000000    67.500000    19.400000    71.000000   \n",
       "50%      23.000000   173.700000    75.100000    23.600000    78.000000   \n",
       "75%      27.000000   177.400000    83.000000    27.800000    83.000000   \n",
       "max      57.000000   193.100000   101.200000    45.100000   102.000000   \n",
       "\n",
       "         수축기혈압(최고)  앉아윗몸앞으로굽히기(cm)  교차윗몸일으키기(회)   왕복오래달리기(회)  10M 4회 왕복달리기(초)  \\\n",
       "count  6105.000000     6105.000000  6105.000000  6105.000000      6105.000000   \n",
       "mean    126.520885        5.685704    39.667617    34.855097        11.628416   \n",
       "std      11.998591        8.322950     9.651041    12.203600         1.147052   \n",
       "min      91.000000      -11.700000     0.000000     0.000000         8.070000   \n",
       "25%     119.000000        0.000000    33.000000    26.000000        10.870000   \n",
       "50%     126.000000        5.600000    40.000000    34.000000        11.410000   \n",
       "75%     134.000000       11.400000    46.000000    42.000000        12.130000   \n",
       "max     160.000000       34.300000    73.000000    81.000000        18.560000   \n",
       "\n",
       "       제자리 멀리뛰기(cm)      상대악력(%)  cluster  \n",
       "count   6105.000000  6105.000000   6105.0  \n",
       "mean     182.014251    55.298034      1.0  \n",
       "std       12.478302     8.887355      0.0  \n",
       "min      130.000000    19.100000      1.0  \n",
       "25%      174.000000    49.200000      1.0  \n",
       "50%      184.000000    54.900000      1.0  \n",
       "75%      192.000000    60.900000      1.0  \n",
       "max      207.000000    87.300000      1.0  "
      ]
     },
     "execution_count": 55,
     "metadata": {},
     "output_type": "execute_result"
    },
    {
     "data": {
      "text/html": [
       "<div>\n",
       "<style scoped>\n",
       "    .dataframe tbody tr th:only-of-type {\n",
       "        vertical-align: middle;\n",
       "    }\n",
       "\n",
       "    .dataframe tbody tr th {\n",
       "        vertical-align: top;\n",
       "    }\n",
       "\n",
       "    .dataframe thead th {\n",
       "        text-align: right;\n",
       "    }\n",
       "</style>\n",
       "<table border=\"1\" class=\"dataframe\">\n",
       "  <thead>\n",
       "    <tr style=\"text-align: right;\">\n",
       "      <th></th>\n",
       "      <th>나이</th>\n",
       "      <th>신장(cm)</th>\n",
       "      <th>체중(kg)</th>\n",
       "      <th>체지방율(%)</th>\n",
       "      <th>이완기혈압(최저)</th>\n",
       "      <th>수축기혈압(최고)</th>\n",
       "      <th>앉아윗몸앞으로굽히기(cm)</th>\n",
       "      <th>교차윗몸일으키기(회)</th>\n",
       "      <th>왕복오래달리기(회)</th>\n",
       "      <th>10M 4회 왕복달리기(초)</th>\n",
       "      <th>제자리 멀리뛰기(cm)</th>\n",
       "      <th>상대악력(%)</th>\n",
       "      <th>cluster</th>\n",
       "    </tr>\n",
       "  </thead>\n",
       "  <tbody>\n",
       "    <tr>\n",
       "      <th>count</th>\n",
       "      <td>5267.000000</td>\n",
       "      <td>5267.000000</td>\n",
       "      <td>5267.000000</td>\n",
       "      <td>5267.000000</td>\n",
       "      <td>5267.000000</td>\n",
       "      <td>5267.000000</td>\n",
       "      <td>5267.000000</td>\n",
       "      <td>5267.000000</td>\n",
       "      <td>5267.000000</td>\n",
       "      <td>5267.000000</td>\n",
       "      <td>5267.000000</td>\n",
       "      <td>5267.000000</td>\n",
       "      <td>5267.0</td>\n",
       "    </tr>\n",
       "    <tr>\n",
       "      <th>mean</th>\n",
       "      <td>53.550408</td>\n",
       "      <td>169.881811</td>\n",
       "      <td>72.020197</td>\n",
       "      <td>23.579731</td>\n",
       "      <td>82.968369</td>\n",
       "      <td>135.464591</td>\n",
       "      <td>9.574164</td>\n",
       "      <td>32.564838</td>\n",
       "      <td>25.103438</td>\n",
       "      <td>12.389102</td>\n",
       "      <td>184.989747</td>\n",
       "      <td>58.290146</td>\n",
       "      <td>2.0</td>\n",
       "    </tr>\n",
       "    <tr>\n",
       "      <th>std</th>\n",
       "      <td>7.824841</td>\n",
       "      <td>5.376124</td>\n",
       "      <td>8.927968</td>\n",
       "      <td>5.182137</td>\n",
       "      <td>9.245678</td>\n",
       "      <td>13.458042</td>\n",
       "      <td>7.566422</td>\n",
       "      <td>9.070478</td>\n",
       "      <td>9.375582</td>\n",
       "      <td>1.110303</td>\n",
       "      <td>12.082963</td>\n",
       "      <td>8.139986</td>\n",
       "      <td>0.0</td>\n",
       "    </tr>\n",
       "    <tr>\n",
       "      <th>min</th>\n",
       "      <td>20.000000</td>\n",
       "      <td>149.900000</td>\n",
       "      <td>45.200000</td>\n",
       "      <td>3.200000</td>\n",
       "      <td>51.000000</td>\n",
       "      <td>91.000000</td>\n",
       "      <td>-11.600000</td>\n",
       "      <td>0.000000</td>\n",
       "      <td>0.000000</td>\n",
       "      <td>8.700000</td>\n",
       "      <td>153.000000</td>\n",
       "      <td>27.800000</td>\n",
       "      <td>2.0</td>\n",
       "    </tr>\n",
       "    <tr>\n",
       "      <th>25%</th>\n",
       "      <td>48.000000</td>\n",
       "      <td>166.200000</td>\n",
       "      <td>65.800000</td>\n",
       "      <td>20.200000</td>\n",
       "      <td>77.000000</td>\n",
       "      <td>125.000000</td>\n",
       "      <td>4.700000</td>\n",
       "      <td>27.000000</td>\n",
       "      <td>18.000000</td>\n",
       "      <td>11.610000</td>\n",
       "      <td>175.000000</td>\n",
       "      <td>52.700000</td>\n",
       "      <td>2.0</td>\n",
       "    </tr>\n",
       "    <tr>\n",
       "      <th>50%</th>\n",
       "      <td>55.000000</td>\n",
       "      <td>170.000000</td>\n",
       "      <td>71.500000</td>\n",
       "      <td>23.600000</td>\n",
       "      <td>83.000000</td>\n",
       "      <td>135.000000</td>\n",
       "      <td>10.000000</td>\n",
       "      <td>32.000000</td>\n",
       "      <td>24.000000</td>\n",
       "      <td>12.250000</td>\n",
       "      <td>185.000000</td>\n",
       "      <td>58.200000</td>\n",
       "      <td>2.0</td>\n",
       "    </tr>\n",
       "    <tr>\n",
       "      <th>75%</th>\n",
       "      <td>60.000000</td>\n",
       "      <td>173.500000</td>\n",
       "      <td>77.500000</td>\n",
       "      <td>27.000000</td>\n",
       "      <td>90.000000</td>\n",
       "      <td>146.000000</td>\n",
       "      <td>15.000000</td>\n",
       "      <td>39.000000</td>\n",
       "      <td>31.000000</td>\n",
       "      <td>12.960000</td>\n",
       "      <td>194.000000</td>\n",
       "      <td>63.500000</td>\n",
       "      <td>2.0</td>\n",
       "    </tr>\n",
       "    <tr>\n",
       "      <th>max</th>\n",
       "      <td>64.000000</td>\n",
       "      <td>191.400000</td>\n",
       "      <td>101.200000</td>\n",
       "      <td>43.500000</td>\n",
       "      <td>101.000000</td>\n",
       "      <td>160.000000</td>\n",
       "      <td>37.000000</td>\n",
       "      <td>65.000000</td>\n",
       "      <td>72.000000</td>\n",
       "      <td>18.360000</td>\n",
       "      <td>228.000000</td>\n",
       "      <td>86.400000</td>\n",
       "      <td>2.0</td>\n",
       "    </tr>\n",
       "  </tbody>\n",
       "</table>\n",
       "</div>"
      ],
      "text/plain": [
       "                나이       신장(cm)       체중(kg)      체지방율(%)    이완기혈압(최저)  \\\n",
       "count  5267.000000  5267.000000  5267.000000  5267.000000  5267.000000   \n",
       "mean     53.550408   169.881811    72.020197    23.579731    82.968369   \n",
       "std       7.824841     5.376124     8.927968     5.182137     9.245678   \n",
       "min      20.000000   149.900000    45.200000     3.200000    51.000000   \n",
       "25%      48.000000   166.200000    65.800000    20.200000    77.000000   \n",
       "50%      55.000000   170.000000    71.500000    23.600000    83.000000   \n",
       "75%      60.000000   173.500000    77.500000    27.000000    90.000000   \n",
       "max      64.000000   191.400000   101.200000    43.500000   101.000000   \n",
       "\n",
       "         수축기혈압(최고)  앉아윗몸앞으로굽히기(cm)  교차윗몸일으키기(회)   왕복오래달리기(회)  10M 4회 왕복달리기(초)  \\\n",
       "count  5267.000000     5267.000000  5267.000000  5267.000000      5267.000000   \n",
       "mean    135.464591        9.574164    32.564838    25.103438        12.389102   \n",
       "std      13.458042        7.566422     9.070478     9.375582         1.110303   \n",
       "min      91.000000      -11.600000     0.000000     0.000000         8.700000   \n",
       "25%     125.000000        4.700000    27.000000    18.000000        11.610000   \n",
       "50%     135.000000       10.000000    32.000000    24.000000        12.250000   \n",
       "75%     146.000000       15.000000    39.000000    31.000000        12.960000   \n",
       "max     160.000000       37.000000    65.000000    72.000000        18.360000   \n",
       "\n",
       "       제자리 멀리뛰기(cm)      상대악력(%)  cluster  \n",
       "count   5267.000000  5267.000000   5267.0  \n",
       "mean     184.989747    58.290146      2.0  \n",
       "std       12.082963     8.139986      0.0  \n",
       "min      153.000000    27.800000      2.0  \n",
       "25%      175.000000    52.700000      2.0  \n",
       "50%      185.000000    58.200000      2.0  \n",
       "75%      194.000000    63.500000      2.0  \n",
       "max      228.000000    86.400000      2.0  "
      ]
     },
     "execution_count": 55,
     "metadata": {},
     "output_type": "execute_result"
    },
    {
     "data": {
      "text/html": [
       "<div>\n",
       "<style scoped>\n",
       "    .dataframe tbody tr th:only-of-type {\n",
       "        vertical-align: middle;\n",
       "    }\n",
       "\n",
       "    .dataframe tbody tr th {\n",
       "        vertical-align: top;\n",
       "    }\n",
       "\n",
       "    .dataframe thead th {\n",
       "        text-align: right;\n",
       "    }\n",
       "</style>\n",
       "<table border=\"1\" class=\"dataframe\">\n",
       "  <thead>\n",
       "    <tr style=\"text-align: right;\">\n",
       "      <th></th>\n",
       "      <th>나이</th>\n",
       "      <th>신장(cm)</th>\n",
       "      <th>체중(kg)</th>\n",
       "      <th>체지방율(%)</th>\n",
       "      <th>이완기혈압(최저)</th>\n",
       "      <th>수축기혈압(최고)</th>\n",
       "      <th>앉아윗몸앞으로굽히기(cm)</th>\n",
       "      <th>교차윗몸일으키기(회)</th>\n",
       "      <th>왕복오래달리기(회)</th>\n",
       "      <th>10M 4회 왕복달리기(초)</th>\n",
       "      <th>제자리 멀리뛰기(cm)</th>\n",
       "      <th>상대악력(%)</th>\n",
       "      <th>cluster</th>\n",
       "    </tr>\n",
       "  </thead>\n",
       "  <tbody>\n",
       "    <tr>\n",
       "      <th>count</th>\n",
       "      <td>2439.000000</td>\n",
       "      <td>2439.00000</td>\n",
       "      <td>2439.000000</td>\n",
       "      <td>2439.000000</td>\n",
       "      <td>2439.000000</td>\n",
       "      <td>2439.000000</td>\n",
       "      <td>2439.000000</td>\n",
       "      <td>2439.00000</td>\n",
       "      <td>2439.000000</td>\n",
       "      <td>2439.000000</td>\n",
       "      <td>2439.000000</td>\n",
       "      <td>2439.000000</td>\n",
       "      <td>2439.0</td>\n",
       "    </tr>\n",
       "    <tr>\n",
       "      <th>mean</th>\n",
       "      <td>50.160722</td>\n",
       "      <td>168.87991</td>\n",
       "      <td>72.766154</td>\n",
       "      <td>26.888781</td>\n",
       "      <td>80.292128</td>\n",
       "      <td>131.154982</td>\n",
       "      <td>5.010226</td>\n",
       "      <td>24.00615</td>\n",
       "      <td>16.985658</td>\n",
       "      <td>13.910127</td>\n",
       "      <td>144.780238</td>\n",
       "      <td>50.738294</td>\n",
       "      <td>3.0</td>\n",
       "    </tr>\n",
       "    <tr>\n",
       "      <th>std</th>\n",
       "      <td>14.416872</td>\n",
       "      <td>6.61703</td>\n",
       "      <td>10.865784</td>\n",
       "      <td>6.334734</td>\n",
       "      <td>9.548205</td>\n",
       "      <td>13.813468</td>\n",
       "      <td>8.157776</td>\n",
       "      <td>10.18538</td>\n",
       "      <td>8.449136</td>\n",
       "      <td>1.505046</td>\n",
       "      <td>21.540471</td>\n",
       "      <td>9.738693</td>\n",
       "      <td>0.0</td>\n",
       "    </tr>\n",
       "    <tr>\n",
       "      <th>min</th>\n",
       "      <td>19.000000</td>\n",
       "      <td>142.00000</td>\n",
       "      <td>39.800000</td>\n",
       "      <td>2.800000</td>\n",
       "      <td>51.000000</td>\n",
       "      <td>91.000000</td>\n",
       "      <td>-11.700000</td>\n",
       "      <td>0.00000</td>\n",
       "      <td>0.000000</td>\n",
       "      <td>9.980000</td>\n",
       "      <td>41.000000</td>\n",
       "      <td>19.300000</td>\n",
       "      <td>3.0</td>\n",
       "    </tr>\n",
       "    <tr>\n",
       "      <th>25%</th>\n",
       "      <td>42.000000</td>\n",
       "      <td>164.90000</td>\n",
       "      <td>65.600000</td>\n",
       "      <td>22.800000</td>\n",
       "      <td>74.000000</td>\n",
       "      <td>121.000000</td>\n",
       "      <td>-0.500000</td>\n",
       "      <td>18.00000</td>\n",
       "      <td>11.000000</td>\n",
       "      <td>12.840000</td>\n",
       "      <td>135.000000</td>\n",
       "      <td>44.850000</td>\n",
       "      <td>3.0</td>\n",
       "    </tr>\n",
       "    <tr>\n",
       "      <th>50%</th>\n",
       "      <td>56.000000</td>\n",
       "      <td>169.00000</td>\n",
       "      <td>72.300000</td>\n",
       "      <td>27.100000</td>\n",
       "      <td>80.000000</td>\n",
       "      <td>131.000000</td>\n",
       "      <td>4.900000</td>\n",
       "      <td>24.00000</td>\n",
       "      <td>16.000000</td>\n",
       "      <td>13.780000</td>\n",
       "      <td>152.000000</td>\n",
       "      <td>50.900000</td>\n",
       "      <td>3.0</td>\n",
       "    </tr>\n",
       "    <tr>\n",
       "      <th>75%</th>\n",
       "      <td>61.000000</td>\n",
       "      <td>173.00000</td>\n",
       "      <td>79.600000</td>\n",
       "      <td>31.100000</td>\n",
       "      <td>87.000000</td>\n",
       "      <td>141.000000</td>\n",
       "      <td>10.800000</td>\n",
       "      <td>30.00000</td>\n",
       "      <td>21.000000</td>\n",
       "      <td>14.855000</td>\n",
       "      <td>160.000000</td>\n",
       "      <td>57.200000</td>\n",
       "      <td>3.0</td>\n",
       "    </tr>\n",
       "    <tr>\n",
       "      <th>max</th>\n",
       "      <td>64.000000</td>\n",
       "      <td>191.00000</td>\n",
       "      <td>101.100000</td>\n",
       "      <td>48.200000</td>\n",
       "      <td>102.000000</td>\n",
       "      <td>160.000000</td>\n",
       "      <td>30.300000</td>\n",
       "      <td>67.00000</td>\n",
       "      <td>78.000000</td>\n",
       "      <td>18.580000</td>\n",
       "      <td>176.000000</td>\n",
       "      <td>83.100000</td>\n",
       "      <td>3.0</td>\n",
       "    </tr>\n",
       "  </tbody>\n",
       "</table>\n",
       "</div>"
      ],
      "text/plain": [
       "                나이      신장(cm)       체중(kg)      체지방율(%)    이완기혈압(최저)  \\\n",
       "count  2439.000000  2439.00000  2439.000000  2439.000000  2439.000000   \n",
       "mean     50.160722   168.87991    72.766154    26.888781    80.292128   \n",
       "std      14.416872     6.61703    10.865784     6.334734     9.548205   \n",
       "min      19.000000   142.00000    39.800000     2.800000    51.000000   \n",
       "25%      42.000000   164.90000    65.600000    22.800000    74.000000   \n",
       "50%      56.000000   169.00000    72.300000    27.100000    80.000000   \n",
       "75%      61.000000   173.00000    79.600000    31.100000    87.000000   \n",
       "max      64.000000   191.00000   101.100000    48.200000   102.000000   \n",
       "\n",
       "         수축기혈압(최고)  앉아윗몸앞으로굽히기(cm)  교차윗몸일으키기(회)   왕복오래달리기(회)  10M 4회 왕복달리기(초)  \\\n",
       "count  2439.000000     2439.000000   2439.00000  2439.000000      2439.000000   \n",
       "mean    131.154982        5.010226     24.00615    16.985658        13.910127   \n",
       "std      13.813468        8.157776     10.18538     8.449136         1.505046   \n",
       "min      91.000000      -11.700000      0.00000     0.000000         9.980000   \n",
       "25%     121.000000       -0.500000     18.00000    11.000000        12.840000   \n",
       "50%     131.000000        4.900000     24.00000    16.000000        13.780000   \n",
       "75%     141.000000       10.800000     30.00000    21.000000        14.855000   \n",
       "max     160.000000       30.300000     67.00000    78.000000        18.580000   \n",
       "\n",
       "       제자리 멀리뛰기(cm)      상대악력(%)  cluster  \n",
       "count   2439.000000  2439.000000   2439.0  \n",
       "mean     144.780238    50.738294      3.0  \n",
       "std       21.540471     9.738693      0.0  \n",
       "min       41.000000    19.300000      3.0  \n",
       "25%      135.000000    44.850000      3.0  \n",
       "50%      152.000000    50.900000      3.0  \n",
       "75%      160.000000    57.200000      3.0  \n",
       "max      176.000000    83.100000      3.0  "
      ]
     },
     "execution_count": 55,
     "metadata": {},
     "output_type": "execute_result"
    },
    {
     "data": {
      "text/html": [
       "<div>\n",
       "<style scoped>\n",
       "    .dataframe tbody tr th:only-of-type {\n",
       "        vertical-align: middle;\n",
       "    }\n",
       "\n",
       "    .dataframe tbody tr th {\n",
       "        vertical-align: top;\n",
       "    }\n",
       "\n",
       "    .dataframe thead th {\n",
       "        text-align: right;\n",
       "    }\n",
       "</style>\n",
       "<table border=\"1\" class=\"dataframe\">\n",
       "  <thead>\n",
       "    <tr style=\"text-align: right;\">\n",
       "      <th></th>\n",
       "      <th>나이</th>\n",
       "      <th>신장(cm)</th>\n",
       "      <th>체중(kg)</th>\n",
       "      <th>체지방율(%)</th>\n",
       "      <th>이완기혈압(최저)</th>\n",
       "      <th>수축기혈압(최고)</th>\n",
       "      <th>앉아윗몸앞으로굽히기(cm)</th>\n",
       "      <th>교차윗몸일으키기(회)</th>\n",
       "      <th>왕복오래달리기(회)</th>\n",
       "      <th>10M 4회 왕복달리기(초)</th>\n",
       "      <th>제자리 멀리뛰기(cm)</th>\n",
       "      <th>상대악력(%)</th>\n",
       "      <th>cluster</th>\n",
       "    </tr>\n",
       "  </thead>\n",
       "  <tbody>\n",
       "    <tr>\n",
       "      <th>count</th>\n",
       "      <td>8202.000000</td>\n",
       "      <td>8202.000000</td>\n",
       "      <td>8202.000000</td>\n",
       "      <td>8202.000000</td>\n",
       "      <td>8202.000000</td>\n",
       "      <td>8202.000000</td>\n",
       "      <td>8202.000000</td>\n",
       "      <td>8202.000000</td>\n",
       "      <td>8202.000000</td>\n",
       "      <td>8202.000000</td>\n",
       "      <td>8202.000000</td>\n",
       "      <td>8202.000000</td>\n",
       "      <td>8202.0</td>\n",
       "    </tr>\n",
       "    <tr>\n",
       "      <th>mean</th>\n",
       "      <td>28.701536</td>\n",
       "      <td>175.180639</td>\n",
       "      <td>76.113138</td>\n",
       "      <td>21.173155</td>\n",
       "      <td>81.505974</td>\n",
       "      <td>133.104852</td>\n",
       "      <td>10.405758</td>\n",
       "      <td>43.185735</td>\n",
       "      <td>34.383046</td>\n",
       "      <td>10.940248</td>\n",
       "      <td>217.075847</td>\n",
       "      <td>60.689905</td>\n",
       "      <td>4.0</td>\n",
       "    </tr>\n",
       "    <tr>\n",
       "      <th>std</th>\n",
       "      <td>8.882213</td>\n",
       "      <td>5.533111</td>\n",
       "      <td>9.791565</td>\n",
       "      <td>5.365303</td>\n",
       "      <td>9.076167</td>\n",
       "      <td>12.238175</td>\n",
       "      <td>7.964762</td>\n",
       "      <td>9.399496</td>\n",
       "      <td>10.936107</td>\n",
       "      <td>1.075953</td>\n",
       "      <td>10.788466</td>\n",
       "      <td>8.751470</td>\n",
       "      <td>0.0</td>\n",
       "    </tr>\n",
       "    <tr>\n",
       "      <th>min</th>\n",
       "      <td>19.000000</td>\n",
       "      <td>148.300000</td>\n",
       "      <td>43.300000</td>\n",
       "      <td>2.000000</td>\n",
       "      <td>51.000000</td>\n",
       "      <td>93.000000</td>\n",
       "      <td>-11.700000</td>\n",
       "      <td>0.000000</td>\n",
       "      <td>0.000000</td>\n",
       "      <td>7.690000</td>\n",
       "      <td>188.000000</td>\n",
       "      <td>29.600000</td>\n",
       "      <td>4.0</td>\n",
       "    </tr>\n",
       "    <tr>\n",
       "      <th>25%</th>\n",
       "      <td>22.000000</td>\n",
       "      <td>171.500000</td>\n",
       "      <td>69.400000</td>\n",
       "      <td>17.500000</td>\n",
       "      <td>75.000000</td>\n",
       "      <td>124.000000</td>\n",
       "      <td>5.425000</td>\n",
       "      <td>37.000000</td>\n",
       "      <td>28.000000</td>\n",
       "      <td>10.280000</td>\n",
       "      <td>210.000000</td>\n",
       "      <td>54.500000</td>\n",
       "      <td>4.0</td>\n",
       "    </tr>\n",
       "    <tr>\n",
       "      <th>50%</th>\n",
       "      <td>26.000000</td>\n",
       "      <td>175.100000</td>\n",
       "      <td>75.600000</td>\n",
       "      <td>21.100000</td>\n",
       "      <td>81.000000</td>\n",
       "      <td>132.000000</td>\n",
       "      <td>11.000000</td>\n",
       "      <td>44.000000</td>\n",
       "      <td>35.000000</td>\n",
       "      <td>10.750000</td>\n",
       "      <td>216.000000</td>\n",
       "      <td>60.500000</td>\n",
       "      <td>4.0</td>\n",
       "    </tr>\n",
       "    <tr>\n",
       "      <th>75%</th>\n",
       "      <td>33.000000</td>\n",
       "      <td>178.900000</td>\n",
       "      <td>82.500000</td>\n",
       "      <td>24.800000</td>\n",
       "      <td>88.000000</td>\n",
       "      <td>142.000000</td>\n",
       "      <td>16.000000</td>\n",
       "      <td>50.000000</td>\n",
       "      <td>42.000000</td>\n",
       "      <td>11.310000</td>\n",
       "      <td>224.000000</td>\n",
       "      <td>66.600000</td>\n",
       "      <td>4.0</td>\n",
       "    </tr>\n",
       "    <tr>\n",
       "      <th>max</th>\n",
       "      <td>64.000000</td>\n",
       "      <td>194.100000</td>\n",
       "      <td>101.200000</td>\n",
       "      <td>41.000000</td>\n",
       "      <td>102.000000</td>\n",
       "      <td>160.000000</td>\n",
       "      <td>36.000000</td>\n",
       "      <td>75.000000</td>\n",
       "      <td>66.000000</td>\n",
       "      <td>18.510000</td>\n",
       "      <td>266.000000</td>\n",
       "      <td>87.300000</td>\n",
       "      <td>4.0</td>\n",
       "    </tr>\n",
       "  </tbody>\n",
       "</table>\n",
       "</div>"
      ],
      "text/plain": [
       "                나이       신장(cm)       체중(kg)      체지방율(%)    이완기혈압(최저)  \\\n",
       "count  8202.000000  8202.000000  8202.000000  8202.000000  8202.000000   \n",
       "mean     28.701536   175.180639    76.113138    21.173155    81.505974   \n",
       "std       8.882213     5.533111     9.791565     5.365303     9.076167   \n",
       "min      19.000000   148.300000    43.300000     2.000000    51.000000   \n",
       "25%      22.000000   171.500000    69.400000    17.500000    75.000000   \n",
       "50%      26.000000   175.100000    75.600000    21.100000    81.000000   \n",
       "75%      33.000000   178.900000    82.500000    24.800000    88.000000   \n",
       "max      64.000000   194.100000   101.200000    41.000000   102.000000   \n",
       "\n",
       "         수축기혈압(최고)  앉아윗몸앞으로굽히기(cm)  교차윗몸일으키기(회)   왕복오래달리기(회)  10M 4회 왕복달리기(초)  \\\n",
       "count  8202.000000     8202.000000  8202.000000  8202.000000      8202.000000   \n",
       "mean    133.104852       10.405758    43.185735    34.383046        10.940248   \n",
       "std      12.238175        7.964762     9.399496    10.936107         1.075953   \n",
       "min      93.000000      -11.700000     0.000000     0.000000         7.690000   \n",
       "25%     124.000000        5.425000    37.000000    28.000000        10.280000   \n",
       "50%     132.000000       11.000000    44.000000    35.000000        10.750000   \n",
       "75%     142.000000       16.000000    50.000000    42.000000        11.310000   \n",
       "max     160.000000       36.000000    75.000000    66.000000        18.510000   \n",
       "\n",
       "       제자리 멀리뛰기(cm)      상대악력(%)  cluster  \n",
       "count   8202.000000  8202.000000   8202.0  \n",
       "mean     217.075847    60.689905      4.0  \n",
       "std       10.788466     8.751470      0.0  \n",
       "min      188.000000    29.600000      4.0  \n",
       "25%      210.000000    54.500000      4.0  \n",
       "50%      216.000000    60.500000      4.0  \n",
       "75%      224.000000    66.600000      4.0  \n",
       "max      266.000000    87.300000      4.0  "
      ]
     },
     "execution_count": 55,
     "metadata": {},
     "output_type": "execute_result"
    },
    {
     "data": {
      "text/html": [
       "<div>\n",
       "<style scoped>\n",
       "    .dataframe tbody tr th:only-of-type {\n",
       "        vertical-align: middle;\n",
       "    }\n",
       "\n",
       "    .dataframe tbody tr th {\n",
       "        vertical-align: top;\n",
       "    }\n",
       "\n",
       "    .dataframe thead th {\n",
       "        text-align: right;\n",
       "    }\n",
       "</style>\n",
       "<table border=\"1\" class=\"dataframe\">\n",
       "  <thead>\n",
       "    <tr style=\"text-align: right;\">\n",
       "      <th></th>\n",
       "      <th>나이</th>\n",
       "      <th>신장(cm)</th>\n",
       "      <th>체중(kg)</th>\n",
       "      <th>체지방율(%)</th>\n",
       "      <th>이완기혈압(최저)</th>\n",
       "      <th>수축기혈압(최고)</th>\n",
       "      <th>앉아윗몸앞으로굽히기(cm)</th>\n",
       "      <th>교차윗몸일으키기(회)</th>\n",
       "      <th>왕복오래달리기(회)</th>\n",
       "      <th>10M 4회 왕복달리기(초)</th>\n",
       "      <th>제자리 멀리뛰기(cm)</th>\n",
       "      <th>상대악력(%)</th>\n",
       "      <th>cluster</th>\n",
       "    </tr>\n",
       "  </thead>\n",
       "  <tbody>\n",
       "    <tr>\n",
       "      <th>count</th>\n",
       "      <td>6904.000000</td>\n",
       "      <td>6904.000000</td>\n",
       "      <td>6904.000000</td>\n",
       "      <td>6904.000000</td>\n",
       "      <td>6904.000000</td>\n",
       "      <td>6904.000000</td>\n",
       "      <td>6904.000000</td>\n",
       "      <td>6904.000000</td>\n",
       "      <td>6904.000000</td>\n",
       "      <td>6904.000000</td>\n",
       "      <td>6904.000000</td>\n",
       "      <td>6904.000000</td>\n",
       "      <td>6904.0</td>\n",
       "    </tr>\n",
       "    <tr>\n",
       "      <th>mean</th>\n",
       "      <td>24.174826</td>\n",
       "      <td>175.711660</td>\n",
       "      <td>72.716033</td>\n",
       "      <td>15.946720</td>\n",
       "      <td>77.058922</td>\n",
       "      <td>128.345307</td>\n",
       "      <td>15.185101</td>\n",
       "      <td>53.446118</td>\n",
       "      <td>56.343746</td>\n",
       "      <td>10.072062</td>\n",
       "      <td>241.253331</td>\n",
       "      <td>66.570032</td>\n",
       "      <td>5.0</td>\n",
       "    </tr>\n",
       "    <tr>\n",
       "      <th>std</th>\n",
       "      <td>5.509845</td>\n",
       "      <td>5.347453</td>\n",
       "      <td>8.625307</td>\n",
       "      <td>4.509872</td>\n",
       "      <td>8.912178</td>\n",
       "      <td>12.133300</td>\n",
       "      <td>7.609724</td>\n",
       "      <td>8.484257</td>\n",
       "      <td>12.828059</td>\n",
       "      <td>0.880620</td>\n",
       "      <td>12.238598</td>\n",
       "      <td>8.408087</td>\n",
       "      <td>0.0</td>\n",
       "    </tr>\n",
       "    <tr>\n",
       "      <th>min</th>\n",
       "      <td>18.000000</td>\n",
       "      <td>148.000000</td>\n",
       "      <td>45.600000</td>\n",
       "      <td>1.600000</td>\n",
       "      <td>51.000000</td>\n",
       "      <td>92.000000</td>\n",
       "      <td>-11.700000</td>\n",
       "      <td>0.000000</td>\n",
       "      <td>2.000000</td>\n",
       "      <td>7.800000</td>\n",
       "      <td>218.000000</td>\n",
       "      <td>32.900000</td>\n",
       "      <td>5.0</td>\n",
       "    </tr>\n",
       "    <tr>\n",
       "      <th>25%</th>\n",
       "      <td>20.000000</td>\n",
       "      <td>172.100000</td>\n",
       "      <td>66.895000</td>\n",
       "      <td>12.800000</td>\n",
       "      <td>71.000000</td>\n",
       "      <td>120.000000</td>\n",
       "      <td>10.875000</td>\n",
       "      <td>49.000000</td>\n",
       "      <td>49.000000</td>\n",
       "      <td>9.540000</td>\n",
       "      <td>232.000000</td>\n",
       "      <td>60.800000</td>\n",
       "      <td>5.0</td>\n",
       "    </tr>\n",
       "    <tr>\n",
       "      <th>50%</th>\n",
       "      <td>23.000000</td>\n",
       "      <td>175.700000</td>\n",
       "      <td>72.200000</td>\n",
       "      <td>15.700000</td>\n",
       "      <td>77.000000</td>\n",
       "      <td>127.000000</td>\n",
       "      <td>16.000000</td>\n",
       "      <td>54.000000</td>\n",
       "      <td>57.000000</td>\n",
       "      <td>9.950000</td>\n",
       "      <td>239.000000</td>\n",
       "      <td>66.400000</td>\n",
       "      <td>5.0</td>\n",
       "    </tr>\n",
       "    <tr>\n",
       "      <th>75%</th>\n",
       "      <td>26.000000</td>\n",
       "      <td>179.400000</td>\n",
       "      <td>78.120000</td>\n",
       "      <td>18.925000</td>\n",
       "      <td>83.000000</td>\n",
       "      <td>137.000000</td>\n",
       "      <td>20.300000</td>\n",
       "      <td>59.000000</td>\n",
       "      <td>64.000000</td>\n",
       "      <td>10.410000</td>\n",
       "      <td>248.000000</td>\n",
       "      <td>72.200000</td>\n",
       "      <td>5.0</td>\n",
       "    </tr>\n",
       "    <tr>\n",
       "      <th>max</th>\n",
       "      <td>59.000000</td>\n",
       "      <td>194.500000</td>\n",
       "      <td>101.000000</td>\n",
       "      <td>38.200000</td>\n",
       "      <td>101.000000</td>\n",
       "      <td>160.000000</td>\n",
       "      <td>36.300000</td>\n",
       "      <td>81.000000</td>\n",
       "      <td>82.000000</td>\n",
       "      <td>18.380000</td>\n",
       "      <td>310.000000</td>\n",
       "      <td>87.300000</td>\n",
       "      <td>5.0</td>\n",
       "    </tr>\n",
       "  </tbody>\n",
       "</table>\n",
       "</div>"
      ],
      "text/plain": [
       "                나이       신장(cm)       체중(kg)      체지방율(%)    이완기혈압(최저)  \\\n",
       "count  6904.000000  6904.000000  6904.000000  6904.000000  6904.000000   \n",
       "mean     24.174826   175.711660    72.716033    15.946720    77.058922   \n",
       "std       5.509845     5.347453     8.625307     4.509872     8.912178   \n",
       "min      18.000000   148.000000    45.600000     1.600000    51.000000   \n",
       "25%      20.000000   172.100000    66.895000    12.800000    71.000000   \n",
       "50%      23.000000   175.700000    72.200000    15.700000    77.000000   \n",
       "75%      26.000000   179.400000    78.120000    18.925000    83.000000   \n",
       "max      59.000000   194.500000   101.000000    38.200000   101.000000   \n",
       "\n",
       "         수축기혈압(최고)  앉아윗몸앞으로굽히기(cm)  교차윗몸일으키기(회)   왕복오래달리기(회)  10M 4회 왕복달리기(초)  \\\n",
       "count  6904.000000     6904.000000  6904.000000  6904.000000      6904.000000   \n",
       "mean    128.345307       15.185101    53.446118    56.343746        10.072062   \n",
       "std      12.133300        7.609724     8.484257    12.828059         0.880620   \n",
       "min      92.000000      -11.700000     0.000000     2.000000         7.800000   \n",
       "25%     120.000000       10.875000    49.000000    49.000000         9.540000   \n",
       "50%     127.000000       16.000000    54.000000    57.000000         9.950000   \n",
       "75%     137.000000       20.300000    59.000000    64.000000        10.410000   \n",
       "max     160.000000       36.300000    81.000000    82.000000        18.380000   \n",
       "\n",
       "       제자리 멀리뛰기(cm)      상대악력(%)  cluster  \n",
       "count   6904.000000  6904.000000   6904.0  \n",
       "mean     241.253331    66.570032      5.0  \n",
       "std       12.238598     8.408087      0.0  \n",
       "min      218.000000    32.900000      5.0  \n",
       "25%      232.000000    60.800000      5.0  \n",
       "50%      239.000000    66.400000      5.0  \n",
       "75%      248.000000    72.200000      5.0  \n",
       "max      310.000000    87.300000      5.0  "
      ]
     },
     "execution_count": 55,
     "metadata": {},
     "output_type": "execute_result"
    }
   ],
   "source": [
    "# 5점 척도 표현\n",
    "# a1 = 근력 : 보통이하(2), 근지구력 : 보통(3), 심폐지구력 : 나쁨(1) , 유연성 : 보통(3) 민첩성 : 3  순발력 :2\n",
    "a1.describe()\n",
    "# a2 = 근력 : 나쁨(1), 근지구력 : 나쁨(1), 심폐지구력 : 나쁨(1) , 유연성 : 나쁨(1) 민천성 : 2  순발력 : 1 \n",
    "a2.describe()\n",
    "# a3 = 근력 : 좋음(5), 근지구력 : 보통(3), 심폐지구력 : 나쁨(1) , 유연성 : 나쁨(1) 민첩성 : 4  순발력 : 5\n",
    "a3.describe()\n",
    "# a4 = 근력 : 좋음(5), 근지구력 : 보통 이상(4), 심폐지구력 : 보통 이상(4) , 유연성 : 보통 이상(4)  민첩성 : 2 순발력 : 1\n",
    "a4.describe() \n",
    "# a5 = 근력 : 보통 이하(2), 근지구력 : 나쁨(1), 심폐지구력 : 나쁨(1) , 유연성 : 나쁨(1)  민첩성 : 4 순발력 : 4\n",
    "a5.describe()\n",
    "# a6 = 근력 : 보통 이상(4), 근지구력 : 보통(3), 심폐지구력 : 나쁨(1) , 유연성 : 보통(3) 민첩성 : 4  순발력 : 5\n",
    "a6.describe()"
   ]
  },
  {
   "cell_type": "markdown",
   "metadata": {},
   "source": [
    "##### 카운트를 통해 군집에 가장 많이 처방 된 운동을 확인"
   ]
  },
  {
   "cell_type": "code",
   "execution_count": 56,
   "metadata": {},
   "outputs": [
    {
     "name": "stdout",
     "output_type": "stream",
     "text": [
      "          6453\n",
      "Be085     1976\n",
      " Bk011    1842\n",
      " Ag026    1758\n",
      " Bq007    1717\n",
      " Ce203    1338\n",
      " Bq008    1338\n",
      " Ce204    1314\n",
      " Be085    1313\n",
      " Aa028    1291\n",
      " Be084    1126\n",
      "Bq008     1116\n",
      " Bk010    1100\n",
      " Bp017    1049\n",
      " Ad010    1022\n",
      " Ba059    1019\n",
      " Bd024     990\n",
      " Ap007     978\n",
      " Br006     959\n",
      " Bg040     934\n",
      "Name: index, dtype: int64\n"
     ]
    }
   ],
   "source": [
    "result = a1['운동처방'].str.split(',', expand=True)\n",
    "\n",
    "temp = result.melt(var_name='col', value_name='index')\n",
    "\n",
    "print(temp['index'].value_counts()[:20])"
   ]
  },
  {
   "cell_type": "code",
   "execution_count": 57,
   "metadata": {
    "scrolled": true
   },
   "outputs": [
    {
     "name": "stdout",
     "output_type": "stream",
     "text": [
      "          5530\n",
      "Be085     1688\n",
      " Ag026    1615\n",
      " Bk011    1524\n",
      " Bq007    1357\n",
      " Ce204    1275\n",
      " Ce203    1249\n",
      " Aa028    1246\n",
      " Ce170    1235\n",
      " Bq008    1156\n",
      " Be085    1114\n",
      " Ce201    1028\n",
      " Ad010     990\n",
      " Ag029     913\n",
      " Ba059     847\n",
      " Bk010     830\n",
      "Bq008      807\n",
      " Ae012     799\n",
      " Ap005     781\n",
      " Ce202     768\n",
      "Name: index, dtype: int64\n"
     ]
    }
   ],
   "source": [
    "result = a2['운동처방'].str.split(',', expand=True)\n",
    "\n",
    "temp = result.melt(var_name='col', value_name='index')\n",
    "\n",
    "print(temp['index'].value_counts()[:20])"
   ]
  },
  {
   "cell_type": "code",
   "execution_count": 58,
   "metadata": {},
   "outputs": [
    {
     "name": "stdout",
     "output_type": "stream",
     "text": [
      "          5628\n",
      " Bk011    1283\n",
      "Be085     1282\n",
      " Ag026    1247\n",
      " Bq007    1145\n",
      " Bq008    1088\n",
      " Ce204    1032\n",
      " Ce203     997\n",
      " Ce170     972\n",
      " Be085     953\n",
      " Aa028     918\n",
      " Ce201     906\n",
      " Ba055     862\n",
      " Ba059     795\n",
      " Bd024     745\n",
      " Ap007     744\n",
      " Ag029     718\n",
      "Bq008      714\n",
      " Be084     687\n",
      " Ap005     684\n",
      "Name: index, dtype: int64\n"
     ]
    }
   ],
   "source": [
    "result = a3['운동처방'].str.split(',', expand=True)\n",
    "\n",
    "temp = result.melt(var_name='col', value_name='index')\n",
    "\n",
    "print(temp['index'].value_counts()[:20])"
   ]
  },
  {
   "cell_type": "code",
   "execution_count": 59,
   "metadata": {},
   "outputs": [
    {
     "name": "stdout",
     "output_type": "stream",
     "text": [
      "          2479\n",
      " Ag026     675\n",
      "Be085      609\n",
      " Be085     588\n",
      " Bk011     588\n",
      " Bq007     580\n",
      " Ce170     579\n",
      " Ce204     579\n",
      " Bq008     573\n",
      " Ce201     566\n",
      " Aa028     563\n",
      " Ce203     560\n",
      " Ap007     429\n",
      " Ag029     413\n",
      " Ad010     396\n",
      " Be084     366\n",
      " Ba059     364\n",
      " Ag025     360\n",
      " Ae012     347\n",
      " Ce206     340\n",
      "Name: index, dtype: int64\n"
     ]
    }
   ],
   "source": [
    "result = a4['운동처방'].str.split(',', expand=True)\n",
    "\n",
    "temp = result.melt(var_name='col', value_name='index')\n",
    "\n",
    "print(temp['index'].value_counts()[:20])"
   ]
  },
  {
   "cell_type": "code",
   "execution_count": 60,
   "metadata": {},
   "outputs": [
    {
     "name": "stdout",
     "output_type": "stream",
     "text": [
      "          7887\n",
      " Bk011    2155\n",
      "Be085     2113\n",
      " Ag026    1986\n",
      " Ce170    1908\n",
      " Ce204    1869\n",
      " Ce203    1860\n",
      " Bq007    1833\n",
      " Aa028    1732\n",
      " Ce201    1708\n",
      " Bq008    1556\n",
      " Be085    1433\n",
      "Ce206     1405\n",
      " Ce202    1334\n",
      " Ad010    1257\n",
      "Bq008     1252\n",
      " Ag029    1182\n",
      " Ba059    1127\n",
      " Ae012    1053\n",
      " Ce206    1043\n",
      "Name: index, dtype: int64\n"
     ]
    }
   ],
   "source": [
    "result = a5['운동처방'].str.split(',', expand=True)\n",
    "\n",
    "temp = result.melt(var_name='col', value_name='index')\n",
    "\n",
    "print(temp['index'].value_counts()[:20])"
   ]
  },
  {
   "cell_type": "code",
   "execution_count": 61,
   "metadata": {},
   "outputs": [
    {
     "name": "stdout",
     "output_type": "stream",
     "text": [
      "          6826\n",
      " Bk011    1669\n",
      "Be085     1666\n",
      " Ag026    1592\n",
      " Bq007    1298\n",
      " Ce203    1218\n",
      " Aa028    1191\n",
      " Ce204    1154\n",
      " Bq008    1138\n",
      " Ad010    1128\n",
      " Be085    1049\n",
      "Bq008      984\n",
      " Ba059     917\n",
      " Ce170     900\n",
      " Bk010     890\n",
      " Ae012     883\n",
      " Bd024     869\n",
      " Be084     861\n",
      " Ag029     844\n",
      " Ce201     844\n",
      "Name: index, dtype: int64\n"
     ]
    }
   ],
   "source": [
    "result = a6['운동처방'].str.split(',', expand=True)\n",
    "\n",
    "temp = result.melt(var_name='col', value_name='index')\n",
    "\n",
    "print(temp['index'].value_counts()[:20])"
   ]
  },
  {
   "cell_type": "markdown",
   "metadata": {},
   "source": [
    "##### 군집을 4개로 분류 (여자)"
   ]
  },
  {
   "cell_type": "code",
   "execution_count": 62,
   "metadata": {},
   "outputs": [],
   "source": [
    "b1 = fin_df_f[fin_df_f['cluster']==0]\n",
    "b2 = fin_df_f[fin_df_f['cluster']==1]\n",
    "b3 = fin_df_f[fin_df_f['cluster']==2]\n",
    "b4 = fin_df_f[fin_df_f['cluster']==3]"
   ]
  },
  {
   "cell_type": "code",
   "execution_count": 63,
   "metadata": {},
   "outputs": [
    {
     "data": {
      "text/html": [
       "<div>\n",
       "<style scoped>\n",
       "    .dataframe tbody tr th:only-of-type {\n",
       "        vertical-align: middle;\n",
       "    }\n",
       "\n",
       "    .dataframe tbody tr th {\n",
       "        vertical-align: top;\n",
       "    }\n",
       "\n",
       "    .dataframe thead th {\n",
       "        text-align: right;\n",
       "    }\n",
       "</style>\n",
       "<table border=\"1\" class=\"dataframe\">\n",
       "  <thead>\n",
       "    <tr style=\"text-align: right;\">\n",
       "      <th></th>\n",
       "      <th>나이</th>\n",
       "      <th>신장(cm)</th>\n",
       "      <th>체중(kg)</th>\n",
       "      <th>체지방율(%)</th>\n",
       "      <th>이완기혈압(최저)</th>\n",
       "      <th>수축기혈압(최고)</th>\n",
       "      <th>앉아윗몸앞으로굽히기(cm)</th>\n",
       "      <th>교차윗몸일으키기(회)</th>\n",
       "      <th>왕복오래달리기(회)</th>\n",
       "      <th>10M 4회 왕복달리기(초)</th>\n",
       "      <th>제자리 멀리뛰기(cm)</th>\n",
       "      <th>상대악력(%)</th>\n",
       "      <th>cluster</th>\n",
       "    </tr>\n",
       "  </thead>\n",
       "  <tbody>\n",
       "    <tr>\n",
       "      <th>count</th>\n",
       "      <td>10470.000000</td>\n",
       "      <td>10470.000000</td>\n",
       "      <td>10470.000000</td>\n",
       "      <td>10470.000000</td>\n",
       "      <td>10470.000000</td>\n",
       "      <td>10470.000000</td>\n",
       "      <td>10470.000000</td>\n",
       "      <td>10470.000000</td>\n",
       "      <td>10470.000000</td>\n",
       "      <td>10470.000000</td>\n",
       "      <td>10470.000000</td>\n",
       "      <td>10470.000000</td>\n",
       "      <td>10470.0</td>\n",
       "    </tr>\n",
       "    <tr>\n",
       "      <th>mean</th>\n",
       "      <td>26.410029</td>\n",
       "      <td>163.348691</td>\n",
       "      <td>55.935916</td>\n",
       "      <td>26.275418</td>\n",
       "      <td>74.779962</td>\n",
       "      <td>119.958835</td>\n",
       "      <td>19.368521</td>\n",
       "      <td>37.134871</td>\n",
       "      <td>27.889655</td>\n",
       "      <td>12.185753</td>\n",
       "      <td>173.323591</td>\n",
       "      <td>51.957383</td>\n",
       "      <td>0.0</td>\n",
       "    </tr>\n",
       "    <tr>\n",
       "      <th>std</th>\n",
       "      <td>8.312887</td>\n",
       "      <td>5.120965</td>\n",
       "      <td>7.274210</td>\n",
       "      <td>5.267354</td>\n",
       "      <td>9.006988</td>\n",
       "      <td>10.994442</td>\n",
       "      <td>6.982827</td>\n",
       "      <td>10.174008</td>\n",
       "      <td>9.975096</td>\n",
       "      <td>1.045318</td>\n",
       "      <td>14.042269</td>\n",
       "      <td>7.715469</td>\n",
       "      <td>0.0</td>\n",
       "    </tr>\n",
       "    <tr>\n",
       "      <th>min</th>\n",
       "      <td>19.000000</td>\n",
       "      <td>141.400000</td>\n",
       "      <td>34.700000</td>\n",
       "      <td>2.400000</td>\n",
       "      <td>51.000000</td>\n",
       "      <td>90.000000</td>\n",
       "      <td>-11.700000</td>\n",
       "      <td>0.000000</td>\n",
       "      <td>0.000000</td>\n",
       "      <td>8.840000</td>\n",
       "      <td>137.000000</td>\n",
       "      <td>19.800000</td>\n",
       "      <td>0.0</td>\n",
       "    </tr>\n",
       "    <tr>\n",
       "      <th>25%</th>\n",
       "      <td>21.000000</td>\n",
       "      <td>160.000000</td>\n",
       "      <td>51.000000</td>\n",
       "      <td>22.700000</td>\n",
       "      <td>69.000000</td>\n",
       "      <td>112.000000</td>\n",
       "      <td>15.300000</td>\n",
       "      <td>30.000000</td>\n",
       "      <td>21.000000</td>\n",
       "      <td>11.530000</td>\n",
       "      <td>163.000000</td>\n",
       "      <td>46.700000</td>\n",
       "      <td>0.0</td>\n",
       "    </tr>\n",
       "    <tr>\n",
       "      <th>50%</th>\n",
       "      <td>24.000000</td>\n",
       "      <td>163.300000</td>\n",
       "      <td>54.900000</td>\n",
       "      <td>26.000000</td>\n",
       "      <td>75.000000</td>\n",
       "      <td>120.000000</td>\n",
       "      <td>20.200000</td>\n",
       "      <td>37.000000</td>\n",
       "      <td>26.000000</td>\n",
       "      <td>12.120000</td>\n",
       "      <td>171.000000</td>\n",
       "      <td>51.700000</td>\n",
       "      <td>0.0</td>\n",
       "    </tr>\n",
       "    <tr>\n",
       "      <th>75%</th>\n",
       "      <td>28.000000</td>\n",
       "      <td>166.800000</td>\n",
       "      <td>59.700000</td>\n",
       "      <td>29.800000</td>\n",
       "      <td>81.000000</td>\n",
       "      <td>127.000000</td>\n",
       "      <td>24.100000</td>\n",
       "      <td>44.000000</td>\n",
       "      <td>32.000000</td>\n",
       "      <td>12.750000</td>\n",
       "      <td>181.000000</td>\n",
       "      <td>56.900000</td>\n",
       "      <td>0.0</td>\n",
       "    </tr>\n",
       "    <tr>\n",
       "      <th>max</th>\n",
       "      <td>64.000000</td>\n",
       "      <td>185.100000</td>\n",
       "      <td>100.300000</td>\n",
       "      <td>48.800000</td>\n",
       "      <td>100.000000</td>\n",
       "      <td>160.000000</td>\n",
       "      <td>37.000000</td>\n",
       "      <td>74.000000</td>\n",
       "      <td>82.000000</td>\n",
       "      <td>18.360000</td>\n",
       "      <td>265.000000</td>\n",
       "      <td>86.600000</td>\n",
       "      <td>0.0</td>\n",
       "    </tr>\n",
       "  </tbody>\n",
       "</table>\n",
       "</div>"
      ],
      "text/plain": [
       "                 나이        신장(cm)        체중(kg)       체지방율(%)     이완기혈압(최저)  \\\n",
       "count  10470.000000  10470.000000  10470.000000  10470.000000  10470.000000   \n",
       "mean      26.410029    163.348691     55.935916     26.275418     74.779962   \n",
       "std        8.312887      5.120965      7.274210      5.267354      9.006988   \n",
       "min       19.000000    141.400000     34.700000      2.400000     51.000000   \n",
       "25%       21.000000    160.000000     51.000000     22.700000     69.000000   \n",
       "50%       24.000000    163.300000     54.900000     26.000000     75.000000   \n",
       "75%       28.000000    166.800000     59.700000     29.800000     81.000000   \n",
       "max       64.000000    185.100000    100.300000     48.800000    100.000000   \n",
       "\n",
       "          수축기혈압(최고)  앉아윗몸앞으로굽히기(cm)   교차윗몸일으키기(회)    왕복오래달리기(회)  \\\n",
       "count  10470.000000    10470.000000  10470.000000  10470.000000   \n",
       "mean     119.958835       19.368521     37.134871     27.889655   \n",
       "std       10.994442        6.982827     10.174008      9.975096   \n",
       "min       90.000000      -11.700000      0.000000      0.000000   \n",
       "25%      112.000000       15.300000     30.000000     21.000000   \n",
       "50%      120.000000       20.200000     37.000000     26.000000   \n",
       "75%      127.000000       24.100000     44.000000     32.000000   \n",
       "max      160.000000       37.000000     74.000000     82.000000   \n",
       "\n",
       "       10M 4회 왕복달리기(초)  제자리 멀리뛰기(cm)       상대악력(%)  cluster  \n",
       "count     10470.000000  10470.000000  10470.000000  10470.0  \n",
       "mean         12.185753    173.323591     51.957383      0.0  \n",
       "std           1.045318     14.042269      7.715469      0.0  \n",
       "min           8.840000    137.000000     19.800000      0.0  \n",
       "25%          11.530000    163.000000     46.700000      0.0  \n",
       "50%          12.120000    171.000000     51.700000      0.0  \n",
       "75%          12.750000    181.000000     56.900000      0.0  \n",
       "max          18.360000    265.000000     86.600000      0.0  "
      ]
     },
     "execution_count": 63,
     "metadata": {},
     "output_type": "execute_result"
    },
    {
     "data": {
      "text/html": [
       "<div>\n",
       "<style scoped>\n",
       "    .dataframe tbody tr th:only-of-type {\n",
       "        vertical-align: middle;\n",
       "    }\n",
       "\n",
       "    .dataframe tbody tr th {\n",
       "        vertical-align: top;\n",
       "    }\n",
       "\n",
       "    .dataframe thead th {\n",
       "        text-align: right;\n",
       "    }\n",
       "</style>\n",
       "<table border=\"1\" class=\"dataframe\">\n",
       "  <thead>\n",
       "    <tr style=\"text-align: right;\">\n",
       "      <th></th>\n",
       "      <th>나이</th>\n",
       "      <th>신장(cm)</th>\n",
       "      <th>체중(kg)</th>\n",
       "      <th>체지방율(%)</th>\n",
       "      <th>이완기혈압(최저)</th>\n",
       "      <th>수축기혈압(최고)</th>\n",
       "      <th>앉아윗몸앞으로굽히기(cm)</th>\n",
       "      <th>교차윗몸일으키기(회)</th>\n",
       "      <th>왕복오래달리기(회)</th>\n",
       "      <th>10M 4회 왕복달리기(초)</th>\n",
       "      <th>제자리 멀리뛰기(cm)</th>\n",
       "      <th>상대악력(%)</th>\n",
       "      <th>cluster</th>\n",
       "    </tr>\n",
       "  </thead>\n",
       "  <tbody>\n",
       "    <tr>\n",
       "      <th>count</th>\n",
       "      <td>8106.000000</td>\n",
       "      <td>8106.000000</td>\n",
       "      <td>8106.000000</td>\n",
       "      <td>8106.000000</td>\n",
       "      <td>8106.000000</td>\n",
       "      <td>8106.000000</td>\n",
       "      <td>8106.000000</td>\n",
       "      <td>8106.000000</td>\n",
       "      <td>8106.000000</td>\n",
       "      <td>8106.000000</td>\n",
       "      <td>8106.000000</td>\n",
       "      <td>8106.000000</td>\n",
       "      <td>8106.0</td>\n",
       "    </tr>\n",
       "    <tr>\n",
       "      <th>mean</th>\n",
       "      <td>51.379842</td>\n",
       "      <td>158.245769</td>\n",
       "      <td>58.755039</td>\n",
       "      <td>31.597670</td>\n",
       "      <td>78.961880</td>\n",
       "      <td>127.765482</td>\n",
       "      <td>16.393055</td>\n",
       "      <td>21.826215</td>\n",
       "      <td>16.032832</td>\n",
       "      <td>14.178011</td>\n",
       "      <td>140.637861</td>\n",
       "      <td>45.022884</td>\n",
       "      <td>1.0</td>\n",
       "    </tr>\n",
       "    <tr>\n",
       "      <th>std</th>\n",
       "      <td>7.899597</td>\n",
       "      <td>5.100238</td>\n",
       "      <td>8.095195</td>\n",
       "      <td>5.582714</td>\n",
       "      <td>9.296734</td>\n",
       "      <td>13.178728</td>\n",
       "      <td>6.959398</td>\n",
       "      <td>9.539517</td>\n",
       "      <td>6.191083</td>\n",
       "      <td>1.130824</td>\n",
       "      <td>11.542268</td>\n",
       "      <td>7.296176</td>\n",
       "      <td>0.0</td>\n",
       "    </tr>\n",
       "    <tr>\n",
       "      <th>min</th>\n",
       "      <td>19.000000</td>\n",
       "      <td>140.700000</td>\n",
       "      <td>33.100000</td>\n",
       "      <td>1.800000</td>\n",
       "      <td>51.000000</td>\n",
       "      <td>90.000000</td>\n",
       "      <td>-11.500000</td>\n",
       "      <td>0.000000</td>\n",
       "      <td>0.000000</td>\n",
       "      <td>9.490000</td>\n",
       "      <td>112.000000</td>\n",
       "      <td>18.700000</td>\n",
       "      <td>1.0</td>\n",
       "    </tr>\n",
       "    <tr>\n",
       "      <th>25%</th>\n",
       "      <td>47.000000</td>\n",
       "      <td>154.800000</td>\n",
       "      <td>53.200000</td>\n",
       "      <td>27.900000</td>\n",
       "      <td>72.000000</td>\n",
       "      <td>119.000000</td>\n",
       "      <td>12.100000</td>\n",
       "      <td>15.000000</td>\n",
       "      <td>12.000000</td>\n",
       "      <td>13.380000</td>\n",
       "      <td>131.000000</td>\n",
       "      <td>40.300000</td>\n",
       "      <td>1.0</td>\n",
       "    </tr>\n",
       "    <tr>\n",
       "      <th>50%</th>\n",
       "      <td>52.000000</td>\n",
       "      <td>158.000000</td>\n",
       "      <td>57.600000</td>\n",
       "      <td>32.000000</td>\n",
       "      <td>79.000000</td>\n",
       "      <td>127.000000</td>\n",
       "      <td>17.100000</td>\n",
       "      <td>22.000000</td>\n",
       "      <td>15.000000</td>\n",
       "      <td>14.040000</td>\n",
       "      <td>139.500000</td>\n",
       "      <td>45.100000</td>\n",
       "      <td>1.0</td>\n",
       "    </tr>\n",
       "    <tr>\n",
       "      <th>75%</th>\n",
       "      <td>58.000000</td>\n",
       "      <td>161.700000</td>\n",
       "      <td>63.200000</td>\n",
       "      <td>35.400000</td>\n",
       "      <td>85.000000</td>\n",
       "      <td>136.000000</td>\n",
       "      <td>21.300000</td>\n",
       "      <td>28.000000</td>\n",
       "      <td>19.000000</td>\n",
       "      <td>14.850000</td>\n",
       "      <td>149.000000</td>\n",
       "      <td>49.700000</td>\n",
       "      <td>1.0</td>\n",
       "    </tr>\n",
       "    <tr>\n",
       "      <th>max</th>\n",
       "      <td>64.000000</td>\n",
       "      <td>178.400000</td>\n",
       "      <td>100.800000</td>\n",
       "      <td>49.400000</td>\n",
       "      <td>102.000000</td>\n",
       "      <td>160.000000</td>\n",
       "      <td>35.000000</td>\n",
       "      <td>57.000000</td>\n",
       "      <td>80.000000</td>\n",
       "      <td>18.590000</td>\n",
       "      <td>196.000000</td>\n",
       "      <td>81.400000</td>\n",
       "      <td>1.0</td>\n",
       "    </tr>\n",
       "  </tbody>\n",
       "</table>\n",
       "</div>"
      ],
      "text/plain": [
       "                나이       신장(cm)       체중(kg)      체지방율(%)    이완기혈압(최저)  \\\n",
       "count  8106.000000  8106.000000  8106.000000  8106.000000  8106.000000   \n",
       "mean     51.379842   158.245769    58.755039    31.597670    78.961880   \n",
       "std       7.899597     5.100238     8.095195     5.582714     9.296734   \n",
       "min      19.000000   140.700000    33.100000     1.800000    51.000000   \n",
       "25%      47.000000   154.800000    53.200000    27.900000    72.000000   \n",
       "50%      52.000000   158.000000    57.600000    32.000000    79.000000   \n",
       "75%      58.000000   161.700000    63.200000    35.400000    85.000000   \n",
       "max      64.000000   178.400000   100.800000    49.400000   102.000000   \n",
       "\n",
       "         수축기혈압(최고)  앉아윗몸앞으로굽히기(cm)  교차윗몸일으키기(회)   왕복오래달리기(회)  10M 4회 왕복달리기(초)  \\\n",
       "count  8106.000000     8106.000000  8106.000000  8106.000000      8106.000000   \n",
       "mean    127.765482       16.393055    21.826215    16.032832        14.178011   \n",
       "std      13.178728        6.959398     9.539517     6.191083         1.130824   \n",
       "min      90.000000      -11.500000     0.000000     0.000000         9.490000   \n",
       "25%     119.000000       12.100000    15.000000    12.000000        13.380000   \n",
       "50%     127.000000       17.100000    22.000000    15.000000        14.040000   \n",
       "75%     136.000000       21.300000    28.000000    19.000000        14.850000   \n",
       "max     160.000000       35.000000    57.000000    80.000000        18.590000   \n",
       "\n",
       "       제자리 멀리뛰기(cm)      상대악력(%)  cluster  \n",
       "count   8106.000000  8106.000000   8106.0  \n",
       "mean     140.637861    45.022884      1.0  \n",
       "std       11.542268     7.296176      0.0  \n",
       "min      112.000000    18.700000      1.0  \n",
       "25%      131.000000    40.300000      1.0  \n",
       "50%      139.500000    45.100000      1.0  \n",
       "75%      149.000000    49.700000      1.0  \n",
       "max      196.000000    81.400000      1.0  "
      ]
     },
     "execution_count": 63,
     "metadata": {},
     "output_type": "execute_result"
    },
    {
     "data": {
      "text/html": [
       "<div>\n",
       "<style scoped>\n",
       "    .dataframe tbody tr th:only-of-type {\n",
       "        vertical-align: middle;\n",
       "    }\n",
       "\n",
       "    .dataframe tbody tr th {\n",
       "        vertical-align: top;\n",
       "    }\n",
       "\n",
       "    .dataframe thead th {\n",
       "        text-align: right;\n",
       "    }\n",
       "</style>\n",
       "<table border=\"1\" class=\"dataframe\">\n",
       "  <thead>\n",
       "    <tr style=\"text-align: right;\">\n",
       "      <th></th>\n",
       "      <th>나이</th>\n",
       "      <th>신장(cm)</th>\n",
       "      <th>체중(kg)</th>\n",
       "      <th>체지방율(%)</th>\n",
       "      <th>이완기혈압(최저)</th>\n",
       "      <th>수축기혈압(최고)</th>\n",
       "      <th>앉아윗몸앞으로굽히기(cm)</th>\n",
       "      <th>교차윗몸일으키기(회)</th>\n",
       "      <th>왕복오래달리기(회)</th>\n",
       "      <th>10M 4회 왕복달리기(초)</th>\n",
       "      <th>제자리 멀리뛰기(cm)</th>\n",
       "      <th>상대악력(%)</th>\n",
       "      <th>cluster</th>\n",
       "    </tr>\n",
       "  </thead>\n",
       "  <tbody>\n",
       "    <tr>\n",
       "      <th>count</th>\n",
       "      <td>7544.000000</td>\n",
       "      <td>7544.000000</td>\n",
       "      <td>7544.000000</td>\n",
       "      <td>7544.000000</td>\n",
       "      <td>7544.000000</td>\n",
       "      <td>7544.000000</td>\n",
       "      <td>7544.000000</td>\n",
       "      <td>7544.000000</td>\n",
       "      <td>7544.000000</td>\n",
       "      <td>7544.000000</td>\n",
       "      <td>7544.000000</td>\n",
       "      <td>7544.000000</td>\n",
       "      <td>7544.0</td>\n",
       "    </tr>\n",
       "    <tr>\n",
       "      <th>mean</th>\n",
       "      <td>53.752386</td>\n",
       "      <td>156.704494</td>\n",
       "      <td>59.892874</td>\n",
       "      <td>34.822715</td>\n",
       "      <td>76.313229</td>\n",
       "      <td>124.782383</td>\n",
       "      <td>13.516434</td>\n",
       "      <td>11.940496</td>\n",
       "      <td>10.813562</td>\n",
       "      <td>15.699653</td>\n",
       "      <td>106.530938</td>\n",
       "      <td>39.905103</td>\n",
       "      <td>2.0</td>\n",
       "    </tr>\n",
       "    <tr>\n",
       "      <th>std</th>\n",
       "      <td>10.533844</td>\n",
       "      <td>5.302412</td>\n",
       "      <td>8.811771</td>\n",
       "      <td>5.720437</td>\n",
       "      <td>9.284454</td>\n",
       "      <td>13.985419</td>\n",
       "      <td>7.733488</td>\n",
       "      <td>8.672550</td>\n",
       "      <td>4.524234</td>\n",
       "      <td>1.262218</td>\n",
       "      <td>15.115095</td>\n",
       "      <td>7.186276</td>\n",
       "      <td>0.0</td>\n",
       "    </tr>\n",
       "    <tr>\n",
       "      <th>min</th>\n",
       "      <td>19.000000</td>\n",
       "      <td>139.500000</td>\n",
       "      <td>30.800000</td>\n",
       "      <td>3.200000</td>\n",
       "      <td>51.000000</td>\n",
       "      <td>90.000000</td>\n",
       "      <td>-11.300000</td>\n",
       "      <td>0.000000</td>\n",
       "      <td>0.000000</td>\n",
       "      <td>8.000000</td>\n",
       "      <td>44.000000</td>\n",
       "      <td>18.500000</td>\n",
       "      <td>2.0</td>\n",
       "    </tr>\n",
       "    <tr>\n",
       "      <th>25%</th>\n",
       "      <td>50.000000</td>\n",
       "      <td>153.000000</td>\n",
       "      <td>53.800000</td>\n",
       "      <td>31.400000</td>\n",
       "      <td>70.000000</td>\n",
       "      <td>115.000000</td>\n",
       "      <td>8.600000</td>\n",
       "      <td>5.000000</td>\n",
       "      <td>8.000000</td>\n",
       "      <td>14.800000</td>\n",
       "      <td>101.000000</td>\n",
       "      <td>35.100000</td>\n",
       "      <td>2.0</td>\n",
       "    </tr>\n",
       "    <tr>\n",
       "      <th>50%</th>\n",
       "      <td>57.000000</td>\n",
       "      <td>156.600000</td>\n",
       "      <td>58.870000</td>\n",
       "      <td>35.100000</td>\n",
       "      <td>76.000000</td>\n",
       "      <td>124.000000</td>\n",
       "      <td>14.300000</td>\n",
       "      <td>11.000000</td>\n",
       "      <td>10.000000</td>\n",
       "      <td>15.630000</td>\n",
       "      <td>110.000000</td>\n",
       "      <td>39.900000</td>\n",
       "      <td>2.0</td>\n",
       "    </tr>\n",
       "    <tr>\n",
       "      <th>75%</th>\n",
       "      <td>61.000000</td>\n",
       "      <td>160.000000</td>\n",
       "      <td>64.900000</td>\n",
       "      <td>38.600000</td>\n",
       "      <td>82.000000</td>\n",
       "      <td>134.000000</td>\n",
       "      <td>19.100000</td>\n",
       "      <td>18.000000</td>\n",
       "      <td>13.000000</td>\n",
       "      <td>16.570000</td>\n",
       "      <td>117.000000</td>\n",
       "      <td>44.700000</td>\n",
       "      <td>2.0</td>\n",
       "    </tr>\n",
       "    <tr>\n",
       "      <th>max</th>\n",
       "      <td>64.000000</td>\n",
       "      <td>182.800000</td>\n",
       "      <td>99.400000</td>\n",
       "      <td>49.400000</td>\n",
       "      <td>101.000000</td>\n",
       "      <td>160.000000</td>\n",
       "      <td>37.000000</td>\n",
       "      <td>79.000000</td>\n",
       "      <td>75.000000</td>\n",
       "      <td>18.590000</td>\n",
       "      <td>133.000000</td>\n",
       "      <td>82.200000</td>\n",
       "      <td>2.0</td>\n",
       "    </tr>\n",
       "  </tbody>\n",
       "</table>\n",
       "</div>"
      ],
      "text/plain": [
       "                나이       신장(cm)       체중(kg)      체지방율(%)    이완기혈압(최저)  \\\n",
       "count  7544.000000  7544.000000  7544.000000  7544.000000  7544.000000   \n",
       "mean     53.752386   156.704494    59.892874    34.822715    76.313229   \n",
       "std      10.533844     5.302412     8.811771     5.720437     9.284454   \n",
       "min      19.000000   139.500000    30.800000     3.200000    51.000000   \n",
       "25%      50.000000   153.000000    53.800000    31.400000    70.000000   \n",
       "50%      57.000000   156.600000    58.870000    35.100000    76.000000   \n",
       "75%      61.000000   160.000000    64.900000    38.600000    82.000000   \n",
       "max      64.000000   182.800000    99.400000    49.400000   101.000000   \n",
       "\n",
       "         수축기혈압(최고)  앉아윗몸앞으로굽히기(cm)  교차윗몸일으키기(회)   왕복오래달리기(회)  10M 4회 왕복달리기(초)  \\\n",
       "count  7544.000000     7544.000000  7544.000000  7544.000000      7544.000000   \n",
       "mean    124.782383       13.516434    11.940496    10.813562        15.699653   \n",
       "std      13.985419        7.733488     8.672550     4.524234         1.262218   \n",
       "min      90.000000      -11.300000     0.000000     0.000000         8.000000   \n",
       "25%     115.000000        8.600000     5.000000     8.000000        14.800000   \n",
       "50%     124.000000       14.300000    11.000000    10.000000        15.630000   \n",
       "75%     134.000000       19.100000    18.000000    13.000000        16.570000   \n",
       "max     160.000000       37.000000    79.000000    75.000000        18.590000   \n",
       "\n",
       "       제자리 멀리뛰기(cm)      상대악력(%)  cluster  \n",
       "count   7544.000000  7544.000000   7544.0  \n",
       "mean     106.530938    39.905103      2.0  \n",
       "std       15.115095     7.186276      0.0  \n",
       "min       44.000000    18.500000      2.0  \n",
       "25%      101.000000    35.100000      2.0  \n",
       "50%      110.000000    39.900000      2.0  \n",
       "75%      117.000000    44.700000      2.0  \n",
       "max      133.000000    82.200000      2.0  "
      ]
     },
     "execution_count": 63,
     "metadata": {},
     "output_type": "execute_result"
    },
    {
     "data": {
      "text/html": [
       "<div>\n",
       "<style scoped>\n",
       "    .dataframe tbody tr th:only-of-type {\n",
       "        vertical-align: middle;\n",
       "    }\n",
       "\n",
       "    .dataframe tbody tr th {\n",
       "        vertical-align: top;\n",
       "    }\n",
       "\n",
       "    .dataframe thead th {\n",
       "        text-align: right;\n",
       "    }\n",
       "</style>\n",
       "<table border=\"1\" class=\"dataframe\">\n",
       "  <thead>\n",
       "    <tr style=\"text-align: right;\">\n",
       "      <th></th>\n",
       "      <th>나이</th>\n",
       "      <th>신장(cm)</th>\n",
       "      <th>체중(kg)</th>\n",
       "      <th>체지방율(%)</th>\n",
       "      <th>이완기혈압(최저)</th>\n",
       "      <th>수축기혈압(최고)</th>\n",
       "      <th>앉아윗몸앞으로굽히기(cm)</th>\n",
       "      <th>교차윗몸일으키기(회)</th>\n",
       "      <th>왕복오래달리기(회)</th>\n",
       "      <th>10M 4회 왕복달리기(초)</th>\n",
       "      <th>제자리 멀리뛰기(cm)</th>\n",
       "      <th>상대악력(%)</th>\n",
       "      <th>cluster</th>\n",
       "    </tr>\n",
       "  </thead>\n",
       "  <tbody>\n",
       "    <tr>\n",
       "      <th>count</th>\n",
       "      <td>9752.000000</td>\n",
       "      <td>9752.000000</td>\n",
       "      <td>9752.000000</td>\n",
       "      <td>9752.000000</td>\n",
       "      <td>9752.000000</td>\n",
       "      <td>9752.000000</td>\n",
       "      <td>9752.000000</td>\n",
       "      <td>9752.000000</td>\n",
       "      <td>9752.000000</td>\n",
       "      <td>9752.000000</td>\n",
       "      <td>9752.000000</td>\n",
       "      <td>9752.000000</td>\n",
       "      <td>9752.0</td>\n",
       "    </tr>\n",
       "    <tr>\n",
       "      <th>mean</th>\n",
       "      <td>26.319217</td>\n",
       "      <td>161.966089</td>\n",
       "      <td>56.088648</td>\n",
       "      <td>30.123838</td>\n",
       "      <td>72.446596</td>\n",
       "      <td>115.331829</td>\n",
       "      <td>13.596181</td>\n",
       "      <td>24.981624</td>\n",
       "      <td>18.939341</td>\n",
       "      <td>13.571404</td>\n",
       "      <td>139.435254</td>\n",
       "      <td>44.986464</td>\n",
       "      <td>3.0</td>\n",
       "    </tr>\n",
       "    <tr>\n",
       "      <th>std</th>\n",
       "      <td>7.787358</td>\n",
       "      <td>5.284244</td>\n",
       "      <td>8.193778</td>\n",
       "      <td>5.698963</td>\n",
       "      <td>8.782671</td>\n",
       "      <td>10.447098</td>\n",
       "      <td>8.610320</td>\n",
       "      <td>9.536047</td>\n",
       "      <td>6.804859</td>\n",
       "      <td>1.155809</td>\n",
       "      <td>13.048862</td>\n",
       "      <td>7.666301</td>\n",
       "      <td>0.0</td>\n",
       "    </tr>\n",
       "    <tr>\n",
       "      <th>min</th>\n",
       "      <td>19.000000</td>\n",
       "      <td>140.400000</td>\n",
       "      <td>32.400000</td>\n",
       "      <td>3.560000</td>\n",
       "      <td>51.000000</td>\n",
       "      <td>90.000000</td>\n",
       "      <td>-11.700000</td>\n",
       "      <td>0.000000</td>\n",
       "      <td>0.000000</td>\n",
       "      <td>9.300000</td>\n",
       "      <td>98.000000</td>\n",
       "      <td>18.900000</td>\n",
       "      <td>3.0</td>\n",
       "    </tr>\n",
       "    <tr>\n",
       "      <th>25%</th>\n",
       "      <td>20.000000</td>\n",
       "      <td>158.400000</td>\n",
       "      <td>50.500000</td>\n",
       "      <td>26.100000</td>\n",
       "      <td>66.000000</td>\n",
       "      <td>108.000000</td>\n",
       "      <td>8.200000</td>\n",
       "      <td>19.000000</td>\n",
       "      <td>14.000000</td>\n",
       "      <td>12.780000</td>\n",
       "      <td>130.000000</td>\n",
       "      <td>39.700000</td>\n",
       "      <td>3.0</td>\n",
       "    </tr>\n",
       "    <tr>\n",
       "      <th>50%</th>\n",
       "      <td>24.000000</td>\n",
       "      <td>162.000000</td>\n",
       "      <td>54.860000</td>\n",
       "      <td>30.000000</td>\n",
       "      <td>72.000000</td>\n",
       "      <td>115.000000</td>\n",
       "      <td>14.500000</td>\n",
       "      <td>25.000000</td>\n",
       "      <td>18.000000</td>\n",
       "      <td>13.400000</td>\n",
       "      <td>141.000000</td>\n",
       "      <td>44.800000</td>\n",
       "      <td>3.0</td>\n",
       "    </tr>\n",
       "    <tr>\n",
       "      <th>75%</th>\n",
       "      <td>30.000000</td>\n",
       "      <td>165.500000</td>\n",
       "      <td>60.000000</td>\n",
       "      <td>33.900000</td>\n",
       "      <td>79.000000</td>\n",
       "      <td>122.000000</td>\n",
       "      <td>19.800000</td>\n",
       "      <td>31.000000</td>\n",
       "      <td>22.000000</td>\n",
       "      <td>14.190000</td>\n",
       "      <td>150.000000</td>\n",
       "      <td>50.000000</td>\n",
       "      <td>3.0</td>\n",
       "    </tr>\n",
       "    <tr>\n",
       "      <th>max</th>\n",
       "      <td>60.000000</td>\n",
       "      <td>181.900000</td>\n",
       "      <td>101.000000</td>\n",
       "      <td>48.800000</td>\n",
       "      <td>100.000000</td>\n",
       "      <td>159.000000</td>\n",
       "      <td>36.200000</td>\n",
       "      <td>57.000000</td>\n",
       "      <td>58.000000</td>\n",
       "      <td>18.580000</td>\n",
       "      <td>170.000000</td>\n",
       "      <td>79.100000</td>\n",
       "      <td>3.0</td>\n",
       "    </tr>\n",
       "  </tbody>\n",
       "</table>\n",
       "</div>"
      ],
      "text/plain": [
       "                나이       신장(cm)       체중(kg)      체지방율(%)    이완기혈압(최저)  \\\n",
       "count  9752.000000  9752.000000  9752.000000  9752.000000  9752.000000   \n",
       "mean     26.319217   161.966089    56.088648    30.123838    72.446596   \n",
       "std       7.787358     5.284244     8.193778     5.698963     8.782671   \n",
       "min      19.000000   140.400000    32.400000     3.560000    51.000000   \n",
       "25%      20.000000   158.400000    50.500000    26.100000    66.000000   \n",
       "50%      24.000000   162.000000    54.860000    30.000000    72.000000   \n",
       "75%      30.000000   165.500000    60.000000    33.900000    79.000000   \n",
       "max      60.000000   181.900000   101.000000    48.800000   100.000000   \n",
       "\n",
       "         수축기혈압(최고)  앉아윗몸앞으로굽히기(cm)  교차윗몸일으키기(회)   왕복오래달리기(회)  10M 4회 왕복달리기(초)  \\\n",
       "count  9752.000000     9752.000000  9752.000000  9752.000000      9752.000000   \n",
       "mean    115.331829       13.596181    24.981624    18.939341        13.571404   \n",
       "std      10.447098        8.610320     9.536047     6.804859         1.155809   \n",
       "min      90.000000      -11.700000     0.000000     0.000000         9.300000   \n",
       "25%     108.000000        8.200000    19.000000    14.000000        12.780000   \n",
       "50%     115.000000       14.500000    25.000000    18.000000        13.400000   \n",
       "75%     122.000000       19.800000    31.000000    22.000000        14.190000   \n",
       "max     159.000000       36.200000    57.000000    58.000000        18.580000   \n",
       "\n",
       "       제자리 멀리뛰기(cm)      상대악력(%)  cluster  \n",
       "count   9752.000000  9752.000000   9752.0  \n",
       "mean     139.435254    44.986464      3.0  \n",
       "std       13.048862     7.666301      0.0  \n",
       "min       98.000000    18.900000      3.0  \n",
       "25%      130.000000    39.700000      3.0  \n",
       "50%      141.000000    44.800000      3.0  \n",
       "75%      150.000000    50.000000      3.0  \n",
       "max      170.000000    79.100000      3.0  "
      ]
     },
     "execution_count": 63,
     "metadata": {},
     "output_type": "execute_result"
    }
   ],
   "source": [
    "# 5점 척도 표현\n",
    "# b1 = 근력 : 좋음(5), 근지구력 : 좋음(5), 심폐지구력 : 좋음(5) , 유연성 : 좋음(5) 민첩성 : 5 순발력 : 5\n",
    "b1.describe()\n",
    "# b2 = 근력 : 보통이하(2), 근지구력 : 나쁨(1), 심폐지구력 : 나쁨(1) , 유연성 : 보통 이하(2) 민첩성 : 4 순발력 : 5\n",
    "b2.describe()\n",
    "# b3 = 근력 : 좋음(5), 근지구력 : 보통(3), 심폐지구력 : 보통(3) , 유연성 : 보통(3) 민첩성 : 3  순발력 : 1\n",
    "b3.describe()\n",
    "# b4 = 근력 : 보통 이상(4), 근지구력 : 보통 이하(2), 심폐지구력 : 나쁨(1) , 유연성 : 보통(3) 민첩성 :2 순발력 :2\n",
    "b4.describe()"
   ]
  },
  {
   "cell_type": "code",
   "execution_count": 64,
   "metadata": {},
   "outputs": [
    {
     "name": "stdout",
     "output_type": "stream",
     "text": [
      "          10742\n",
      " Ag026     2473\n",
      "Be085      2454\n",
      " Bk011     2389\n",
      " Aa028     2041\n",
      " Ce203     1840\n",
      " Ce204     1808\n",
      " Bq007     1783\n",
      " Ce170     1646\n",
      " Bq008     1637\n",
      " Ad010     1625\n",
      " Be085     1586\n",
      " Ce201     1584\n",
      " Ce202     1553\n",
      " Ba055     1532\n",
      " Ba059     1451\n",
      " Bd024     1405\n",
      "Ce206      1384\n",
      " Ae012     1373\n",
      "Bq008      1308\n",
      "Name: index, dtype: int64\n"
     ]
    }
   ],
   "source": [
    "result = b1['운동처방'].str.split(',', expand=True)\n",
    "\n",
    "temp = result.melt(var_name='col', value_name='index')\n",
    "\n",
    "print(temp['index'].value_counts()[:20])"
   ]
  },
  {
   "cell_type": "code",
   "execution_count": 65,
   "metadata": {},
   "outputs": [
    {
     "name": "stdout",
     "output_type": "stream",
     "text": [
      "          7702\n",
      " Bk011    2640\n",
      "Be085     2118\n",
      " Ce203    2038\n",
      " Ag026    1961\n",
      " Aa028    1841\n",
      " Ce204    1829\n",
      "Bq008     1788\n",
      " Be085    1716\n",
      " Ce201    1638\n",
      " Bq007    1596\n",
      " Ce170    1481\n",
      " Bq008    1435\n",
      " Ad010    1260\n",
      " Ba055    1259\n",
      " Ag029    1244\n",
      " Ba059    1200\n",
      " Bd024    1148\n",
      " Ae012    1122\n",
      " Ap007    1120\n",
      "Name: index, dtype: int64\n"
     ]
    }
   ],
   "source": [
    "result = b2['운동처방'].str.split(',', expand=True)\n",
    "\n",
    "temp = result.melt(var_name='col', value_name='index')\n",
    "\n",
    "print(temp['index'].value_counts()[:20])"
   ]
  },
  {
   "cell_type": "code",
   "execution_count": 66,
   "metadata": {},
   "outputs": [
    {
     "name": "stdout",
     "output_type": "stream",
     "text": [
      "          7227\n",
      " Bk011    2265\n",
      " Ag026    2089\n",
      "Be085     1927\n",
      " Be085    1838\n",
      " Ce203    1821\n",
      " Aa028    1793\n",
      " Ce204    1790\n",
      "Bq008     1614\n",
      " Ce201    1561\n",
      " Bq007    1509\n",
      " Ce170    1470\n",
      " Bq008    1421\n",
      " Ad010    1417\n",
      " Ag029    1394\n",
      " Ap007    1336\n",
      " Ae012    1172\n",
      " Be084    1169\n",
      " Ag025    1088\n",
      " Ba059    1072\n",
      "Name: index, dtype: int64\n"
     ]
    }
   ],
   "source": [
    "result = b3['운동처방'].str.split(',', expand=True)\n",
    "\n",
    "temp = result.melt(var_name='col', value_name='index')\n",
    "\n",
    "print(temp['index'].value_counts()[:20])"
   ]
  },
  {
   "cell_type": "code",
   "execution_count": 67,
   "metadata": {
    "scrolled": false
   },
   "outputs": [
    {
     "name": "stdout",
     "output_type": "stream",
     "text": [
      "          9693\n",
      " Ag026    2811\n",
      " Bk011    2443\n",
      "Be085     2351\n",
      " Aa028    2086\n",
      " Ce203    2071\n",
      " Ce204    2034\n",
      " Bq007    1979\n",
      " Ce170    1944\n",
      " Be085    1697\n",
      " Bq008    1686\n",
      " Ce201    1658\n",
      " Ce202    1555\n",
      " Ag029    1495\n",
      " Ad010    1491\n",
      " Ae012    1487\n",
      "Bq008     1413\n",
      " Ba059    1409\n",
      " Ba055    1368\n",
      " Ap007    1365\n",
      "Name: index, dtype: int64\n"
     ]
    }
   ],
   "source": [
    "result = b4['운동처방'].str.split(',', expand=True)\n",
    "\n",
    "temp = result.melt(var_name='col', value_name='index')\n",
    "\n",
    "print(temp['index'].value_counts()[:20])"
   ]
  },
  {
   "cell_type": "code",
   "execution_count": null,
   "metadata": {},
   "outputs": [],
   "source": []
  }
 ],
 "metadata": {
  "kernelspec": {
   "display_name": "Python 3",
   "language": "python",
   "name": "python3"
  },
  "language_info": {
   "codemirror_mode": {
    "name": "ipython",
    "version": 3
   },
   "file_extension": ".py",
   "mimetype": "text/x-python",
   "name": "python",
   "nbconvert_exporter": "python",
   "pygments_lexer": "ipython3",
   "version": "3.8.5"
  }
 },
 "nbformat": 4,
 "nbformat_minor": 4
}
